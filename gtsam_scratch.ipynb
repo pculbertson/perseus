{
 "cells": [
  {
   "cell_type": "code",
   "execution_count": 29,
   "metadata": {},
   "outputs": [
    {
     "name": "stdout",
     "output_type": "stream",
     "text": [
      "The autoreload extension is already loaded. To reload it, use:\n",
      "  %reload_ext autoreload\n"
     ]
    }
   ],
   "source": [
    "import numpy as np\n",
    "import math\n",
    "import gtsam\n",
    "from perseus.smoother.factors import PoseDynamicsFactor, ConstantVelocityFactor\n",
    "import json\n",
    "from gtsam.symbol_shorthand import X, V, W\n",
    "import gtsam_unstable\n",
    "import kornia\n",
    "import time\n",
    "%load_ext autoreload\n",
    "%autoreload 2"
   ]
  },
  {
   "cell_type": "code",
   "execution_count": 2,
   "metadata": {},
   "outputs": [
    {
     "ename": "TypeError",
     "evalue": "__init__(): incompatible constructor arguments. The following argument types are supported:\n    1. gtsam.gtsam.CustomFactor()\n    2. gtsam.gtsam.CustomFactor(noiseModel: gtsam.gtsam.noiseModel.Base, keys: std::vector<unsigned long, std::allocator<unsigned long> >, errorFunction: Callable[[gtsam.gtsam.CustomFactor, gtsam.gtsam.Values, gtsam.gtsam.JacobianVector], numpy.ndarray[numpy.float64[m, 1]]])\n\nInvoked with: 8646911284551352321, [isotropic dim=6 sigma=0.001\n, 8646911284551352320, 8502796096475496448, 8574853690513424384], functools.partial(<function PoseDynamicsFactor.error_func at 0x7fd181103760>, dt=0.1)\n\nDid you forget to `#include <pybind11/stl.h>`? Or <pybind11/complex.h>,\n<pybind11/functional.h>, <pybind11/chrono.h>, etc. Some automatic\nconversions are optional and require extra headers to be included\nwhen compiling your pybind11 module.",
     "output_type": "error",
     "traceback": [
      "\u001b[0;31m---------------------------------------------------------------------------\u001b[0m",
      "\u001b[0;31mTypeError\u001b[0m                                 Traceback (most recent call last)",
      "File \u001b[0;32m<timed eval>:1\u001b[0m\n",
      "Cell \u001b[0;32mIn[2], line 72\u001b[0m, in \u001b[0;36madd_factors\u001b[0;34m(graph, initial_estimate, ii)\u001b[0m\n\u001b[1;32m     69\u001b[0m initial_estimate\u001b[38;5;241m.\u001b[39minsert(W(ii), result\u001b[38;5;241m.\u001b[39matVector(W(ii\u001b[38;5;241m-\u001b[39m\u001b[38;5;241m1\u001b[39m)))\n\u001b[1;32m     71\u001b[0m \u001b[38;5;66;03m# Create a dynamics factor and add it to the graph.\u001b[39;00m\n\u001b[0;32m---> 72\u001b[0m dynamics_factor \u001b[38;5;241m=\u001b[39m \u001b[43mPoseDynamicsFactor\u001b[49m\u001b[43m(\u001b[49m\u001b[43mprocess_noise_pose\u001b[49m\u001b[43m,\u001b[49m\u001b[43m \u001b[49m\u001b[43mX\u001b[49m\u001b[43m(\u001b[49m\u001b[43mii\u001b[49m\u001b[38;5;241;43m-\u001b[39;49m\u001b[38;5;241;43m1\u001b[39;49m\u001b[43m)\u001b[49m\u001b[43m,\u001b[49m\u001b[43m \u001b[49m\u001b[43mV\u001b[49m\u001b[43m(\u001b[49m\u001b[43mii\u001b[49m\u001b[38;5;241;43m-\u001b[39;49m\u001b[38;5;241;43m1\u001b[39;49m\u001b[43m)\u001b[49m\u001b[43m,\u001b[49m\u001b[43m \u001b[49m\u001b[43mW\u001b[49m\u001b[43m(\u001b[49m\u001b[43mii\u001b[49m\u001b[38;5;241;43m-\u001b[39;49m\u001b[38;5;241;43m1\u001b[39;49m\u001b[43m)\u001b[49m\u001b[43m,\u001b[49m\u001b[43m \u001b[49m\u001b[43mX\u001b[49m\u001b[43m(\u001b[49m\u001b[43mii\u001b[49m\u001b[43m)\u001b[49m\u001b[43m,\u001b[49m\u001b[43m \u001b[49m\u001b[43mdt\u001b[49m\u001b[43m)\u001b[49m\n\u001b[1;32m     73\u001b[0m graph\u001b[38;5;241m.\u001b[39mpush_back(dynamics_factor)\n\u001b[1;32m     75\u001b[0m \u001b[38;5;66;03m# Create a constant velocity factor and add it to the graph.\u001b[39;00m\n",
      "File \u001b[0;32m~/perseus/perseus/smoother/factors.py:17\u001b[0m, in \u001b[0;36mPoseDynamicsFactor.__init__\u001b[0;34m(self, pose1, ang_vel1, vel1, pose2, noise_model, dt)\u001b[0m\n\u001b[1;32m      8\u001b[0m \u001b[38;5;28;01mdef\u001b[39;00m \u001b[38;5;21m__init__\u001b[39m(\n\u001b[1;32m      9\u001b[0m     \u001b[38;5;28mself\u001b[39m,\n\u001b[1;32m     10\u001b[0m     pose1: \u001b[38;5;28mint\u001b[39m,\n\u001b[0;32m   (...)\u001b[0m\n\u001b[1;32m     15\u001b[0m     dt: \u001b[38;5;28mfloat\u001b[39m,\n\u001b[1;32m     16\u001b[0m ):\n\u001b[0;32m---> 17\u001b[0m     \u001b[38;5;28;43msuper\u001b[39;49m\u001b[43m(\u001b[49m\u001b[43m)\u001b[49m\u001b[38;5;241;43m.\u001b[39;49m\u001b[38;5;21;43m__init__\u001b[39;49m\u001b[43m(\u001b[49m\n\u001b[1;32m     18\u001b[0m \u001b[43m        \u001b[49m\u001b[43mnoise_model\u001b[49m\u001b[43m,\u001b[49m\n\u001b[1;32m     19\u001b[0m \u001b[43m        \u001b[49m\u001b[43m[\u001b[49m\u001b[43mpose1\u001b[49m\u001b[43m,\u001b[49m\u001b[43m \u001b[49m\u001b[43mang_vel1\u001b[49m\u001b[43m,\u001b[49m\u001b[43m \u001b[49m\u001b[43mvel1\u001b[49m\u001b[43m,\u001b[49m\u001b[43m \u001b[49m\u001b[43mpose2\u001b[49m\u001b[43m]\u001b[49m\u001b[43m,\u001b[49m\n\u001b[1;32m     20\u001b[0m \u001b[43m        \u001b[49m\u001b[43mpartial\u001b[49m\u001b[43m(\u001b[49m\u001b[43mPoseDynamicsFactor\u001b[49m\u001b[38;5;241;43m.\u001b[39;49m\u001b[43merror_func\u001b[49m\u001b[43m,\u001b[49m\u001b[43m \u001b[49m\u001b[43mdt\u001b[49m\u001b[38;5;241;43m=\u001b[39;49m\u001b[43mdt\u001b[49m\u001b[43m)\u001b[49m\u001b[43m,\u001b[49m\n\u001b[1;32m     21\u001b[0m \u001b[43m    \u001b[49m\u001b[43m)\u001b[49m\n\u001b[1;32m     22\u001b[0m     \u001b[38;5;28mself\u001b[39m\u001b[38;5;241m.\u001b[39mdt \u001b[38;5;241m=\u001b[39m dt\n",
      "\u001b[0;31mTypeError\u001b[0m: __init__(): incompatible constructor arguments. The following argument types are supported:\n    1. gtsam.gtsam.CustomFactor()\n    2. gtsam.gtsam.CustomFactor(noiseModel: gtsam.gtsam.noiseModel.Base, keys: std::vector<unsigned long, std::allocator<unsigned long> >, errorFunction: Callable[[gtsam.gtsam.CustomFactor, gtsam.gtsam.Values, gtsam.gtsam.JacobianVector], numpy.ndarray[numpy.float64[m, 1]]])\n\nInvoked with: 8646911284551352321, [isotropic dim=6 sigma=0.001\n, 8646911284551352320, 8502796096475496448, 8574853690513424384], functools.partial(<function PoseDynamicsFactor.error_func at 0x7fd181103760>, dt=0.1)\n\nDid you forget to `#include <pybind11/stl.h>`? Or <pybind11/complex.h>,\n<pybind11/functional.h>, <pybind11/chrono.h>, etc. Some automatic\nconversions are optional and require extra headers to be included\nwhen compiling your pybind11 module."
     ]
    },
    {
     "name": "stdout",
     "output_type": "stream",
     "text": [
      "CPU times: user 53 µs, sys: 89 µs, total: 142 µs\n",
      "Wall time: 148 µs\n",
      "CPU times: user 11 µs, sys: 18 µs, total: 29 µs\n",
      "Wall time: 33.1 µs\n"
     ]
    },
    {
     "ename": "TypeError",
     "evalue": "__init__(): incompatible constructor arguments. The following argument types are supported:\n    1. gtsam.gtsam.CustomFactor()\n    2. gtsam.gtsam.CustomFactor(noiseModel: gtsam.gtsam.noiseModel.Base, keys: std::vector<unsigned long, std::allocator<unsigned long> >, errorFunction: Callable[[gtsam.gtsam.CustomFactor, gtsam.gtsam.Values, gtsam.gtsam.JacobianVector], numpy.ndarray[numpy.float64[m, 1]]])\n\nInvoked with: 8646911284551352322, [isotropic dim=6 sigma=0.001\n, 8646911284551352321, 8502796096475496449, 8574853690513424385], functools.partial(<function PoseDynamicsFactor.error_func at 0x7fd181103760>, dt=0.1)\n\nDid you forget to `#include <pybind11/stl.h>`? Or <pybind11/complex.h>,\n<pybind11/functional.h>, <pybind11/chrono.h>, etc. Some automatic\nconversions are optional and require extra headers to be included\nwhen compiling your pybind11 module.",
     "output_type": "error",
     "traceback": [
      "\u001b[0;31m---------------------------------------------------------------------------\u001b[0m",
      "\u001b[0;31mTypeError\u001b[0m                                 Traceback (most recent call last)",
      "File \u001b[0;32m<timed eval>:1\u001b[0m\n",
      "Cell \u001b[0;32mIn[2], line 72\u001b[0m, in \u001b[0;36madd_factors\u001b[0;34m(graph, initial_estimate, ii)\u001b[0m\n\u001b[1;32m     69\u001b[0m initial_estimate\u001b[38;5;241m.\u001b[39minsert(W(ii), result\u001b[38;5;241m.\u001b[39matVector(W(ii\u001b[38;5;241m-\u001b[39m\u001b[38;5;241m1\u001b[39m)))\n\u001b[1;32m     71\u001b[0m \u001b[38;5;66;03m# Create a dynamics factor and add it to the graph.\u001b[39;00m\n\u001b[0;32m---> 72\u001b[0m dynamics_factor \u001b[38;5;241m=\u001b[39m \u001b[43mPoseDynamicsFactor\u001b[49m\u001b[43m(\u001b[49m\u001b[43mprocess_noise_pose\u001b[49m\u001b[43m,\u001b[49m\u001b[43m \u001b[49m\u001b[43mX\u001b[49m\u001b[43m(\u001b[49m\u001b[43mii\u001b[49m\u001b[38;5;241;43m-\u001b[39;49m\u001b[38;5;241;43m1\u001b[39;49m\u001b[43m)\u001b[49m\u001b[43m,\u001b[49m\u001b[43m \u001b[49m\u001b[43mV\u001b[49m\u001b[43m(\u001b[49m\u001b[43mii\u001b[49m\u001b[38;5;241;43m-\u001b[39;49m\u001b[38;5;241;43m1\u001b[39;49m\u001b[43m)\u001b[49m\u001b[43m,\u001b[49m\u001b[43m \u001b[49m\u001b[43mW\u001b[49m\u001b[43m(\u001b[49m\u001b[43mii\u001b[49m\u001b[38;5;241;43m-\u001b[39;49m\u001b[38;5;241;43m1\u001b[39;49m\u001b[43m)\u001b[49m\u001b[43m,\u001b[49m\u001b[43m \u001b[49m\u001b[43mX\u001b[49m\u001b[43m(\u001b[49m\u001b[43mii\u001b[49m\u001b[43m)\u001b[49m\u001b[43m,\u001b[49m\u001b[43m \u001b[49m\u001b[43mdt\u001b[49m\u001b[43m)\u001b[49m\n\u001b[1;32m     73\u001b[0m graph\u001b[38;5;241m.\u001b[39mpush_back(dynamics_factor)\n\u001b[1;32m     75\u001b[0m \u001b[38;5;66;03m# Create a constant velocity factor and add it to the graph.\u001b[39;00m\n",
      "File \u001b[0;32m~/perseus/perseus/smoother/factors.py:17\u001b[0m, in \u001b[0;36mPoseDynamicsFactor.__init__\u001b[0;34m(self, pose1, ang_vel1, vel1, pose2, noise_model, dt)\u001b[0m\n\u001b[1;32m      8\u001b[0m \u001b[38;5;28;01mdef\u001b[39;00m \u001b[38;5;21m__init__\u001b[39m(\n\u001b[1;32m      9\u001b[0m     \u001b[38;5;28mself\u001b[39m,\n\u001b[1;32m     10\u001b[0m     pose1: \u001b[38;5;28mint\u001b[39m,\n\u001b[0;32m   (...)\u001b[0m\n\u001b[1;32m     15\u001b[0m     dt: \u001b[38;5;28mfloat\u001b[39m,\n\u001b[1;32m     16\u001b[0m ):\n\u001b[0;32m---> 17\u001b[0m     \u001b[38;5;28;43msuper\u001b[39;49m\u001b[43m(\u001b[49m\u001b[43m)\u001b[49m\u001b[38;5;241;43m.\u001b[39;49m\u001b[38;5;21;43m__init__\u001b[39;49m\u001b[43m(\u001b[49m\n\u001b[1;32m     18\u001b[0m \u001b[43m        \u001b[49m\u001b[43mnoise_model\u001b[49m\u001b[43m,\u001b[49m\n\u001b[1;32m     19\u001b[0m \u001b[43m        \u001b[49m\u001b[43m[\u001b[49m\u001b[43mpose1\u001b[49m\u001b[43m,\u001b[49m\u001b[43m \u001b[49m\u001b[43mang_vel1\u001b[49m\u001b[43m,\u001b[49m\u001b[43m \u001b[49m\u001b[43mvel1\u001b[49m\u001b[43m,\u001b[49m\u001b[43m \u001b[49m\u001b[43mpose2\u001b[49m\u001b[43m]\u001b[49m\u001b[43m,\u001b[49m\n\u001b[1;32m     20\u001b[0m \u001b[43m        \u001b[49m\u001b[43mpartial\u001b[49m\u001b[43m(\u001b[49m\u001b[43mPoseDynamicsFactor\u001b[49m\u001b[38;5;241;43m.\u001b[39;49m\u001b[43merror_func\u001b[49m\u001b[43m,\u001b[49m\u001b[43m \u001b[49m\u001b[43mdt\u001b[49m\u001b[38;5;241;43m=\u001b[39;49m\u001b[43mdt\u001b[49m\u001b[43m)\u001b[49m\u001b[43m,\u001b[49m\n\u001b[1;32m     21\u001b[0m \u001b[43m    \u001b[49m\u001b[43m)\u001b[49m\n\u001b[1;32m     22\u001b[0m     \u001b[38;5;28mself\u001b[39m\u001b[38;5;241m.\u001b[39mdt \u001b[38;5;241m=\u001b[39m dt\n",
      "\u001b[0;31mTypeError\u001b[0m: __init__(): incompatible constructor arguments. The following argument types are supported:\n    1. gtsam.gtsam.CustomFactor()\n    2. gtsam.gtsam.CustomFactor(noiseModel: gtsam.gtsam.noiseModel.Base, keys: std::vector<unsigned long, std::allocator<unsigned long> >, errorFunction: Callable[[gtsam.gtsam.CustomFactor, gtsam.gtsam.Values, gtsam.gtsam.JacobianVector], numpy.ndarray[numpy.float64[m, 1]]])\n\nInvoked with: 8646911284551352322, [isotropic dim=6 sigma=0.001\n, 8646911284551352321, 8502796096475496449, 8574853690513424385], functools.partial(<function PoseDynamicsFactor.error_func at 0x7fd181103760>, dt=0.1)\n\nDid you forget to `#include <pybind11/stl.h>`? Or <pybind11/complex.h>,\n<pybind11/functional.h>, <pybind11/chrono.h>, etc. Some automatic\nconversions are optional and require extra headers to be included\nwhen compiling your pybind11 module."
     ]
    },
    {
     "name": "stdout",
     "output_type": "stream",
     "text": [
      "CPU times: user 152 µs, sys: 0 ns, total: 152 µs\n",
      "Wall time: 157 µs\n",
      "CPU times: user 34 µs, sys: 0 ns, total: 34 µs\n",
      "Wall time: 38.1 µs\n"
     ]
    },
    {
     "ename": "TypeError",
     "evalue": "__init__(): incompatible constructor arguments. The following argument types are supported:\n    1. gtsam.gtsam.CustomFactor()\n    2. gtsam.gtsam.CustomFactor(noiseModel: gtsam.gtsam.noiseModel.Base, keys: std::vector<unsigned long, std::allocator<unsigned long> >, errorFunction: Callable[[gtsam.gtsam.CustomFactor, gtsam.gtsam.Values, gtsam.gtsam.JacobianVector], numpy.ndarray[numpy.float64[m, 1]]])\n\nInvoked with: 8646911284551352323, [isotropic dim=6 sigma=0.001\n, 8646911284551352322, 8502796096475496450, 8574853690513424386], functools.partial(<function PoseDynamicsFactor.error_func at 0x7fd181103760>, dt=0.1)\n\nDid you forget to `#include <pybind11/stl.h>`? Or <pybind11/complex.h>,\n<pybind11/functional.h>, <pybind11/chrono.h>, etc. Some automatic\nconversions are optional and require extra headers to be included\nwhen compiling your pybind11 module.",
     "output_type": "error",
     "traceback": [
      "\u001b[0;31m---------------------------------------------------------------------------\u001b[0m",
      "\u001b[0;31mTypeError\u001b[0m                                 Traceback (most recent call last)",
      "File \u001b[0;32m<timed eval>:1\u001b[0m\n",
      "Cell \u001b[0;32mIn[2], line 72\u001b[0m, in \u001b[0;36madd_factors\u001b[0;34m(graph, initial_estimate, ii)\u001b[0m\n\u001b[1;32m     69\u001b[0m initial_estimate\u001b[38;5;241m.\u001b[39minsert(W(ii), result\u001b[38;5;241m.\u001b[39matVector(W(ii\u001b[38;5;241m-\u001b[39m\u001b[38;5;241m1\u001b[39m)))\n\u001b[1;32m     71\u001b[0m \u001b[38;5;66;03m# Create a dynamics factor and add it to the graph.\u001b[39;00m\n\u001b[0;32m---> 72\u001b[0m dynamics_factor \u001b[38;5;241m=\u001b[39m \u001b[43mPoseDynamicsFactor\u001b[49m\u001b[43m(\u001b[49m\u001b[43mprocess_noise_pose\u001b[49m\u001b[43m,\u001b[49m\u001b[43m \u001b[49m\u001b[43mX\u001b[49m\u001b[43m(\u001b[49m\u001b[43mii\u001b[49m\u001b[38;5;241;43m-\u001b[39;49m\u001b[38;5;241;43m1\u001b[39;49m\u001b[43m)\u001b[49m\u001b[43m,\u001b[49m\u001b[43m \u001b[49m\u001b[43mV\u001b[49m\u001b[43m(\u001b[49m\u001b[43mii\u001b[49m\u001b[38;5;241;43m-\u001b[39;49m\u001b[38;5;241;43m1\u001b[39;49m\u001b[43m)\u001b[49m\u001b[43m,\u001b[49m\u001b[43m \u001b[49m\u001b[43mW\u001b[49m\u001b[43m(\u001b[49m\u001b[43mii\u001b[49m\u001b[38;5;241;43m-\u001b[39;49m\u001b[38;5;241;43m1\u001b[39;49m\u001b[43m)\u001b[49m\u001b[43m,\u001b[49m\u001b[43m \u001b[49m\u001b[43mX\u001b[49m\u001b[43m(\u001b[49m\u001b[43mii\u001b[49m\u001b[43m)\u001b[49m\u001b[43m,\u001b[49m\u001b[43m \u001b[49m\u001b[43mdt\u001b[49m\u001b[43m)\u001b[49m\n\u001b[1;32m     73\u001b[0m graph\u001b[38;5;241m.\u001b[39mpush_back(dynamics_factor)\n\u001b[1;32m     75\u001b[0m \u001b[38;5;66;03m# Create a constant velocity factor and add it to the graph.\u001b[39;00m\n",
      "File \u001b[0;32m~/perseus/perseus/smoother/factors.py:17\u001b[0m, in \u001b[0;36mPoseDynamicsFactor.__init__\u001b[0;34m(self, pose1, ang_vel1, vel1, pose2, noise_model, dt)\u001b[0m\n\u001b[1;32m      8\u001b[0m \u001b[38;5;28;01mdef\u001b[39;00m \u001b[38;5;21m__init__\u001b[39m(\n\u001b[1;32m      9\u001b[0m     \u001b[38;5;28mself\u001b[39m,\n\u001b[1;32m     10\u001b[0m     pose1: \u001b[38;5;28mint\u001b[39m,\n\u001b[0;32m   (...)\u001b[0m\n\u001b[1;32m     15\u001b[0m     dt: \u001b[38;5;28mfloat\u001b[39m,\n\u001b[1;32m     16\u001b[0m ):\n\u001b[0;32m---> 17\u001b[0m     \u001b[38;5;28;43msuper\u001b[39;49m\u001b[43m(\u001b[49m\u001b[43m)\u001b[49m\u001b[38;5;241;43m.\u001b[39;49m\u001b[38;5;21;43m__init__\u001b[39;49m\u001b[43m(\u001b[49m\n\u001b[1;32m     18\u001b[0m \u001b[43m        \u001b[49m\u001b[43mnoise_model\u001b[49m\u001b[43m,\u001b[49m\n\u001b[1;32m     19\u001b[0m \u001b[43m        \u001b[49m\u001b[43m[\u001b[49m\u001b[43mpose1\u001b[49m\u001b[43m,\u001b[49m\u001b[43m \u001b[49m\u001b[43mang_vel1\u001b[49m\u001b[43m,\u001b[49m\u001b[43m \u001b[49m\u001b[43mvel1\u001b[49m\u001b[43m,\u001b[49m\u001b[43m \u001b[49m\u001b[43mpose2\u001b[49m\u001b[43m]\u001b[49m\u001b[43m,\u001b[49m\n\u001b[1;32m     20\u001b[0m \u001b[43m        \u001b[49m\u001b[43mpartial\u001b[49m\u001b[43m(\u001b[49m\u001b[43mPoseDynamicsFactor\u001b[49m\u001b[38;5;241;43m.\u001b[39;49m\u001b[43merror_func\u001b[49m\u001b[43m,\u001b[49m\u001b[43m \u001b[49m\u001b[43mdt\u001b[49m\u001b[38;5;241;43m=\u001b[39;49m\u001b[43mdt\u001b[49m\u001b[43m)\u001b[49m\u001b[43m,\u001b[49m\n\u001b[1;32m     21\u001b[0m \u001b[43m    \u001b[49m\u001b[43m)\u001b[49m\n\u001b[1;32m     22\u001b[0m     \u001b[38;5;28mself\u001b[39m\u001b[38;5;241m.\u001b[39mdt \u001b[38;5;241m=\u001b[39m dt\n",
      "\u001b[0;31mTypeError\u001b[0m: __init__(): incompatible constructor arguments. The following argument types are supported:\n    1. gtsam.gtsam.CustomFactor()\n    2. gtsam.gtsam.CustomFactor(noiseModel: gtsam.gtsam.noiseModel.Base, keys: std::vector<unsigned long, std::allocator<unsigned long> >, errorFunction: Callable[[gtsam.gtsam.CustomFactor, gtsam.gtsam.Values, gtsam.gtsam.JacobianVector], numpy.ndarray[numpy.float64[m, 1]]])\n\nInvoked with: 8646911284551352323, [isotropic dim=6 sigma=0.001\n, 8646911284551352322, 8502796096475496450, 8574853690513424386], functools.partial(<function PoseDynamicsFactor.error_func at 0x7fd181103760>, dt=0.1)\n\nDid you forget to `#include <pybind11/stl.h>`? Or <pybind11/complex.h>,\n<pybind11/functional.h>, <pybind11/chrono.h>, etc. Some automatic\nconversions are optional and require extra headers to be included\nwhen compiling your pybind11 module."
     ]
    },
    {
     "name": "stdout",
     "output_type": "stream",
     "text": [
      "CPU times: user 89 µs, sys: 0 ns, total: 89 µs\n",
      "Wall time: 93.5 µs\n",
      "CPU times: user 28 µs, sys: 0 ns, total: 28 µs\n",
      "Wall time: 31.2 µs\n"
     ]
    },
    {
     "ename": "TypeError",
     "evalue": "__init__(): incompatible constructor arguments. The following argument types are supported:\n    1. gtsam.gtsam.CustomFactor()\n    2. gtsam.gtsam.CustomFactor(noiseModel: gtsam.gtsam.noiseModel.Base, keys: std::vector<unsigned long, std::allocator<unsigned long> >, errorFunction: Callable[[gtsam.gtsam.CustomFactor, gtsam.gtsam.Values, gtsam.gtsam.JacobianVector], numpy.ndarray[numpy.float64[m, 1]]])\n\nInvoked with: 8646911284551352324, [isotropic dim=6 sigma=0.001\n, 8646911284551352323, 8502796096475496451, 8574853690513424387], functools.partial(<function PoseDynamicsFactor.error_func at 0x7fd181103760>, dt=0.1)\n\nDid you forget to `#include <pybind11/stl.h>`? Or <pybind11/complex.h>,\n<pybind11/functional.h>, <pybind11/chrono.h>, etc. Some automatic\nconversions are optional and require extra headers to be included\nwhen compiling your pybind11 module.",
     "output_type": "error",
     "traceback": [
      "\u001b[0;31m---------------------------------------------------------------------------\u001b[0m",
      "\u001b[0;31mTypeError\u001b[0m                                 Traceback (most recent call last)",
      "File \u001b[0;32m<timed eval>:1\u001b[0m\n",
      "Cell \u001b[0;32mIn[2], line 72\u001b[0m, in \u001b[0;36madd_factors\u001b[0;34m(graph, initial_estimate, ii)\u001b[0m\n\u001b[1;32m     69\u001b[0m initial_estimate\u001b[38;5;241m.\u001b[39minsert(W(ii), result\u001b[38;5;241m.\u001b[39matVector(W(ii\u001b[38;5;241m-\u001b[39m\u001b[38;5;241m1\u001b[39m)))\n\u001b[1;32m     71\u001b[0m \u001b[38;5;66;03m# Create a dynamics factor and add it to the graph.\u001b[39;00m\n\u001b[0;32m---> 72\u001b[0m dynamics_factor \u001b[38;5;241m=\u001b[39m \u001b[43mPoseDynamicsFactor\u001b[49m\u001b[43m(\u001b[49m\u001b[43mprocess_noise_pose\u001b[49m\u001b[43m,\u001b[49m\u001b[43m \u001b[49m\u001b[43mX\u001b[49m\u001b[43m(\u001b[49m\u001b[43mii\u001b[49m\u001b[38;5;241;43m-\u001b[39;49m\u001b[38;5;241;43m1\u001b[39;49m\u001b[43m)\u001b[49m\u001b[43m,\u001b[49m\u001b[43m \u001b[49m\u001b[43mV\u001b[49m\u001b[43m(\u001b[49m\u001b[43mii\u001b[49m\u001b[38;5;241;43m-\u001b[39;49m\u001b[38;5;241;43m1\u001b[39;49m\u001b[43m)\u001b[49m\u001b[43m,\u001b[49m\u001b[43m \u001b[49m\u001b[43mW\u001b[49m\u001b[43m(\u001b[49m\u001b[43mii\u001b[49m\u001b[38;5;241;43m-\u001b[39;49m\u001b[38;5;241;43m1\u001b[39;49m\u001b[43m)\u001b[49m\u001b[43m,\u001b[49m\u001b[43m \u001b[49m\u001b[43mX\u001b[49m\u001b[43m(\u001b[49m\u001b[43mii\u001b[49m\u001b[43m)\u001b[49m\u001b[43m,\u001b[49m\u001b[43m \u001b[49m\u001b[43mdt\u001b[49m\u001b[43m)\u001b[49m\n\u001b[1;32m     73\u001b[0m graph\u001b[38;5;241m.\u001b[39mpush_back(dynamics_factor)\n\u001b[1;32m     75\u001b[0m \u001b[38;5;66;03m# Create a constant velocity factor and add it to the graph.\u001b[39;00m\n",
      "File \u001b[0;32m~/perseus/perseus/smoother/factors.py:17\u001b[0m, in \u001b[0;36mPoseDynamicsFactor.__init__\u001b[0;34m(self, pose1, ang_vel1, vel1, pose2, noise_model, dt)\u001b[0m\n\u001b[1;32m      8\u001b[0m \u001b[38;5;28;01mdef\u001b[39;00m \u001b[38;5;21m__init__\u001b[39m(\n\u001b[1;32m      9\u001b[0m     \u001b[38;5;28mself\u001b[39m,\n\u001b[1;32m     10\u001b[0m     pose1: \u001b[38;5;28mint\u001b[39m,\n\u001b[0;32m   (...)\u001b[0m\n\u001b[1;32m     15\u001b[0m     dt: \u001b[38;5;28mfloat\u001b[39m,\n\u001b[1;32m     16\u001b[0m ):\n\u001b[0;32m---> 17\u001b[0m     \u001b[38;5;28;43msuper\u001b[39;49m\u001b[43m(\u001b[49m\u001b[43m)\u001b[49m\u001b[38;5;241;43m.\u001b[39;49m\u001b[38;5;21;43m__init__\u001b[39;49m\u001b[43m(\u001b[49m\n\u001b[1;32m     18\u001b[0m \u001b[43m        \u001b[49m\u001b[43mnoise_model\u001b[49m\u001b[43m,\u001b[49m\n\u001b[1;32m     19\u001b[0m \u001b[43m        \u001b[49m\u001b[43m[\u001b[49m\u001b[43mpose1\u001b[49m\u001b[43m,\u001b[49m\u001b[43m \u001b[49m\u001b[43mang_vel1\u001b[49m\u001b[43m,\u001b[49m\u001b[43m \u001b[49m\u001b[43mvel1\u001b[49m\u001b[43m,\u001b[49m\u001b[43m \u001b[49m\u001b[43mpose2\u001b[49m\u001b[43m]\u001b[49m\u001b[43m,\u001b[49m\n\u001b[1;32m     20\u001b[0m \u001b[43m        \u001b[49m\u001b[43mpartial\u001b[49m\u001b[43m(\u001b[49m\u001b[43mPoseDynamicsFactor\u001b[49m\u001b[38;5;241;43m.\u001b[39;49m\u001b[43merror_func\u001b[49m\u001b[43m,\u001b[49m\u001b[43m \u001b[49m\u001b[43mdt\u001b[49m\u001b[38;5;241;43m=\u001b[39;49m\u001b[43mdt\u001b[49m\u001b[43m)\u001b[49m\u001b[43m,\u001b[49m\n\u001b[1;32m     21\u001b[0m \u001b[43m    \u001b[49m\u001b[43m)\u001b[49m\n\u001b[1;32m     22\u001b[0m     \u001b[38;5;28mself\u001b[39m\u001b[38;5;241m.\u001b[39mdt \u001b[38;5;241m=\u001b[39m dt\n",
      "\u001b[0;31mTypeError\u001b[0m: __init__(): incompatible constructor arguments. The following argument types are supported:\n    1. gtsam.gtsam.CustomFactor()\n    2. gtsam.gtsam.CustomFactor(noiseModel: gtsam.gtsam.noiseModel.Base, keys: std::vector<unsigned long, std::allocator<unsigned long> >, errorFunction: Callable[[gtsam.gtsam.CustomFactor, gtsam.gtsam.Values, gtsam.gtsam.JacobianVector], numpy.ndarray[numpy.float64[m, 1]]])\n\nInvoked with: 8646911284551352324, [isotropic dim=6 sigma=0.001\n, 8646911284551352323, 8502796096475496451, 8574853690513424387], functools.partial(<function PoseDynamicsFactor.error_func at 0x7fd181103760>, dt=0.1)\n\nDid you forget to `#include <pybind11/stl.h>`? Or <pybind11/complex.h>,\n<pybind11/functional.h>, <pybind11/chrono.h>, etc. Some automatic\nconversions are optional and require extra headers to be included\nwhen compiling your pybind11 module."
     ]
    },
    {
     "name": "stdout",
     "output_type": "stream",
     "text": [
      "CPU times: user 34 µs, sys: 54 µs, total: 88 µs\n",
      "Wall time: 93.9 µs\n",
      "CPU times: user 11 µs, sys: 17 µs, total: 28 µs\n",
      "Wall time: 30.3 µs\n"
     ]
    },
    {
     "ename": "TypeError",
     "evalue": "__init__(): incompatible constructor arguments. The following argument types are supported:\n    1. gtsam.gtsam.CustomFactor()\n    2. gtsam.gtsam.CustomFactor(noiseModel: gtsam.gtsam.noiseModel.Base, keys: std::vector<unsigned long, std::allocator<unsigned long> >, errorFunction: Callable[[gtsam.gtsam.CustomFactor, gtsam.gtsam.Values, gtsam.gtsam.JacobianVector], numpy.ndarray[numpy.float64[m, 1]]])\n\nInvoked with: 8646911284551352325, [isotropic dim=6 sigma=0.001\n, 8646911284551352324, 8502796096475496452, 8574853690513424388], functools.partial(<function PoseDynamicsFactor.error_func at 0x7fd181103760>, dt=0.1)\n\nDid you forget to `#include <pybind11/stl.h>`? Or <pybind11/complex.h>,\n<pybind11/functional.h>, <pybind11/chrono.h>, etc. Some automatic\nconversions are optional and require extra headers to be included\nwhen compiling your pybind11 module.",
     "output_type": "error",
     "traceback": [
      "\u001b[0;31m---------------------------------------------------------------------------\u001b[0m",
      "\u001b[0;31mTypeError\u001b[0m                                 Traceback (most recent call last)",
      "File \u001b[0;32m<timed eval>:1\u001b[0m\n",
      "Cell \u001b[0;32mIn[2], line 72\u001b[0m, in \u001b[0;36madd_factors\u001b[0;34m(graph, initial_estimate, ii)\u001b[0m\n\u001b[1;32m     69\u001b[0m initial_estimate\u001b[38;5;241m.\u001b[39minsert(W(ii), result\u001b[38;5;241m.\u001b[39matVector(W(ii\u001b[38;5;241m-\u001b[39m\u001b[38;5;241m1\u001b[39m)))\n\u001b[1;32m     71\u001b[0m \u001b[38;5;66;03m# Create a dynamics factor and add it to the graph.\u001b[39;00m\n\u001b[0;32m---> 72\u001b[0m dynamics_factor \u001b[38;5;241m=\u001b[39m \u001b[43mPoseDynamicsFactor\u001b[49m\u001b[43m(\u001b[49m\u001b[43mprocess_noise_pose\u001b[49m\u001b[43m,\u001b[49m\u001b[43m \u001b[49m\u001b[43mX\u001b[49m\u001b[43m(\u001b[49m\u001b[43mii\u001b[49m\u001b[38;5;241;43m-\u001b[39;49m\u001b[38;5;241;43m1\u001b[39;49m\u001b[43m)\u001b[49m\u001b[43m,\u001b[49m\u001b[43m \u001b[49m\u001b[43mV\u001b[49m\u001b[43m(\u001b[49m\u001b[43mii\u001b[49m\u001b[38;5;241;43m-\u001b[39;49m\u001b[38;5;241;43m1\u001b[39;49m\u001b[43m)\u001b[49m\u001b[43m,\u001b[49m\u001b[43m \u001b[49m\u001b[43mW\u001b[49m\u001b[43m(\u001b[49m\u001b[43mii\u001b[49m\u001b[38;5;241;43m-\u001b[39;49m\u001b[38;5;241;43m1\u001b[39;49m\u001b[43m)\u001b[49m\u001b[43m,\u001b[49m\u001b[43m \u001b[49m\u001b[43mX\u001b[49m\u001b[43m(\u001b[49m\u001b[43mii\u001b[49m\u001b[43m)\u001b[49m\u001b[43m,\u001b[49m\u001b[43m \u001b[49m\u001b[43mdt\u001b[49m\u001b[43m)\u001b[49m\n\u001b[1;32m     73\u001b[0m graph\u001b[38;5;241m.\u001b[39mpush_back(dynamics_factor)\n\u001b[1;32m     75\u001b[0m \u001b[38;5;66;03m# Create a constant velocity factor and add it to the graph.\u001b[39;00m\n",
      "File \u001b[0;32m~/perseus/perseus/smoother/factors.py:17\u001b[0m, in \u001b[0;36mPoseDynamicsFactor.__init__\u001b[0;34m(self, pose1, ang_vel1, vel1, pose2, noise_model, dt)\u001b[0m\n\u001b[1;32m      8\u001b[0m \u001b[38;5;28;01mdef\u001b[39;00m \u001b[38;5;21m__init__\u001b[39m(\n\u001b[1;32m      9\u001b[0m     \u001b[38;5;28mself\u001b[39m,\n\u001b[1;32m     10\u001b[0m     pose1: \u001b[38;5;28mint\u001b[39m,\n\u001b[0;32m   (...)\u001b[0m\n\u001b[1;32m     15\u001b[0m     dt: \u001b[38;5;28mfloat\u001b[39m,\n\u001b[1;32m     16\u001b[0m ):\n\u001b[0;32m---> 17\u001b[0m     \u001b[38;5;28;43msuper\u001b[39;49m\u001b[43m(\u001b[49m\u001b[43m)\u001b[49m\u001b[38;5;241;43m.\u001b[39;49m\u001b[38;5;21;43m__init__\u001b[39;49m\u001b[43m(\u001b[49m\n\u001b[1;32m     18\u001b[0m \u001b[43m        \u001b[49m\u001b[43mnoise_model\u001b[49m\u001b[43m,\u001b[49m\n\u001b[1;32m     19\u001b[0m \u001b[43m        \u001b[49m\u001b[43m[\u001b[49m\u001b[43mpose1\u001b[49m\u001b[43m,\u001b[49m\u001b[43m \u001b[49m\u001b[43mang_vel1\u001b[49m\u001b[43m,\u001b[49m\u001b[43m \u001b[49m\u001b[43mvel1\u001b[49m\u001b[43m,\u001b[49m\u001b[43m \u001b[49m\u001b[43mpose2\u001b[49m\u001b[43m]\u001b[49m\u001b[43m,\u001b[49m\n\u001b[1;32m     20\u001b[0m \u001b[43m        \u001b[49m\u001b[43mpartial\u001b[49m\u001b[43m(\u001b[49m\u001b[43mPoseDynamicsFactor\u001b[49m\u001b[38;5;241;43m.\u001b[39;49m\u001b[43merror_func\u001b[49m\u001b[43m,\u001b[49m\u001b[43m \u001b[49m\u001b[43mdt\u001b[49m\u001b[38;5;241;43m=\u001b[39;49m\u001b[43mdt\u001b[49m\u001b[43m)\u001b[49m\u001b[43m,\u001b[49m\n\u001b[1;32m     21\u001b[0m \u001b[43m    \u001b[49m\u001b[43m)\u001b[49m\n\u001b[1;32m     22\u001b[0m     \u001b[38;5;28mself\u001b[39m\u001b[38;5;241m.\u001b[39mdt \u001b[38;5;241m=\u001b[39m dt\n",
      "\u001b[0;31mTypeError\u001b[0m: __init__(): incompatible constructor arguments. The following argument types are supported:\n    1. gtsam.gtsam.CustomFactor()\n    2. gtsam.gtsam.CustomFactor(noiseModel: gtsam.gtsam.noiseModel.Base, keys: std::vector<unsigned long, std::allocator<unsigned long> >, errorFunction: Callable[[gtsam.gtsam.CustomFactor, gtsam.gtsam.Values, gtsam.gtsam.JacobianVector], numpy.ndarray[numpy.float64[m, 1]]])\n\nInvoked with: 8646911284551352325, [isotropic dim=6 sigma=0.001\n, 8646911284551352324, 8502796096475496452, 8574853690513424388], functools.partial(<function PoseDynamicsFactor.error_func at 0x7fd181103760>, dt=0.1)\n\nDid you forget to `#include <pybind11/stl.h>`? Or <pybind11/complex.h>,\n<pybind11/functional.h>, <pybind11/chrono.h>, etc. Some automatic\nconversions are optional and require extra headers to be included\nwhen compiling your pybind11 module."
     ]
    },
    {
     "name": "stdout",
     "output_type": "stream",
     "text": [
      "CPU times: user 83 µs, sys: 0 ns, total: 83 µs\n",
      "Wall time: 86.8 µs\n",
      "CPU times: user 29 µs, sys: 0 ns, total: 29 µs\n",
      "Wall time: 31.7 µs\n"
     ]
    },
    {
     "ename": "TypeError",
     "evalue": "__init__(): incompatible constructor arguments. The following argument types are supported:\n    1. gtsam.gtsam.CustomFactor()\n    2. gtsam.gtsam.CustomFactor(noiseModel: gtsam.gtsam.noiseModel.Base, keys: std::vector<unsigned long, std::allocator<unsigned long> >, errorFunction: Callable[[gtsam.gtsam.CustomFactor, gtsam.gtsam.Values, gtsam.gtsam.JacobianVector], numpy.ndarray[numpy.float64[m, 1]]])\n\nInvoked with: 8646911284551352326, [isotropic dim=6 sigma=0.001\n, 8646911284551352325, 8502796096475496453, 8574853690513424389], functools.partial(<function PoseDynamicsFactor.error_func at 0x7fd181103760>, dt=0.1)\n\nDid you forget to `#include <pybind11/stl.h>`? Or <pybind11/complex.h>,\n<pybind11/functional.h>, <pybind11/chrono.h>, etc. Some automatic\nconversions are optional and require extra headers to be included\nwhen compiling your pybind11 module.",
     "output_type": "error",
     "traceback": [
      "\u001b[0;31m---------------------------------------------------------------------------\u001b[0m",
      "\u001b[0;31mTypeError\u001b[0m                                 Traceback (most recent call last)",
      "File \u001b[0;32m<timed eval>:1\u001b[0m\n",
      "Cell \u001b[0;32mIn[2], line 72\u001b[0m, in \u001b[0;36madd_factors\u001b[0;34m(graph, initial_estimate, ii)\u001b[0m\n\u001b[1;32m     69\u001b[0m initial_estimate\u001b[38;5;241m.\u001b[39minsert(W(ii), result\u001b[38;5;241m.\u001b[39matVector(W(ii\u001b[38;5;241m-\u001b[39m\u001b[38;5;241m1\u001b[39m)))\n\u001b[1;32m     71\u001b[0m \u001b[38;5;66;03m# Create a dynamics factor and add it to the graph.\u001b[39;00m\n\u001b[0;32m---> 72\u001b[0m dynamics_factor \u001b[38;5;241m=\u001b[39m \u001b[43mPoseDynamicsFactor\u001b[49m\u001b[43m(\u001b[49m\u001b[43mprocess_noise_pose\u001b[49m\u001b[43m,\u001b[49m\u001b[43m \u001b[49m\u001b[43mX\u001b[49m\u001b[43m(\u001b[49m\u001b[43mii\u001b[49m\u001b[38;5;241;43m-\u001b[39;49m\u001b[38;5;241;43m1\u001b[39;49m\u001b[43m)\u001b[49m\u001b[43m,\u001b[49m\u001b[43m \u001b[49m\u001b[43mV\u001b[49m\u001b[43m(\u001b[49m\u001b[43mii\u001b[49m\u001b[38;5;241;43m-\u001b[39;49m\u001b[38;5;241;43m1\u001b[39;49m\u001b[43m)\u001b[49m\u001b[43m,\u001b[49m\u001b[43m \u001b[49m\u001b[43mW\u001b[49m\u001b[43m(\u001b[49m\u001b[43mii\u001b[49m\u001b[38;5;241;43m-\u001b[39;49m\u001b[38;5;241;43m1\u001b[39;49m\u001b[43m)\u001b[49m\u001b[43m,\u001b[49m\u001b[43m \u001b[49m\u001b[43mX\u001b[49m\u001b[43m(\u001b[49m\u001b[43mii\u001b[49m\u001b[43m)\u001b[49m\u001b[43m,\u001b[49m\u001b[43m \u001b[49m\u001b[43mdt\u001b[49m\u001b[43m)\u001b[49m\n\u001b[1;32m     73\u001b[0m graph\u001b[38;5;241m.\u001b[39mpush_back(dynamics_factor)\n\u001b[1;32m     75\u001b[0m \u001b[38;5;66;03m# Create a constant velocity factor and add it to the graph.\u001b[39;00m\n",
      "File \u001b[0;32m~/perseus/perseus/smoother/factors.py:17\u001b[0m, in \u001b[0;36mPoseDynamicsFactor.__init__\u001b[0;34m(self, pose1, ang_vel1, vel1, pose2, noise_model, dt)\u001b[0m\n\u001b[1;32m      8\u001b[0m \u001b[38;5;28;01mdef\u001b[39;00m \u001b[38;5;21m__init__\u001b[39m(\n\u001b[1;32m      9\u001b[0m     \u001b[38;5;28mself\u001b[39m,\n\u001b[1;32m     10\u001b[0m     pose1: \u001b[38;5;28mint\u001b[39m,\n\u001b[0;32m   (...)\u001b[0m\n\u001b[1;32m     15\u001b[0m     dt: \u001b[38;5;28mfloat\u001b[39m,\n\u001b[1;32m     16\u001b[0m ):\n\u001b[0;32m---> 17\u001b[0m     \u001b[38;5;28;43msuper\u001b[39;49m\u001b[43m(\u001b[49m\u001b[43m)\u001b[49m\u001b[38;5;241;43m.\u001b[39;49m\u001b[38;5;21;43m__init__\u001b[39;49m\u001b[43m(\u001b[49m\n\u001b[1;32m     18\u001b[0m \u001b[43m        \u001b[49m\u001b[43mnoise_model\u001b[49m\u001b[43m,\u001b[49m\n\u001b[1;32m     19\u001b[0m \u001b[43m        \u001b[49m\u001b[43m[\u001b[49m\u001b[43mpose1\u001b[49m\u001b[43m,\u001b[49m\u001b[43m \u001b[49m\u001b[43mang_vel1\u001b[49m\u001b[43m,\u001b[49m\u001b[43m \u001b[49m\u001b[43mvel1\u001b[49m\u001b[43m,\u001b[49m\u001b[43m \u001b[49m\u001b[43mpose2\u001b[49m\u001b[43m]\u001b[49m\u001b[43m,\u001b[49m\n\u001b[1;32m     20\u001b[0m \u001b[43m        \u001b[49m\u001b[43mpartial\u001b[49m\u001b[43m(\u001b[49m\u001b[43mPoseDynamicsFactor\u001b[49m\u001b[38;5;241;43m.\u001b[39;49m\u001b[43merror_func\u001b[49m\u001b[43m,\u001b[49m\u001b[43m \u001b[49m\u001b[43mdt\u001b[49m\u001b[38;5;241;43m=\u001b[39;49m\u001b[43mdt\u001b[49m\u001b[43m)\u001b[49m\u001b[43m,\u001b[49m\n\u001b[1;32m     21\u001b[0m \u001b[43m    \u001b[49m\u001b[43m)\u001b[49m\n\u001b[1;32m     22\u001b[0m     \u001b[38;5;28mself\u001b[39m\u001b[38;5;241m.\u001b[39mdt \u001b[38;5;241m=\u001b[39m dt\n",
      "\u001b[0;31mTypeError\u001b[0m: __init__(): incompatible constructor arguments. The following argument types are supported:\n    1. gtsam.gtsam.CustomFactor()\n    2. gtsam.gtsam.CustomFactor(noiseModel: gtsam.gtsam.noiseModel.Base, keys: std::vector<unsigned long, std::allocator<unsigned long> >, errorFunction: Callable[[gtsam.gtsam.CustomFactor, gtsam.gtsam.Values, gtsam.gtsam.JacobianVector], numpy.ndarray[numpy.float64[m, 1]]])\n\nInvoked with: 8646911284551352326, [isotropic dim=6 sigma=0.001\n, 8646911284551352325, 8502796096475496453, 8574853690513424389], functools.partial(<function PoseDynamicsFactor.error_func at 0x7fd181103760>, dt=0.1)\n\nDid you forget to `#include <pybind11/stl.h>`? Or <pybind11/complex.h>,\n<pybind11/functional.h>, <pybind11/chrono.h>, etc. Some automatic\nconversions are optional and require extra headers to be included\nwhen compiling your pybind11 module."
     ]
    },
    {
     "name": "stdout",
     "output_type": "stream",
     "text": [
      "CPU times: user 33 µs, sys: 52 µs, total: 85 µs\n",
      "Wall time: 88.9 µs\n",
      "CPU times: user 12 µs, sys: 19 µs, total: 31 µs\n",
      "Wall time: 33.6 µs\n"
     ]
    },
    {
     "ename": "TypeError",
     "evalue": "__init__(): incompatible constructor arguments. The following argument types are supported:\n    1. gtsam.gtsam.CustomFactor()\n    2. gtsam.gtsam.CustomFactor(noiseModel: gtsam.gtsam.noiseModel.Base, keys: std::vector<unsigned long, std::allocator<unsigned long> >, errorFunction: Callable[[gtsam.gtsam.CustomFactor, gtsam.gtsam.Values, gtsam.gtsam.JacobianVector], numpy.ndarray[numpy.float64[m, 1]]])\n\nInvoked with: 8646911284551352327, [isotropic dim=6 sigma=0.001\n, 8646911284551352326, 8502796096475496454, 8574853690513424390], functools.partial(<function PoseDynamicsFactor.error_func at 0x7fd181103760>, dt=0.1)\n\nDid you forget to `#include <pybind11/stl.h>`? Or <pybind11/complex.h>,\n<pybind11/functional.h>, <pybind11/chrono.h>, etc. Some automatic\nconversions are optional and require extra headers to be included\nwhen compiling your pybind11 module.",
     "output_type": "error",
     "traceback": [
      "\u001b[0;31m---------------------------------------------------------------------------\u001b[0m",
      "\u001b[0;31mTypeError\u001b[0m                                 Traceback (most recent call last)",
      "File \u001b[0;32m<timed eval>:1\u001b[0m\n",
      "Cell \u001b[0;32mIn[2], line 72\u001b[0m, in \u001b[0;36madd_factors\u001b[0;34m(graph, initial_estimate, ii)\u001b[0m\n\u001b[1;32m     69\u001b[0m initial_estimate\u001b[38;5;241m.\u001b[39minsert(W(ii), result\u001b[38;5;241m.\u001b[39matVector(W(ii\u001b[38;5;241m-\u001b[39m\u001b[38;5;241m1\u001b[39m)))\n\u001b[1;32m     71\u001b[0m \u001b[38;5;66;03m# Create a dynamics factor and add it to the graph.\u001b[39;00m\n\u001b[0;32m---> 72\u001b[0m dynamics_factor \u001b[38;5;241m=\u001b[39m \u001b[43mPoseDynamicsFactor\u001b[49m\u001b[43m(\u001b[49m\u001b[43mprocess_noise_pose\u001b[49m\u001b[43m,\u001b[49m\u001b[43m \u001b[49m\u001b[43mX\u001b[49m\u001b[43m(\u001b[49m\u001b[43mii\u001b[49m\u001b[38;5;241;43m-\u001b[39;49m\u001b[38;5;241;43m1\u001b[39;49m\u001b[43m)\u001b[49m\u001b[43m,\u001b[49m\u001b[43m \u001b[49m\u001b[43mV\u001b[49m\u001b[43m(\u001b[49m\u001b[43mii\u001b[49m\u001b[38;5;241;43m-\u001b[39;49m\u001b[38;5;241;43m1\u001b[39;49m\u001b[43m)\u001b[49m\u001b[43m,\u001b[49m\u001b[43m \u001b[49m\u001b[43mW\u001b[49m\u001b[43m(\u001b[49m\u001b[43mii\u001b[49m\u001b[38;5;241;43m-\u001b[39;49m\u001b[38;5;241;43m1\u001b[39;49m\u001b[43m)\u001b[49m\u001b[43m,\u001b[49m\u001b[43m \u001b[49m\u001b[43mX\u001b[49m\u001b[43m(\u001b[49m\u001b[43mii\u001b[49m\u001b[43m)\u001b[49m\u001b[43m,\u001b[49m\u001b[43m \u001b[49m\u001b[43mdt\u001b[49m\u001b[43m)\u001b[49m\n\u001b[1;32m     73\u001b[0m graph\u001b[38;5;241m.\u001b[39mpush_back(dynamics_factor)\n\u001b[1;32m     75\u001b[0m \u001b[38;5;66;03m# Create a constant velocity factor and add it to the graph.\u001b[39;00m\n",
      "File \u001b[0;32m~/perseus/perseus/smoother/factors.py:17\u001b[0m, in \u001b[0;36mPoseDynamicsFactor.__init__\u001b[0;34m(self, pose1, ang_vel1, vel1, pose2, noise_model, dt)\u001b[0m\n\u001b[1;32m      8\u001b[0m \u001b[38;5;28;01mdef\u001b[39;00m \u001b[38;5;21m__init__\u001b[39m(\n\u001b[1;32m      9\u001b[0m     \u001b[38;5;28mself\u001b[39m,\n\u001b[1;32m     10\u001b[0m     pose1: \u001b[38;5;28mint\u001b[39m,\n\u001b[0;32m   (...)\u001b[0m\n\u001b[1;32m     15\u001b[0m     dt: \u001b[38;5;28mfloat\u001b[39m,\n\u001b[1;32m     16\u001b[0m ):\n\u001b[0;32m---> 17\u001b[0m     \u001b[38;5;28;43msuper\u001b[39;49m\u001b[43m(\u001b[49m\u001b[43m)\u001b[49m\u001b[38;5;241;43m.\u001b[39;49m\u001b[38;5;21;43m__init__\u001b[39;49m\u001b[43m(\u001b[49m\n\u001b[1;32m     18\u001b[0m \u001b[43m        \u001b[49m\u001b[43mnoise_model\u001b[49m\u001b[43m,\u001b[49m\n\u001b[1;32m     19\u001b[0m \u001b[43m        \u001b[49m\u001b[43m[\u001b[49m\u001b[43mpose1\u001b[49m\u001b[43m,\u001b[49m\u001b[43m \u001b[49m\u001b[43mang_vel1\u001b[49m\u001b[43m,\u001b[49m\u001b[43m \u001b[49m\u001b[43mvel1\u001b[49m\u001b[43m,\u001b[49m\u001b[43m \u001b[49m\u001b[43mpose2\u001b[49m\u001b[43m]\u001b[49m\u001b[43m,\u001b[49m\n\u001b[1;32m     20\u001b[0m \u001b[43m        \u001b[49m\u001b[43mpartial\u001b[49m\u001b[43m(\u001b[49m\u001b[43mPoseDynamicsFactor\u001b[49m\u001b[38;5;241;43m.\u001b[39;49m\u001b[43merror_func\u001b[49m\u001b[43m,\u001b[49m\u001b[43m \u001b[49m\u001b[43mdt\u001b[49m\u001b[38;5;241;43m=\u001b[39;49m\u001b[43mdt\u001b[49m\u001b[43m)\u001b[49m\u001b[43m,\u001b[49m\n\u001b[1;32m     21\u001b[0m \u001b[43m    \u001b[49m\u001b[43m)\u001b[49m\n\u001b[1;32m     22\u001b[0m     \u001b[38;5;28mself\u001b[39m\u001b[38;5;241m.\u001b[39mdt \u001b[38;5;241m=\u001b[39m dt\n",
      "\u001b[0;31mTypeError\u001b[0m: __init__(): incompatible constructor arguments. The following argument types are supported:\n    1. gtsam.gtsam.CustomFactor()\n    2. gtsam.gtsam.CustomFactor(noiseModel: gtsam.gtsam.noiseModel.Base, keys: std::vector<unsigned long, std::allocator<unsigned long> >, errorFunction: Callable[[gtsam.gtsam.CustomFactor, gtsam.gtsam.Values, gtsam.gtsam.JacobianVector], numpy.ndarray[numpy.float64[m, 1]]])\n\nInvoked with: 8646911284551352327, [isotropic dim=6 sigma=0.001\n, 8646911284551352326, 8502796096475496454, 8574853690513424390], functools.partial(<function PoseDynamicsFactor.error_func at 0x7fd181103760>, dt=0.1)\n\nDid you forget to `#include <pybind11/stl.h>`? Or <pybind11/complex.h>,\n<pybind11/functional.h>, <pybind11/chrono.h>, etc. Some automatic\nconversions are optional and require extra headers to be included\nwhen compiling your pybind11 module."
     ]
    },
    {
     "name": "stdout",
     "output_type": "stream",
     "text": [
      "CPU times: user 88 µs, sys: 0 ns, total: 88 µs\n",
      "Wall time: 91.8 µs\n",
      "CPU times: user 33 µs, sys: 0 ns, total: 33 µs\n",
      "Wall time: 36.2 µs\n"
     ]
    },
    {
     "ename": "TypeError",
     "evalue": "__init__(): incompatible constructor arguments. The following argument types are supported:\n    1. gtsam.gtsam.CustomFactor()\n    2. gtsam.gtsam.CustomFactor(noiseModel: gtsam.gtsam.noiseModel.Base, keys: std::vector<unsigned long, std::allocator<unsigned long> >, errorFunction: Callable[[gtsam.gtsam.CustomFactor, gtsam.gtsam.Values, gtsam.gtsam.JacobianVector], numpy.ndarray[numpy.float64[m, 1]]])\n\nInvoked with: 8646911284551352328, [isotropic dim=6 sigma=0.001\n, 8646911284551352327, 8502796096475496455, 8574853690513424391], functools.partial(<function PoseDynamicsFactor.error_func at 0x7fd181103760>, dt=0.1)\n\nDid you forget to `#include <pybind11/stl.h>`? Or <pybind11/complex.h>,\n<pybind11/functional.h>, <pybind11/chrono.h>, etc. Some automatic\nconversions are optional and require extra headers to be included\nwhen compiling your pybind11 module.",
     "output_type": "error",
     "traceback": [
      "\u001b[0;31m---------------------------------------------------------------------------\u001b[0m",
      "\u001b[0;31mTypeError\u001b[0m                                 Traceback (most recent call last)",
      "File \u001b[0;32m<timed eval>:1\u001b[0m\n",
      "Cell \u001b[0;32mIn[2], line 72\u001b[0m, in \u001b[0;36madd_factors\u001b[0;34m(graph, initial_estimate, ii)\u001b[0m\n\u001b[1;32m     69\u001b[0m initial_estimate\u001b[38;5;241m.\u001b[39minsert(W(ii), result\u001b[38;5;241m.\u001b[39matVector(W(ii\u001b[38;5;241m-\u001b[39m\u001b[38;5;241m1\u001b[39m)))\n\u001b[1;32m     71\u001b[0m \u001b[38;5;66;03m# Create a dynamics factor and add it to the graph.\u001b[39;00m\n\u001b[0;32m---> 72\u001b[0m dynamics_factor \u001b[38;5;241m=\u001b[39m \u001b[43mPoseDynamicsFactor\u001b[49m\u001b[43m(\u001b[49m\u001b[43mprocess_noise_pose\u001b[49m\u001b[43m,\u001b[49m\u001b[43m \u001b[49m\u001b[43mX\u001b[49m\u001b[43m(\u001b[49m\u001b[43mii\u001b[49m\u001b[38;5;241;43m-\u001b[39;49m\u001b[38;5;241;43m1\u001b[39;49m\u001b[43m)\u001b[49m\u001b[43m,\u001b[49m\u001b[43m \u001b[49m\u001b[43mV\u001b[49m\u001b[43m(\u001b[49m\u001b[43mii\u001b[49m\u001b[38;5;241;43m-\u001b[39;49m\u001b[38;5;241;43m1\u001b[39;49m\u001b[43m)\u001b[49m\u001b[43m,\u001b[49m\u001b[43m \u001b[49m\u001b[43mW\u001b[49m\u001b[43m(\u001b[49m\u001b[43mii\u001b[49m\u001b[38;5;241;43m-\u001b[39;49m\u001b[38;5;241;43m1\u001b[39;49m\u001b[43m)\u001b[49m\u001b[43m,\u001b[49m\u001b[43m \u001b[49m\u001b[43mX\u001b[49m\u001b[43m(\u001b[49m\u001b[43mii\u001b[49m\u001b[43m)\u001b[49m\u001b[43m,\u001b[49m\u001b[43m \u001b[49m\u001b[43mdt\u001b[49m\u001b[43m)\u001b[49m\n\u001b[1;32m     73\u001b[0m graph\u001b[38;5;241m.\u001b[39mpush_back(dynamics_factor)\n\u001b[1;32m     75\u001b[0m \u001b[38;5;66;03m# Create a constant velocity factor and add it to the graph.\u001b[39;00m\n",
      "File \u001b[0;32m~/perseus/perseus/smoother/factors.py:17\u001b[0m, in \u001b[0;36mPoseDynamicsFactor.__init__\u001b[0;34m(self, pose1, ang_vel1, vel1, pose2, noise_model, dt)\u001b[0m\n\u001b[1;32m      8\u001b[0m \u001b[38;5;28;01mdef\u001b[39;00m \u001b[38;5;21m__init__\u001b[39m(\n\u001b[1;32m      9\u001b[0m     \u001b[38;5;28mself\u001b[39m,\n\u001b[1;32m     10\u001b[0m     pose1: \u001b[38;5;28mint\u001b[39m,\n\u001b[0;32m   (...)\u001b[0m\n\u001b[1;32m     15\u001b[0m     dt: \u001b[38;5;28mfloat\u001b[39m,\n\u001b[1;32m     16\u001b[0m ):\n\u001b[0;32m---> 17\u001b[0m     \u001b[38;5;28;43msuper\u001b[39;49m\u001b[43m(\u001b[49m\u001b[43m)\u001b[49m\u001b[38;5;241;43m.\u001b[39;49m\u001b[38;5;21;43m__init__\u001b[39;49m\u001b[43m(\u001b[49m\n\u001b[1;32m     18\u001b[0m \u001b[43m        \u001b[49m\u001b[43mnoise_model\u001b[49m\u001b[43m,\u001b[49m\n\u001b[1;32m     19\u001b[0m \u001b[43m        \u001b[49m\u001b[43m[\u001b[49m\u001b[43mpose1\u001b[49m\u001b[43m,\u001b[49m\u001b[43m \u001b[49m\u001b[43mang_vel1\u001b[49m\u001b[43m,\u001b[49m\u001b[43m \u001b[49m\u001b[43mvel1\u001b[49m\u001b[43m,\u001b[49m\u001b[43m \u001b[49m\u001b[43mpose2\u001b[49m\u001b[43m]\u001b[49m\u001b[43m,\u001b[49m\n\u001b[1;32m     20\u001b[0m \u001b[43m        \u001b[49m\u001b[43mpartial\u001b[49m\u001b[43m(\u001b[49m\u001b[43mPoseDynamicsFactor\u001b[49m\u001b[38;5;241;43m.\u001b[39;49m\u001b[43merror_func\u001b[49m\u001b[43m,\u001b[49m\u001b[43m \u001b[49m\u001b[43mdt\u001b[49m\u001b[38;5;241;43m=\u001b[39;49m\u001b[43mdt\u001b[49m\u001b[43m)\u001b[49m\u001b[43m,\u001b[49m\n\u001b[1;32m     21\u001b[0m \u001b[43m    \u001b[49m\u001b[43m)\u001b[49m\n\u001b[1;32m     22\u001b[0m     \u001b[38;5;28mself\u001b[39m\u001b[38;5;241m.\u001b[39mdt \u001b[38;5;241m=\u001b[39m dt\n",
      "\u001b[0;31mTypeError\u001b[0m: __init__(): incompatible constructor arguments. The following argument types are supported:\n    1. gtsam.gtsam.CustomFactor()\n    2. gtsam.gtsam.CustomFactor(noiseModel: gtsam.gtsam.noiseModel.Base, keys: std::vector<unsigned long, std::allocator<unsigned long> >, errorFunction: Callable[[gtsam.gtsam.CustomFactor, gtsam.gtsam.Values, gtsam.gtsam.JacobianVector], numpy.ndarray[numpy.float64[m, 1]]])\n\nInvoked with: 8646911284551352328, [isotropic dim=6 sigma=0.001\n, 8646911284551352327, 8502796096475496455, 8574853690513424391], functools.partial(<function PoseDynamicsFactor.error_func at 0x7fd181103760>, dt=0.1)\n\nDid you forget to `#include <pybind11/stl.h>`? Or <pybind11/complex.h>,\n<pybind11/functional.h>, <pybind11/chrono.h>, etc. Some automatic\nconversions are optional and require extra headers to be included\nwhen compiling your pybind11 module."
     ]
    },
    {
     "name": "stdout",
     "output_type": "stream",
     "text": [
      "CPU times: user 89 µs, sys: 0 ns, total: 89 µs\n",
      "Wall time: 93.5 µs\n",
      "CPU times: user 33 µs, sys: 0 ns, total: 33 µs\n",
      "Wall time: 37 µs\n"
     ]
    },
    {
     "ename": "TypeError",
     "evalue": "__init__(): incompatible constructor arguments. The following argument types are supported:\n    1. gtsam.gtsam.CustomFactor()\n    2. gtsam.gtsam.CustomFactor(noiseModel: gtsam.gtsam.noiseModel.Base, keys: std::vector<unsigned long, std::allocator<unsigned long> >, errorFunction: Callable[[gtsam.gtsam.CustomFactor, gtsam.gtsam.Values, gtsam.gtsam.JacobianVector], numpy.ndarray[numpy.float64[m, 1]]])\n\nInvoked with: 8646911284551352329, [isotropic dim=6 sigma=0.001\n, 8646911284551352328, 8502796096475496456, 8574853690513424392], functools.partial(<function PoseDynamicsFactor.error_func at 0x7fd181103760>, dt=0.1)\n\nDid you forget to `#include <pybind11/stl.h>`? Or <pybind11/complex.h>,\n<pybind11/functional.h>, <pybind11/chrono.h>, etc. Some automatic\nconversions are optional and require extra headers to be included\nwhen compiling your pybind11 module.",
     "output_type": "error",
     "traceback": [
      "\u001b[0;31m---------------------------------------------------------------------------\u001b[0m",
      "\u001b[0;31mTypeError\u001b[0m                                 Traceback (most recent call last)",
      "File \u001b[0;32m<timed eval>:1\u001b[0m\n",
      "Cell \u001b[0;32mIn[2], line 72\u001b[0m, in \u001b[0;36madd_factors\u001b[0;34m(graph, initial_estimate, ii)\u001b[0m\n\u001b[1;32m     69\u001b[0m initial_estimate\u001b[38;5;241m.\u001b[39minsert(W(ii), result\u001b[38;5;241m.\u001b[39matVector(W(ii\u001b[38;5;241m-\u001b[39m\u001b[38;5;241m1\u001b[39m)))\n\u001b[1;32m     71\u001b[0m \u001b[38;5;66;03m# Create a dynamics factor and add it to the graph.\u001b[39;00m\n\u001b[0;32m---> 72\u001b[0m dynamics_factor \u001b[38;5;241m=\u001b[39m \u001b[43mPoseDynamicsFactor\u001b[49m\u001b[43m(\u001b[49m\u001b[43mprocess_noise_pose\u001b[49m\u001b[43m,\u001b[49m\u001b[43m \u001b[49m\u001b[43mX\u001b[49m\u001b[43m(\u001b[49m\u001b[43mii\u001b[49m\u001b[38;5;241;43m-\u001b[39;49m\u001b[38;5;241;43m1\u001b[39;49m\u001b[43m)\u001b[49m\u001b[43m,\u001b[49m\u001b[43m \u001b[49m\u001b[43mV\u001b[49m\u001b[43m(\u001b[49m\u001b[43mii\u001b[49m\u001b[38;5;241;43m-\u001b[39;49m\u001b[38;5;241;43m1\u001b[39;49m\u001b[43m)\u001b[49m\u001b[43m,\u001b[49m\u001b[43m \u001b[49m\u001b[43mW\u001b[49m\u001b[43m(\u001b[49m\u001b[43mii\u001b[49m\u001b[38;5;241;43m-\u001b[39;49m\u001b[38;5;241;43m1\u001b[39;49m\u001b[43m)\u001b[49m\u001b[43m,\u001b[49m\u001b[43m \u001b[49m\u001b[43mX\u001b[49m\u001b[43m(\u001b[49m\u001b[43mii\u001b[49m\u001b[43m)\u001b[49m\u001b[43m,\u001b[49m\u001b[43m \u001b[49m\u001b[43mdt\u001b[49m\u001b[43m)\u001b[49m\n\u001b[1;32m     73\u001b[0m graph\u001b[38;5;241m.\u001b[39mpush_back(dynamics_factor)\n\u001b[1;32m     75\u001b[0m \u001b[38;5;66;03m# Create a constant velocity factor and add it to the graph.\u001b[39;00m\n",
      "File \u001b[0;32m~/perseus/perseus/smoother/factors.py:17\u001b[0m, in \u001b[0;36mPoseDynamicsFactor.__init__\u001b[0;34m(self, pose1, ang_vel1, vel1, pose2, noise_model, dt)\u001b[0m\n\u001b[1;32m      8\u001b[0m \u001b[38;5;28;01mdef\u001b[39;00m \u001b[38;5;21m__init__\u001b[39m(\n\u001b[1;32m      9\u001b[0m     \u001b[38;5;28mself\u001b[39m,\n\u001b[1;32m     10\u001b[0m     pose1: \u001b[38;5;28mint\u001b[39m,\n\u001b[0;32m   (...)\u001b[0m\n\u001b[1;32m     15\u001b[0m     dt: \u001b[38;5;28mfloat\u001b[39m,\n\u001b[1;32m     16\u001b[0m ):\n\u001b[0;32m---> 17\u001b[0m     \u001b[38;5;28;43msuper\u001b[39;49m\u001b[43m(\u001b[49m\u001b[43m)\u001b[49m\u001b[38;5;241;43m.\u001b[39;49m\u001b[38;5;21;43m__init__\u001b[39;49m\u001b[43m(\u001b[49m\n\u001b[1;32m     18\u001b[0m \u001b[43m        \u001b[49m\u001b[43mnoise_model\u001b[49m\u001b[43m,\u001b[49m\n\u001b[1;32m     19\u001b[0m \u001b[43m        \u001b[49m\u001b[43m[\u001b[49m\u001b[43mpose1\u001b[49m\u001b[43m,\u001b[49m\u001b[43m \u001b[49m\u001b[43mang_vel1\u001b[49m\u001b[43m,\u001b[49m\u001b[43m \u001b[49m\u001b[43mvel1\u001b[49m\u001b[43m,\u001b[49m\u001b[43m \u001b[49m\u001b[43mpose2\u001b[49m\u001b[43m]\u001b[49m\u001b[43m,\u001b[49m\n\u001b[1;32m     20\u001b[0m \u001b[43m        \u001b[49m\u001b[43mpartial\u001b[49m\u001b[43m(\u001b[49m\u001b[43mPoseDynamicsFactor\u001b[49m\u001b[38;5;241;43m.\u001b[39;49m\u001b[43merror_func\u001b[49m\u001b[43m,\u001b[49m\u001b[43m \u001b[49m\u001b[43mdt\u001b[49m\u001b[38;5;241;43m=\u001b[39;49m\u001b[43mdt\u001b[49m\u001b[43m)\u001b[49m\u001b[43m,\u001b[49m\n\u001b[1;32m     21\u001b[0m \u001b[43m    \u001b[49m\u001b[43m)\u001b[49m\n\u001b[1;32m     22\u001b[0m     \u001b[38;5;28mself\u001b[39m\u001b[38;5;241m.\u001b[39mdt \u001b[38;5;241m=\u001b[39m dt\n",
      "\u001b[0;31mTypeError\u001b[0m: __init__(): incompatible constructor arguments. The following argument types are supported:\n    1. gtsam.gtsam.CustomFactor()\n    2. gtsam.gtsam.CustomFactor(noiseModel: gtsam.gtsam.noiseModel.Base, keys: std::vector<unsigned long, std::allocator<unsigned long> >, errorFunction: Callable[[gtsam.gtsam.CustomFactor, gtsam.gtsam.Values, gtsam.gtsam.JacobianVector], numpy.ndarray[numpy.float64[m, 1]]])\n\nInvoked with: 8646911284551352329, [isotropic dim=6 sigma=0.001\n, 8646911284551352328, 8502796096475496456, 8574853690513424392], functools.partial(<function PoseDynamicsFactor.error_func at 0x7fd181103760>, dt=0.1)\n\nDid you forget to `#include <pybind11/stl.h>`? Or <pybind11/complex.h>,\n<pybind11/functional.h>, <pybind11/chrono.h>, etc. Some automatic\nconversions are optional and require extra headers to be included\nwhen compiling your pybind11 module."
     ]
    },
    {
     "name": "stdout",
     "output_type": "stream",
     "text": [
      "CPU times: user 105 µs, sys: 0 ns, total: 105 µs\n",
      "Wall time: 109 µs\n",
      "CPU times: user 34 µs, sys: 0 ns, total: 34 µs\n",
      "Wall time: 37.4 µs\n"
     ]
    }
   ],
   "source": [
    "# Quick example: 3D pose estimation with constant twist scenario.\n",
    "\n",
    "\n",
    "# Setup scenario.\n",
    "vel = np.array([0.1, 0, 0])\n",
    "ang_vel = np.array([math.radians(30), -math.radians(30), 0])\n",
    "vel_cov = np.array([1e-1, 1e-1, 1e-1])\n",
    "ang_vel_cov = np.array([1e-1, 1e-1, 1e-1])\n",
    "noisy_vel = vel + np.sqrt(vel_cov) * np.random.randn(3)\n",
    "noisy_ang_vel = ang_vel + np.sqrt(ang_vel_cov) * np.random.randn(3)\n",
    "\n",
    "# Create random initial pose.\n",
    "prior_cov = np.diag(np.array([1e-1, 1e-1, 1e-1, 1e0, 1e0, 1e0]))\n",
    "init_pose = gtsam.Pose3().expmap(np.linalg.cholesky(prior_cov) @ np.random.randn(6))\n",
    "\n",
    "# Create process and measurement noises.\n",
    "process_noise_pose = gtsam.noiseModel.Diagonal.Sigmas(np.array([1e-3, 1e-3, 1e-3, 1e-3, 1e-3, 1e-3]))\n",
    "process_noise_vel = gtsam.noiseModel.Diagonal.Sigmas(1e-1 * vel_cov)\n",
    "process_noise_ang_vel = gtsam.noiseModel.Diagonal.Sigmas(1e-1 * ang_vel_cov)\n",
    "meas_noise = gtsam.noiseModel.Diagonal.Sigmas(1e1 * np.array([1e-1, 1e-1, 1e-1, 1e-1, 1e-1, 1e-1]))\n",
    "\n",
    "# Create scenario.\n",
    "scenario = gtsam.ConstantTwistScenario(noisy_ang_vel, noisy_vel, init_pose)\n",
    "dt = 1e-1\n",
    "n_steps = 10\n",
    "\n",
    "# Create a factor graph\n",
    "graph = gtsam.NonlinearFactorGraph()\n",
    "initial_estimate = gtsam.Values()\n",
    "\n",
    "# Create ISAM.\n",
    "parameters = gtsam.ISAM2Params()\n",
    "isam = gtsam.ISAM2(parameters)\n",
    "\n",
    "# Create a prior on the initial position\n",
    "prior_noise = gtsam.noiseModel.Diagonal.Sigmas(np.diag(prior_cov))\n",
    "graph.push_back(gtsam.PriorFactorPose3(X(0), gtsam.Pose3(), prior_noise))\n",
    "\n",
    "# Create a prior on the initial velocity\n",
    "prior_velocity = gtsam.noiseModel.Diagonal.Sigmas(vel_cov)\n",
    "graph.push_back(gtsam.PriorFactorVector(V(0), vel, prior_velocity))\n",
    "\n",
    "# Create a prior on the initial angular velocity\n",
    "prior_angular_velocity = gtsam.noiseModel.Diagonal.Sigmas(ang_vel_cov)\n",
    "graph.push_back(gtsam.PriorFactorVector(W(0), ang_vel, prior_angular_velocity))\n",
    "\n",
    "# Initialize values with the prior.\n",
    "initial_estimate.insert(X(0), init_pose)\n",
    "initial_estimate.insert(V(0), vel)\n",
    "initial_estimate.insert(W(0), ang_vel)\n",
    "\n",
    "# Solve to check we can recover the prior.\n",
    "isam.update(graph, initial_estimate)\n",
    "result = isam.calculateEstimate()\n",
    "initial_estimate.clear()\n",
    "\n",
    "def add_factors(graph, initial_estimate, ii):\n",
    "    curr_time = ii * dt\n",
    "\n",
    "    # Simulate dynamics.\n",
    "    pose = scenario.pose(curr_time)\n",
    "\n",
    "    # Add a random measurement.\n",
    "    noisy_pose = pose.compose(gtsam.Pose3().expmap(np.sqrt(meas_noise.sigmas()) * np.random.randn(6)))\n",
    "\n",
    "    # Update the initial values.\n",
    "    initial_estimate.insert(X(ii), noisy_pose)\n",
    "    initial_estimate.insert(V(ii), result.atVector(V(ii-1)))\n",
    "    initial_estimate.insert(W(ii), result.atVector(W(ii-1)))\n",
    "\n",
    "    # Create a dynamics factor and add it to the graph.\n",
    "    dynamics_factor = PoseDynamicsFactor(process_noise_pose, X(ii-1), V(ii-1), W(ii-1), X(ii), dt)\n",
    "    graph.push_back(dynamics_factor)\n",
    "\n",
    "    # Create a constant velocity factor and add it to the graph.\n",
    "    velocity_factor = ConstantVelocityFactor(process_noise_vel, V(ii-1), V(ii))\n",
    "    graph.push_back(velocity_factor)\n",
    "\n",
    "    # Create a constant angular velocity factor and add it to the graph.\n",
    "    angular_velocity_factor = ConstantVelocityFactor(process_noise_ang_vel, W(ii-1), W(ii))\n",
    "    graph.push_back(angular_velocity_factor)\n",
    "\n",
    "    # Create a measurement factor and add it to the graph.\n",
    "    meas_factor = gtsam.PriorFactorPose3(X(ii), noisy_pose, meas_noise)\n",
    "    graph.push_back(meas_factor)\n",
    "\n",
    "# Run loop to simulate the scenario.\n",
    "for ii in range(1, n_steps):\n",
    "    \n",
    "    # Add new factors to graph\n",
    "    %time add_factors(graph, initial_estimate, ii)\n",
    "\n",
    "    # # Update the ISAM.\n",
    "    %time isam.update(graph, initial_estimate)\n",
    "    %time result = isam.calculateEstimate()\n",
    "    initial_estimate.clear()\n",
    "    \n"
   ]
  },
  {
   "cell_type": "code",
   "execution_count": 25,
   "metadata": {},
   "outputs": [
    {
     "ename": "NameError",
     "evalue": "name 'prior_cov' is not defined",
     "output_type": "error",
     "traceback": [
      "\u001b[0;31m---------------------------------------------------------------------------\u001b[0m",
      "\u001b[0;31mNameError\u001b[0m                                 Traceback (most recent call last)",
      "Cell \u001b[0;32mIn[25], line 12\u001b[0m\n\u001b[1;32m      8\u001b[0m new_timestamps \u001b[38;5;241m=\u001b[39m gtsam_unstable\u001b[38;5;241m.\u001b[39mFixedLagSmootherKeyTimestampMap()\n\u001b[1;32m     10\u001b[0m \u001b[38;5;66;03m# First setup the prior factors.\u001b[39;00m\n\u001b[1;32m     11\u001b[0m \u001b[38;5;66;03m# Create a prior on the initial position\u001b[39;00m\n\u001b[0;32m---> 12\u001b[0m prior_noise \u001b[38;5;241m=\u001b[39m gtsam\u001b[38;5;241m.\u001b[39mnoiseModel\u001b[38;5;241m.\u001b[39mDiagonal\u001b[38;5;241m.\u001b[39mSigmas(np\u001b[38;5;241m.\u001b[39mdiag(\u001b[43mprior_cov\u001b[49m))\n\u001b[1;32m     13\u001b[0m new_factors\u001b[38;5;241m.\u001b[39mpush_back(gtsam\u001b[38;5;241m.\u001b[39mPriorFactorPose3(X(\u001b[38;5;241m0\u001b[39m), gtsam\u001b[38;5;241m.\u001b[39mPose3(), prior_noise))\n\u001b[1;32m     15\u001b[0m \u001b[38;5;66;03m# Create a prior on the initial velocity\u001b[39;00m\n",
      "\u001b[0;31mNameError\u001b[0m: name 'prior_cov' is not defined"
     ]
    }
   ],
   "source": [
    "import gtsam_unstable\n",
    "\n",
    "n_steps = 500\n",
    "lag = 2.0\n",
    "smoother = gtsam_unstable.BatchFixedLagSmoother(lag)\n",
    "new_factors = gtsam.NonlinearFactorGraph()\n",
    "new_values = gtsam.Values()\n",
    "new_timestamps = gtsam_unstable.FixedLagSmootherKeyTimestampMap()\n",
    "\n",
    "# First setup the prior factors.\n",
    "# Create a prior on the initial position\n",
    "prior_noise = gtsam.noiseModel.Diagonal.Sigmas(np.diag(prior_cov))\n",
    "new_factors.push_back(gtsam.PriorFactorPose3(X(0), gtsam.Pose3(), prior_noise))\n",
    "\n",
    "# Create a prior on the initial velocity\n",
    "prior_velocity = gtsam.noiseModel.Diagonal.Sigmas(vel_cov)\n",
    "new_factors.push_back(gtsam.PriorFactorVector(V(0), vel, prior_velocity))\n",
    "\n",
    "# Create a prior on the initial angular velocity\n",
    "prior_angular_velocity = gtsam.noiseModel.Diagonal.Sigmas(ang_vel_cov)\n",
    "new_factors.push_back(gtsam.PriorFactorVector(W(0), ang_vel, prior_angular_velocity))\n",
    "\n",
    "# Initialize values with the prior.\n",
    "new_values.insert(X(0), gtsam.Pose3())\n",
    "new_values.insert(V(0), vel)\n",
    "new_values.insert(W(0), ang_vel)\n",
    "new_timestamps.insert((X(0), 0.0))\n",
    "new_timestamps.insert((V(0), 0.0))\n",
    "new_timestamps.insert((W(0), 0.0))\n",
    "\n",
    "pose_ests = []\n",
    "measurements = []\n",
    "\n",
    "for ii in range(1, n_steps):\n",
    "    curr_time = ii * dt\n",
    "\n",
    "    # Assign timestame to the current values.\n",
    "    new_timestamps.insert((X(ii), curr_time))\n",
    "    new_timestamps.insert((V(ii), curr_time))\n",
    "    new_timestamps.insert((W(ii), curr_time))\n",
    "\n",
    "    # Add new factors to graph\n",
    "    # Simulate dynamics.\n",
    "    pose = scenario.pose(curr_time)\n",
    "\n",
    "    # Add a random measurement.\n",
    "    noisy_pose = pose.compose(gtsam.Pose3().expmap(np.sqrt(meas_noise.sigmas()) * np.random.randn(6)))\n",
    "\n",
    "    # Update the initial values.\n",
    "    new_values.insert(X(ii), noisy_pose)\n",
    "    if ii > 1:\n",
    "        new_values.insert(V(ii), smoother.calculateEstimate().atVector(V(ii-1)))\n",
    "        new_values.insert(W(ii), smoother.calculateEstimate().atVector(W(ii-1)))\n",
    "    else:\n",
    "        new_values.insert(V(ii), vel)\n",
    "        new_values.insert(W(ii), ang_vel)\n",
    "\n",
    "    # Create a dynamics factor and add it to the graph.\n",
    "    dynamics_factor = PoseDynamicsFactor(process_noise_pose, X(ii-1), V(ii-1), W(ii-1), X(ii), dt)\n",
    "    new_factors.push_back(dynamics_factor)\n",
    "\n",
    "    # Create a constant velocity factor and add it to the graph.\n",
    "    velocity_factor = ConstantVelocityFactor(process_noise_vel, V(ii-1), V(ii))\n",
    "    new_factors.push_back(velocity_factor)\n",
    "\n",
    "    # Create a constant angular velocity factor and add it to the graph.\n",
    "    angular_velocity_factor = ConstantVelocityFactor(process_noise_ang_vel, W(ii-1), W(ii))\n",
    "    new_factors.push_back(angular_velocity_factor)\n",
    "\n",
    "    # Create a measurement factor and add it to the graph.\n",
    "    meas_factor = gtsam.PriorFactorPose3(X(ii), noisy_pose, meas_noise)\n",
    "    new_factors.push_back(meas_factor)\n",
    "\n",
    "    # Update the smoother.\n",
    "    %time smoother.update(new_factors, new_values, new_timestamps)\n",
    "    # %time smoother.calculateEstimate().atPose3(X(ii))\n",
    "    new_timestamps.clear()\n",
    "    new_factors.resize(0)\n",
    "    new_values.clear()\n",
    "\n",
    "    # Store the pose estimate.\n",
    "    pose_ests.append(smoother.calculateEstimate().atPose3(X(ii)))\n",
    "    measurements.append(noisy_pose)\n",
    "\n"
   ]
  },
  {
   "cell_type": "code",
   "execution_count": 70,
   "metadata": {},
   "outputs": [
    {
     "data": {
      "text/plain": [
       "[<mpl_toolkits.mplot3d.art3d.Line3D at 0x7fb0bcc60070>]"
      ]
     },
     "execution_count": 70,
     "metadata": {},
     "output_type": "execute_result"
    },
    {
     "data": {
      "application/vnd.jupyter.widget-view+json": {
       "model_id": "6c76fe3defbe451da408be6ad4e0328f",
       "version_major": 2,
       "version_minor": 0
      },
      "image/png": "[encoded data removed]",
      "text/html": [
       "\n",
       "            <div style=\"display: inline-block;\">\n",
       "                <div class=\"jupyter-widgets widget-label\" style=\"text-align: center;\">\n",
       "                    Figure\n",
       "                </div>\n",
       "                <img src='data:image/png;base64,iVBORw0KGgoAAAANSUhEUgAAAoAAAAHgCAYAAAA10dzkAAAAOXRFWHRTb2Z0d2FyZQBNYXRwbG90bGliIHZlcnNpb24zLjguMiwgaHR0cHM6Ly9tYXRwbG90bGliLm9yZy8g+/7EAAAACXBIWXMAAA9hAAAPYQGoP6dpAAEAAElEQVR4nOz9eXCkeX7f+b2fK+87cd9A3V3VZ/VZMxx6xKG1lERrFMG1ZIprUrYpriVaNinHahjhkLlSrKljzaCl1QbtkGmFLa1Ihy3KooY6OEPNsMnunu7p6UKdQKFQuI8E8j6ezOf2Hzn5NK6qwlVVQOP3iuggB0AmnspE4fnU9/f7fn+S53kegiAIgiAIwpkhv+gLEARBEARBEJ4vEQAFQRAEQRDOGBEABUEQBEEQzhgRAAVBEARBEM4YEQAFQRAEQRDOGBEABUEQBEEQzhgRAAVBEARBEM4YEQAFQRAEQRDOGBEABUEQBEEQzhgRAAVBEARBEM4YEQAFQRAEQRDOGBEABUEQBEEQzhgRAAVBEARBEM4YEQAFQRAEQRDOGBEABUEQBEEQzhgRAAVBEARBEM4YEQAFQRAEQRDOGBEABUEQBEEQzhgRAAVBEARBEM4YEQAFQRAEQRDOGBEABUEQBEEQzhgRAAVBEARBEM4YEQAFQRAEQRDOGBEABUEQBEEQzhgRAAVBEARBEM4YEQAFQRAEQRDOGBEABUEQBEEQzhgRAAVBEARBEM4YEQAFQRAEQRDOGBEABUEQBEEQzhgRAAVBEARBEM4YEQAFQRAEQRDOGBEABUEQBEEQzhgRAAVBEARBEM4YEQAFQRAEQRDOGBEABUEQBEEQzhgRAAVBEARBEM4YEQAFQRAEQRDOGBEABUEQBEEQzhgRAAVBEARBEM4YEQAFQRAEQRDOGBEABUEQBEEQzhgRAAVBEARBEM4YEQAFQRAEQRDOGBEABUEQBEEQzhgRAAVBEARBEM4YEQAFQRAEQRDOGBEABUEQBEEQzhgRAAVBEARBEM4YEQAFQRAEQRDOGBEABUEQBEEQzhgRAAVBEARBEM4YEQAFQRAEQRDOGBEABUEQBEEQzhgRAAVBEARBEM4YEQAFQRAEQRDOGBEABUEQBEEQzhgRAAVBEARBEM4YEQAFQRAEQRDOGBEABUEQBEEQzhgRAAVBEARBEM4YEQAFQRAEQRDOGBEABUEQBEEQzhgRAAVBEARBEM4YEQAFQRAEQRDOGBEABUEQBEEQzhgRAAVBEARBEM4YEQAFQRAEQRDOGBEABUEQBEEQzhgRAAVBEARBEM4YEQAFQRAEQRDOGBEABUEQBEEQzhgRAAVBEARBEM4YEQAFQRAEQRDOGBEABUEQBEEQzhgRAAVBEARBEM4YEQAFQRAEQRDOGBEABUEQBEEQzhgRAAVBEARBEM4YEQAFQRAEQRDOGBEABUEQBEEQzhgRAAVBEARBEM4YEQAFQRAEQRDOGBEABUEQBEEQzhj1RV+AIAiC53k4jgOAoihIkvSCr0gQBOGLTQRAQRBeKNd1sSyLZrOJ53nIsoymaSiKgqqqyLIsAqEgCMIxkzzP8170RQiCcPZ0qn62bfshsPPryHVdACRJ8gOhqqooiiICoSAIwjEQAVAQhOfO8zwsy/KXfSVJwjRN///vfE3nPxEIBUEQjpcIgIIgPFeu67K8vIymaaTTaSRJwvO8XQFwp8cFws5SsQiEgiAI+yf2AAqC8Fx0lnwty2J1dZVkMkkmk/E/3wmCjyNJkh/sFEXZFgYNw6DVaiHLMrIsi0AoCILwFCIACoLwzLmui23b/pKvLMtPDHv7sTUQwucVQsdxcBwHwzAwTRPLsshkMiIQCoIgbCECoCAIz0ynQtdp8OiEtqdV+w6j87yyLPvfu1QqkcvliEQi/uc7S8ad/7szSAqCIJwFIgAKgvBMeJ6HbdvYtg1sr9g9iwC4UycMSpKEpml+hdC2bSzL2hUIO6FQBEJBEM4CEQAFQTh2naqf4zjbqnIdzzNgdYLmXhXCxwXCzhzCzpKxIAjCF40IgIIgHJuds/0et9/ueVQAn+ZpgRDY1VAiAqEgCF8UIgAKgnAsds72e1KzxfMKgAepND4uEFqW5Y+oEYFQEIQvChEABUE4Mtd1MU3ziVW/rZ5nBfCw32evQNhZ2u5UCCVJEoFQEIRTSQRAQRAObetsv845vvupup2EJeCD6uwP7NhPIOx0GQuCIJw0IgAKgnAoB1ny3UmSJP80j53PeZyB6VmGrycFQtM0/erhXl3GgiAIL5oIgIIgHJhlWTQaDQKBwKEGK5+GJeCD2m8g3LlkLAKhIAgvgtisIgjCvnWqfsVikQ8++ODQp2qcxCaQZ/G9d1b/OmceNxoNarUa1WqVRqOBYRjYtn3qlsUFQTi9RAVQEIR96VSzXNf1A9xhA9Zp3AN4FFvPMIbPq5Kd5hnDMESFUBCE50oEQEEQnmjrUmany7dTzTqsL+IS8EE8KRCur6+zurrKtWvXRCAUBOGZEQFQEITHelyjx3EEuC/6EvBBbA2EkiRhmiayLON5HoZhbJtD2DmlRFXVQy/BC4IgiAAoCMKeth7ntjNoHDUAnrUl4IPaOn+wU23t/NdqtbZ9jaZpfoVQBEJBEPZLBEBBELbZz3FunerUYfcB7vUYXdeRZZlQKHToa9/LaQuae11vp+oKIhAKgnA8RAAUBMG339l+nY8dJQB2go7neTx8+JC5uTlc1yUajZJOp/3/VPXwv6ZOa/jZz0kq+wmEO7uQRSAUBKFDBEBBEAD8Ez32c5zb1gB4GJ0A2Gq1uHXrFoZh8NZbb6EoCtVqlVKpxOzsLLquk0gk/DCYTCa3zdr7IjrMa/q4QOi6LoZh0Gq1kGV5V1OJCISCcHaJACgIZ5znedi27c+h2+9Zvp3HHoYkSRiGwQcffEBXVxdvvPGGv/Tc09NDT08PAK1Wi1KpRKlU4v79+5imSTKZ9ANhIpF46tm7p20JGI5eudwaCAE/EDqOg+M4jx07IwKhIJwdIgAKwhnmui62bR/4OLfO1+x1nNt+vufGxgaVSoVr164xNDQE4J+nu1UoFKK/v5/+/n48z6PZbPqBcHl5Gdd1twXCeDy+q1nltHkWgbUTCDth+XGBsLNkvPUc49P4GgqC8HQiAArCGbR1tl9nH99BbvRbg8RBtFotJicn0XWdZDLph7/9kCSJSCRCJBJhcHAQz/NoNBp+IJyfn0eSpG37BztBR9jucYHQtm0sy/I/v9c5xiIQCsIXgwiAgnDGdCpps7OznDt37tBn+Xaea782Nja4ffs2vb29DAwMsLa2tudzHuQaYrEYsViM4eFhXNelVqtRKpXY3Nzk4cOHfrfy6uoq6XSacDh8oO/xIhzlhJXDOkgg7Mwh7CwZC4JwOokAKAhnSKfqZ5omjx494vz580ca47KfAOi6Lg8ePGBpaYmrV68yMDDA6urqrscetVInyzLJZJJkMsnY2Biu67K0tMTCwgJra2tMT08TDAa3VQiDweCRvucXlQiEgvDFJwKgIJwBO2f7dTppOx2/h7GfYc7NZpObN2/iui43btwgGo3u+7FHJcsy8XgcTdO4fv06tm1TqVQolUosLS1x7969bSNnUqkUmqY902vajxdRAXyapwXCDsuy/E5tEQgF4WQTAVAQvuD2mu3XcZgmjg5Zlp/4+Fwux507d+jr6+Py5cvbxrc8r5NAtgYpVVXJZrNks1mgHVbK5TLFYtEfOROPx7eNnDnKDMIvsr0CYbVaZXJykvfee8///M5zjEUgFISTQ/x2E4QvMNd1MU1z12y/o45x6TzHXo93XZfp6WlWVla4evUq/f39ez7+eTVnPO77aJpGd3c33d3dABiG4TeUTE9PYxjGrhmEzyPAnMQK4NNsDYSapm1rMupUCHcGwk6XsSAIL4YIgILwBdRZ8u10+e51li8crQK4VwDUdZ2bN28C8N577/lLvjudxEpQMBikr6+Pvr4+gG0jZ1ZXV7Ft2x85k8lkiMViJ/LP8aK4rrvtHxhbK75bA6FpmrsqhFu7jAVBeD5EABSEL5j9zPbr3ICPUoXrdNh2rK+vc+fOHQYGBrh8+fJTw9FRwud+HSVQhMNhwuEwAwMDeJ6HruuUSiWKxSKLi4sApFIpv0IYjUaPLcCcxiD0pMrlfgKhLMu7mkpO4+sgCKeFCICC8AVx0Nl+T9vD9zSSJOG6Lo7jMD09zerqKteuXfMraE977H4+dhyOY6lZkiSi0SjRaJShoSE8z/NHzhQKBWZnZ1EUZVuHcTgcPtSf6bTOLexUmvdjayDs/Hn3CoQ79xCKQCgIx0cEQEH4Ath6nBvsPgpsLzsreAclSRLNZpN79+4hyzI3btwgEons+7HPuwnkuJ83kUiQSCQYHR3FdV3/DONcLseDBw8IBAJ+GMxkMgcaOXMag87WJeCD2HqGMWwPhKZpPvbYOhEIBeFoRAAUhFOuUzlxHGdbZ+bTdCp4h+U4Dnfu3GFkZISLFy8eaD/c8wqAz4ssy6RSKVKpFOPj4ziOQ6VSoVgssry8zP3794lEIttGzgQCgT2f67S+LsfVvPK0QGiaJoAIhIJwRCIACsIptXO230FP9DjsErDjONy/fx/TNDl37hwXLlw48HPsFQBP8hLwQSmKQiaTIZPJAJ+PnCmVSszNzdFoNIjFYtsC4daRM6cxyBxkCfgg9gqEnf8MwxCBUBAOSQRAQTiF9prtd5ij1A4ajur1Ojdv3kRVVSKRCMlk8kCPP8r3Puz3OQl2jpwxTdPvMJ6ZmaHVavkzCDt7OE+bwy4BH9TW7Q2KouwKhFuXjDVN8wPhYf6OCMIXmQiAgnDKuK5LLpejUCgc+ig3OHgFcGVlhXv37jEyMsKFCxf46KOPDh1UvmhLwAcVCATo7e2lt7cXaI+c6VQINzc3cRyHzz77zK8QxuPxEz9y5kXNL3xSIGy1Wv7XiEAoCNuJACgIp8TW2X7NZpNCoXCo5deO/YYw27a5f/8+GxsbvPbaa34V6ygh7nGPfRah8DQEzc7Imf7+fubn5ymXy3R1dVEqlVhcXMTzvG0jZ2Kx2IkLLydlgPV+A2FnGLUIhMJZJQKgIJwCO5d8FUU58hy9/VQAa7Uak5OTaJrGl770JUKhkP+54w6AzyKoncYbemdA8tDQkD9ypl6v+0vGc3NzftNJJxBGIpEX/mc9yrnSz9LjAqHrun4glGWZer3uN+eIQCicBSIACsIJ16n6bW30OI4A+KQA53keKysr3L9/n7GxMc6dO7fr5v4sKoDC7kqaJEnE43Hi8TgjIyO4ruvPINzc3OThw4domrZtBuHWoP6irvuk2isQuq7Lp59+yjvvvEMgEECW5V1NJSIQCl80IgAKwgm1c7bf1hvQUYc4P+k5bNvm7t27FAoFXn/9dbq6ug70+P14ngHwixY0ZVkmmUySTCYZGxvzR86USiVWVlaYmpoiFAptC4SPGzlznJ5VF/CztjXUBQIBVFX1t1s4jrOrqWTrOcYiEAqnmQiAgnACdWb7dQLWzpvNcQTAveYAVqtVbt68SSgU4saNG0+sJD0pxNXMGmWjDEAymCQRSOz6mrPUBXwQB62k7Rw5Y9u231CysLDA3bt3iUaj20bOaJp27Nf9vLqAn4XO34POP7K2ztPsLBl3Ri51Pr9zD6EIhMJpIwKgIJwgW49ze9Jsv+OooG09CcTzPJaWlrg/dZ/hsWEunLuApjw+JNTMGhWnQtgMbwssnucxX51npjyDbusARNQI51PnGU+M+18nKoDPjqqqdHV1+ZVb0zT9QDg7O4uu6yQSCT8QJpPJbef0HtZpWQLey9YAuNPjAqFt21iWtS0Qbj3H+DRWQ4WzRQRAQTghDjLb7zgrgLZtc+fOHebyc8RGY6yEVthc32QoOsRoYhRV/vzXhOVYTJenWamt8EB/wEpxBSthcTl9mZAaomgUmSpNEZADDMWGAKiaVaZKUyQCCbrCXf73FvZ23EEqEAjQ09NDT08PAK1Wy28o6Qz0TiaTfiBMJBKHCi+nOQB2TtHZz/WLQCh8UYgAKAgnwNbj3Paz2fy49gA2m00++OADWloLdUzFVExicgzTNrlduE3TaXIte81/zGxllpnyDJlghu5AN6qiMledQ0Li1e5XyTfzmI5Jd7jbf0wikKBWr7HZ3NwWADs3zmcZGk5rIHmWQqEQ/f399Pf343kezWbTD4TLy8u4rrstEMbj8X29jqd1DyC0//4dtgr6tEAIe59SclpfK+GLQwRAQXiBDnuc21EDoOd56LrOxsYG586doxArsNncpDfSHkwc1aIErADLtWVG4iMkAgkMx2ClsUIykCSqRZEkiaAcJBlMst5Y51zyHLZr73n9iqRgu7b/vx+3rP0snMYl4OcVXCVJIhKJEIlEGBwcxPM8Go2GHwjn5+eRJIlUKkUmk3niyJnTvgfwuALZ4wKhZVmYpul/XgRC4UUTAVAQXpCjHOfW2b93mAqaZVncuXOHRqPB4OAgw+PDzK/ME9Ni274uqkUpm2V0SycRSGA5FqZj+g0dnSpeUAlSNauYrkkymMTDw3Ztf+nYcR1szyYdTGO79rYgeJqXDZ+VFxlYJUkiFosRi8UYHh7GdV3q9TrFYtEfOaOq6rYO43A47F/3aX0vn+UMw70CYafi36kQ7gyEnS5jQXiWRAAUhBdgr9l+B9G5mRx06apcLjM5OUk0GqW3t5dgMIgqqQSVIE27SUtuUWqVMFyDkBzC8zy/GSSkhohqURpWg6AS9ANgw24Q1sKE1TBxLc5AZICVxgphtR0MmnaTnnAPVbPKTHkG27OJylGqbvWZh51nfRNt2S0adgNVUokH4sjS8VWRTgJZlkkkEiQSCcbGxnBd1x85s7a2xvT0NMFgkHQ6TavVIhKJvOhLPpTO1ovnobM/sGNrINyrQri1y1gQjpMIgILwHHWqfg8ePGBkZIRAIHCoX+wHDYCe57GwsMDMzAznz59nbGyMe/futR8vKwxEB/jW4rdYa6xRsSqYtokneVxOXcbsNQFQZZXR+Ci38rfIN/MYnoFu6niWx9X0VT/wvdL9CtlwltXGKgDnEucoGSUelB8Q02IE5ACbrU3m7Xk29U364n1YlsXt27epVqv+UuNxza97FiHT9Vzmq/PM1+bRbR1VVukKdXE5fXlXJfWgTvKStSzL/nsD7ZEznUCYz+f9pePOe/isRs4ctxd5isl+AqEsy7uaSkQgFI5KBEBBeE46HbeO4/Do0SMGBgYIBoOHeq6tAfBpTNPkzp07VKtV3nzzTf/mvXUMTFAJUrfrFIwCmqyRCCTw8NAdncn8JIlggqgWZSQ+gizJLNQWWHVXCakhXs2+ykh8xP9+QSXIRHKCieQEAKVWiQeVB3SFugipofbysKSy4Wzwx6t/zOup11m6v0QsFuP8+fNUKhV/fl08HiedTpPJZA41ruRZ3STX9DXul+4T0SL0RfqwXIs1fQ3Hc7jefX1b5/RhnJabu6qqZLNZstkspmkSCARIJpOUSiUePXpEo9Hw38POyBlVPXm3nZN0jN1+A+F3vvMdZFnmJ3/yJ1/g1Qqn2cn7mygIXzBbf4F39kltDV+H0QkITwuApVKJyclJEokEN27c2FZR2zoIel1fJ6JEGIuPEdNiyLJMUAlSbBZZb6xTaBX8xo/h+DAD0QGixSiaojGeHH/iNei2juVahNQQlmPxqPqIDX2Dptvks9XPmHkww7tj7/LaldewbdsfV2KaJsVi0R9XYlmW352ayWT23Z163DzPY7m2jCqrJANJoB16e8I95Ft5SkZpWxf0YZ7/NPI8D03T6O7upru7/ec3DMOvCk5PT2MYxq4ZhCcheB2lC/hZ2xoIOz8bruvye7/3eyQSCREAhUMTAVAQnqGdjR5bN4QfpYu38zyPew7P85ibm2N2dpYLFy4wOjq6KyzJsuxfV9Np4uERVsPEAp8vYUqyhIOD5VrbHqvICmE1vK+woskaEhK2a1NoFdhobpDSUgSlIEpd4eq5q7QiLapWlYj0+R6yQCBAX18ffX19/riSTiBcXFwE8MNgpxlhr0B43IHK8RyaTpOQsv2UFE3WcD1312t1GKelArjVXl3AwWDQfw+BbSNnVldXsW17W6iPxWIvJBCepArgk2w9w1jXdfr7+1/wFQmnmQiAgvCMPGm233HN8dsr3Jimya1bt2g0Grz99tskk8k9H781QGaCGVRZpWE1/Cql7dp4bjsURtXono/vBMgnyYQydIW72GhukNfzSLbE7OosLi6vnnuVgewAK/UVKkaFSGjvJoKt40qGhoa2dafmcjkePHjgNyN0AuFh91c+Tafyt6avEQ/E/Y8bjoEqqbuC4UGd1m7a/Vx3OBwmHA4zMDDgjyLqBMLFxUU8z9vWYRyNRp/La3FaAuBWjUaDaHT330tB2C8RAAXhmO1ntp+iKPsKT0+yV4gsFotMTk6SSqW4cePGEzfgbw2Qg7FBBmOD3CvcY6W+giqr5Jt5XFzSwTQNq4HlWGiKRt2s03Ja6K6O6j79V4gqq1zLXuNe4R63V2+ztLHEUHqIkBWiN9aeO+hxsCrdzu5Ux3F2nX8bi8VIJNojaxzHOdYlvqHYEJutTTaaG8S1OJZrUTWrjMRGSAVTR37+0xoADxKiJEkiGo0SjUYZGhrC8zw/1BcKBWZnZ1EUZdfImWfx2jzPLuDj0mg0iMWO1nAknG0iAArCMdrvbL/jqgB2nsPzPB49esSjR4+4ePEiIyMjBzpNJBVMcaP/BslAkqnSFLPlWSzXYiwxRiKU4HbhNvlWnqAcZKO5QdNuUqqWiHtxLtgXCKlPrnrF1BiBQoBwOcxg9yCX+i6xVltDQqJqVgkpoSMFJ0VR/GYEaFdBO52pAH/0R39EMpn0q4OJROJIQaI73M0r2VdYqC5Qtaqoksql9CXG4mPHNgrmtDnqIGhJkojH48TjcUZHR3Fdl2q1SqlU8qu8gUDAD4OZTObQTVR7XbsIgMJZIwKgIBwT13UxTXNfs/2OMwAahsGtW7doNptPXPLdqTPHryMdSvPlwS+TDqWpmtX23j1Jas8FbMX4je/+WxxH5b/66pcYiA1glkxWG6tMl6Z5tfvVx34fXdf5k0//hEetR/SN95G38twt3CVv50lWkvTEe7iYutgeNm0dff8ctPcP9vb2kkqlyOVyvP3225TLZYrF4rb9g50gcZjKUl+kj55wDy2nhSIpBJXjCSOnuQnkOKtzsiyTSqVIpVKMj4/jOI4/cmZlZYX79+8TiUT89zGVSh16bNBJbgJ5HF3XxRKwcCQiAArCEXWWfDtdvs/zLN/OYOd0Os3rr79+oBEbO6/B9VzyzTx/tPxHbOqbTCQnCCgB5ktF/tXkXTyphmP08M8+esRPvRUnZ+SwbIv56jznkue2NY8ANKwGk4uTfDL1CY1Qg67eLkbTo5yTz1FsFvnDtT9EkzTe7H2TrlDXMw0+4XCYaDTqH3dWq9X80y1mZmYIBAJ+dTCTyew7SMiSTEQ9/uHHp3UJ+Flet6IoZDIZMpkM0J5B2An1c3NzfkVsayDc79+H01YB7BzZJyqAwlGIACgIR7B1th/s/zi3o+4B7Cw1P3z4kCtXrjA0NHTgm+/WJhDDMbhXuMdUaYrp8jS2Z7PR3CAb7OXb93Rc1yYYadGyWjwoTfOoNITstKhYFWYqM7zW/dq2AKhbOt+8+U1m1mcYHhjG8AzKZpmF6gLnkufojnQzGhglokYIKaFd1cjj8rgzh3fuH6xUKhSLRZaWlrh3754fJDrzB5/n7LrTXAF8niFKVVW6urro6uoCPl/2L5VKzMzM0Gq1ds0gfFyVz3GcEzmf8Enq9TrxePzpXygIj3G6fuIF4YTYa7bfQQLYUSqArVaLW7duYds2Fy5cYHh4+MDP4XntIc8lq0TVrLJSW2GhtkBICdEb6aVqVim2irw/U6TYiIIKb40m+eihjmUkSAbS4NUxZRPLscg384wmRoH2jfgPPv4D5mpzfPnal5ECEvV8HU3WWGmsIEsy6VAax3NwPRfXO1ol9Kh2VpZM0/QrS53ZdTvnDz7LoHNau4CPugfwqDrL/r297caiVqvlB8LOHMnODMKd7+NpqwBCewlYVACFoxABUBAOyPM8bNvGtm2AA4c/OHwAzOfz3Lp1i66uLhKJxFM3wduuTctuEVACBJT2sqbhGEwVp7hXusdaYw1z2WRT32QgPoCERESNEJADfHPqAYVGHUlLI0keL2Uu86F3B0mycVwLw9ExHINzsXNUzAq2a1Or1JicnERXda5evEo0EsX1XMJamIXqAqVWiYbVIB1MM2vNMuAOAFA2yoTkvRtJPM/DwztSc8VBqmqBQICenh5/IPXW+YNLS0v+qJLOknEkEjmVge24Pe8K4NOEQiH6+/vp7+/350h2AuHy8jKu65JKpUin05imearCVGcJWOwBFI5CBEBBOADHcWg2m/4w58Pe8A4aAF3X5eHDhywsLHDlyhUGBwf55JNPHvscrueyWFtkobaAbukElAAjsRHGk+PMlGeYq84R1aLcmP1tmrk4N0ffQlM1LqQu0DQV/tXtaZqmjCQH8ZwIP3HlAj869A7/t/dzeDjYGKiySl+gj+5wd/t4uIUFHj18xIULF0hH0iw22s0WsiQTVaNUzSqGYxCQA+0Q7dnM1eb47vJ3kWWZsBJmKDTEWHIMSZIwHZOV+gqr+iq2Z9Md6mYkPnKgs3aPI5iFw2EGBwf9/YOdUSWbm5s8fPgQTdO2BcLj6Ew9jYHyJFcut86R3Po+dgJhqVSiUqlQrVb9JeOTHOybzSau64olYOFIRAAUhH3oNHoYhsG3v/1tvvrVrx5pz9DWUzieptVqMTk5iWVZvPvuu/4v/SeFyMXaIrfztwkqQRKBBC27xd3iXWpmjXwrTyqYwmnViTTXCDXX6L76P2GltkKjqfA7n87hyC1krQFI/MTlYf437/5n9ER6+Lv/2Y9SNWuMJrupV6psmpvUzTrWusVic9E/azin51iqL7HSWEGRFNYb60TVKJlQht5IL8lAkpyao2SWcDyHnlAPVaPK3dJdglqQ3kgv94r3WKwvElEjKLLCw8pDSkaJ17peI6q9mMrHzlElWztTO/sHo9GoHwYP0ojQcVr3AL7oJeCD2Po+joyM8IMf/IBUKoUsy36wV1V1W6d4KHS0Ad/HqdFoAJyqqqVw8ogAKAhPsXW2337P4H0aRVH29Rybm5vcunWLnp4erly5si1MPC4A2q7NYm2RoBIkE2rvawsqQRRJYbG+iOu59Af6MfRHAEjBBMPJC8yvfMS/fvBHWE4IyUnjOXHeGx7hR86NElSCBJUgN4Ze5XbhNiWzQMWoUDSLuAsulxOXefNLb/rds5lgBkVSuJ2/jWEb5Jo5AnKAdzLvcDF9sb1kjE1aSxNQAqiySjqUpmk2WaovoUoqq/oqPeEef+k6rsVZbazysPKQuBanYTeIqlF6Ij1PrQo+q1C1df/guXPnsCyLUqlEsVj0GxESiYT/NfvdP3hagtRWJ20J+CA8zyMajdLb2+s3BnVmEK6trTE9PU0oFNo2lPqwI2eOQ6PRaFfNw+EXdg3C6ScCoCA8wc7Zfp3/nsUpHju/78zMDIuLi7z00ksMDg7u+Rx7BRvDMdAtfVcoimgRikYRRVKoW3XCeg4ALz4AqHzyEGp6EDwVz1O4mDnH/+rtN1nX19lobtAT6aEn0sN72nsUWgWmylOE7BCvnn+VSxcubQst6/o6pmdyvec6juewWl9lub5MzazRtJvYjo3lWWiSRlj9/CYWUkM07SZVs4rruX74g/ZSsuM5fJz7mN5IL5qstcNufZGXsy+TDWV3vRbPO0hpmrZr/2AnEHb2nW2tKu21zHhaK4AneQn4aXaeBLL1BBL4fOTM1pNmotHotpEzTzp157h19v+d1tdbOBlEABSEPTxptt9+q3dPIsvyY4ceN5tNJicnsW2b995777HLPI8LkQE5QEgN0XJa207oaNktomqUwdggj6qPsGoLqJJEPdbFP/v4Aav5BJGYyevDKeJBmWsDIQqtAhLtc4E7gnKQykIFitAf6+fyxcu7rmG1sYomaX4FMqbF8PBYqi+RDCbRZA0Dg4SW2BZUm3aTnki76ud53rZQ4XouK/X2kvJgdNAfHZNr5nhYfki6N/3YRpEXFap2nn2786gzVVW3zR88rpMtXoTTtAS809O6gHeOnOlUekulErOzs+i67o+c6YwOepaDpev1ugiAwpGJACgIOzztOLfjqgDu9RwbGxvcvn2b3t5erly58sSbyM4A2AlLmqIxGBvkbuGu34DRclqUjBITiQleyr5EPBBnvvnPaUoSM9UYt5YzaKEc71yQeLk7RVAN0rSbzJRmSAaTvNb9GtAePXHz5k0kSeLKlSssLCzseW2O66DIn197WA1zKX0J0zWRJZmeSA/ng+cJykF0WycgB6gaVaB9zm5cixPTYuRbebKhLLIkU2gVaNgNrmau+u+HJEmkg2nKZpm6VScRSBz4vXhe9to/WK1WKRaL/skW0WjUD1K2bZ+q2XSnuQJ40DEwOyu9hmFsGzljmqY/Oqhz9OBxLo+LU0CE43B6frsIwnPQqfo96Ti346gA7nwO13WZnp5meXmZa9eu0d/f/9Tn6ATAQqvAUm2JslEmokYYig0xFh/DcR2W6ktsNDcIKkHOJc9xMX0RWZIZTYwyVK9As8XvlgdBs/gzrysMZvqp23Vc2tdWMSskg0m6w91sbGxw69YtBgYGuHz5MoVCYVdlzXZtCq0Cruey2dwkFUhtC4Kj8VHe7XuXTCiD9chCi2u03BZNu0lEjXAhcYHecC+SJPFS5iXul+6zpq8B7YDRH+knHUzv+3U+yYFk5zJjp6o0OztLoVDg/fff3za37rhDxHE7zXsAj3oUXDAYpK+vj76+vj1HzjiO44+cSafTxOPxI/1sNhqNE92lLJwOIgAKArtn+z3pRI/j3gOo6zqTk5N4nseNGzf2/S97SZIoGAUWcgu0nPby7mZzk5ye42r2KpczlxmJj9ByWgTkwPaTOkwHI79BHFgMG/z4yxXC0SKOm0SWZFRZJaSG6Ip0EVNjzMzMsL68vi2c7jy9o2yUuVe4R6FVoGW3yDfzlFolxhPjSJKE4zlMJCdIh9JIkkRACnAxcZF4Jo7t2gTlIK79+TJip1u4YLQbThRJYaWxQqlVIhT9/PSQUqtEV7jriY0g+1kC9jyPmlXD8RxiWgxNfn57uuDzqlIulyOZTNLd3e2HiNu3b/tz6zpLxidtCfAsVQCfZK+RM41Gw38vO1XzrYHwoO9lvV4XHcDCkYkAKJx5nRM9OoHsaYOdj2sPoOu6rK+vc+fOHQYGBrh06dLBqhASLOvLRGIRBqLtgcpJklSMCnPVOfqj/US0CBFt+1m1uarB//pf3uRfWGVmghpvXU3z0sQwM9UWCS1Bw274S8ePSo8o5AtMaBN8+dqXSXR9vsS6NQDars294j3yrTy94V4UWSETyjBbmcVwDEYTo/RF++iP9Pv79DqvcacJxHVdTMxt1+rhkdNz5PQcjutguAZVs0rTbRJVo9ieTVJLcj55/kiDomtmjQflB+RbeT8ATiQm/L2Gz5skSbv2DzYajV37B7fOH3yRY0p27tc8bZ7lSSCSJBGLxYjFYgwPD/tnUZdKpV3vZee/p3X3inOAheMgAqBwZm09zu1JS747HfUc345arcadO3e4du0afX19B368jU3VqtIX2P7YeCDOWmOt3emrbr+R3F+r8fXf/B4ActjgZjCEFS3wJ+sblM0yqqQyGh9lqbaE7MqsFlaJBqKsplf57uZ3uWBd4OWul+mN9G6rYpaNMsVmke5wt7/kmwwmGU+OE1ACvNb9Gqq8/deNJEk4rkPZKON4DhElgsTnr7/necxUZliuL9MT7sHDY7m+zLq+TsyMcS51jouJi2TDWfKtPFOlKQJKgL5IH/3RfhRJ2df7abkWd4t32Wxt0hXqQpEUqmaVO8U7BOQAPZGeA783x21riBgZGcF1XX/+4MrKClNTU4TDYT8MptPpF3J+8WlcAu78Hnhe1771LOrR0dFt72Vn5EwwGNwWCHc2B4lTQITjIAKgcCY9rdHjSY66BNxoNHj06BG2bfOlL32JSCTy9AftQVM0FEnB9uxtH7ddG0VWUKXtf72/PbXJX/uXk/7/XlEVPgkHMVoFstEBAkqAlfoKk/lJPMsjbsbpTfdyrf8ajufQclqUW2XuF+8jIVExKtSdenv53LVxcHZ9T03WqJk16ladVDC17XNNt8lkcRK35eK4DhE1wmh0lOHYMJIk0bAb5PQcmVAGSZKYLc9SNIrEtTiu56JbOuvNddb1dapWlYgaoWbV2v/brHIlfcX/Xk9aAi60CuRbefoifShSO7xmQhlyeo6VxspzD4D7Wa6WZdkPBxMTE1iW5Z9fPDs7S7PZJB6P+4EwmUw+04CztXp+2nSu/Vl27T7J1vcS2vuQOyNnOsPFI5GIfzpJMBh8bgHwn/yTf8I//If/kPX1dV599VX+8T/+x7z99tvP/PsKz4cIgMKZ06n6dWZ/HfSmdZQl4LW1Ne7evUsmk0HX9UOHP4CgGiSjZKiYFUJKiIASwHEd8q08PeEevyPW8zx+4V/c5LszhS2PtrkdCGIgkVA/XyYOJ8J8tPwRaSnNS6MvEQ1H0RQNDY2aVUNVVO4W7rLeWAcLllvLDG4OMpIYIayEqVt14oH2SSU1s8btwm0CUoDvSd+jN9rL+eR5YoEYpmMyb86jtTTGEmM0rAbrjXVWq6so/QqD8UFs18Z2bQJygJJRomgUyYayuJ5Lw2rQHe5mpjKDKqlcy17zl4CbdnuYdH+0n1Qg9dTX0XRMPDw//PmvrxKkYTcO/f4cxUF/JjVNo7u7m+7ubqB9ekxn/uDq6iq2bW+bP3jc+wc7ofU0B8CTUr1UFIVsNks2255r2Qn3pVKJ3//93+dv/a2/RTKZZHh4mH/37/4dP/IjP/JMloN/53d+h1/+5V/mN3/zN3nnnXf4jd/4Df70n/7TTE9P+93PwukmAqBwZnRm+9m2faAl350OUwF0HIepqSnW19d5+eWXURSF+/fvH/h777yOPq0PNa6y1ljD9do3sq5QF1cyV1BkBctx+Yl//CFLpeYPH+UhBTaRA5t8EIxgSQ6NVhVHCyHZMjPrm3iKwlDvEPHI5+eMep6HhERez7PR3GA4NkwqkCIv5ZmvzaNICqOJUaZL07ScFp7ncbtwG9dzmeiaIKSGWKi2zyW+3nudUqtEzakxrA7zqPqIilkBD0rNEh4efz785wmrYSJqhLpVp2E1UCQFWZJpWA1CSsj/XDKQ3Lb/L6yGKRrFdtVxHwEwpIT8WYdbl6mbdpOucNeR3qPDOI6ZhaFQiP7+fvr7+7ftHyyVSszNzSHL8rb5g0fdP3ial4BPWgDcaWu4v3jxIj/xEz/BX/2rf5VarcYv/uIvsri4yLvvvsu3v/3tYz2d5Nd//df5+Z//ef7KX/krAPzmb/4m3/zmN/mt3/otvvGNbxzb9xFeHBEAhTPB8zxKpZI/n+uw4Q8OXgGs1+tMTk4iyzI3btwgHA5TLBaPpZFEQeH17tcZjY/StJtoskY2lEVTNBqGzRv/p+9se4ykFVFCS+CpBJ0gqtrAajZY02s82PBw3TCpeJpsJIvsySw3lkkFUpiuSUSLUDJKpANp0uE0mKChkQlmWNfXeafvHSJqhKX6EnPlOcJqmKuZqySDSaAdzNYaa2w2N3FcBw+P9eY6dsAmHUqjoCA5Eiv6Co+qj7iaucpofJS7pbvUrBotu0XFqODiMhIdQZEVJCRktt+4Pc/Dc9sdvUv1JYpOkU19kzhxIlpkV3dvJpShN9zLenOdVCCFKqtUzAoBJcBgdPcJLM/DcVbS9to/2Jk/2NlzFg6H/TB4mFMtTnMFsHPE42m59pGREUZGRrh06RK/+qu/yvz8PJ9++umxhj/TNPn000/5lV/5Ff9jsizzta99jQ8//PDYvo/wYokAKHzhdWb7ra2tUa/Xee211470fAdpAlldXeXu3buMjIxw4cIFv8qwV4hs2S3KRhloN1DsbODYqdOEIUvyrkqV67n8zmdTSFqxfbSbHQUk5MAmXz7Xw/vTJhi9JAIPmSluMGNHca0uZLWB6vUzEhthqjTFqr7KfG2eqBqlP9qPh8dEcoKwEqZJk4bToNgqUjJKXDAuMBYfYyg2hCqpZFoZP/wBfpWuZbcIKkFKTgmzYTIcHvZDnI1Nd6ibnJ7jXOIcI/ERNEVjqjhFyWhXB0djo3iex2ebn2G7Nk27Sd2sEwvE8DyPzeYmFavCTHkG27X5xPiEhbkFBuODDEQHdnX3qrLK1exVQpUQG/oGTadJOpBmLDG25/Fyz9qzPrVElmVSqRSpVApoH3O29VSLzv7BradaPK06dtr3AJ7U6t/j1Ot1f/vI2NgYY2Njx/r8+Xwex3Ho7e3d9vHe3l6mpqaO9XsJL44IgMIX1tbZfp7noarqkatusL8lYMdxuHfvHhsbG7z66qu79szsfI7l2jLT5WnqVh0Pj7gW52LqIsPx4b2f33Vouk2adnPX5wzH4G7hLuHEEu9dKfJgo8GPjE1g6L1MDA/wykCWd0Zs/uRbE/y55l3cQIVZtQ6eimv28Itv/RmiwTqvdL/CNe8aVaOK4RiYrklcixMPtJswVvQVlu1lWqUWsiRzO38by7G4kLpATIu19wlu4XkehmtQaBWoW3XqTp1cI4elWGTCGaJqFE3W6A334ngOjucgSzKD0UH6I/0MRAf4ZOMTPlj7gJpdIx1KMxYbo+W0uFe6R1+0DxkZ02mfNpIJZliuL7efB5mKWSGuxblduI0iK/RHPh+2HVEjvJx9mWayieM5hNXwrj2Bz9PzDFKqqm7bP2gYhr9cfPfuXWzb3jZ/MBaL7Xl+8WkLUR2nMQCKMTDCcRABUPhCcl0X27a3dfmqqnos41sURcE0zcd+vl6vc/PmTTRN40tf+tKe+6t2jlC5W7iLJEl+KKkYFe4W7hLTYqRD20++WG+sM1uZZam4RL6RJ5PPcD513q8YPio/YqG2wEiqh7/+5UEs12JD36AvomC4XeiWzmBI4uLEBUaWJbqaRe5KSWYbN8gERrnWO8CHq59yrWe8/Q1/uBUwp+eAdsCcq8yxUF/AcR2CcpBMKEPDavDx+sfEtBh90T6W68tsNjdJB9PUrTpTxSkMx2CxukhYDTMRmiAoBTElk43mBiPREc4lzuHiktJShNUwnudhuma7OmqW2/v0FJWBYLtrOabFuJC8wIPKAyJqhJHYCJvNTXRbx/EcSkaJuBInG8xSdauosoqHx0p9hb5w364g87Sq6/Pwos4t7ggGg7v2D3YaSjr7B7fOHwyHw6d+BuCL6gA+LF3Xn2kA7OrqQlEUcrncto/ncrlDjawSTiYRAIUvlK2z/To3pc6N6bjm9z2pAri8vMz9+/cZHR3l/Pnzj60sdAKg53ls6pu0nBaDsc/3m6VDaRZri8xV59AUjaja7trMN/Pc3LyJ67kkAglKXonZyiwtu8XrPa/jeA6r+irJQJKg0p4d1tkXWDSKDEWHuD93n0a5wSsvXeF7uZcZcW/xXxqTfMP4KQqGx9d/80Pk8CJ//8/105f8PLx2qmqDsUHeX30fy7VQJAUXl4pRoWpWKRpFAkqAPzv+Z3m562UelB+wUl9hvjaPhMRAdIDlxjKWa1Fza5xLnqOu1akZNQqFAh8ufYiqqryUfYmAEcAJOlSsCpvNTcpmmXQwTXe4m2woi+VarOlr1MwaG80NDMcAIN/MkwllMF0TF7e9t/CHPwOu5/rNI463e2zNSXFSwtTOIcad/YNbZ9aFQiFisZg/Wumg+wdftNNaAXyWY2ACgQDXr1/n29/+Nl//+teB9uv07W9/m1/8xV98Zt9XeL5O5m8/QTiEnbP9dm7sPq4AuNf+Pdu2uXfvHvl8ntdff52urid3j3ZuOJ0K185TLIqtIgvVBTabm+SbebrD3VxIX2C5vozlWfRH+qlYFYJSkN5IL+v6OiWjRESNYDs2UW37zSGgBNBrOstLy2TtLCOXR3AUh7Xsm7y9fJfr9hIN9Z/zf7R/Ds+JgKfwyWKOn3x5FGgvORuOQW+0l6H4EFfSV1A8he+tfo+aWUORFFRZRZIkNvQN5qpzXMteoyvUxb3iPVpOi3PJc1TMChvNDbLBLBvuBrIncyF+gQ/WPqBgFTjXf46YFGO1ucrH9z8m6AQZT4yzKW+iyzotu+UPmtZkjXwrT0WuEFNj9EZ6iapRFqwFqmaVi6n2uccO7WtXJIWwGka39fbA6he4xPskL7oC+CRb9w+Oj49j2zblcpn19XU8z+P999/fNX/wpFfXTlsA7FRl4/H407/4CH75l3+Zn/3Zn+XNN9/k7bff5jd+4zdoNBp+V7Bw+okAKHwh7Ge233EGwK3PU6vVuHnzJsFgkBs3buxrpEbnpug4DolAor3nzXVQZIWKWeF+8T65Zo4xZYyKUaHUKtG023v+wkp7mbJTRdRkDddzadpNMsEM8UCcslEmpH5+HSv5FZYWlvjK8Fd49eqr2LSbJ+QumW/lYnzJ+jV+Vv0DFFz+jv0z2GYX/59bM1zsl8lEQxiOQX+kn75Ie/mnO9LN99e/z7q9zoA9QESL0DAb1OwamUCGtcYaF1IXCCpBFFkhGUiiyioRNUJQCdJ0m+DBSm2F3EYOQnC++zzXu68TVsMsN5bRQzoxOUZGzVAuldHLOhUqBIIBSEA4FKZhNegN9xJQAiQCCcJqmJHYCLPVWQqtApqkUXALhFohxpJjmE576X4oNnRiqmynmaqqdHV1oWkalUqFN998018uvnfvHrZtk0wmyWQyZDKZPfcPvmid3xmnyfPYA/gX/+JfZHNzk7/9t/826+vrvPbaa/z7f//vdzWGCKeXCIDCqXaQ2X7HuQTcWb5dXl5mamqKsbExzp8/f6DTRKAdXHsiPfRGelnVV4lrcWbKM0yXpokFYuiOTqvRIqSGsCoWPZGedogJfr5M6LjtZolO2BpPjnNz8ybrjXUiWoSFlQVymzm+cvErvHz+ZZpuk5ASIhVMEVbC/NxP/895eDPIue//1/yM+m3ekB/yq8bPYA+8zuWuLhzPoSfSQ1+kzw+VvZFeNFVDl3QUFGzHxpM8+sJ9tNwWNbPmV7LCStg/rSSshsmGstzM3+RO7Q6qp5KNZzE9k2qj2m4CifRSNar++JlgIsjV5FW0skZVrxJwAuQreTbXN6lJNSKxCH2ZPmJK+4aYDCYZig0xHBumbJTJKTkGogPEg3EiaoSxxBi94ZN7EzuN++lc10WSJILBIH19ffT19eF5Hrqu+w0l8/Pz2069yGQyTz3z9nld+2kLgM96D2DHL/7iL4ol3y8wEQCFU+ugx7kdZwXQtm0mJycplUq88cYb/tT+/fL3pLkuYSXMq12vkqqlyDVyrDXWiKpRLqcuE1Tb+/hKRol1fZ0LqQvkW3mKrSIqKi2nxbq+Tk+kxx9Z0jkH91HpEbce3EKyJH7yzZ+kKTX53dnfxXRMuiJdXEpdAgkCioT0zv+Sb0y2+K/Mf8JL8gL/7+B/Q1l+k5X5P02572V0LUbTbvoBUJVVekI9xIlTN+tEg1G6wl10h7pZqC0QUkL+HsRsOIuHx73iPZLBJIVmgdncLI7r0BXpwlVdTMuk7tXJyTks28LyLAJqALz2UW0S7XODdU+nN9XLYPcgA60BlivLeJbH0sYS+bU8vbFepLBEKpHiauYqASWA9FDi6uBVguEgETWy60xi4ej26gKWJIloNEo0GvX3D9ZqNYrFIuvr6zx48IBgMOhXB9Pp9AvZP3jamkBc1xVnAQvHQvwmFE4l13UxTfNAJ3ocVwBstVrU63UCgQA3btzYdVD7fkiStK2ZJKJFuJK5wkh8hAflB1TMih/+AGJajGKrSEyLMRAbYLYyS17Pozs6g7FBLqcvbws2ATNA80GTN5JvcPXqVb67+l0+2fgERVbQJI11fb1dIXQieJ7HX/6t77NUe4Vv8w/4G+q/4s+E/oibxbtUPr5HyINcapiV9EVe7n+T/oF3sdLjFM1iexCzLKPbOqv1VapmlagaZSwxhiRJtOwWD8sPaVpNcnqOm+s3eZR/hCRJ9IX7cCWXzVoVVQXLs/CaHjEthiu1G0t0W8dy22Ew38zjei4hJcTl9GU29A00RaPQKiBLMpZjkXfyBJtBtIrGR2sfkU6n8TwPxVH8o/FOutNYAdzPNcuyTDKZJJlMbts/2Dmd5M6dO7vmDz6PYHbaKoC6ruN53jPfAyh88YkAKJwqnSXfTpfvQU70kGXZ7xI+zC98z/NYWlpienoaRVF48803j3Sj3quZRJEUsuEsdatOxagQ1aI4nkPFqBDTYmTCGfqj/fRGeslH86jzKtd7rvvX4XkeCwsLzMzMcOHCBUZHR5mrzjFZmCQdSpMOtkfK1MwahVaBklWibjTJ1X7YQUuSv23/HD0/+T+jsfAf6Fv+lEB1CQrzbJSXmJv9AwaaLYqqiptIcVUJE3HSWFqcmhZAVwOMd7/OWKjdBDNbmWWpvsRYYoyMl2FxYRFVU4mFYwSsEDdLi7QcA4UQF7tSWK7Fsr5MVI0S1aL+8W8FvUDLsTCtIP/+4R3en1vhxtggL2dfpmAU2NA32svOeHzlwle4mLpIo96gUCiwubnJ5OQk4XDYrzalUilU9eT++jttAbCzBHwQnf2DnYYpwzD8gdT379/HsiySyaQfCOPx+DN5XU7bHkBd1wHEHEDhyE7ub0BB2GGv2X4HuSF0bviH+YVvWRZ37tyhXC5z5coVZmZmjnwz2joLsCOoBJlITFAzaziuQ82qISMTVINMJCfo+mGwCigBMuEMIam9JGu7NpVmhampKYyKwZtvvkk63Q57S/UlTMckHUxTNspISETUCA2rQdWtYnsG/+KvXOdf3VzjX36yDLLJ//ab03juJRz3Mu8NWXy9vwyb85SayxSlFXJOnW5DJyE1WbeqAGQkCCFzaeo7xL7191iO93CrexQlNc5q5Bq5qkMy0z4ZZLNeZ2qzSNOTkCQFG5u7ay16olmGh5LIisyl1CU0WWOjXuXjXIHplSB4GpKqI6mzpCMKl9Ln6Qn30BVq71XM6TkSwQSKrJBIJEgkEiwuLvLaa69hmibFYpGZmRlarda25oRnFS7OiuOoWu61f7DTULKwsIAkSbvmDx7He3baKoCNRgNVVQ+18iAIW4kAKJx4T5rtdxCdX/KO4xxor1GlUuHmzZtEo1G+9KUvYRjGsZ0osvN5JEliIjlB1aqS1/MkvASu55IKpnil6xU0Rdv2eIDV+ip3c3e5O3uXgBbg9QuvI0dkbNdmpb7C/fx95ivzrDZW26dtKBpBJYjjOYTkECoqE70K/8WXNQZ6FP71ZJWFqglKEzlY5+OSycclgDiefJ7/PvST/PWvdJPLrbLxIMdo2kEy86jNInGvRDRQ4lMJFrwGC5UZAuUHJJ3/QDI8zG8bWaqqgySbeJ6EpraIBD1qlolrh1kvRKhlA0SVOInsAP92eprvLS1ie4DX+bNLeHaUaMigbtVJBVP+GB1JknaN1JEkCUVRtp120Ww2KRaLFItFFhcXAfwwmMlk9tXJ/ayc5DEwj3PcJ4Fs3T84NDS0bf9gLpfz9w9uDYSHPQv3tAXAzjFwp+mahZNJBEDhRPM8j3q9Tr1eJ5VKHenQ9k7FcL/7ALcup547d47x8XEkSdpWhTyKvQIgtLtY3+x5k5yeo2pWCatheiO9pIKpXY+vu3W+8+A7rKytMNE3QV9/H3kjz2R+kpgaY6m+hO3ZtNwWekuHEPRpfdTMGlWzygUu8P3898kV2hP/e9I9/MKfinB7I8DtjSXuLmh4ThA5sI4cWsfzZPJNmf/2jxfQrSZOcxyvlAQugdxCkg3+4dffw7CWSVXLhB/+IWZrmZaXZ95e4bq6xhTdrMshgpqBrBhYSKiahOeWcD2JP5rtwqkN8G8+zKNEi8iaQU8sSm8swa3VDcDhaxcmcKRCeyyOGsZ0TKpWlWQgSSaY2fO93CocDjM4OMjg4OC2cNEZbvyil4tPWzXyMEvAB7Fz/6DjOJTLZb86ePfuXWKxmB8GU6nUvvcPnrYmkHq9LpZ/hWMhAqBwYnWqfvl8noWFBd57770jP+de++72Ypomd+7coVqtbltOhaPvJdzPtUS1KBPJiSc+3vM8Sm6J/Fqety++TTLZXl7tU/qYKc/gei7jiXGqZpXB6CA1s0bFqPhn+ka1KHWrzoPaAwi2x7WUjBIXUxdJhYPMF8tIcgJJyyGpZTwn3B4SjULD8EBWkIMreEqDRLRFzdRxjS7ub84xHAxxKyfzXfN/xExjgYi6zpD8kAtukV61SCLSTUUKUXdsNFUDW8XyJORADdvqxmkOgRcgow3z5mWZaLjOH04vIAerDCSS9CRb1G2PB+UHWK6F7dokggne7nn7wAOe92pO6Cw9vojl4tNaAXyeoVVRFLLZrN99b5qm/55NTU1hmua+3zPXdU/0ftCddF0XHcDCsTg9P/XCmbFztt9xneELn49weZJyuczNmzeJx+PcuHFj19JSp1pw1AD4pCPlnkbXdW7evEnLa3Hp3CU//EH7yDbDMdpLvD8c2zIUHwIPVvVVFEnhWvYas5VZJENCRqYn0oMmtztqO/vokoEk9WqMVMzgcn+CgViGpUqd7nA3MiqxYITbs4tMDIT5t3cNPLsPPJlvzXxGzElR0EdYr4GkDNDbLZFIR0iZDezc99ls5KlGuwnIAbKhLKYts6A3wQkgKxYoDV7r6+Ef/efvUbJW+O8++bfU7WUCSogfHRtCUySCXpC6Xed84jzJYBJVUsk1cyzUFjiXPOe/HodpTti6XLxzL9rWs3Cf1XLxaasAHvcS8EEFAgF6e3vp7e3F8zx/ib9UKvlL/DvnD24dxXSallMbjQaRSOTU/YwIJ48IgMKJstdsP1VVnxra9utJVTfP85ifn+fhw4ecP3+esbGxPX/Jbt1LeJTKweOWgJ9mY2ODW7duMTAwQLgYxpG3h0jXc5ElGVmS/TODi60i2VAWVVaJB+LEtTiO55DVsjRo+BWcsBqmYlZIaSm+dD7DS2++xHx9nopRQVNU+pNBhmPtUz1Mx2Qk4bBZjuI2P6+QLhVryNoGdr2LZDjM3/zaFSruDBvNDV7ueoWpxjpSfYmK3UQJZugKd6EpGrJb59Gmi4fHOxNB/ruvv0xIU1he6eL9u0ncYJZ3zvczmOgmFoixUl+hZtVIBVP0RtqDnctGmeX6MsOxYQLK58H9KFW1SCRCJBLZtlxcKBRYXV1lenqaSCSybbn4qMuJp7EC+KyXgA9CkiT/PRsaGsLzPH+Jf2Njg5mZGQKBgP+eWZZ1qgKgWAIWjosIgMKJ8bjZfsddAdzruUzT5Pbt29RqNd566y1SqdRjn2PrKR5HcdAA6LouMzMzLC4ucu3aNfr7+5lemkaVVXJ6jlQwheu5FFtFRhOjmI5JoVUgHUxTCBRYqa/g4pIOpcm38qSDaZJGEkmRqFk1AkoA13PRJA0k6A330vJafjjc0Dfoi/QRC7RnEnp4KJLCa30DVGpNjGaDiz0Ris4lqtI0vaM2XxnvIhAqE7Ei9NGHhER44C3i9xdQbB0rmCYgB7Bci95EgPFUnGw4w1++9CohTWGp1OSn/9lN5DDIVg8//fINFFmialbbFU6lfUyd67nUrBoVsz07MN/KMxAdONL787j3rLNcPDExgWVZfnVwenoawzBIpVJHPvrspISp/TrJswslSfI7wsfGxvz9g6VSiYWFBX+PsWEYxxbinyWxBCwcFxEAhRPDcZw9Bzsf1wDnxz1XqVRicnKSZDLJl770pad2CHe6So96TQdZAm62mvzh9/+Q9dY6g+ODFAIFwkaYhJpgLDVGzslRMSrIyAzFh7iYuohu69wr3KNklIgFYnieR0AJMBgdpDfSy3JjmenyNN2BbhqBBuv6OnWrzkB0gGw4y5u9b1IySrTsVvuc4VAGCYm5yhyarHE1cxVbtYlT472uApneDNlssn3Wr51kND7qh7TuSDeVVoW56hwkB2gpKknHpuXa5PQcsiyTCqSIBkNcTl+kO9xefv31b8+1XwAnzGB3HfmHPxYBOYAmaVSd9vFxi7VF1pvt65eRmcxPYjqmP5D6WdE0jZ6eHnp6erYtPRaLRf/os63dxfsZ3XEaK4Avegn4IHbuH/z000+JRqPYtu2H+M7+wXQ6TTweP1F/NlEBFI6LCIDCidE5HWPnDbuzbHsce3W2BjfP83j06BGPHj3i4sWLjIyMHGio9POqABaLRX7/+79PJVBhZHwERVOYLc+S03Po6GQDWcYSYzTsBrIkE1WjSJJEPBAnGUhSaBVwPZd4IE5CS/id1JlwezBzxaqQjqeRJZnzyfNczV6lP9ZPTIsxzjjnU+dZrC2yUluhaBSJqBEmkhOMx8fZmN7gzuYdsj1ZqmqVYrlI027yavZVXu1+ddtIlp5wD32xPi6lL7H+yf+TXG2D/5TsRg9GCWthRmOjTMQneKv3LQJKgEd5nW9N5wFw7RT/xZsp1vV1vxvakzwkJOpWnVwzhyZr7bN+42OE1BAzlRkyoXZH8PMIVTuXHl3XpVqtUiwWWVlZ4f79+0Sj0X0tF5/UatrjnKQl4MNIp9Pb9g92qrqd/YOdqm46nX7h++/EMXDCcREBUDgxHjfi5SgDnHfqBEDDMLh16xa6rvP2229va6I4yPMc9VqeFAA9z2Nubo67M3eRu2Ve6n6JeKB9/FM6mGa1sUrRKfo3XwmJptVks7lJ3awTUAL0hHsYjA3u+fzd4W5ejr9MS2kx1DdETIuRDqZR5O2hJBFIcC17jUupSzie067wNZv84JMfEJSCpLNpQuEQSKCiElEjVMwKOT1Hf7Tffx5JkkgEEqiSSlgJg+3wstZPZLh9kslQdIhr6WuElTC66fDn/6/f9x/7H//aVwgGdR5VH1E02kfQvd79OrIkc3PzJi27RSwcozvcTV+kD1mSWam3A+uLulnLskwqlSKVSu25XLyzU7WzXHxaK4CnNQBu/Yfl1hA/ODi4bf/g5uYmDx8+RNM0PwxmMplDzx88rEajISqAwrEQAVA4MR53A+lUSQ46wPlxz1Wr1Xj06BHpdJobN24c6jmP0sG79TkeFwAty+L27dtUq1UuvXqJ+/p9Ytr2X/pxLc6Ct8CGvsFD8yEr9RUWa4vYrs1gbJCwGmZOmeNa9lq7C3jr8zsWVauK6Zlk1AxjibGnXq+maGho/tFqg4ODTLemmUhM0JPpoWpUyek5TNfkYeUh0pLE9Z7rXEhdQJEVXM9ltjLLQnWBh4pFPhZBc2u8FWlXXvKtPLlGjrHEGJbz+esSCyr0J0NAiFQwRdNuAhBR25UYwzbYaG7QH+1Hk7e/lycpTD1tuVhRFNLpNLZtY1nWi77cAzlNS8A7PWllYa/9g5VKhWKxyNLSEvfu3fOrup35g896pEyj0fCPzxOEoxABUDjxOkvDR+0E9jyPRqNBrVbjypUrDA8PH7pqsd95gk/yuBDZOXkkFotx48YNKk4FSZdwPXfbjDvbtUGC++X7KBEF3daxHAtN0ahaVQZjgzTtJtPlabrCXf5ImJye40HpAWWjzGp9lYSRINPI0Bfte+L1ep7H7Owsc3NzXL16lYGBAT5c+xDJk4hrcVbrq7Sclt+MosoqU+UpQmqI4dgwC7UF7hfuo8oq2Cbdts2q1z6q7nL6Mi4uS40lBmOD3F9v+N/3cu/nwVeWZKLa9uWvgdgA+VYemc9v4k272T4OLpBgldUTFQRh7+XiTrCwbZu7d++ysLDgVweTyeSJbkw4zRXAg6wsKIrivyfQbh7rDKR+8OCBv39w6/nFxx2MG40G4+Pjx/qcwtkkAqBwKhy1E9gwDCYnJ9F1nb6+PkZGRo50PcdVAdwaaj3PY3l5mampKSYmJpiYmGiff+qmyYQybLY26Qn3+HP+GnaDgBygZtW4GLroz++LqlE2W5sUW0X6o/2s6WuUjTJ9ah9Vs8rt/G1Mx6Qn3EMr0KJiV7hduE1Ei5AIJID2KBmJz5fkLcvi1q1bNBoN3n33XeLxHy5Fq2mqbpWKUaFslEkH0ziugyZr9IZ7MVyDH2z8gMXqIneKd7Bsi6gWZd5rEdY0qpLDQmWB3nAvMS1G2SpjOiY//z/c9l+X3/iplzAcg7XGGhvNDVRJpSfSQ1+kD1VW6Y/0sxHZYF1f9zuZXc9lLDFGOph+bDAxHZPN1iZ1q05QDpINZf0l9uetM1swnU6Ty+W4cOECrutSLBa5f/8+lmVt6y6ORqMnKnCd5j2ARzkJJBAI+FVdYNv8weXlZVzX3TZ/8Dj2D+q6TiQSOdJzCAKIACicIE/6xXiUPXf5fJ5bt26RzWYZGho6lo7i46gAKoqCaZpAuwpx9+5d8vk8b7zxht+hCKDKKi9lXuJO4Q5r+hp4oMhKu/FDbbTDWmeordeeo6fKKi2n1X6CLcWvDX2DulVnKDbkP3dKSdGwGmzoG3iex1JtiXwzj6qoDMWGSHpJbk/eJhqN8t57721bMu/SuggEA6w2Vikb5fYHJRiMDBILxMiVc8xV51AzKo7rUDJLzJSmAJeQ5+EoKhvNDZbqS4zFxwgrYe6ttvzn/999dZxQwGUyP8m6vk5ICeHisqKvMB4f50rmCkElyKtdr7Kur7PZ3ESRFHojvfRGev0mlJ0VQN3WuZ2/zUZzA1mScTyHmBbjpcxL9EX2roQWW0WWG8tUjAoxLUZ/tJ/ecO+xBx/P89A0jVQq5Tcm6LruLxfPzc1tq0S9iH1oe13zF3EJ+KC2HjHYOcayWCySz+eZnZ1F07Rt5xfvpyt8J9EFLBwXEQCFU+EwAdB1XWZnZ5mfn+fKlSsMDg7y6NEjP3Q97+vZqbMHsNFo8Nlnn6FpGjdu3NjzZIlMKMM7fe9QbBWxXIuIGiETyrCoLlJwC+i2jm7pLNQWSGjtKl5/pJ+SUSIeiPudsy27hSqp267Btm1USaXQLLBc/zzgGJbBdx9+F3Pd5Cvnv8LFCxd3hZ2gEuRK/ArNaJOG1SCqRemP9pMOpbFci4X6AmE1TFAJElJC6JZOyLXB82ipQUwPAsis1FZIaAmqpRH+L//xPgBvDCf42XeHWGksthtKIv1+g4rhGCzVl+iN9NId7iaoBBmNjzIaH93Xa79YWyTXbDepdJbV8808D8oPSAfTBJXtN+bN5iaT+UlqZg3LtSgZJRRJ4Xr3dV7rfu3YQ+DW55MkiWg0SjQaZXh4eNtycWcfWucc3Be1XOy67pH3574oz+okEEmSiMfjxONxRkdH/f2DpVJp2/7BTiDc7/5BXdf9CrwgHIUIgMKpsJ8j3LZqtVpMTk5imua2Jcvjmil4XEvAuq7zwQcfMDIy0l72w0W3dDRZQ1O231CDSnBbVy1AJpChKlX5JPcJrucSkAPM1+aRkAipIV7rfo1L6Uv+/r9YIIbt2f5pIZIk4boutmdTs2rUrTqD0XbX8NLSEtWNKl1DXXSNdO0ZciRJQpM0xjPjeJ7Hw8pDZEmmaTVZ09fYaGzQFe7ifvk+utke0Bw3dIJ4NNUgOTNHykrh4vLhwwr/7uMyoPFjl7L82p+/jCpLLNYWqVk15KZMWA2TCCQIKkEsz6Jm1fyZgY/Tue6G1aBhNfDwWGmskAgktu2pzIQy5PQcVbO67Tldz2WuOkfdrqPbOiWjhCqrlMwS/2n1PxFRI1zKXNr3+35UW5eLz507t+0c3Be1XHxa9wAex5ne+7W1anvu3Dm/K7xUKvlnTicSCb86mEgk9ryuzlFwgnBUIgAKp8JB9gBubm5y69Yturu7uX79+rZ/VR9HcIOjLwG7rsvGxgbVapXXXnuNnp4eVuorzNfm0S29PbA5Nsh4YrzdNPEYETVCQkmwYW9geRaO65DQEqiyStWsEg/Et52I0RvpJRvKstZYIxVM0XJbbJgbvBZ6DcMxiGpRLMvi4cOHOI7D69dep2AXaFgNsqHsru8vy7J/87+cuUxQDbJSX6HltE8QCagBEoEEyWASS7NYa6yh19YxZRlVizASHOF8z3kWSiX+/cwKcjDET7/yJv/7r51DkSVWGis8qDwg12jvb1Qkhe5QN6PxUSRP2tb48djX2nN5WH1IpV6haTfxJI9cI8dQbMjf87j1a3cuF7ecFhWzgumYFI0iXaEuf6TNWmONe+V7DMWHdjWnHNZBG1Z2noO7dbn40aNHqKr6zJeLT2sA7PwdfhHL11u7woFt8wc7+we3BvlO6Gs0Gs+9Ajg2NsbCwsK2j/3ar/0a3/jGN57rdQjHSwRA4cR42h7Ap1UAtx6V9tJLLzE4uHv+3XEdK3eUINlqtbh586b/L/7e3l6Wa8vc3LyJKqtEtSiGY3CvcA/LsXgp+9ITr8N0TM6nzrNQW2BAaZ/iISOzWF/kUeURl9KX6Aq3x0Y4nkMmlKFqVtlobmC4Br1aL692v8qd/B3urN1haXWJQCjA+aHzmHJ7uXxrpazD9VwabgPFUOixewipIS6kLjCeGMewDT7e+Jhxc5y6Vadu1gmpIYZiQ9zL3SLluoxofVS0bhzPoVRN4toOIz06f+OrgyiyRMNqMF2aJqElaAVbxLU4kiSxrq/jSR6pQIp0ML3runYqukX0uk5/up90MI3t2aw31pkuT5MJZtAUDcdzyDfzfoVxK0VSkJEpNAuE1bD/c+p4DhEt4i9HR9QIsiSTCqZ2jew5qMOGqb2WiztdqouLi9y7d494PL5tufg4ws9p3QP4IgPgTuFwmHA4zMDAgL9/sFQqUSgUmJ2d5bd/+7cpFosUCgV0XX/u1/d3/s7f4ed//uf9/y2WoU8/EQCFE+Vxg3CfFtyazSaTk5PYts1777332E3SL7oCmM/nmZycpLe3l+HhYZaWlnBch/naPKqs+kEtrIZRJZXl+jIjiZHHBgpZltFcjZJZwvEceiLtaoLneUTVKC4uOT1HV7iL9cY6d4t3qZm19mORiakx+ugjpsZYWlvi+wvfZzAzSF9XH+utdZb0Ja5mru6q/tXNOveL97nTuEPYC1MIFRiLjzGebFcsXaXdiZsKpsg38yzVl4D27MI+xyLoQiMQoek2aZa7+OhhCVmrIwU3uFu8y8X0RapmlYbVYCw+hiIp5Jo5bNembtVRmgpvdb9FMvjkAd6e55G38ySlpP8aapLGpeQlPit8xkxlBlmS26ESj3OJc6zr6wzHh1EkpV31axVxPIeN1gbZYJaYFsP1XKpmlWQgSdWoMpmfJKJFwGtXZS+mLzIcGz7wz0fnmo/L1qPooD22pFMdvHv3LrZt+3vQjtKlelq7gE9SANxq6/7BkZERXLddmf693/s9Go0Gf+Ev/AUuXbrE1772Nf7SX/pL3Lhx45lfUzwep6/vyaOihNNFBEDhVHjS3r2NjQ1u375Nb28vV65ceeIG+OPcA3iQPYlbZ+hduXKFoaEhcrkcrutiOAa6pe9aQoxqUSqNSvuUiycEwK5AF5v2JoZt4HkeHh5lo0xUi5IKpGjZLQzHYKo4hemYDEYHkSQJy7W4V76HZ3h8NPkRC2sLvDX2FpZioVs6iqRgeRaJQMLfQwjt+YN3CnfI6TliSoxUIAUe3CveI6gGGYoNockaruvysPKQeCBOXItjuO3RNcOGQb9h0IpP0PB6+deLdeTgJpJs0bBCLNQWaNiN9j48qd3xPBIfIRPKoFs6VatKV6hrX8OrHc/B8qxdA6LjwTjD8WE0NFb0FTLBDH2RPjRF43bxNrZn0x/p507hDhutDSzXQkZmujyN7uhE1AjJQDt8Vq0qE8kJMqEMnudRMStMlaZIBpK7qon79azCVCAQoK+vj76+Pn8uZqeq1OlS7YTBdDq97+Xi07wE3JkzepLJssxXv/pVfuRHfoR/+k//KZ999hlzc3N861vf4s6dO88lAP69v/f3+Lt/9+8yMjLCT//0T/NLv/RLz3zotfBsiXdPOBX2Cm6u6/LgwQOWlpb8wcSHeZ7DXo9hGPv6WtM0/WPn3nnnHRKJdijodAFrskZACdByWoTVsP+4ltMioAR2hZetZFkmI2e4HL/Md1e/y2ZzE1mWiWtxhmPDNOwGqWCKUqtE1arSF+nzb9SarBEixGJ5EcVRmLgwwWhytN1RbLcDoOu5OK7jN40AlIwSm81NeiI9GKoBHiSDSapmlaniFL3hXjRFQ5VVLMci7+SxHAvbs5E8iaxZY9S2uRdK06w1iUdreDXA0fjRkZcYiY2w1lojqAQJyAF0S/dnFMa0GHbD3lf4g/aYm5gSQ3e2L5m17BZhub2cezF1cdtSsiIpLNWW2sfZbekU7gn38OHahxi2QX+kn7gWp9Aq0B/p988cliSJVDDFcn2ZYqt4qAD4vIZWS5JELBYjFosxMjKy7ZSLhYUF7t69u+/l4tO8BHyarrvRaA9IHxwc5NVXX+XrX//6c/m+f+Nv/A3eeOMNMpkMH3zwAb/yK7/C2toav/7rv/5cvr/wbIgAKJwoj1sCVhSFVuvz+XC6rjM5OYnruty4cWPfh6MfZwDczxJwuVzm5s2bJJPJXTP0OteiKRrDsWHuFO6gSRpRLUrLaVFoFRiNjz4xREiSBB680/cOtmszX5snrsWJB+I07AaZUPuEj6pZbVdp+LxKU6lU2MhtIMsy11+/zg/yP8D1XKJa1K9G5pt5Akpg2+NMx8SlHVwlSaLltJgpz7BWX8OlfQLI+eT5dqBVwhSMAkjtwBmwDVqSRxKViewr/H/X/oQHhRySm+BidoArgQArKytIYYmG3GA4NsxcdY6aVUORFVp2i+5w97bGlqfpVrupy3XW9fV2gPzhMnJPpIdyq0xU3VF5VaOs6qvUrBqpYMrf/xhRI7zX9x7L9WXOp86TCWZYbiz7R9Nte1+QcLzD/5y9iGrazlMuDMPwmxLu3r2L4zi7mhL8+ZOndAn4OM4Xf546e/+OYw7gN77xDf7+3//7T/ya+/fvc/nyZX75l3/Z/9grr7xCIBDgF37hF/i1X/u1Q80yFE4GEQCFU2HrHsBcLsft27cZGBjg0qVLB5p5dhwDnOHpewk9z2NxcZEHDx5w4cIFRkdHd90gt54FPJoYxXRMlupLVBoVAkqA0fgoVzJXnnhj7VyHpmi80/8OvZFe1vV1XFzOJc8xmhj1w1xEi7T3rQWTrK2tsbKyQjAZJO2k6Yn2kKql2Gxt0h3qRpEVGlYDwzUYig9tu4bO/kTDMXBwWNFXsLHRLZ10MM18ZZ47+TsUW0XWmmtcTF4kFUqhSRpu8RHzkkwt3k1LH+JbU+O4YZOJ1BBfS7erMZIksbq+ChbEs3F64j2YIRNVUzmfOE9/tH9bpfRpEkqCbCTLorPI/fp9YmqMy+nLXEpf4uPcxxiOQUBpL3U6rkOhVcByLYJycFfzS1AJkggkmEi0l3xlWeZW/haO5/hfazpmew+XdrhN8ifl2LpgMLjncvHWocaZTIZsNovjOKcyAJ7GCmAgEDiWTu6/+Tf/Jj/3cz/3xK+ZmJjY8+PvvPMOtm0zPz/PpUvPbwSScLxEABROhU4X8L1791hdXeXatWuH2pDcqboddc/Sk4KkbdvcuXOHUqnEm2++STq9d6fq1gCoyipXslcYTgzTsltoskYikHjqNcqyjGVZQDuYXcle4UL6Qvs0iS1zBKNalHPJc9zN3+X+o/uYukn/aD8xKUa4FCagBLiWvcbd4l1yzRweHgE5wPnk+V3VtlQwxUB0gIXaAnkzz0JjAddxMV2ThtVgvj6PSrub2XVdFmuLWK5Fd7ibmr5GxnVx4138wUwZ00yiaGmWqznUiyN0DXYheRJSWuJC9AIJK9HuelzX8RSPVqZFNVtFzaj7Hjxcd+vU9TpySGYkNoLlWuRbefrMPgZjgzwoPUCRFBp2g/nqPKuNVTKhTHsYtmswkfj8Jlg0iv7+Scu16Av3kQvnWGusEVEjuJ5Ly2kxGh/1l4UP46SFqb2WizvdxXNzczQaDebm5tB1nUwm89gZdifNUY6BexHq9fqxHCcH0N3dTXf3k2doPs7NmzeRZdkfYSOcTiIACqeC4ziUSiVM0+TGjRuHHoTa+WV/1F/8j6sA1mo1bt68SSgU4saNG09cHtkaADtiWuxAI0T2eo7HzQ3slrthCbqVboZfGaYn1oPW1FgqtTt0M6EM7/a+S9EoYrs2MS22ZwiVJZkLqQtYnsWkNclqa5WYEiMgB8jpORzP8RsgBqIDmK7JamMVgJTjEHZcIlqKv/RKN//pQZGaHcUKLfCPbi0g3ZLwnBCOPs5febOPP3XFJTwSZvDCIFJTolQq+fvTOkNzs9ksicTeYdnzPFatVTRb42Lsov/xYqvIbGWW693XsV2b+6X7TJWmqFt1AkoAwzEoGAWUhtIenRPMUDJK5Jt5UsEUn258SjwQ53zyPK90vcJqY5WcnkORFS5HLtMf7X/i/MYnOSkVwCdRFIVsNusfWfjRRx+RyWRoNpvcvn3bPwO3s1wcDodPXKiF01kB3O92l+Py4Ycf8r3vfY+vfvWrxONxPvzwQ37pl36Jn/mZn3nsP26F00EEQOFE2esmsb6+zszMDKqq8u677x7pF3Yn9DmOc6QAuFcFcHV1lbt37zI2Nsb58+f3Vb07ajVyrwC4F3/ZvH+AzGAGT/JIBBK41vbBx5qi0RvpfezzeJ7Hcn2ZR9VH1M06NbtGy2uRkTN4eLScFpZrtQdHh7MMx4cxHINcI4du6Wzoa9TDIZa9KqmFf8vPvhTjm2WdhWIPntkLmKDVkMNL/LObNTatAd4ZTxKQA1xKXeLcuXOcO3cOwzD8cSa3bt3C8zw/bGSzWT94N50mDafBsLZ9JEsymGRD38BwDK5mrlIxKqzUVwirYbpD3e0QaBs8qj3Csi1CkRCmY9IV6mI0MYqMTMkscad4h+vd1zmXPMe55LlDvYdfBJIkkclk6Orq2nYG7ubmJjMzMwSDwW3dxSfl2LjTGABjsdhzDdPBYJDf/u3f5ld/9VcxDIPx8XF+6Zd+adu+QOF0EgFQOLEcx2Fqaoq1tTXGx8dZX18/8i/rzuOP2giytZmkc53r6+u89tpr+15W6QTQZxkAPc9jZmaGhYUF0hNpCmqBpcISEhKKrJD20liOte/vl9NzTOYn0WSNdCCN53k4rsNmc5OB6EB7XIwFuqvTsluMxEe4X7jPamO13UjiNAnicd8oY9ffJyNlWKym8OwhJLXMUJfDWqMMgQKuN8br/W8zGE1QMSs8rDykK9xFTIsRDAbp7++nv78fz/MoV8usbKwwtzLH1NQU0WiUbDZLJBlBQsL1tr9GW4/C8zyPpt1sh5hAxt8PGFSDpAIpFEWhO9xN2SgzEB3w36uuUBcrjRXW9fV9Lfc27SarjVU2m5uoskpfpI++SN+elcKTWC17kq1dwHudgbt1uXhnd/GLXC4+bU0gL+IYuDfeeIOPPvrouX5P4fkQAVA4kRqNhr/P5MaNGxiGwfLy8pGfV5KkY+kE7lTvdF3n5s2bSJLEjRs3CIf335zQufF0qhCO295I3xm3st/neFwANE2TyclJWq0WV69f5U7tDrIkMxQbAtqjUBaLiwTs/W8oX66334NsKIvruYTVMCE5hCqrmK6JKqlIUvscYlVu//+KrJAIJAirYaxqjm7LxopEWY+lKVaL9KaDrOeLdGdqnO9JsTYHuBrvXlCwlHVcL0ZCS7DaWKVslHctkW80N3jUfEQ1WEXuk0kPp+lyu2hWmsxMzWC3bG6t3EI3dQbTg4RCIfLNPF2hLn+JO6JFaNrNbeNgbNdudzojtTt9pd3BLCgH0e2nn8rQtJvczN9ks7lJRI3geA5r+hoTiQmupK9se89PwxLwTk/qAt65XLy1ervXcvHzDDinrQJYr9ePpQNYEEAEQOGEkSTJX0odHh7m4sWLftg6jvEtcDyjYDpNKR988AEDAwNcvnz5wDeSzteXW2XWW+tsNjdRZIXB6CDD8WG/EvW059grAFYqFT777DN//Myyvoxu6374AwipITRZo2SX9nW9rudSM2uElXbIlSW5XTGTAqiySlgLE5bDlJRSu6ootf9sITVEb6SXfCmPZ9iogKwoBNUgCgrXxxX6roZpWRF++3sl0GAiG+daTz8lo0TDahAP7N1RW2wVuVW45e87dDyH1eYqTtjh0sQlqpkqrdstTMXk4/WPUZYUeoI9DKeHuTxwGVxAgbH4GN9Xv09Oz9Eb6cXxHOpmez9gd7ibRCCBXtLZlDcJKSGiWhQJCcM19jXrr1P5G4gO+GGvZbdYrC1umyPYcRorgPu95p3V23q9TqFQYGNjw18uzmaz/nLxsxw2fNqaQHRdf+57AIUvLhEAhRNlfn6e6elpXn311W0dZsfVvbv1uQ7LdV0WFxexbZtXXnllXwOo9yLLMk23yQ82foDu6cS1OJZtcatwi6pZ5ZWuV1DkJ9+cJEnaFQBXVla4d+8e586dY3x8vP01nrttll+HoihY7v6WgGVJJh6Is66vk6R9CkZ/qJ+uQBcVqUJIDvkBNhVMMRof5d3+d5kvz/PPP/vnlIwSqWiEmi4RsOsARJUoISVEoZXn9pKCK1l0x1XOd4eJa3GqVhXLtaiaVUJqyD99o2NNXyPfzKPIChv6BhE1QjqYZqO5Qd2q07Ab9AZ7ebnnZeyQzVp9jW6pmzFpjI2FDRanF/3ZdtdT1/mk+AlrjbV2ZVMJkQ1lGY4OU2wV2Wxt8qDygHggTjqQJhFIkA6l6Ys8vRu9c87w1kpfSA1RMApUreq2AHgaK4CHHQS9dbl4bGzMb/YqFovMzs7SbDb9Zp9MJkM8Hj/Wit1pqwB29gAKwnEQAVA4UQYGBshms7uWUlVVxfO8Y/kX+1ECoGEY/rJq53oPS5Ikyl4Zs2UykZnwg23MibFSX2E4PuyfDfw4WyuAruv6eyZff/11uro+f2wikPAHKXeOdXNcB8MxiEv7n1c3FBtio7lBvplvP6ei0B/spz/ejyIrRLUoMS1GMpBkLDlGvpLnT279CTWnhh2yKTkuhqKimDXCrktCSnA5e5lPFleYK8wjyUF+bPwK3TGNfCuP6ZoUWgWSwSSXkpd2VQJnK7Os6quElTCaolFv1ikZJRSpXWEcj4/TkBookkJXpL1/0HIsLvRfIKyGWSuvcX/tPreXb9NsNEmpKaSIRFALMpQaYiw1RqlVYk1f42rmKnkjT0EvsKavEVJDvJx5eV8VQEVWdg2G9jwPz/N2zRqEL3YF8EkURaGrq8v/2W21Wv5y8fLyMp7n7eouPorTFgDr9bqoAArHRgRA4UQJBoN7/kI+ru7dznMdJgAWi0UmJyfJZDJcvXqV999//8g3kAYNskp2280zoASwvfZpFTsDoO3a1MwaHu0u3k4AbLVa3Lx5E9d1ee+993bto8qEMozFx3hUfYRiKsiSjOEY9Ef7qUm1fV9vb6SXV7peYa4yR8WsYLomlyOX+dGXf5R8M0+hWWBVX2W1scofL/4x68V11KBKX6aPmlmjZlRoKAqyZ5FyLWJKlte7Xucf/JsmhJeQ5BaRoIntSWiKRl+0j5cyLzEQHSAT3L5MarkWFaOC4zpkoj/8nAaFVoG6VWcwOrirwUKTNVpOC8dzKBklpupTNMINhseGMWyDSq1CxskQaURobbZYiC+woCyQTqRJRBMkg0mGo+0j9hzXIaju7xSEvkgfa/oaTbtJWA3jeR4lo0RUjW7bd3gaq3/w7E4CCYVCDAwMMDAwgOd51Go1isUiuVyOBw8eEAqFtnUXH3S5+DQ2gYgAKBwXEQCFU+G4unfh4AHQ8zzm5+d5+PAhly5dYnh4GNu2gaNXEIJKENM2t33M9do3U1Xa/tcz38zzoPSAolEEDxLBBF1el78Xsbu7m5deemnPgCxLMpczl0mH0qw31rE9m95ILyk5xUd8tO8KjiRJDMWG6Iv0ods6K84KuWKOxfoi5VaZucocC/UFKpUKm/VNCEHBKaDpGslgkmwyy0hphWp9nWyrSSJ4hbjajSWVkZwEL/cFsTyLlcoKITXEUGyImlnDCLXPXTYcg7JRxvVcbNcmqASJBWJUzAoxLYbjOpiuSVgJkw6kqVm1bccLVs0qcS1OSAnxqPqIht1gMDrY/sMF8I/he7n3ZTzLY3FjkfpKnXqhzrq8TiKRIB6PE4lFqHpVbNfe1/vcF+ljIjHBYm2RolHE8zyiapTLmct7zn08qxXAJ5EkiUQiQSKRYGxsDNu2/e7ivZaLHzcbcqvTVgHUdZ3e3sePaRKEgxABUDgVOt27neB1FAcJgJZlcfv2barVKm+//TbJZNJ/DmgH0qNsUs+qWQzXoG7WiQViuJ7LZnOTuBYnG876X9ewGtzK30K3dLLhLBISJaPEw5WHJPUkb117i+Hh4Sfe8FRZZTA2yGBs0P+YYbSD1UFv4KqskggkmPPmmK5PM1AfQJEUZiuzLBYWkS2ZbDJLza0RMAI0nAZdchdVq0q09zrnCr9LZuUzyhM/xaq+BrKJ2xqmW0uTDpbb42VwUFCoW3VuFW5RNsoUWgUqZqW9HQCXpt1kJDpC0ShSNavIkkxaS9MV6eJ88jyPqo8o2SWCVhBTN1EkhfHEONBuIAkpIRpWg4ASQJPb5zBv6Bt8tvkZjudgKzZaRiMeiJORM1SrVfL5PBtzG0TDUdbMNbwuj2Qy+cQgocoqV9JX6I/0U7WqKJJCOpjeFf5OawXwsHsAj0JV1W3Lxc1m098/uLTUHm7+tOVi13VPzEzC/RB7AIXjJAKgcKI8McBsOQ/4KPYbAKvVKp999hmxWIwbN25sO3+zc51HvZ5sIEsoFqLitgcRS5JEMpjkSvrKtvNuN5ubVM0qg9FBv/Gjulplo7SBqqqMjIwc6vt3/hyHDR5rrTUMz6An0sNKeYW1/BohQrhxlxat9ugXx6LltEBqL8EuxlLY4RQ9tTwDq7/Lzf6fAa/9q+jOeoHxIYPuSDdVs4qHR1e4i+X6Mh+sf8BgdJC+SB+yJFM1qyzXl1FMhYupi5iuieM61MwaI/ERLqYukggmKC2XkCWZ/kg/Q7EhusPdbOgb3CrcYrm+TFgJkwllGE+Mkw1mWdVX2WjUKFaSfGkii4vLp5ufkggmiGtxwpkw/T39TKgTeC2Pu3fv4jgO6XTa717dK2zIkkwmlNnXzMDTVAHs7GV80dccDocJh8PblosLhQLr6+s8ePCAcDjsh8FUKoWqqqeuC1gsAQvHSQRA4dQ4jvEt+3kez/NYXl5mamqKiYkJJiYmdt3cOhXJ/ZzC8SSqojIeHSecClMza+0KVihNUNm+t6xlt/zBxYZhMDMzg6IojI+MU1vZ/x6+nbbOIjzojdB2bWp2Ddu1+XTpUx6uPMSQDGLRGK7rols63eH2qRotp0XFrCB5EvNmncDo28xP/0fC1T9g5n4MtBCSp3KpN4nrNlEltX0e8Q9H4TieQ7FV5OXsy34nbSKQoD/ST8NqsNncRJIkJCT6on2cT7ZPYumP9HM5fJnedC+D3e3KZ7FV5A+W/4CF6gKma6KgsNpY5ebqGq1WmKuDUf7NRyFMp4yExnBPu0Lkeu1TU6pWle5INy8NvkREi2wbZdLZm9YJG9lsllQqte/X9jRWADvXfJKWUrcuF4+Pj29bLn748CHNZpNkMollWX6D2YsOsPshKoDCcRIBUDg1VFV95kvAjuNw9+5d8vk8b7zxhj+89qDPs1+dJo54IP7YWXfQ3pvm4VEql3g0+4ju7m6GhoaYK84R9PbXiNCyW0iStC1cdm7aewWPulmnaBRxvfb1pYPpbWNMZEnGdE0WGgtodY3R3lEiXoTp0jSKpKApGgWzAB5kw1mSgSSGY5ANZ3lr8Eex6jrTuY9wSv+Oi4EJtKGrXBsNUjENNlubJAIJUoEUALqtE1SCu/ZFypLsLxernspwfJjL6cu7Zih2rtvzPL6/8X1ubt70X4em02ShYLJUqYMdZ3ajH9Npv+/r9SKJdJXR+CgRLcKl1CWgfSJKvpVnRBvZNcrEtm1/KXJ6ehrTNEmlUn51MBKJPDVsnIYw0tH52TnJ17zXcnHnZJLV1VXW19f96mAmkyEUCr3gK95bo9EgHt9/174gPIkIgMKJ8qSbyLOuADYaDT777DM0TePGjRtPvQns9xze43iOrlAXRtHg7tpdroxeIZvJst5cJxVK0ZJbj32c53nMVmb5wcYPWG+sEw1EuZS6xOs9r7eHGf/w9d55Dcv1Ze4X79OwGkB76XY0PsrlzGVUWaVhNWhaTfKFPLqt89roa6RiKeJ2nKpRZbO1SVgJ03JaxAIxLmcuE5ADrDZWuZa9RkgJ8b2+t1lZX+W8u8RPuVOs5orkYnW8aA+GLdOsR/nO7SV6kg7Xx1W6Ql1YruWHu1KrxFR5iq5QF6lACsMxWKgvYDhGO6zKsh8gOxaqa/yLW+8zX8vj2QnGsxFKRpXVkovnJsGJYdkK4AESrwwFMJFxPIeQEvK7ihVZoWpV93zNVVWlu7ub7u5uPM9D13WKxSKFQoHZ2Vk0TfNPxtjZuXoaK4Cdn52THAB3CofDDA4OsrGxQU9PD7FYjGKxyNraGtPT03suF58EL+IoOOGL62T8VAvCPhxXAJRlGdPc3nm7vr7OnTt3GBoa8k8feR7X0znl5Eksy+LerXskagl+9OUfpSE1aDktBqIDDIYGmZyZfOwS1nR5mm/OfZOG2SARTFBoFvhO4ztUzApfG/kaQSW4a5h03axzv3gfz/P8PYdNu8lsdZaIFkG3deZL8zyce8iivkhADeCqLvlmHkmSeL3ndQzHYDwxjiIr6LaOLMlsNjcZig0xGBukYlT45tQqBfPLbGq3+Un3Dj9urrA6tU6OLA+MK9yUN1kmi7sa5u3+d7nUJ7NYX/RP4bhTuoMmafRH+tvHsXmQa+SYLk0zkZhAlVWCShDbtDGKaf7r79zm5uZnWOEakqqB63B31QBUUH7Y1W2l8Jwoklbmx89P0B2TmC7XSQQSZEOfV4Md1yEoP73yKkkS0WiUaDTK8PDwtnNxO52ryWTSXy7u/KPjNIWp01ABfJzO1odkMkkymfSXizsV3JmZGVqtlv8edYZRv4g/q+d5ogIoHCsRAIUTZ+vYjq2Oqwt4azOJ67pMT0+zsrLCyy+/fKARC/sJb0/ztH2EtVqNzz77jGg0yo99+cfQNI2m3cTzvHaDhdU+xWOvAGg6Jp/lPqNltziXPEfnIJBCq8B0aZprXdcYjY/uer2LRpGG1fDDH0BYDaOaKp9ufIrVssgt5fBCHsRgs7zJkDnEudQ5MqEMETXCZmuTl7teZiA2QMtu0XJa5Jt57hbugge3VyoUdRPQuO2NsWBe4+veHa5Lk5yX8vwv7P9IU5aoeCFW3CGUj29y+ZXXSIfiLGt1GoEYESWCp3gs1Bbax9RZNcpGmVQgRTqYJhlMUjWqfHN1lg8eKhhWBCXWIKn2EQrnKDQb7aPgPAVJbuC5Kq7Rh+dE6MoWefeCguE2CSkhUsEUcS2O67mUjBJhNUxPuIeD2nou7oULF/ylyGKxyMLCgv8Pj42NDbq6urY1Hp1UJ3EP4H7ttfd1awUX2qNXOoGw8x5t7S5+nsvFuq6LPYDCsREBUDg1jqsLuBPcOsOTHcfhvffeO3B33XE0gTxpCXhtbY07d+4wNjbG+fPnt4Wxjq1LuDtvwA2r0T5FI5Bk6ylwcS3OSmOFUqvEaHx01zW43t5Leo7n8HD9IcFKEC2t4YQdepo9FOUiS40lwmqYmBajYTXoDnf7Q6xDaoiQGiKshtlsbrLSWCEU8AgHPBy1yM+/+wa5Yhf/rx8M893Y2/z5cIUvK0skVj8maVQYkWagPAN/9PtcA14CDOB3Mj0shuMMBDMo4QymLOFgUQ81+ehRjg8f5WjaDoWWjiPVeW98gB995SUi4TKGM8a90gMelfIkw6AbaW70vcP//f0ahlvgz10bJBmIMJZ4CbVXZa46R66ZAyCmxbiUukQyuP1YusPoLEUODg7iui7FYpFbt275TUjxeNzfO5hIJE5kyDqNS8Ad+5kDGIlEiEQi/nvU6S5eXV1lenqaSCSybbn4WXYViyYQ4TiJACicGse5B7DVavEnf/In9PT0PHZ48vO4nr0CoOu6PHjwgOXl5V1nIu/1+M5jdn1OkgmpISpGZdvHHddpf075fLlxawUwHoijyqp/akXnMTNLM9TKNS6cu8CavUYmmKHltehVe5E0iaJRZKm+xPWe61xKX9rViBFUgrzW/RrpYJpMcJ1fvPE6tx/cpiuS5Fw6wisjPUSUUUYiI8xpQWY3mvyj3/mAS6zxf3gLMs0F5MoCcmWRQKuMZDfwmiZyLYcKSKqKrCoEPI936/+RYWeM7zlX+Fjr56deSfGN//HLbDRzfLb5GREtxBvdrzASz9Mw29XOj+d1DMemJ9LDjdFRCq0Cq41V3up5i75IH1WzvecvEUjs6tI+DrIs+3Mmr1+/juM4/t7B27dv+8egdQLhSWlUOC0dtHs56EkgnfcomUwyMTGBZVnbGn4Mw/DPls5kMsRisWN7bTr/aBVjYITjIgKgcOI8yyVgz/PY3NykVqtx7do1hoaGDv1cx9UEsjVEds4aNk1zX1XJJwXAeCDOeGKcD9c/pGyUSQaSWK7Fqr7KUGyIofjQnn+OdDDNWHyM2eosmqmBC9Nz04S9MG9eehNLtnBtF0VS2uNwJIWxxBjZcJZYIMb1nuuPvemF1TCXM5e5kLqA0WOgLWgMx4YxMemJ9FBulZkqTzFbrPP/+HAZLxxjzXuD/+bHfpy656DbOoqkELAMYo/+f6zd/wG3yxvEpAaqV8dzDXpcnYDk8KY8w0vKQ/5sIMmlRBeyJNEb7mUiPsH7a++Ta+aQJZm4FudhscC3H5TxnB7+zLU+AkqA3kgva4018q28Pz/wWdv6cx8IBOjr66Ovr2/bXLtOo0Kn8pTNZkkmky9snt2LGAJ9XI56EoimafT09NDT04PneduW9Ofn55FleVt3cTB4+H841Ot1ALEHUDg2IgAKp4aqqv7JFYdhmia3bt2iVqsRDoePFP7geCqAW5eRy+Uyn332Gel0mjfeeGNfnYeSJO1q4uiQJZm3+96mYTe4X7xPvplHlmQGogP82PCP+adQ7AzcnWPjUsEUDzcfMjUzxYXUBb7y2ldY1Vf5eP1jdEvHUA0aVgPTNemLtoczd4W69lXxUGSFgBIgraR5o/sNNE3jYfkhD8sPyQQz/NYfbQApJK2Cbs/zrdl7hCMl6nYdRVKIyBl+63aE6fwouJdBtsEDKbBJJmGQujhEtDBFd+ETXqoXuPLB38ZSmphv/3XKVpmm0ySoBAmpIboDffzOZ5/gKSqvjw7y6pCK5VposgZS+8zh522vuZNb59p1Kk+FQoH79+9jWZa/Ly2bzRIOh59bVe5ZnQP8PBznUXCSJPnLxUNDQ+1h7dUqxWKRlZUVpqamjrRc3Gi0O/LFErBwXEQAFE6NowSucrnMzZs3SSaTvPTSS0xPTx/5eo6jCUSWZWzbZmlpiampKS5cuMDo6OiBbqhPqkTGA3F+YvQneLX7VYqtImElzGh8lLAWfuLjVVlFqStYsxY/fuHH/WHYkcAPBx8v11ltrBIlSpfcRUAJ4HjOtmPmnmbrKSS2a7PSWCGmxggqQWQJXE/GsxLIwRzLrdsMBbMktSTfXyryu7f/mGJNI6BGeONcgO89ckByeHNwjL/8+hWSoSiK9KfoVuME/8M/QF76NwTf/zXWIhn+0JhnQ9/wv//7pSmajkU4ZnJ1rJt75SphJUxfpA+89h7G52W/Y2B2Vp4ajQbFYpF8Ps/Dhw8JBoN+s8mzHmNympeAn+VZwLIsk0qlSKVSey4Xm6a5rbv4acvFjUaDUCh0YkbSCKef+EkSTpzH/RI8zBKw53ksLi7y4MEDzp8/z9jYGJVK5dj2Eh51CRjwT5B42uDpx3naUrSmtGf4jcZH9/z8zgqi53k8ePCApaWlXXsQVVnlSvYK3ZFu7hbukivnmC/ME1JDTCQn6I3sv4t6awB0PRfbtf05e//4f3qNb/zrKWqGx6UBl1DQwzZj/LffWWI23wCipBJV/tqN11C0Bp63wrXeYf7za9fpDfdu+xm6dfm/JBqJkZ3+H3j4vf8zy+fepivcTVSL8SivM7uxghQs0JuK4WERUhLUrBrr+XXe7HmTrlDXvv9Mx+UggUqSJGKxGLFYjJGRERzH2XOMSScQRqPRYw1sp3UJ2PO853oU3NOWixVF2dZdvHO5uF6v72uIuCDslwiAwqlx0C5g27a5c+cOpVKJN998k3Q6DRzvPMGjPE+z2WR1dRXXdfnSl7506E39R92LKMuyX3myLIvJyUmazSbvvvvuY5ebusJd/Mjgj7ASWiGwFuC9/vcIKsH2mJRWCcu1iKiRPU836VT8+GGxy3ZtdEPHdm02GhuMRcdwPZmm5YDcQsKjoYf47z94SK1lE1RlvnY5TSpbpSUt061182NXMkjoFFtFesI9SEjYro3lWriey8a1XyC+8m3WnDqhVgU52svtlRr3c3WQFQKazflUHwP/f/b+PEiyBL/rBD/v9Of37XFHZBx5Z1ZVnpVZ3atuta5uYMyGXesdDJNQIxCGaIMBxCCZMZIh2iRMoBUGDDsDtkJiDVa7s2sDGGoE3aJbrVZfVV0ZkRkZecV9H37fz9+5f3j7q4g8IzIjsjLAv20yVWa6P39+hL9vfH+/7/cb7G+3jog+BEVAk7T2KPgQ0bJb5PU8uq2jiippf9ozlRxGELQkSU+0XuTz+T1Eo2MkSSQSKMqrPb/jOgL+OONrnjYuLpfLFAoF1tbWuH//PqFQyHuPgsHga+kB/tVf/VW+/OUvMzU1haqqlEqlJ26zsrLCz/3cz/H1r3+dUCjET//0T/P3//7f7yqTxxDdd6yLY4ODELdqtcrU1BSapvHee+/t+W26c5xXHV1JkuTl8B0U+XyeqakpgsEgqqq+kqPzWTuAB71/rVbj1q1bBINBbty48UJiUNSL5PQcNbtG1aiiSzqPCo/Ybm5jO+3mjMHwIKfjpz1lL6/nWa4sU2wVkQSJNXOND7Y+oObWKJtl1mprbNe3GQ6OEw42KOk691aD3F9dwrViDMf9/I+fHiVvLTNbbpLxZ6gYFYqtIiWjxGptlWKrSNKXZEffoWW32GnscCpwiuHT/z3Co39DtFmmYdg8ymVBkEBskg756AllOB07zXp9nayexTANZvIzJLQEE9GJQ3H+Vo0qdwt3vdBsx3VIakkuJC7siZU5TELV2XfdTTTy+TzLy8vcu3fviaiZgz72cR0Bd75L3gT1spMtGI/HGR8fxzRNTx28ffs2P/mTP0lvby+6rnP37l0uXLhwJK+5YRh8/vOf5+bNm/zWb/3WE/9u2zZ/8k/+SXp7e/n2t7/N5uYmf+7P/TkUReHXfu3XDv18ujhadAlgF8cG+x0Bb2xsMDMz80R+3u7juK57KARQ159dw/Y0uK7L4uIi8/PznD17FsdxyGazL30O8PIKoG61w5m3rW2sbYv6dJ3xkXFOnjz53NelYTZ4f/t9JncmKTVLFJtFnCUHRVBQJZW+YB+qpFI368yWZtEkjfHYOEW9yOTOJA2rQUSJYNomM+YM1WyV6wPX6Q32klJT3M/fp2zm+J8+/Ra/+H9kwZWQAgucH4S/eGMIUdRZLizT4++halbZbm4T88WIqBF2mju8v/M+mqhxKn6KgBxAd3Qe1h4ykDnJ6IzJLb3EtxaK2BhEgwrvDCapmAqjkVEKRoH1+jq2a2M6Jj7Fx3x5HsuxeCv51it9XlzXZa48R07P0RfsQxREHNdhq7HFo9IjrmSuHHkV3G6iAW3XeSdqZnV1FcAzkuzXtXpcR8Cdn5k38dwVRaGnp4eenh5Onz7Nl7/8ZX7zN3+Tr33ta9y8eZNIJMKP/diP8au/+quvbGbbjV/5lV8B4Hd+53ee+u9f+cpXuHfvHn/wB39AT08P77zzDl/60pf4hV/4Bf7u3/27xyK4vIuP0CWAXbxxeNZF9kUjYNu2efDgAVtbW7zzzjtekv/j6Oz8HDQD7HEcdARsWRbT09OUy2WuX79ONBplbW3ttfUJ70apVWI6N01ez/Oo9girZPH2+Nv0nejb8/rXzTpFvYjt2kTUCCElxNTOFN/b+h6yIDMYHKRGjc36JqVWiavpq17+X1AJYtgGa/U1RiIjrFRXaFgN+oP9QHsUigCGa9ByWqiuSmW7QqAWQApIvDM2zmdG45iuzY9fGCMRK1K3qmBD2p8mqSXZbmwTUkIoooLjOri4mJaJJEtoUjt8OipHMTFZEl0GbQeh1aAl5fCpMiMpCcMxOBM9g+M4zJfm2Wxsols6oiASUkKE5BAb9Q16Aj1E1SiapL0UEWxYDXJ6rt1TLLQ/d6IgktSSFFoFamYNBeW1qmk+n4++vj76+vpwXZdKpUI+n/dcq8FgcE/UzNN+Xo6rAtgZXb+JBHA3RFHknXfe4Ud/9EcpFot85Stf4Tvf+Q7/+T//59fuCP7Od77zRGPST/zET/BzP/dzzMzMcOnSpdd6Pl28GroEsItjg+eNgBuNBlNTUwiCwHvvvYff73/q7TrHgTYBfJX9p4OYQGq1GpOTk95IuvOb8mE5iQ+iHDmuw6PiI3KNHPq2TtSN0jPQg63ZzJZmuZS+hCAIbNQ2uF+8T81o548pkkJUjbJQXkARFdL+NI7tEBAC4ELLalEySgy5Qx7BUSUVwzYwbIOiXiQof7TD1LSaWK5Fy2pRaBS4v3of27VJRpMUa0W+P/UBn0i1MAMmuEGC4hBjiTFivhgr1RXu5O9gOqbn0q2ZNWRRxhEdZFHGdj96Xf2SnxI1TFXmZkPnv/je5k9cVJAkG0mQeDv1NnEtzmRukppZo8ffQ8afQRRFFsoLVM0qG40Nevw9DAQHGIuMHbgJxP3B/yRhr+mgowQ6rnPkCuDzIAjCEyHHHXVwZmYG27afiJqB47sDeJQO4KNAZwdQVVU+9alP8alPfeq1n8PW1tYTdZmdP29tbb328+ni1dAlgF0cGzxrd29nZ4fp6Wn6+vo4c+bMC7/UO7/1Hwbx2s8xtre3mZ6eZmhoiJMnT+45v6Ouk3saqkaVjfIGOys7BNUg4XAYn+oj5AuRa+ZoWA1cXO4V7mG7Nv3BfgRBoGk1mS3NUjWqSILUJi60HzegBHBxqZv1Non5wdtTM2uktBSarOGTfZRaJQC26lus1dYo22WKpSJL20uk/Cn6Mn2sWCv0ZnrpCfewkF/A1V22s9s8WnlEKpTi3f53SSVSDAYHWautUTNr+GU/PsnHcHCYucocoiB6O3uCIGA4Bo1mCxGRHsdhNDLCiRiUjBINs8FkfpLR8Ci201Y6ewI9BJUgOT3HXGmOml1DEzUaZoOdxg5Vo8qVzBWCyv6X8gNygKgaJa/n2xEzP0CpVfLUVcM23hgytXsM2Ymayefz7OzsMDs7i9/vJ5FIHCsStRvHkQC+jOL3i7/4i/z6r//6c29z//59zpw587Kn1sUxRZcAdvHG4XkjYGgrd7Is4zgOc3NzLC8vc/78efr7+/f9GIcd4vw0uK7L7Owsy8vLXLx4kd7e3iduc1htIgc5Ri6f49HsI06kTzA6Msrc3Fz7YiiI2K7ddvK2itTMGgPBgT0dxJqkkbWyBJQATauJiuo917ASRhREykYZn+SjZtYQBZGRyAiiIDIUGiLbzLJSWWGttoYsymiCxk59h4AWQI2qiKKIJEhUjSqz1VkmUhPeSLmpN7m9dZtvbXyLwGKAoBxkKDDEprBJWAvTG+r1zlMV1XasjCDTdJqU9RbfulPhLwhgChI3ThrkW1WiarQdFVRdYaexQ92sI4oipmPS4+9htbZK3amT0TIMR4axXZum1WStvsZgY5Cx6Nj+3ydBZCwyRt2st/uQJQ3d1ts7ktFxZFGm5b580PnjsByLneYOuWYOB4eUlqI30OsZcg6C3VEzIyMjWJblRc1sbm5imiaTk5Ne1MxxiCs5jgTwZVzAP//zP88XvvCF595mbGx/n+Pe3l7ef//9PX+3vb3t/VsXxwtdAtjFscHu0a1t29y+fZtWq8XNmzcP/JvxYRHAZx3DMAxu376NruvPPb/XSQBd12V5eZnZR7OcGj6FL+LzmkSgrYYltSQBOUBezwNPkvGIL0LSSmLaJuVWGRGRol1Ebsm8k36HidgERaOIYRuktBQjkRF6g+0LQ1+wj1PmKf7L6n+hbJRxmy4BMcB4dJxENEGxVUSVVMbD42w3tik0C6jxNvlzXIdtc5u6XEcKSSgphfnaPGErTLKVpFaosepfJR1L88n0J6m5NWaKMxT1IuV6lcmVfhJ5mXjUZiWcBKlOTI0hILBZ3/TaPnRbJySGKOklKq0KlmsRlsNkAhkUUUEVVBp2g6bVpGpWD/xepf1prqSvsNnYpGJUGFAG6A30ktAS3m0OgzhZjsW94j1WqiveyHm1tspQcIgLyQsvRQJ3Q5Zl0uk06XSaUCjE5uYmqVSKQqHAwsICiqJ4o+J4PP7KUTNHgVfdAX7deFkC2HmfDgM3b97kV3/1V9nZ2fHyQb/61a8SiUQ4d+7coTxGF68PXQLYxbGBKIoIgkA+n+fhw4ckEol9V6Y9jsMggM8aAZfLZaampgiHw9y8efO55/e6CKBt28zMzJDP57lx/Qa6onMnd4f12joVu0K1WeVE/AQTsQkkUSKkhJBFGd3SvR07x3Vo2S2uZq7SclrMFefINrP4BB+f7Psk13qvEfFFsBwLy7FQJdXbBYT2DtxAaICh4BCNfINGo9F2DvtU+oP9hNQQI+ERYnKMslHGbJreuL9slNmqbyEhYbkWFaOCrMpkxSxjqTFuhm8SaoWoFCss3lvkrnWXnJRDVETuZ1tsGgbDYZtx02RLDZHX823DiGPSsluIokhACoBAm+iJKhWzgl/2I4kSSS3pETMRkZbdwi8/e8/0eYj6os/cHzysHcC8nme1ukpSS3qjcMM2WK2vkglkPCPOYUFRFIaGhhgaGsK2bS9qZnFxkZmZGSKRiEcIw+HwG6EOHkcFcGBg/007L4OVlRUKhQIrKyvYts3U1BQAExMThEIhfvzHf5xz587xUz/1U/yDf/AP2Nra4n/+n/9nvvjFL75Sz3EXHw+6BLCLNw7Pujh0yMDdu3c5c+YMQ0NDL30hOaoR8Pr6Ovfu3WNsbMyrT3seDmsX8XkEUNd1bt26hSiK3Lx508scVCWVzfomje0GSX+Saz3XiPliACS0BCPhERYqC6imiiRI1K06GX+GidgEftnPmfgZDMvgO1vf4Ur6CiWjRFbPEpSDpPwpj/w5rsNqdZXl6jKVRoVvz36bglXgZN9JCusFaq0ac8U5YloMVVS997kn0ENOz5HUklRaFZpWE93S0R0d27WxHIum1aSkl9hUN7nZe5OhwSG2V7exNix6rV7mcjabBRNBruKPrzNbVkipUVL+FHE1TsQXoaAXsB0bhLZCF5SC7DR32NF30CSNmBLDcixsx8bBodQqMRoeJePPPOslfyUcBjkqtooAe7ILVan9PhZahUMlgI/v5EqS5AUYQ/vztztqRhCEPVEzH1d0yOtsATkMvOwO4EHwy7/8y/yrf/WvvD93XL1f//rX+fSnP40kSfze7/0eP/dzP8fNmzcJBoP89E//NH/v7/29Iz2vLo4GXQLYxbGAaZpMT0/jOA7nz59naGjolY532Aqg4zg8ePCAzc1NLl265LUw7Oc8jlIBLBaLTE5OkslkOHfu3B7FI6ElSGgJ3IiLqqoe+YP2vtrZxFlivhgbtQ0s1+JE5AQDoQECSgBo9ww7skPDbfD+1vs03AYC7ZFyb6CXt1JvockaK9UVpnPT2C2btaU1XMkFFRp2g7AUBh9sNDbavciOxWZrk7SWZjg8zFptjY36BpuNTSzXwsZGt3RkQUYVVUzXJNvMoskaFbNCy26RbWWJhqL0+HuYq+aBEggOO06e72g+0oZNsVCkrJa52HMRRVQotAqkxBQpLYXrurScFkE5SNqfRrd1tpvbVM0qtmPTF+jjvb739rxebxp2G3R2w3VdBA5XfXuRC1jTNPr7++nv78dxHCqVCoVCgdXVVS+IukMII5HIa1PljqMCeNQE8Hd+53eemQHYwcjICP/xP/7HIz2PLl4PugSwizcelUqFyclJgsEggUDglVozOjhMBVDXdaampnAch5s3bxIIBPZ9jKMcAa+urvLgwQNOnz5NKB3iYekhDbNB1BelJ9CDT/K13bzPiJGRRZmh8BBD4aeT7bpZp27UWTaXUS2VgUjbMGI5Fuv1dcJqmJOxkyxXl2lWmxTXi2R6MwiSQNJqq3q6q9Pv66c30otu61iuxWhklJHICH7Zj27pFFtF/LKfhtWgZrSjXoJKEMux8Mt+wmqYvJ7HtM12DIzrILhtQvLpk0lK1QoLjRqO20IEKv44QTHIenGdW4VbuJqL6IooPoWG1WC9vo7rukzEJng7+TY1o8bD0kMSWoJL6Uucip0iokZe6T17Fg5rBJzwJZAFmYbZ8Ah702qCwKF3Gx8kB1AURWKxGLFYjLGxMQzD8NTBzi94HfUwmUweys/6s/Dfyg5gF108C10C2MUbh87FxHVd1tfXuX//vjdS/e53v3soPb6HqQB++9vfJpVKcf78+QOPlDrk61XUiMer4BzH4f79+2xtbXHlyhV0Vef7O9+naTVRRIX7xfvolk4mkCHqi2LoBr3a/h18LbvFbHGWjfoGBb3Aor3IkDWES1tdkkWZiBJhs75Jr7+XhdUF6vk6ZybOoAQVsvlsOxpG1LAUi/Ox8wRDQapmlXcz7xIQ2w7SmcIMC5UFQkqIqBpth1IbRWRRRhREJFEi7oujSe14Fp/kI6yEifvilFvldvByRWC+XEP01REFg7ooIvsCOCETv+InqkS5FrrGnc07bOY2yUk5DNkgGUwyFBxqx5/Ydfyyn5bdIqyEX3r373lwXbddZVddZcPaYKuxRUpLvbRZI6ElGIuOsVBeoGgUcXGRBZnR8Chp/+EYAnaf+8t+dlVVpbe3l97eXlzXpVarkc/n2dra4tGjR/j9fm9UHIvFDnVke9wUwEajQTj8ZLd2F128LLoEsIs3ErZtc+/ePbLZLJcvXyaZTAKHQ9wO4ziu67K5uQnA+Pg4w8PDL7W71bkAvcrFaLcC2Gq1mJqawrZt3nvvPSRVYnprGsd1GAgNUDbKVCtVdpo7CAhoosZ8c56G3eCC++J+Udd1eVB4wGJlkbgvTtQXRUBgtbZKUAvSF+wDQBIkDNvg3t171Eo1xk6OEYvGcFyHkBIi28gSVIIoooKERLFVJBPItE0kZtvksV5fJ6klPcJ1KX2JrfoWRaOIbumElBC4bcfrYGiQmC+GX/YzFhkjp+fINXP8f6Y3EdQ6yC2Sts2QabLmVyk089TNOiWjxOnkaX7i0k9QaBa4t3WPR4VHBKtBNsobPFQf4vP78Gt+XLGdjdiwGwwFh7Bci4AcIKy8uqlhubrMo/IjSrUSG9YG39/5PgPBAS4kL6CIB3fQioLIqegpUlrKy16MqlESWmKPMecwcFhB0IIgEA6HCYfDnDhxAsuyvD7cBw8eYJqmF0SdSCReOWrmuBHAWq12oOlCF128CF0C2MUbB8uy+O53v4skSbz33nt7xkD77QN+EV7FfGHbNnfv3iWfb0el9Pf3v5IZBXilMXDnuZTLZSYnJ4nFYly8eBFJksg1c1RaFc+wsNPYwXLbhMl0TIJqkKSaZFvfpmyUX7jXVjWrbNY3PWKmiAohMYTt2Ow0dtrtGYJIrp5D39A5GTzJZy5/htnqLDWzRkAOkNSSbNQ3sLExXIPN5iZDwSFOxk565KRhNTAdc4/aZtgGiqzgGA5xX9yLsImpMc4nzlM1q9zN36ViVkj4Emiihs91adZExMAS48JD1hSZeTOP5AYxXZOAFGCjuUHUF+Vq5ioT8Qne334fwRVYr6yjl3XEpshqYZWML0OtVeNr+a8xFB/Cr7TDpweDg5yKnUIW5bZZxLVRRGXfRKtiVJgtz6KKKn3+Pppyk7Q/zWqt7eIdDg+/1OdCEASSWpKklnyp++8XR1UFJ8symUyGTCaD67o0Gg3y+Tz5fJ75+XlUVfXUwXg8fuA0gONEADvPv6sAdnGY6BLALt44yLLMyZMnSaVST3xBf9wKYKPRYHJyElmWuXnzJt/4xjdeqVJutwL4shBFkXK5zPvvv8/4+Dijo6PeBVkQBAQEXFxs16Zm1tBkrT2u/cG/+SQfpmNSN+svJICGbdCyWx6pUCWVhJQAAXaaO2w1tqg36uTX8lzru8a1t661zQgS7cgZo4Iqqnx68NPEfDE+zH3ImegZzvScISgHsW0by7IQHAEcMCwDBCjoBR4UH2A6JoOBQZJaEsM1qBk1ToRPEFEj3M7dxsUlpISQBAkBgZg4TrWSIiK2qAYdHikqlmPgs0R8sg/TNWmazTZRNioktAQT0QlmCjNkrSz+kB8pInFGPENKSDFXmGO5vIxYEBmMDeKEHO4373v7lGu1NVp2i5ASYjg8TG+g94XkqKAXqBpVhkJD1Fo1Kk6FrcYWFaPCfHn+pQng68KrjID3C0EQCAaDBINBhoeHsW2bUqnkkcFms0k0GvV2B0Oh0Atf9+PoAu7uAHZxmOgSwC7eSHTqpx6HLMuHRgANwzjQfbLZLHfu3KG/v5/Tp097uYSvQt46KtbLHsN1XfL5POVymcuXLz8R+BpVo8S0GDk9R4+/B1VUqRpVLNeiL9CHKqm4ggsu+xo1+iRfe+fOang1aHE5jubXQAahIWCumnzm1Gc4N36uXbuHyPnkeUYiI+iWjk/yEVLaF+iCVmAoMERACngB36IoElWjxH1xlspLVMwKhVaBtfpaO5Mv3FbFfJKPltNCFVVWa6s4rkNPoN1LGpADfLhSZ7OxAWKItKlSFEQqsoJrNTAEk6bdJKyGqbaq1LSa1x08Eh4hIAeoGBVKRomB4ABRNUrVqGIHbSbCE5wMnYRmO/Nxu7rN3PIcvqCPoD9INBSlbJYptAq8nXr7mZErruuy1dhiOj/NbHmWklGiVCuxY+wg1SQqZoWqWeVk7CSDocGX+ny8DhyVAvg8SJLktY4ANJtNz0yyvLy8J4rmWVEzx0kBhDYB7CqAXRwmugSwizcSgiA8lQAe1gj4IAqg67rMz8+zuLj4ROXc6+wUfhydtpFGo0EymXxq2r8sypyJn2mHPtfXcXDItdpksD/Uj+VY5I08YSm8p43iWQirYfqD/Uznp5FECU3SKLklhoVhes1erKzFzWs3n3ouISXU3tv7AVp2iy1zi1w2R7gV9qJfQr4QiqNwMXWRpdoSW42ttokBmUH/IJIgkdNznImdQXGUdhZgq4SAQNWo4pf91MwajlBCUDcRNT9xdQtDEhFFCdN1aDpNREdEEAUeVh6SCWS8cxMEgUwgwyf7P8nt3G0sx2KhssB2fZul+hIjoRE0n0Y0EqWnp4dwNcwfrv4hSlPBKTu4rkvIHyIZShIQAvQEepAEiYbVYKfZrpvzS35sbOZKc1iORUAKsF5bZ6u2RZAgUV8Ux3WIq3FmS7N7diHfNLwJSprf72dgYICBgQEcx6FcLnuBxvfu3XsiiLrzM/cmNpQ8DaZpYhjGkcfAdPHfFroEsItjBVmWabVevS91v/l7pmly584darUaN27ceOI38MPI8XuZY1SrVSYnJwmFQpw4cYJSqfTM26b8Ka73XifXzNE0m4xGRqkbdfKtPDIySV+ShJjYl+PUcR0Q2jt62WYWy7UomkVS2RRIcOPGjX1dpCzHYjo3zZKxxIA5gM/y8aj0iJJR4lL6En7Z397pEiCiRWjZLRRboek0iUkxKq0KFb1CzWqPtFdrq1SMCkEliGEbuLj4/CKiXEEIPkIX1xizbPSASkFSEdy28iq6Ig2z0W4DeWxnrz/Yz3Zjm29ufBPDMVBllZQvhSRILFeXOSOfQZVU1pprWKLFhf4LbVXSaJGr5NgsbVLL1RA3REKxEFviFi25hSqpGLbBdmObtD/NSHgEQRDY3N5EQKDgFMg2s2T8GU6ET5DTc5RapTeWAL6OEfBBIIoi8XiceDzO+Pg4rVbLM5PcuXMH13VJJBLouk40+vRGljcNtVoNoEsAuzhUdAlgF8cKh7kD+CIlsUOyAoEA77333lPVgtfR5PE4tre3uXPnDidOnGBiYoLV1dUX3n+3+naWs1SNKnWzjizKVKUq+Wx+X4+909hhqbrEydhJziXOUW/WubV5i7pd58L1C/u+QOWaOdaqa6S1NOXNMjQgHAmzaW/SG+hlLDrGRn2DjcYGYSVMT7CHgBJgubJMq9aOY9lp7RBWwtTNOkEpSFNoYlkW6411cKFpuiA4CFIDJVDGNEQk0UdQbpPEmlXDciwSWgJVVim2ivQGPorDkQQJv+xv19P5Ykhi21SzXl9nu7FNVI3ik320rBYxX6w9BhXA5/MxkB7A0RyGgkOcCJ/g/fX3WS4uExNiRCIRfEEfRb2IIioMh4fpD/bTF+xDcRWyjSwDoQGGQ8PIQvsr2sWlYTUotoqekzqmxt6YSrU34TyeBZ/PR19fH319fbiuS7VaJZ/PUygUvFDq3VEzbxKZ7aBerwN0dwC7OFR0CWAXbySedUE5zBHw80jT5uYmd+/e9UjW887ndRFA13WZm5tjaWmJixcv0tvbe6D770ZYDRNW22qmLun7DiDeamyBC0ElSK1WY2l2iZgSI5AOUHNqpNgbMuy6LmWjTKlVwnVdor4oMbWt4DmOw6nxUzQaDcrlMtmdLNv1bfRNHWfQYcVdIaJEcHAQEekJ9KCJGgvVBWJajGu91zxX8mB4kGA9yFxpjobRoGiUmNuUcIwTCKKOJltULAFEFdMx26YCOUhQDhJWwxT0Ai37SWW5btYJq2HPHBOQA2iixp3CHbaaW4xFxhiPjLPeaBtcImoESZQwbRPd1ukN9ZJIJ4jYEa4PXMc1XCqVCsVikXK5TFEuEtJD9CX6GA4NU2vUiItxev29KKJC2SgTkAPots73tr5HzWorQYqoMBQa4nTs9EtnBR4WPo4dwJeFIAhEIhEikQjVapVoNIrf7yefz3Pv3j0syyIej3uE8E2JXanX6wQCgY991N7Ff13oEsAujhWO2gXsOA6PHj1ibW2Nt99+m0zm+X2vh1Xl9qLnZFkWd+7coVqtPjGKftU2kYPc33IsZFEmm82ysrLC0NAQ29vbCAieiaID13WZK88xV5rDcAxc10UVVUbCI8jIbWInioRCIUKhEAMDA4TLYaJWlFKlxL2te1hYGJpBTasRDoRxcEhoCX5o4Ic4kzjDB9sf4JN8+BQfY7ExdFtnsbrIdr0FhBHlKmEpSByZhiDg/CB0O6SGEAWRhC9BUktiuRamY3rnbtgGuq2jiiq6rXt/LyDQclq4rotfaodDN60mIu1g6tnSLC2nhSIqpLQUZ2NnP7qvIBAIBggGg/T19aEUFO7u3KWiV2jMN6g7dSpuBdd1KTaKlOUysigzEhphubKM6Zr0B9qRQ02ryUJlgaga/dgNIm/aCHi/6OwA7o6aqdfr5PN5stkss7OzaJrm7Q7G4/GPjYB1COBxIdpdHA90CWAXxwqH6QJ+/DitVovbt29jGIZXdP4iHMYI+EUksl6vMzk5ic/n4+bNm084Gp9V5bZfPMtw8zQkfAk+mP0AoSJw6uQpIpEI69vrqKiElb37kYVWgdnSLH7J77VP1Fo15opznE2c9SrcEr62+aRm1lAVlfOD50lpKYxNg43iBlbDYr2wTi6XIxgIkgy3dxah7XLeaGzgui66rbf7el2behNcR2MwajEYKBMzfCRqJnlRxZQD7T2wH3Qh+2U/PtmHLMi4rstKdYWl6hJNu4lpm+w0d9Atnb5AH/lWnnvFe/T5+zibOIssyOw0d1iprlAzax4Zde12HE3TbpKRMyR8CbYaW2iShiAIGLaBJEmc7TlLQktg2iaRVoRkOYldtcnN54gEI4ymR3Fll6pZZSA44BEAv+xHNVW2GltvBAE8jsTkcRewIAjeLyMjIyNYluVFzczOzqLrOrFYzFMHg8Hga3ve3QiYLo4CXQLYxRuJoxy5Pu04pVKJqakpYrEYly9f3neo7GEpgM86Rjab5fbt2wwODnLq1KmnKi2vSwE0TZPt2W3kpkz4RBhLtcg2s1TsCuP+8ScCh/PNdj9vJ4Tatu22a1go0XJanEuc40HhARuNDXBBkzVOx06T1tIIgsCJ6AlKRgk5LDM8OEytWWMtv0bICHHvw3ssaAsEEgFs1+ZO4w55Pc9WYwtFVHFcAbDxSyJyRCVRDjBomAhqmlz/J0CgvYMnKfT4e5BECVVUWa+vc7d4F03S0CSNbDPLWm0NAYGiXsRwDDJahjOJM15sTtwXx3Ed+oJ9xH1xJFEiqkZxXZfV2ioDoQHGomPUrTpL1SWKrSIFvYAqqpyJn2E8Mk5UjaJICnbNZm52jsuXL3uhx/cf3GfZWsaKW974UpZlr23l48abvgP4LLwoBkaWZVKpFKlUe62h0Wh4UTMLCwsoirJHHTxKR3GtVnuthLOL/zbQJYBdHCvIsnzoMTCrq6s8ePCAkydPMjIycqAv2aMygbiuy9LSEnNzc09Ez+zn/gfBfnIIG40GH374IX6/n//hk/8DO60dthvbSILEhH+Ck+GTSOLe8Zjt2N5zcRzHU4pEQcR2bfqD/cR9cYqtorcfuDsmJu6LMxweZq22RqFVQBIlLo1cYiI2QUAKUCgU2NjeYGNjgyV9ibpcx5IsLFvDNWLgqDzKazwqmJwbCtNn24xY8DWfn/XaOoIoeHl9p6KnyNfzTOYnsV2bofAQK/UVKlaFvmAfDauBX/FjmzY9wXbWoGEbbUevY7SfT6CfwfBHapxhG5SMEk2rSdwX51LqEt9c/yY7zg4nIidI+pLYrs1CZYFLqUtE1Sib9iY2NkggRAWi4SgX+i/gbDm4LZf1rXUeLD4g5A9hB2wu91/+2BW4j/vxXxYHzQEMBAIEAgEGBwdxHIdSqUShUGBxcZGZmZknomYO8zXpKoBdHAW6BLCLY4XDdgHfvXuXnZ2dPX3DBz3OYSuAnaq5YrHI9evXXxhVcRgK4PNGwPl8nqmpqT0B2BF/hInYBADfW/keEk/uRkV9bRVMN3VUSUUQBCy3XZXWGfv6Zb8Xb2I5FrqtIwsyy5VllqpLVIwKeT1PuVVGERVWa6ssV5eZiE1wInaCpD/JUGCIc+455rJzzOZnsZs+XEfEtTUEQJAtqvU4b7cMzOoWAgIODqVWiZbdwrItPsh+QLlVpmyWcXHJtXLtjuHgIJIo0bJa9Pp7uavf5dbOLXoCPbScFr4fuIod13mCAJuOiSIonknDdEws2sd0cTFdk6gapdQqcSd/h7AaZrOwyWp9lY3FDVRR/eiYKuScHPVoHSNksNPYIdaIsfFog9pCzQtFTiQSrz3b7rjuAL5KfqEoil7I9MTEBLque1Ezq6urCIKwJ4ja5/O90rnW6/VuBEwXh44uAezijcRRu4BN0/QiIR7vGz4IDssF3DlGs9lkcnISSZK4efPmvi4cR6kArqys8PDhQ86ePcvg4NN3zZ62Q+i6Lgk1wUBggNXaKorU7sZt2S0GQgNkAh+Za2zXZr22znJ1mXKrzEZ9g836JnE1DkK7fzirZ5EEiR5/D02rScNqUDEq+EQfiqgQDUTpbfaynF0m2BvgE0GR2ysqFV3AbfXwh9kof1dxuJd/wO3VMqFgkIQmElEibDW2mC/Ps95cpzfQiyiKZBtZamYNQRDaGYGIVFoVakYN0zFZqa6g2zoNswEChJUwD4oPCCkhwmqY5WKZ+9kNPnfyLQJy20mabWaZK8+1yfAPSGhYCaNJGluNLSaiEziuw461Q7lU5mT0JBOhCUzH5G7+LlWjStQXRfEpaBENSZAYjg0zKA16DRid0OMOIdxPJdqr4r/WEfBBoGka/f399Pf34ziOFzWzvr7O/fv3CYVCHkGPRqMHftyuAtjFUaBLALs4VpAkyRspvuyXd0fRArhy5cpTa6L2i8M0gRQKBaampujp6eHs2bP7fn5HoQA6jsODBw/Y3NzkypUrJBLPbgl5nAC6rtuudEPkQuoC6WCa7fo2Li49gR56A717aucWy4vcL95HRGSjvsH9wn1Mx0QURPJ6vm2sENsmjagv2jZQ/KANJKJE2gRyfZ2dnR1unrxJSSiBtsK1kX5Oxc7ws7+dZckOkpMjmE6Tew8+IKfF+QtXz9J0mmzUN3Bch/XaejtAWmqTSt3WqVptU0nKn6JhNRAR6Q/0k2/mEVyBltBCEASiapSV6hrfmM0RlPp5sGHjmDECpsqlTPs1Wa+vo9s6GX8GWWwbTgqtAgvlBXySj53GDpulTbatbU5LpynoBerBOpqktdVGycdbqbe8165hNthqbjHaO8pEvK3G6rruZdx1KtF2q4P73W09CI7rCLhTO3jYEEWRaDRKNBplbGwMwzA8dXBmZgbbtvdEzfj9Lw747iqAXRwFugSwi2OFzgXsZb68d+/VnTlzhpmZmVdyz8LhjIAFQaBYLLKwsMDp06cZHh4+0P0P2wRimiZTU1O0Wi1u3rz5wiy03Qpih/x1CLokSAyFhhgKDT31vrqls1xdJqgEaZgNmlaThJagbtZpWA00SaNqtuvdZFHGdm38kp+6VScgB5AFmfW1ddDh4tmLaJpGoBUgIAe4krnCUGiIwcj7rBab/J59g087X+OsNMd88AZLq0vsODuUKOFTfUQDUfySv92N/IPnUmqVOBk7SU+wh1vbt4hoEXIVF8v142CwmJXI1U0ikoXuyOi6i6NLOPo4rh3gymDb/Vy36hiOQX+gn1KrRESNeCRws7FJVI2i2zqVVoWSXWK1ukpcizNhTyAL7ectS/Kez6uDw1p1jfvqffqCfaT9aTRN21OJ9vieWjQa9QjhYZkKjvMI+HWct6qq9Pb20tvbi+u61Go18vk829vbPHr0CL/f7+0OxmKxp46luwpgF0eBLgHs4lih8+V40B5Py7KYnp6mXC57e3X37t07lPGtYby8E7NzkW42m1y7do14PP5S5/CqI+AOsajVaty6dYtgMMiNGzf2pRh1FETHcbz/E0VxX+SiYTXaUSn+DNuNbVRJxS+3CZ7jtp+TgIBu6WiShiq0TRcROUKhWWB9sa3aRQejZK0sQl3AL/l5J/UOw6FhBEHg//nTl/gHX53j/3XvR/i89Qd80llB67lIKJKiWC6iNBX0pk6pUSIQDBAKhFADKjd7f4jZTZffnd1GVTcZzbjkyiIfbiwiKDlEuYHryAiyRdl0EUQDQfEjCWs4RoZMIMInxmJAu0JPQKDH34Nu62w0NhAR8Utt9adu1gkrYcJymLyYp2yWMRwDx3VQRAXbsZEFmVwzR92q07Sa7DR3cByHqC/KVmOLjD/DxdRFb+T8+J5as9n0XKyLi4soiuKRwXg8/tLq4HEcAb/qFOFlIQgC4XCYcDjMiRMnsCyLYrFIPp/n4cOHGIZBLBbzCGEn+++oFcBf/dVf5ctf/jJTU1OoqvrUasmnvce/+7u/y5/5M3/myM6ri6NFlwB28UbiWRcUQRAOvAdYq9WYnJxE0zTee+89b+R7GPt7r6IA6rrO1NQUpmnS29v7UuQPPiJwLzuK6xDIXC7H1NQUQ0NDnDp16kDHchzHey33S/4AVElFFVVadgtVVLEci5gvRl7Pt9U+2U9BL7TfdyQvsHmzssnmzibDoWFODJ3AcAyCSpCh4BCu4GK7Nqu1VdL+ND0RPxf7w/z+/SS/y7tcND5kdvV7LA/bOJLA6cxpiq0itm2jojKb22azpLKxNY4tVhF9TRBNHmy6iOoqglgBHHBEEJsIooXoSvhVCZEa9VaFkKjyCz+SodwsE1SC+AQf1VaVmeIMYTWMKqo4rkPTbqJJGrIgI4sygigQFsM0nAY1t0apVcJ0TJK+JOuNdWaKM2iSxnJ1Gd3WeSf5DiciJ7Bdm836JtFqlDPxM099rf1+v6cO2rZNuVwmn88zPz9Ps9n0Mu52E4/94DiOgDu/8HzczRqyLJNOp0mn07iu+0TUzPLyMl/72tfY2tri5s2bR3YehmHw+c9/nps3b/Jbv/Vbz7zdb//2b/PZz37W+3MsFjuyc+ri6NElgF0cOxyEuG1vbzM9Pc3Q0BAnT57c8xv/YRHAlzlGqVRicnLSU19M03zxnZ6BznN6lQux4zhMTk5y7tw5BgYG9n2/zmPm83kvo+4g5xCUg/QGelmsLOKX/UiCRMtud/36RB8tt0Vci5PwJXBp18pJpsT6zjoXMxd5e/RtBEFoq2r1DVpWCwcHXHAFl5gao1ZN8Rt//F3kUJ7/MHCKzeY6Ub1IZu1DVnvOIwQEosIYBV3kO1sNNmsmdmMExDqp+Bb5mgZ2BMQmiCsgyIzEAvj8RZqWzXZJwedvMRjp4cGGg+sofGIiyXfWlohoIc7FJ/ijzT/imxvfJKtnUSWVkNw2ZzTsH+wVBvtxXIeqVUVCYiA0QMNsIAsyI+ERMv4MFpZXraeI7fxCF5em1cQv+4moEc9M8qJ6OEmSPHXw5MmTTxAPVVX3qIPPI0rHcQTc+aXtTTpvQRAIBoMEg0GGhoawbZtgMMh3v/tdbt++zfe+9z0++OADPvvZz/K5z32OS5cuHdpj/8qv/AoAv/M7v/Pc28ViMa+Csovjjy4B7OLYYT8KoOu6zM7Osry8vKc39/HjvK4e391YX1/n3r17TExMcOLECRYWFmi1nuyhPcg5wMvtNDmOw/z8PK7rcvXq1QOpkJ19v8HBQVZXV5mcnEQURS88N5lMvnCsKAgCp2KnPAXLJ/so6SVivhg9gR6CSpBTsVPEfDGaVpPNrU2+/+j7vD3wNm8NveUdxye2TRQiIld7riIKordf9388/D6iaoJg8iDXIitc5f+sfptr5R3irSbvb1f5MHcVx/EjSBaq0MtPnD7PmZECJxJ9BOUwUyt5CpUSk4V1kpLD2egJqkqVeX2evgGFYqvEUs7AtUME5Thfe7SF3XKxnYdsDC3xYfZDRFFkLDrGfHmercYWUbXdi1xsFXFch4vJi4S1MEWjSFSLEolG+LHhHyOshPnjzT/mRPgEISXETnMHSZBIa2kKRoG6Wccv+xEQcH/wv4Nid8adbdtPNGB0TAvJZBK/37+H5B/HEfCbSAAfhyRJXLt2jWvXrpHNZnnvvffo6+vjP/2n/8S3vvUtvvzlL7/2c/riF7/IX/yLf5GxsTH+8l/+y/z5P//nj91738VH6BLALt5IPO9L5UXEzTAM7ty5Q6PR4ObNm8/cnXndCqDjODx8+JCNjQ0uXbrkNQwchomjc/yDwDAMpqamvB3Gg4xzdps94vE4iUTC22fM5XLMz88zPT1NPB4nnU6TSqWeaSbRZI13Uu8wFhmj5bTa42TXRhRE4r44mqzhui751TzVtSpXzl9h09nc+1wcg5pZoz/Qjyi0Xw9BEFAEhb5Ug7FKLzljnVrLT9aK83vqp/jT2vtcq2+gWbf5lDzLh84ZFpWz/Pxnf5QzmX4ms2UCSgBZFLk6msZ2EyR2yqzV1girYfxNP/lWnnqzTlEXaNTjuHaEqmUCAoJUwlYqfGMjiyIqyJKMJEqIokjMF8Mn+egJ9KDJGnk9z0plhbSUxsHBJ/l4O/m2V68nCG1yJ4syKS3FTnOnHVOD0DbhuA5lo8x4dHyPw/plsNs5DO0Q8E4ryfz8PKqqegQ/FosdyxFw52f2uJx3vV5naGiIn/mZn+Ev/aW/9LGcw9/7e3+Pz3zmMwQCAb7yla/wV/7KX6FWq/HX/tpf+1jOp4tXR5cAdnHs8Lw+4EqlwuTkJOFwmPfee++5CtRhtXjs5xi7ydbjztpXPY+XIYDVapVbt24RiUS4ePEi3/jGN/YdjPu407dzEd1tOjh16hSNRoNcLkc2m+XRo0cEAgFPHYzFYk/0sEZ9Tw+8tm2bmZkZKpUK169fpy7W2d7ebhtD5HZ+o27pOK7zxDEs1yKgCvy1Hx7nDxda/Pu7beK43gzyf+dT/Ji1xRXpA3op0SO9j+C+T/Pr/56Z+ARGKEUrOooaG8cNJCnbLXJ6jryeR5VUouEoGV+G+VyW7LYErgrYCGILXJGzwxZxf4pGQ8Qn+Si0ClSMCq7rElAC6LZO024yEhkhrIbbbSm6S8aX4XrqOqfCpzy3e1+gj5nCDCElRN2qYzomD8sPUQSFqBqlYTZI+VMMhw7mIN8POupgZyz5uGnBdV2y2SyKorzQMf6m4CBGpTcBtVqNcDj84hvuwi/+4i/y67/+68+9zf379zlz5uk7o4/jl37pl7z/vnTpEvV6nX/4D/9hlwAeY3QJYBdvLJ4WMAzPVt06o9WxsTHGxsZe+OX+PCK5X+zHBLKbbD2tZ/hVo2QEQdhXnVsHOzs73Llzh5GRESYmJrzX4EWROB2jyX7NHoFAgOHhYYaHh7Esi3w+Ty6XY3p6GsdxSCaTpNNpksnkM7MYW60Wt2/fRhAErl+/jqqqaK7GaHiUxcoigtH+jDiuw2hk1DvPznk1rSZBOYgqqlzs6yfbLGMbYbJ6gYVti++EzxI9ewG7tcmp7H207AOo5dlpljAkgYoDqmMjujDvDyCpAd6VA4jKMiXFh6AGYDNAj6GRVyvYkoJj+RHlKnE7iJATsLBw/A5BOch2Y7vt7jXbruCwGiYVSGE7Nq18iyuRK1y7eM1rUXFdF8uyyKgZ8lqeB4UHrNfXcXDo0XrwyT4aVoOT0ZN7HMBHBUmSPBLfMS188MEHlEolVldX9xVp8ibgVVpAXjdc16Verx+YXP/8z/88X/jCF557m7GxsZc+r3fffZcvfelLtFqtV2466eLjQZcAdnHs8Hgf8O7Q4t2j1RfhsEKcn3eMra0tpqenGR0dZXx8/KmE6VVHwPs9xu4cxAsXLtDX1wd8NAZ73v13x7x07nMQ9USWZXp6eujp6cF1XSqVCtlsluXlZS+fLpVKkU6nvXy6jns7Fotx7tw574ItCRJnEmdI+pPkm3kcHJJaElmQmSnMsNHYaBtI7BYRX4QL2gXyep6IGuTKQA9bzS3iRpNTvTJB1cDEohA+Qe30n0IQVcTcQ2K5h9QrC/RWc+iNLBuuTg2HC7UiQ1YWAFMQyIsif9K2OW0YrFoqt+nlfXmQ79kZvr8+yuc/d4bmWpO50hyyK3vmDF3QGQmPkNSS1Bo11rbWuJG6wWff/eweZbTjrrawiKtxTMckIAXo8feQ8CdIaAmKRhHTMVHFlw80fxl0TAsAZ8+exefzeerggwcPME3zid3BNwUfRwTMq6DRaBxYAey4i48KU1NTxOPxLvk7xugSwC6OHXaTrk6UiuM4+wotftZxXhbPIl4dE8rKygpvv/02mUzmKfd+/jEO4zw6cByHmZkZcrncE/3CLxohd1S/jkL4qhdOQRC8poROj2oulyOXy3kO1HA4TD6fZ3h4mImJiSfIpiRI9AZ66Q3sNfdocrtWrWJUCCpth7Ff8nvGi95QL5IkkW1kGQoNkQlkWCgvUDbKLFYXORc/h9z7Fm7PRdzGBgOZq8R9cWbzM8g7kwzIIZxmEaFZQmnmUKrr6I0i4eImFxo5LrDMT9irfCugsSPOERX/Gj96+kdJ5pI8yD2gZbQQDIFcK8eiuchKaQXBEbgQvcB/d/m/e+K1FUWRolFkpjDDWm2Nucocpm1SMAr0Gr1UjSopLUW5VabaalfFvW5i01FcH480qdfr5PN5dnZ2mJ2dxe/3e2Tw8RWA142jagE5Khx1EPTKygqFQoGVlRVs2/aakiYmJgiFQvyH//Af2N7e5saNG2iaxle/+lV+7dd+jb/1t/7WkZ1TF0ePLgHs4o3Fi0bAhUKB27dvk0wmOX/+/IFHOkdlAjFNkzt37lCv17lx48YLA1wPaxfxWQSu1WoxOTnpkeTHe4875Oppr/Wz9v0OE5qmMTg46DlQZ2dnWV1dRVEUVlZWqNfr3tjxRZ3NETVCRI088ffnk+cZj45juRa3c7fpC7SbMwDivjgNq0G1VaViVkj4EtTMGpqkEVEj+GU//ZETLNTWuG81KEouRcVBVFK40SSX05e5FzvF/cUH/Mc/+Bo/7txjyHqILS/g/uf/Ce29v8G51DmSWpKh0BCT2Uke5B9gtAzMpokkSRSrRb42+TWuD10nlUp5qophG9wr3KNm1pCEdg6ipmhYrkXTbrLR2KBpN0lqSXDageeCIHjv1VGTnM6Y+vHHEQSBUChEKBRiZGQEy7K8mJlOAPtudfBlu7hfFsdNAazX6wdWAA+CX/7lX+Zf/at/5f25EzHz9a9/nU9/+tMoisI/+2f/jL/xN/4GrusyMTHBb/7mb/KzP/uzR3ZOXRw9ugSwi2MHURQpFossLy9z+vRphoaGXoqYHJYCuPsYnbGl3+/n5s2b+2orOQwF8Fk7gNVqlQ8//JBYLMbFixefSZKfdg6vg/w9/njz8/NsbW1x9epVYrEY9XqdbDbL5uYmDx48IBQKkUqlCCfCWKqFi0tYDRNRXpw/2HETW461Z1zaE+ihYlRYq6+Rb+YxbRPHdTgdP01IaZN3RVJYr61zO3+butk2YQgIZLQMk0zyoPSAP7wvsKj2spOZ4G9dHqTv1j+jUJjF+O5vonzib3Nl8JOsVFe4X7yPZEu4LZeB1AAnEifYqGyw4qzQv9bP/fv3vefphByKepGkP8lWfYu4L45u6+0GGtcgqkTZaG5wMn6SWCDmjel3fyZFUfTIzmGTns4vDfvZt81kMmQymT11aFtbW55BqEMGo9GjVzGPEwE0DAPLso60CeR3fud3npsB+NnPfnZPAHQX/3WgSwC7OFboKH/1ev2lq9M6OMwmENd1yeVy3L59+8BNGofRJ9ypY9uN7e1t7ty5sy9TzG61taPqHLTW7VVg2zZ3794lW87Sf6afdWedYqVI2p9mdHSU0dFRDMNou083HjI9N42OTigUIhlJcr7/PGeSZ5CE56vAgiCQ1JLcL9ynbrb7eTVZoyfQA0BCS5Dyp+gL9Hl/BzBXmqNm1ejx97Aj7KAISvs1c1yqRhXXkVncAddK8GDD4H8szvFLP/R/o+e//G3O6VMs/cd/wT+bGCOUmaLZaBI2wwynh7Eki83GJhF/BFEUeefCOwi24BlmHi09YsFcoD/WT0Eo0BPsodgqktNz6JZOUAkSVIIMR4b3mIs6JLDz2ezszB62OvgyawGP16GZpumpgzMzM9i27RlJksnkkeyYHScCWKvVAI6UAHbx3ya6BLCLNxaPk45Go8Hk5CSWZXkNBa8CSZJeKYC5cwyA+fl5FhcXOX/+PP39/Qc6xmHvALquy8LCAgsLC88MwX7W/R83e7wO8tdqtZiamqLhNhBGBGYbsyiigumYhJUwb6XeIuVPoaoq0XQU13aZSE7gs3xUK1W2s9v83urvsZZc42z/2edmDgL4ZT8b9Q3KRpmgHMSwDWRJ5hN9n+BG7w0vR7AD3dJZra4iizLpQBrbtYn6ojiuw0p1hbpVpzfUh99fplEFXJWGUeMXvnybROtn+Zrvb3JVWOZLS19lTVcJBR1i6RiaXwMXykYZwzY4HT+NIiiIqkhfXx99fX0MnRxCWBSoV+vUCjXyO3nCWhif4qM32stQeAhN0Yj79v4s7Fb9dnc0P0sdfFkytF8F8HlQFGWPQaharZLP59nY2PBU3w4ZjEQih0LcjpMLuFarIQjCsYnY6eL4oEsAuzgWyGaz3Llzh/7+fgKBANls9pWPeRjKW+cCuLa2xrvvvksk8uT+2YtwmDuAHSWtWCwe6Hw6I+TDNHvsB7udvk7SYb25znBwGEmUcF2XneYOj0qPiGtxJEGioLez9AaCA20zSSTabiIpreK0nBdmDlqOxXZjm/5QP71OL1Wz6rWGyKKMwJNExsGhYTWo6BVcoV29FlbDnmoqIIDr8qfOD/BoLczUWtm7b44o/97+BD8l/wHXpLtUwj+MnDnJTmsH0RCRJZlSq0RUjfJ26u0nXvOwL8xgYpB5aZ7h4DCbtU2aehOxJVLZqPBw5yHn0+dp+BtoCe2ppOZxMrib5L+qOrjbFX4YEATBqxQcHR3FNE0vhHp6ehrXdfeog8+KD9rPeR8XBbBjADku59vF8UGXAHbxRmO3mtVR1zY2Nl6ZMMGrj4A7iiTA5cuXX4r8weEpgK1Wi/fffx+AmzdvHmh0JooilmW91oDcTiZg/1A/elTn26vfxnAM1ipr9AX7GA4Pt2NO9CJVo0rMF6Nm1ii0CgiCgE/0EfVFUUSFoBYkGA5ype/KczMHpZBEqVViKDSEIirtxhFEdFun1CrRsBoElb1uy6JepGyUKRgFcKFhNWg5LaJKFFmS8ck+LMfifF+MT4zE+cp9MByZL7zzQ0hOlH/+Lz/kp/gDfkjaZOXsMDEtxu3cbTYbmxiGgU/y8emBT3MxeXHP4xb0Ag+KDyjoBSzHwnIt4lqculzHCBiookpMjOEX/Dx48ADDMIjH4x7xfZpi1CERHaL4qurgYSiAz4OiKPT29tLb2+upg7lcjrW1Ne7fv084HN6jDu73PI6TC7iTAXhcQqu7OD7oEsAu3lhYlsWtW7eo1Wp71KzD2N171ePk83mmpqbo6+ujWq2+0jhJkiRv7+5lv+Qdx+HRo0dkMpkDO6I7Ls75+Xl6e3tJp9NHnu21urrKo0ePOHfuHAW1wJ3sHbYaWzi0Vanl6jI7zR3OJ8579ynoBWZLs6zV1ijpJWRRJqpGORE5QcNqMBIeAZ6eOZjL5VheXma1vMqcOEdvtJe+RB/JUBJBfPZr3rJbzJZm6fH3YMUsVmorWI5FtpmlalSZiE2gCiqFVoFGvoEgCPRmQtzsvQl2iJ/515NE3X6WZRldLLHV3CSrZzkVO8VweJiyUeZs/CzXe6/vee+bVpO7+btUzSopf4pMIENRL7JcWSYTyJAOpAlIAQzHQHd0Tk+cJibE9t280sHT1MGOCrwfdfCoCeBu7FYHx8bGvJ3QfD7P2toagiB46mAikXiuOngcFcAuujhsdAlgF28slpeXcV2X9957b4+bVpKkPUHQL4uXIYCu67K8vMzs7Cxnz55lcHCQjY2NQ+vyfRkiubW1RaVSoaenh4sXLx7oYtxRft566y1yuZy3dxUOh71g5nA4fGgX+E4+4sbGBpcvX0YKStzZvIPt2CiSguu6xH1xqkaV9fo6gitwKXOJgBLg+9vfR0DgVPQU281tZFFmo7FBxazwdupt+kNP7l7uzhwM9gUpbhYxN0zuFO7wYPsBSSXJWHwM028ykZl4okmjbJSpmlWGwkOkA2n6An3sNHdomA00WeNa5hqr9VVcx0UQ2yNhy7V4lC3w9//d98CVGcjofOio+FybIX8Pa3qWpeoSJ6MneSf1DkPhoSfMKzk9R7FVpD/4UbdxpzN4JDJCj/8jg8pOc4e12hp9PX2MjIx4sSu7VVDbtkkmkx4hfBrBf5o62CGDz1IHHcc5cCj4YUFVVW9X0nEcb3dwdXWVe/fuEYlEPHXw8c/wcdsB7ISjd9HFYaJLALt4YzE2NsbIyMgTX3yHUeEGByeAtm1z7949crkcV69e9Uwoh9nle1DlrmM+iUajJBKJfV8kHjd7hEIhwuGw57btKEnLy8vIsuyRwUQi8dIXTtu2mZ6epl6vc/36dQKBANuNbSpmhZbTYig0RF7PUzbK2I5NzayxI+7guA5LlSUKeoGUP0Xanyashsk2s7iuS1AJciZ+BlEQWamuoFs6fsVPWkt7XcF1s869/D1EWeTmyE2WK8sU9ALVZpWl1hKhSojN7U2mNqdIp9NPzRwMyAFGo6OMRkfbzl9cVFlFkzX6An3e7RzX4W/++z9CkEfA8fGTn0mT/M8uAdchosboi5xgtbbKYHiQ8dj4U18r0zbbatsuQ4phGyC0j//4edXMWjveRmqrXo+roJ3RaacuMRwOe8/zWaPTZ6mDu0fGhmEgCAK2bb+W3MFnQRRFj+iPjY3RarU8Z/Hq6mrb/f0DMphIJLoKYBdd0CWAXbzBeJZJ4+MYAeu67u37PR6m/Kpmks6FyLbtfeUGdm47PT1NuVzmxo0bzM/P7/scXtTsoaoq/f399Pf34zgOxWKRbDbr7Zl1lKSDjIo7jS2yLHP9+nXveaqSioSEYRtE1SiBUICqUWWjvuGRn7X6GuuNdfLNPHFf3IttyfgzNK0mTbuJ6Zh8f/v7FI0iIiKO65DQEryVeouoGqXQKlC1qgwE2uYRTdYoNossKUvE1Bjv9b1HlCi1Ym1P5mAkEUFE9MgntAlY2SgzHhknq2cxbRPTMVHE9nO6vbhNuWkjCBau6FI1BAId0iZK7RgUNUxezz/z9dJkDQEB27U9dVAWZGzX9kie99paOmE17NXMPY6njU47zSsrKysIguApg8lk8qmfwaepg4ZhsLS0RCgU8n6OXmcI9fPg8/n2qIOVSoV8Ps/y8jL37t1DURQCgQDVapVQKPRGq2tdAtjFUaFLALs4duiMgF9lZ65znP0QwGKxyNTUFKlUak8n7UGP8yx0Lpj7JXC6rnPr1i0kSeLmzZuoqrrv+x80308URU85OX36NLVa7YlRcaf+61kX0mq1yuTkJIlEgnPnzu0hBlE1ymB4kKXqEsVWO/dPERVM1ySiRBiNjDIeGafltFitrDJfnud88qO9wLJZpsffw0p1hYpZ8Qie4zpsNbaYLc1yJX0F27ER+GhU6Zf8FChgOiY5Pce94j3CSpizPWe5NnrN2y9b31lna2uLDXuDYDBIb7QXf9BPzB+jYlZYqi6xXlunoBfoC/bhVlz+j6kNQMB1fCDYhFUXBxABfkDSLMcirDy72SGltZXOzcYmMTWGKIheDqHjOjStJqqoUjWrGI7BUHjoifiaZ+Fxgl8ul8nlciwuLnL37l2i0ainDj4+emxYDYp6kZbZYvnRMgEhwDvvvOOp8q8zhHq/EEWRWCxGLBZjfHwcXde5e/cuhmF4P0eJRIJUKkU8Ht/3L2GvC/V6vZsB2MWRoEsAuzh26ATevuoez36IW8dtePLkyaeOo+Hoq9x2o1QqMTk5STqd3kOm9nP/V2322B3g+/ioeGlpCUVRPGUwHo8jSRK5XI47d+5w4sQJRkdHn3hMURC5kLxA1ahyK3uLufIcAm0C1x/uZyA0gCRKBMQAJyInWK4uIxQEVFHFxiaiRIhrcWZLsyR8H43ARUEk7otT0AvUrTohJYQoiLTsFj7JR6FVYKW6gu3YnIqfoi/QR0EvMJOfIaSECKkh5JhMzamRDqURagK5co6NnQ167B7KwTKu3yUVS2H4DLLNLEvbSwT1INFYiNW1KK4V4rf/3EWa5rfJShIpB5D9NK22Yvm0ncUOVEnlYvIiwUqQncYODg59gT4upy+TbWbZae5QckoE5SDnE+fp8fewWd+kbJSRBImEltjzejwLoigSj8eJx+OcPHmSZrPpqYPz8/Ooquqpg6Zm8rD8kGKjyPLKMj7ZxyfPfxJJkZBE6YndQcdxqBpVcnoOwzYIKSHSgfZY/uNUBzVNQ9M0wuEwQ0NDlMtl8vk8i4uLzMzMeLuDTyPAHwe6BLCLo0KXAHbxxuJZX7ydC41t24dCAJ+mJDqOw4MHD9jc3OTy5cskk8nnHucwg5yfhY2NDWZmZp5KRp/WBLIbu/e2Divm5XElqVAokMvluH//PqZp4vf7qdfrXl3fsxCQA3xm8DNMRCdYr62z1dhiu7nN6dhpor5o+/xdh5bdwnIs8nqeneYOsiCT0TKsVlepmTXOJM7QE+jxRqYCH7WbxLU4w6FhlipLaLLGSnWFslFmMDRIWksjCiJJLcl6o63mKaLCvfw9Nhub7c+HIjDQM4CAwFhgjIfbD5F1mc25TRylTXhqRo1EX5qNpSR2M84nxtIE1QBjxJl1XJYCcbK525iuyXBoGE18fv9tUAlyMXkRParj4OCX/AiCQE+gp73/iEtCSyAJEnfzd1mrrXmvlSqpnI6dZjTyJOl+Hvx+P0NDQwwNDWHbNsVike3sNl+f/jqTtUlEVSTqROkN9zI2NsZSbYmYFmM4POwdo6P67TR3mC5OU2lV2uflOKS0FBcSFwjIgVcOoX4VdH4OdhPgiYkJdF33nMWd/dfdzuLdbSuvC90RcBdHhS4B7OLYwQv1tayXDoKFvftMu4mkYRhe48jNmzdfmMB/WArgs47Rcc6urKzwzjvvkE6nn3r/pxHITpxH59hHlfEniqKnFJ06dYqZmRl2dnYIBAI8fPiQzc1NTx182qhYEARGIiOMREaomTW+vfntPSPNbDPLbGmWuBrHciw0SaNu1FmuLhPX4l4sy4XUBUYjo4iC2B4pB9IE5AANq0HMF6M/1E/NqOG6LoPhQSaiE55RRBAEb++u2CoyX56nbtWRBAlFVKiZNQzHaDuVE3EGQgO0Wi3m5uZQbIWgHOTeI4dsLgOIfGuhyLcWPuSrn6vyltHij2IhbNdGERR2Gjv88eYfcy1zjcHw4HNfW0EQKOkltqwtKmaFcqtM02oiiRI9/h58ko/V6iqZQMbbQ6waVebKcyS1pEeiDwpJkkgkE2wL2zRpIudkzKJJVsxSLVUxHhjIIZmH1kMGg4N7iJzpmDwsPmyPpyPtrm7LsdiobbDaWOVs7OyRVtS9CM+aHmiaxsDAAAMDAziOQ6lUIp/Ps7CwwMzMDNFo1FuJeF3qYL1eJxx+9rpAF128LLoEsItjB0EQDsUJ/DQlsVKpcOvWLWKxGFeuXNnXb/yHoQA+6xiWZXHnzh1qtRo3btx45ijoaQTycbPH64jrsCyLu3fvUq/XPfLcarW8UfHi4qI3Vuy4ih+/4IeUEKORUR6WHlK36siCzFR2irpVRxAEiq220aNhNYiqUVL+FJIooVs6D0sPcXHRJI2wEmY8Ms5SZYmFygINqwFAWAlzLnGOnJ7DJ31kYjFsA1EQCSkhqkaVrJ4l4UsQUtuveYgQq9VV8nqeiBqh1qyxvLCMqqqcOXOGrJ7l//H/a+//7YaZnWdTkilofgRXoGG3zyPfytMwG/zpiT+9J37GcR1qZs3773uFe+T0HDWjxnJ1mYAc4HzyPKqoslhdpNwqk9SSHvkDCKth1uprlIzSSxPAqlFlrjTH93e+j2mY1Et1TiRPkEwm2WnsoIoqTsNhbnEOeU32xqbJZJKqU6XcKpPxZ7zPnCzKxLU4BaOAIAsogvLCmJmjIoP7cQGLokgikSCRSHjj8Y46uLi4iKIoHhmMx+NHpg7W63X6+vpefMMuujggugSwi2OJw3AC73bfAmxubnL37l3GxsYYGxvbN1k6qh3AZrPJrVu3UBSFGzduPFftFEUR0zS9Px/U7HEYeJbT1+fzeapKZ6yYzWa9UfFuV3HnOY5HxwmrYTbrm9SNOgBJLUlICWE6JoZtYDgGDauB7drEfDEkrR2o7Zf8nEmcoTfQS8tu8bD4EJ/soz/Qj4tLsVWkYbVz/DYaG4TktjLXtJqMhEdIaAlqRg3HdfaokJ1VgYAaICgE+eDBB/SEexg+MUzRKOIiEBCS1JU8glwCYCiUQa+usqpKrLcczNw2mUgGLaCRbWZ5f+d9AkqAG703yAQylFol5spzFPUiruuSa+VQBIXx6DiL5iJBJYiAwE5jh1OxU/gkH0vlJTTpKePkZ28EvBDZZpbp3DRL1SVWy6uU82VczUUNq4iiSEAN4EgOsUiMd2Pv0i/1k8vlvAw+x++wLW8TSocIBT9SfDv1eS7uK4dQvwpepgnE7/czODjI4OAgtm176uDc3By6rhOLxTxCeJjNHd0RcBdHhS4B7OKNxfO+QA8jDFoQBO84Dx8+ZHV1lbfffptMJnOg4xwWGd1NAIvFIpOTk/T09HD27Nl9qRWd+7+q2eNl0HH6JpPJ556vJEneqNh1XWq1Gtls1jPbRCIRz4HaE+qhN9BLQS9wt3AX3dY/ikAR2kYPwzE8c8dgaBBJkDiXOMdEbAKAmfwMlmuRUTM/uJtAUkuyVlvjROQEoiCSbWTRBI1TsVNt04kgEVEjpP1pz2UrCW2F0S/7ibpR9EWd873nkeMyZbNMSAkxHBrm1/4vG9zNLfEvv1UFXNaNIl9eX2LEL1GSA/TIIbZ2ttgxdrBki5bY4lHhEYqo0B/qp6SXaNpN4r44TavJem2dqBKlFWpRt+r4JT+qpFIxKjSsBpZrYdgG8+V5AnKAlD+FIirUzTo+yUdU/Uj96+xPdlTVpJZ8ovauc7vZ0iy6rRN2wzQLTU6mT5IVsqw11nBw2scQZcaj4wyFhwgpIaLRKOPj4xiGwcbOBhvLG0w+nCQqt/P5IpEINanGaGx0j/IK+w+h7qjYr6oOvmoOoCRJHtmDdi1kRx1cWFhAVdU96uCr7Co3Go0uAeziSNAlgF280egoBo/jsMKgBUFgZmYG0zSfO2J9Hg7LBNJ5Ph0ydPr0aYaHh19wz4/u/3iv6+sif9lslunpaUZHRzlx4sS+H3O3q7gT3tsZFXcuoul0GikiEVWjCKaAbukogkLJLLXz75QwDbNBSAmhSVq7DkxLeI/RsltPzccTaI8gT8VPcSZ2xjufDmJajHOJc8yWZhEFEcuxiAfjlCtlmptNbpy7wdDQUJuEORYBuR1qvWMs0huW6Y8LbBRE/EIIQS0jui45V+FCJo0ckamX6xiGgau71DZrbFW3eKQ+IhaOcbHnYvvz4NqE5TDFVpGHhfY4XLd1egLtKJit+hY7zR2PGH6Y/ZCkL0l/qB9N0piITngEsGW3mCnMsFHbwHEdXFzCSpjzyfP0BNqtIgW9wGZ9k83GJgvlBZIkya5l6Uv3oYQUhoQhiq0ikighInI1fZVL6UuElL0/M6qqcmLwBD8W+zGmc9OUqiUqjQrLK8vIlkwimWCpvvRcl+1+Qqg7t9tNCveLww6CDgQCBAKBPeaZfD7Po0ePMAzjCXXwIOi6gLs4KnQJYBfHEoehutVqNU9luHHjxkvnfx2mCeTBgwesr6+/0Hn8ODo5gEdt9ngcKysrzM3Nce7cOXp7e1/pWI+Pijuu4tXZVXKNHK7fRQtqJH1JJLGtqPjEtpIUUAJIgsREdIK4L+4dM+aLsVJb2TPOtRzLC2N2XZeKUaFm1pBEibgvjk/yIQkS5xPncV2XQquAi0u5WMbNunz6rU8z1N92NXd291zX5YPtD/hg+wN0W2doyOL0SJjzyTNI32yQtm36wxl2Gjtkm1kMDCKhCJlohrOxswSsAN/Z+A6lUgl32yUajRKOhNEtnbXaGrqlE1DbJDOv5xkKD7HV2GqPrSMjnIqeotgqslBZwLRNUv4ULbvFTnOHtD/NWnWNleoKvYFeFLFduZfTc9wv3EcSJJary9wv3kdERJM1lvPLzFfmuT56nVA4xEp1hVKrhOVYZPwZPtH3Cc7EzzwzfBpgIDSAX/azHd1GN3WivihRMUqj1NgTM5NOpz2X7dOUsmepgx1i2CGDBxkVH2UV3OMqd0cdzOVyzM3NoWmaRwZjsdgLz6NLALs4KnQJYBfHEq86At7Z2eHOnTvIssz4+Pgrhb8e1ji6031848aNA418OrtpxWKRhYUF0uk0kUjklc5nP4/58OFDtra2uHz5MrFY7FCPL0mSFzB95swZBrYH+N7q9yiUCxi6QcAX4HrsOmd6zpCMJD3yFlWje4hvX7CPrcYW6/V1IkoEh7bBYjA4SFyL86D0gJXKCi2nhYBAVI1yNnGWtD9N1BflWs818nqe+cV53ILL565/jlQi9cT5rlZX+ePNP/Z2CgGyxhbf3ipwXm4yYNicCl7C1GTqZr1tNlFDZPwZksEkNbOGEBKQQhLBQBBasLS+xHJtmbpYJ+yGSfvSxNU4OT1HVa9SMkposkahWWBZWqbX34smaazX1wmpISpGheXqMqPRUXKNHCEl5BlFBKE9Cr9fuM9Oc4fV6iq63SZpUklCqAgEEgFqUo0hbQi/5OdR+RGZQIb3et8joSX2FTyd0BJ7FFmAZDjpKWWdurZOy0wnkDmVSuH3+596zOepg/s1kryuKjhBEAgGgwSDQYaHh7Esy1MHHzx4gGmaxONxjxA+/pw7BLI7Au7iKNAlgF280TjsEfDu/tyLFy+ysLBwqOPbl0Gj0aBUKqFp2oGVyM7FL5PJIIoiuVyODz/8EFmWPQL1NKftq8CyLKanp2k2m7z77rvPvFAfFgRB4HTvaVKxFFv1LUqNEnbdRqyJ1GZrmD6TVCqFnbZx43szHf2yn7dSb7FaW2W7sY2CQjqSJu6LM1eaY748T8KXIKWkcFyHbDPLvcI93u19F03SkAWZwlIBt+jyIzd+5AklxnVd1uprfHnpyyxXl7Ftm6bQRBLalW+btR1kn0OoavPPvxnlc5/s5+KJOLPlWYZDw/QF+tiqtxtLTNdEEiQeNh8yFBoiHo0Tz8bptXtRDIXceo6gGmQ8ME7dqlMza7iCS6PZYLOxiV/2IwoiI+ERegNtNbZpNVmsLOI6LkF1L4nQLZ3N+ia9wV78ip+UP0WhUGC5sMz54fM0hSartVVEREpGCQARka3GFn7Z/9T9wYNgN8k/ffo09XqdXC7H9vY2Dx8+JBAIePug0Wj0qZ/hF6mDzzKSfFxdwLt/Ll3XpV6vk8/n2dnZYXZ2Fr/fv0cdFASBWq12ZDEwS0tLfOlLX+JrX/saW1tb9Pf385M/+ZP8nb/zd/aYzu7cucMXv/hFPvjgA9LpNH/1r/5V/vbf/ttHck5dvD50CWAXxxIvMwLuEJdKpcK7775LJBJheXn5yCJc9oN8Ps/U1BSaptHX1/dS5M9xHBRFeWp/726nbedi+irZiZ1OZFVVuXbt2mutzUpqSZJaEnZNxjsqUjabZWZmBsuynniuISXE2fhZxqPjzJfnWautsVxdZrmy3N4Z9LUVKlEQvfq1gl6gR+vhzp076LrOtWvX9vQ/d7BR3+BO7g45ve3WlWWZYquIJmoElAClWoteUWBJVimQYDA4wp888S4z+RlW66ss15aZyc9gOzYRNYJP9lE36yxUFogpMRChN9pL0p8kKAUpVorc2b7DfHkeW7ARNIFEKIGoiixWFgnIAa5lrgFtglc1qmzWNwkrYQzHIKyEPeVuu7mN7dr4RB+ztVnq1TpiS6S3pxfZJzMRmECuyDTtJgE5wFBoCFVSmSvPUTNrXE5ffqKX+GUhCAKhUIhQKMSJEycwTdN7X+/cuYPjOJ5b/Hmf4cfVwd3/1/m+2J2L+XFi93MeGRnBsixPEb137x6/9Vu/xc7ODsVikVqtdiTn8ODBAxzH4Z//83/OxMQEd+/e5Wd/9mep1+v8xm/8BtCOxvrxH/9xfvRHf5T/7X/735ienuZnfuZniMVi/KW/9JeO5Ly6eD3oEsAujiUOOnZtNBrcunULVVW9/tyXOc7T8LIK4OrqKg8ePODMmTPt3a/nNHk8jueZPZ7W37uzs8PKygr37t3zul7T6fSBRkuVSsXrRD5z5szHWufVwW4VyXVdqtUq2Wx2z3PtRMzknTxzpTkiaoR4IM52Y5uCXmCxssiZxBmvQaRiVJgrzPHh0oeIkkj/eD+3S7eJa3H6g/1eFE1ezzOVm8JyLHqCPTwoPQAH4r44tmMTkAP4BR/9hsWCHCYVEfi/XulDFiUupC7QF+rje1vfA9r7cil/e7RcbpXZamzRctoGlopZoWyUqZpVVFGloTVQXIWoEMWwDLbL29iWTV2oYykWqqVSapVYrCx63b1pfxpFUrzIHNMxqZt1EGCnuUOlVKFqVEkn0hStIiEjRESNkAlk2qHZoUHvMxZQAmzVt8jpOfqDz66zexUoikJPTw89PT3tPc1KxYuZ6dS1dd7XcDi8byOJ4zisra0hSW2F1jCM1x5C/SzIskwmkyGTab/mfr+ff/tv/y3f/OY3+VN/6k9x9uxZPve5z/FTP/VTXLx48VAe87Of/Syf/exnvT+PjY3x8OFD/tf/9X/1COC/+Tf/BsMw+Jf/8l+iqirnz59namqK3/zN3+wSwGOOLgHs4ljiIMQtl8tx+/Zt+vv7OX369J4v+cMKcT4IAdxdM3flyhUSiQTVanVf53HQZo/dTtvx8XF0XSebzZLNZpmbm/PGbOl0mmg0+sxjdZy+Y2Njz+xE/rghCAKRSIRIJOI9146reH5+nkUWUUIKoVQIwm1FsWbW2uTKqBJSQjwqPmKpvMTK4gqooAQUiqUiaS3NVmOLjdoGw+Fh1uvrZJtZHpUeEZADxNU4MSXGWn2NoBLEdV10W2c0HmR8zcR2ffyFT/bhk9skUxIkMv4MATmAJmtkAh9FD0V9Ue4X7zMQGOBc8hzr9XWqrSprtTXivjj9gX4M2yDlS9GwGyR8CSQk1svrlBol7s3eo0gR0S+SCCZIaSn6g/1tM4zTrpTrDfTSF+xjs75JIVsgKSTJ9GZo2A12GjsElSBvp9/GdEx0S9/zfkuCBEJ7vPy63tdoNOrFzLRaLfL5vEf0d7fQJJPJpwYyd37m19bWWFpa4tKlS2ia9rGEUO8HgiBw5coVzp49yz/5J/+EmZkZ7ty5w+///u8zOzt7aATwaSiXyyQSH+1tfuc73+GHfuiH9qiuP/ETP8Gv//qvUywWicfjTztMF8cAXQLYxRuNZxENWZZptVrPva/ruiwtLXku1YGBgSducxhu4oOQSNM0mZqaotVq7amZ208X8O5wZ3i5Zg9N07yuV8uyvAvp1NQUgEcGk8kkktQOVl5ZWWF+fp7z58/T09NzoMf7OKFpmhfc2zJb1GfrVCoVFhcXcRwHNaQiSAI5N0cxUGSzvsmDwgO0ksZ4ZpyyVqZiVmhZLSJqhKSYZLm2zFJ1iYw/Q3+wn0qrQqlVomSUuJi6SN2qU9JLuLjtLEE7wohlU0LhJy6MtGvm9CJNu4kqqoiI+CU/dbPu7dR1sgdTgRSDoUFCSog7uTtktAxhX5iJ6AQFvUDTbiIKIkElSEAJ0HJbjKfHiatx8tk8rumynltHMiW2/dsIPgF/oL3rZ2ERESLoBR3TMent6W2THkMkHAszGhnlUvoSC+UFFiuL2I7dViQFue0ixt3TPPI0VI0qa/U18s08PslHf7Cf3mCvp7S+LHw+3551h1Kp5LmKp6enPVNFOp3eE8i8tLTE4uIily9fJhr9KB/xKGJmDgv1ejsEfWBggNOnT/P5z3/+SB9vbm6Of/pP/6mn/gFsbW0xOjq653ad74Gtra0uATzG6BLALo4lXkTcbNtmZmaGfD7PtWvXnulSPawQ5/0co16v8+GHHxIMBrlx48YepeLxJo/HsfsCdVgXI1mWvTGb4ziUy2Wy2Syzs7PehdS2ber1OleuXNlz0dwvamaNcqsMtJWtxzPjXhd8io+h9BCbgU16RntoNBqUy2WquSpGw2CzsUlFrKDUFd4afItgMshOYYfeQC/FVpGqWSWpJRFcge3GNqdip1BEhZ5AD1WzSstuEdNiXMtc43vb30MWZXq0AeYWV7kuCkygoioit3O32ai3s/gEBEzbJKgEsRyLbCMLApi2iSZqKIJCw2q0Vb9gP7Io45N8JPwJTidOczd/l2qrik/yEXbCZAIZPjP4GQzboG7VSflTaKLGQnGBZqOJ3tApVUoUq0VyWg6pIRGX40ycmKBqVbEci5HICNCOz9EkjZ5AD3dyd1gsLyKJ7bGpJEiMRka9kfXTUDEqTGYnKRtlAnKAqlllq7HFSfMkp2OnD01B3l3XdurUKZrN5h7V1+fzkUqlsCyLbDbLlStXnnDIH0XMzGGhVqshiuKBjVa/+Iu/yK//+q8/9zb379/nzJkz3p/X19f57Gc/y+c//3l+9md/9qXOt4vjhS4B7OJYQpblZ46Am80mk5OTiKLIzZs3n7q838HrUgBzuRxTU1MMDQ1x6tSpJy6AzyORr6PZQxRF4vE48XicU6dOUalUmJ6eRtd1b2TdUQdDodALz8F1XZary8yV52iY7e7bgBJgIjrBSPjjGSEPh4bJNXNsN7cJq2ECyQCDkUFuaDcQsyLfWP0GruBSzBeptqq0aIEKLq63n2m5lkeCAFL+FKZjslBeYK2yhuu4jEZGiagx/suDHLZtIbsuFxWHucoSq9VVMv4MqqRiuzYr1RV8ko+gHESWZHSznfunSRqL1UWPyAWVIOVymRPhE+2qu9gZRESWKksMhAboD/VzJnaG4fAwhmOw1djCcixcXBzJoT/VT6FVYEwdI2EneLT6CNuxUSWV9Y11TqROEI1EsQSLfDPv7fwZjoHt2tiujWVb2K6NgIAqqfilZ5OS1eoqpVaJgeCA917XzTor1RX6gn17GkoOE36/31O4OwahhYUFKpUKoigyPz/v7Q4+63vhoDEznf8+CnQiYA768/LzP//zfOELX3jubcbGxrz/3tjY4Id/+Id57733+Bf/4l/suV1vby/b29t7/q7z51fN/uzi40WXAHbxRuNZX3zPIm6dCrVMJsO5c+de+MUsSdILR8kvwovI28rKCo8ePXrmGLpzHk8jkR9HrZuu68zMzOD3+7l+/Xo7NPgHqsri4qIX3ptOp4nH4099jYutIg+LD5FF2TMKVIwKD4oPCKvhtpv3NSPlT3EpfYnlyjJlo4wsyu2w57zLan6Vd8+9y5azRcgOUSqVqOQrrG+vEwvE0CUdXdIxbIOYL4bj/mBEKIj0B/sp6AWKepGsniWkhHi41WC9oHDCHkJVIGs32axvElEjnnNWEqQ20UKgJ9BD02qypC8R1aK8lX6LncYOhVaBB8UHpPwpToRPoEkam41NoL3DeDlzmeHQMJqsIQoiZaOM4zqcCJ/gUekRO80dakYN13UJq2HSWpqNhQ0ikQgjQyMMKoPcWr/F3dW7GIZBJBBhIj1BXIjjui6r1VWS/iQTsQkaZgNBEJBFmZpRo2SU9oRud+C4Dlk9S1jZa84IKkHKRpmaUTsyArgboihSLpfRdZ0bN24gCAK5XI6trS0ePnxIMBj0dgcPO2bmsFCr1V6KAHZ+PveD9fV1fviHf5grV67w27/920+c/82bN/k7f+fvYJqm5/r/6le/yunTp7vj32OOLgHs4ljiaSaQlZUVHj58yOnTpxkaGtrXl+ZRKoCO43D//n22t7e5evXqc78sH98B7Jg9XnetW6VSYXJy0gtg7lwMOjtXu2NX7t6968VzdGJXOheIXDNHy27tGRNGfVHWa+vkmrmPhQACpP1pUlqq3SGMyPzsvPf+iH4RK2tR0AtE+6Kci59jPj+PZEjMb85zf+k+feE+wuEw39/6Pj7Fh1/2Y9om241tcq0cftmP3pJ5lNtC9MlcGD6BOSfQbJWw7Bbaruy8P5rN8++nN3l7xOFvvvcemtzuNE5oCXySj7gvTrlVJq/nUSWVHxn8EUzXbNexIZH0J0n4EjSsBo9Kj5grzbX7ihU/ETXCQGiATCBD02ril/30Kr2sza8RjoaREzKD4UFOxU8xnBmmoBeoN+o0K02MksEH3/sARVNYUVZIxBLImkzU9xFpK7aK6JYOvidf407NXt2t7/n7DmnutLgcJVzXZW5ujo2NDa5eveq53XfHzHTaOW7fvo3ruocWM7P7dq9KBuv1+pGGQK+vr/PpT3+akZERfuM3foNsNuv9W0fd+7N/9s/yK7/yK/yFv/AX+IVf+AXu3r3LP/7H/5h/9I/+0ZGdVxevB10C2MWxxG7itptodVy1L3OcwziXDgzDYGpqCtM0uXnz5gt3eHYTwMfNHq+L/O3s7HD37t3nOn0fj12pVCpks1mWlpaYmZkhHo+TTqepybWnNkVIooThGEf+XJ4HQRCQkbl79y61Wo3r169778+l9CU26hvk9TxJf5LrPdcRBbFdJWeLFPIFPtj4gM3KJqZoIvtkZE1uR3j4MzStFt9b0XHtAJrP4js7ec6KMhG7RqjVJOtYfH+xye9+f52maYPU4OsP4Kvfv0N/HH72xyx6Am0S7ZN8ZAIZwmqYhtXAr/hJykkv5Blgq7HF7extpgvTNKwGESVCT6AHWZRp1ppczVwl7U/z/bXvM/loklQihZJU6A32MhRu19lpktZWaYPAD0Qjy7LI5XNsLm0yuzjLprDpOXH9IT+y0N5HfNbr2x/sZzo/jW7raJKG4zrkmjmiavSpquFhwnVdHj165BH7pxEoRVHo7e2lt7d3T8xMJz6oEzOTSqX2HTMDHLo62CGAR/Xz/9WvfpW5uTnm5uYYHBzc82+dtYdoNMpXvvIVvvjFL3LlyhVSqRS//Mu/3I2A+a8AXQLYxRuN57mAbdum1WoxNTWFbdv7IlqP47BMIJ0v/U5y/4cffkgkEuHy5ctPjaV42jE6vcSd/9/5+6OG67osLy+zsLDAhQsXyGQyL74Te+M5JiYmaDabH0XM5OZYF9cxkybJeJJAIIDjOl4O3ceJjhPbdV2uXbu2R+0JKSFOxU499X6O67BtbjMgD3BJu9Q2VBSLfC/7Pcp2md5QL2XboG7VABXdMtAtg6qdIGGXWbp9l39eDlCoW7iOH0E2ARdHHwRXZaNooAgaNbNGRP3IqFA1q8R8MRpWg83aJpZrEVEjhJUw9wv3KbaKqIJKX6QP27HJNrL4JB+2Y7NaW2VEGkFel7kxcoNUb4qoGiXtTz83xFmWZXp7evlk8JNMZicRTAGrbrG6tUq2kWUwNEjBLqBklKfuhA6Fh6ia7eiavJsHIKJEOJs4+0zieBjoVBRms1muXr3queyfh6fFzORyOXK5HEtLS163b6dV53kxM4etDh61AviFL3zhhbuCAG+99Rbf/OY3j+w8uvh40CWAXRxLdEbA3/nOd4jH41y4cOGlyt0PSwGE9pd+oVDg9u3bjIyMMDExse/f3Dtj5Ne979cxeHQcki/j9O3A7/czPDzM8PAwZ/QzfHPxm8zn5lneXkYURZSgwnh6nKT68Yx/ob3feOvWLfx+P2+99daBPjMNq0G5VSbuiyNJEsl4kmQ8SSPc4Hb2NoIrkDL9DAZ01hotFMmk1YqRNU7wgbbJxtYfUeCH8PscLg8FWMsFaDaSbFR+oFi7Ko1GCEXZwrANNFmjbtY9xfLWzi10W2/3w1oNRERaTsvrPxYFEROTQqvAdnObqBplo7jBYHmQG+duPHP/9HnoD/Zj2iZL1SUaaoOh5BBvyW+RsBLUijU+WP4AWZb3ECRJkpBFmQvJCwyEBqibdWRRJuFLoMnPNmS9KlzX5cGDB+Tzea5evfrSFYU+n4+BgQEGBga8mJlObmaj0SAej3vq4O6Ymd14lpGks9qxX3WwswPYRRdHgS4B7OJYIp/P4zgOw8PDjI6OvjRZOiwFEGBxcZHFxUUuXLhAX1/fgY4hCAK6rlMqlZ4byHyYsCyLO3fu0Gq19oxBDwNBLcinT36aib4JNmob1Ot1lKaCuCPynbXveHuD6XT6larpDoJarcatW7deuslEoP2eOOzd90z5U0S0CCElRCAR4HN9fcznVnBMg2/PDvEtMcL/Sfwen7bmqU/8GWIDLVpOnR8+NUJICfG3/7/LP1ABZd7u7cWSZAp6AduxSWkpNFljrjxHQA6Q9CVZqi6Ra+bYaGyACwPBAapWFZ/oI6/nqRrVdvVb06BcLNM70ouaeLnXWBRERqOj9If6aVgNFFEhKP9gJDnMntrBhw8f0mq1SCQSHiH06vuOGK7rcu/ePYrFIlevXn2u8/8g2B0zA21XbkcdnJub82Jm0uk0sVjsqb9QPMtIsp8Q6nq9/kT/dBddHBa6BLCLNxqPEyHHcXj06BFra2sADA8PvxJZOgwC2Hn8lZUVrl+/fiAVraMIhMNhYrEYU1NTiKJIOp0mk8mQSCSOZAzcbDaZmprC5/Nx7dq1fY2pDwpN1piITTAeHQfar5PrutTrdbLZLOvr69y/f59IJLKnmu4oyG9HmR0eHmZsbOylHsMv+ZEEidvZ24TUEFE12u4RFuDt9Nu4rstafQ3d0hnPDHMlc4VzSZ3vrk6jFwfxOav05/93ln3XUX0qalglpEQR1WnARBAEZmt1FElAFVWS/iSu63I3f5f5yjy9/l5adgsbm4SWwHZsZkuzVM0qgiuwXl3HcizCaphmo4lYF/nEyU+ABhu1DdL+F7tCHdchp+fINXPYrk3cF6cn0INP8j11dLu7drDz3j7utO0YhI7qFxvXdZmZmaFcLh8q+XsaAoGAp3I/3kPd6dzuqIMvEzPz+O5vtVrtKoBdHBm6BLCLYwPDMLh9+zatVot3332Xb33rW1iW9Urk5VUJYKvVYnJyEoB33nnnwOSv84WvKAoXL17EdV1PUbl//z6maXoKw26X7augXC4zNTVFJpN5ohrvKLD7oi8IAqFQiFAoxOjoKK1Wy9sbXFhYwOfzeeT3WdEcB8X29jZ3797l9OnTTyy6HwRL1SVKrRK2a7NZ3/Qy/N5KvsUnBz+JIipUjSqWa5HwJQgqQRz3OzR9Dov1T+HM/O9s22sEGn1UjX7ulu7il0/g2gHk4CKOGSWmXiDi81Eza3x789uE1BAJNdFW9ByDxeoiw6HhdhSLWQMBNFFrZxXistPcwTZs+uw+rp+8TiKaYLm6zExrhrDaDot+Vhi367rMleaYLc+2TS+CyGJlkf5gP28l33ruziDsfW93O213N83srmw7jM+y4zjMzMxQrVa5evUqPt/R7Rc+jscNUbVajVwux+bmJg8ePPBiZtLpNJFI5MAxM47j8Pu///tH8stZF11AlwB2cUxQrVa5desW4XDYa9EQBOFIHLwHOacPP/zQG/0c5Iv6WWYPQRA8ReX06dNUq1Wy2SzLy8t7XLbpdPqlRrbb29vMzMwwPj7+yurpYcDn83l1bbZte4Th9u3bAB+NEp/R8QrQslts1jfZbvwgnDbYS1+gD1VSWVlZYW5ujrfeemvfuWhPQ8NqsFhZJK7FGQgNUG6V0W2dYqtIQkt4ztbd5Kplt9iob1BqlRiJjeP0X8PcmaSZ/5DYgMLExJ/gt/6oiiBYCFIdvznA1sY2YjqBozrolk5ADrRbORoatmuD225XCZpBSkaJscgYfsXPTmOHuBrHalooLYVPnfsUPr+Ph8WHrNba4dPThWki1Qhvpd566li2ZJSYr8wTVsJeLZ3lWKzX1sn4MwyHhw/0mu122naaZnK5HIuLi9y9e5dYLOb9YvMyKpfjONy9e9drqnmd5O9x7O7cHh0d3RMz0yG/HXUwmUy+MGbGcRx+4Rd+gVwux7/+1//6NT6TLv5bQpcAdvFGQxAEtre3uXPnDidOnNhjrOg4gV8FL0sAO+c0OjrK+Pg4f/iHf7jvPuD95vsJgkAkEiESiTA+Pr7HZfvo0SNCoZCnlr2oneNlnb6vE5IkkclkyGQyuK7rVdN1Ol4TiYRHfjvjNdMxmc5Ns95YRxPbf7fV2CIbyhIsBdne2Oby5cvPrAJ8GgzboGpWAYiqUWRRpmpUqVt1+gP9CILg5RvGfDFqZg3DNp5QyPJ6HheXwdAgRaOI3fc2emODLT3HxMq3SRRLNEo3EFQd15VpmD7+/h/nmIivkAgXCYQLuBGXM5Ez9AX7WK4uY7s2O40dJFFq7wT6kxi20SaCVT9Fu4iYFrEVm8XKIpv1TdJamv5QP5Ztca96j1wzx48N/9gTbuxyq4xhG2T8H302ZFFGkzS2GlsHJoC7sbtp5uTJk3sq22ZnZ/H7/Z46+Kxw8d1wHIfp6WkajQZXrlx5bXuk+8XjMTMd8tv5Ra4TM/O0Zh3HcfilX/ol/t2/+3d84xvf4OTJkx/jM+niv2Z0CWAXbzRarRb37t3jrbfe8grIOzgsA0eHkO1n3Oi6LgsLCywsLHDx4kUvLHW/fcCv0uyx22Vrmia5XI6dnR2Wl5dRFMUjg7FYbM9z2e30vXr16hNdqG8iBEEgFosRi8U4efIkjUaDbDbL9vY2Dx8+9MivFbRYb6zTG+hFFttfZ4Zt8MGjD+g3+/nR6z96IHVpo77h7dUBxNU4Q+Ehdho7rFZWMSyDmNZuAqmZNZpWs+3C5cn3sWW3UCWVE+ETfLjzIVuNLYzkKeySxJa9wVrxNj8fmOS2O8qUNcyyUKWlNFg0qiwVDE6qRYyCgVAUGIwOkglmqPlqNJwGff4+SmKJQrNAQAlgFkxEU+TSxCXKVpmm1WS7uU3anybqi7JZ38SwDXDhUfERATnA5cxlImoETda8arunwcVF5HDXBHZXtlmWRaFQIJfLcffuXWzb3hMu/ji5cxyHO3fuoOs6V69ePZRR8lFi92d5YmICXdc9dXBpaQlZlonH49y+fZs/8Sf+BP/L//K/8Lu/+7t8/etf75K/Lo4UXQLYxRsNn8/Hpz71qaeSs+f1Ae8XnbGibdsvJIC2bXP37l2KxSLvvvvuHiK1nz7g3UverxrzoigKfX199PX17VlGn56exnEcTymLRCLcu3cPwzB49913j3RB/igRCAQYGRlhZGQEwzC8UfGHcx9SpIidsInFYgSDQZYXlzF0g5ELIwcifwW9wN38XVzXJeNvq5BrtTWmclMktSSWa3GveA/LsdAkjaAcpGgUGQmPsFZbYzQ6uvec5QACAhWjgiqrXEhewHEdHqghqoEePigvMVHJ8il9nv/efsiHwW/yUIpi2DEK+GlWfAhhDT1WQfRDqVJCrsmcDp4mqAZxJIeKWKG03YBWmJMTMSqGxaeGPkVACSAKIiElxEp1Bdd1273FtomLy3x5nvX6OiPhEcJqmBORE8R9cTRJa7uI1TDQJtOGY5AJZHBch6pZxXEdgnLwhTuB+4Usy3uU387aw+rqKjMzM0SjUU8t8/v9TE9PYxgGV65ceePJ39OgadqemJliscj09DRf+tKX+Lmf+zkkSeKv//W/3t396+LI0f2EdfHGQ5Ikb1fu8b8/rAgX27afezHRdd0ze9y8efOJfaPnnUvH6dv598PO+Ht8Gb0zOp2dnaXZbKIoyks7X99EqKrqkV95QOb2xm2ElsDy8jKGYSDLMtFkFEU8GDnYbGyy09jBJ/kotApE1ShNq0lOz3EifIKeVA+3dm7xsPSQiBIhGA5yKnaKsBrmjzf/mKXKEhFfhN5AL73BXpJakkwgwx+v/zGy2N5ZXa2u4rgOF/tu0Oq5xICrUNq6TWpzmngrx4BUxS9UCLkOqapNtSbyKK8gW/9vLgtBxrQUyUqS2laYrKPxbd3Hd8syG4LO7z50EK0Mf/KLvbQMWM0GEJV13l9b52QyQzQNVaPazhAURBwcZEGmYlS4nbvNpdQl/v/t3Xd83Fed7//Xd3rVjKQpapblKvcatxASG0ISJ06khJClB3Yvy0KS/dEuBC7lwrILuWEpSxZY2HtJuMBSLDsOSQiB2HGaExJLrrJsy7YsW2VGM6Pp/fv9/v7QnW8kt9iWbMnWefLgj8jS6Iw0tt4653w+nxmuGRyOHiaej2uvlxpbDTk5x1+6/0KymMSkM+E0OZnhmkGtvXZMX1enXns4tSmzqqoYDAZmz559WZqkX2qlKuobbriBj3/843znO9/h7//+79m9ezcLFixg9uzZ7N69+6p4rsLEIwKgcMU60zzgC1UKY+cKkrFYjLa2NioqKpg/f/5Ze32d6TEu92SP0nGTJEn09vZSVVWFw+EgEAhw6NAhreWKz+e7KtpLeG1eXE4Xepte66GomlRCgyEOhQ+Rqcho4fhcUyFUVaVzsJMTyRM4TU70kp6+VB/RXBSbwUZRGZq+4Ta7memaSUEpUO+sx2P1cCx2jGOJY+h1erJylt5UL9Nz05lbMZeFlQs5Ej1CIB0YqtoFGpwNVFgrCGVCWN0zsfkXcXJhAUMyRkXfAfbuPoxLF+GkYRCDPgVqjuqCTEM+zGBmkEE6qVRkGosyC4C/A/KSxE6pimdMs7nnZwcIFqtBsSCZgxisvew6GWXN9HLmVZdh0BkoM5ahSipWoxW33k0gHeBk8iTLvMsot5QTzoaRVRmDZKAv1cdLfS8NTSQxufHb/Oh1evaG9mLSm0bcGQSI5qL0pftI5pM4TA6qbdWn3TcsKkWKahGzznzOAFlqylxVVUVbWxv5fJ7y8nKOHDlCe3u71nPQ4/GMaR/Ly0lVVR555BH+9V//lT//+c+sWLECGOpbuWfPHhH+hEtGBEBhwiv1jzvVWOwAlh7nbMe3/f397N27lxkzZpyz4fSZHuN8iz3GWqnSd+bMmdTXD13cL7VcKd0bPHr0KBaLZUTLlStxh9Bj8VBtqOb5juexu+xU+CuwGqysmr2KalP1iEIDm82mhcFTn288HyeWj2kTKyRJwmawcTJ5ElmRMRuGdnyNOiNOkxNZkXGZXAxmB4nmokMzbk3l+Gw+MsUM3YlubRdwddVqWgdacRqc6NDhNDlJFVKY9CYcRgc5OUd3vBuXyUW6qoZltYv5Rdsujg/GUWXQqTl+r5epcMAci4VUbJAyfZIGCizPpamVBjGYAkTMMVbzOtcrf+VZwyKelteQyU5BlvJIpjAvHyrwjhlV9KZ6yck5fHaf1tvPZrANHe+iaM2bi0qRN4Jv0J3oBhWml00nL+fpT/cPHW9LklYhXBLMBNkT2kO6kMasN9OX6qMn2cMizyJ8Vh9FpUh3opuTyZPklTwuk4t6Zz1+28j7vcMVi0Xa2tqQJImVK1diMBiGpqGcci90eNuVK+X1rKoqP/vZz/jWt77FH//4Ry38ATgcDq699tpxXJ1wtRMBULhijUUVMJx5J1FVVY4cOcKxY8dYvHjxW1bNnroDOJpij4ulqipdXV0cO3aMhQsXntb2ZPiIq1LLlWAwyK5du4YqWz0erfn0xYzVGw+hUIjIwQg3zboJh8+BhITL7KLMWIYkSSMKDU7tSVcKg5WVlcTyMSwGCxXmCsLZMA6jAxUVvaQnJ+e0O3Hl5nKOJ49TY6vBbrRzMnUSRVWwGq04TEMtYKwGqzaRo9JSSY2jhlA2xMnkSdLFNInC0KSOemc96UKa/ZH9FJUiVqOVrngXvalXqPEbWT69mjJTGQd79ezoPkKfYuBkaBqoZpCKSIY4MjNQC06cpj00Fo5zM/tZojvK37CL6foAPzY1k5at6CQVnSXAUx0JvG4djRWN1NhrtK9jVs7iMrtGFIPE8jHC2fBQ0M0NopN0WAwW8kqeUCZEraNW29UEkFWZzmgneTlPrePNsXOBdIDOaCcV5go6Bjs4GjuKzWjDpDMxkBlgMDfIEu+S03YS4c3wp9PpWLJkifa6lCQJu92O3W4f0XNweNuVse45ONZUVeWxxx7jq1/9Kk8++SRr1qwZ7yUJk4wIgMIV61LtAMqyzN69e4nFYqxevRqn03lBjzGWxR7nS1EUDhw4oM1BfatK3+EtV4bPOy2N8xrefHqitdgo6enpoaOjg/nz52vV2GdjMBjw+/34/X6tJ12pnU4ul6PoKJI2pKmvqCdcCA/dgUNiWtk0dJKOcDaMhERWyeK3+jEbzISyIaK5KFk5y0z3TGyGoSNm7bhfGjq6s+gtLPEsocZeg91g53jiOF6rF5vBxp7wHnJyjjnlc0gX00NBMwk6dBSVIma9mboyC6hDAcZrz+MwOChgZf3iCtwGHw2uKdz/xB52yQuZsWQ9cz29GHd8n3mFft5pf5Inczcjp6ch6XIEw0nsygC92V48RQ9SuUReylOQC9Q7RvaFLCgFZFXGZhwqZpEVGb1Oj1FnpKAUSBaSVNnf/LonC0li+ZjWE7Gk3FxONB+lP91PT7KHcku59rWyG+30p/vpjnfjtXhHfv5Cgba2NgwGA4sXLz7nLyVnarsyMDAwoudg6TV9tvm9l5OqqvzqV7/iC1/4Ak888QTXX3/9uK5HmJxEABQmvHMdu472DmDpcUpBMpvN0trail6vZ82aNecdfkqPMXy25+UKf4VCgT179lAoFFi5cuUFV/oOn3c6e/ZsUqkUwWCQEydO0N7erjXsfat7dJdLqRVPd3c3S5cu1ea0nq9Te9Kl02mO9x2n60QX+/r34bF78JR5sJfZyeqyzKuYh81g045tXSYXqWKKwdwgDqODnmQPbpNbe/zB3CB2o50Ky5vrMulN1DnqqLHX0J3o5kTyBIF0gKJSZEHlAgySgRPJE1TZqkjmk+TkHDNcM4jlY9RUWFg7y0FoMML1U5wsmTZXu6M4tcxNvaOcD66cSl2Zm0ZfBSp+Cu/4OsG/fAmPLsQ1xQCvK1WoipVbGhdTVT5IMBqkN9JLW3cbqlHF5/ThltyY9Watx6HNYMOit2CQDNq9QIfRQSwXw6w3YzPYRuwi6v7f/xR15FUIWZXRS0P3I3NKDo/BM+LPHUYHsXyMolrEKA0F3UKhQGtrKyaTiUWLFl3QjvSpLYSG9xw8cuSINm3mfHsOjjVVVfn973/PZz7zGVpaWli3bt1l/fyCUCICoHDFMhgM5HK5UT9OKbxFo1Ha2trwer3Mmzfvgn4w6HQ6isWiFv4kSbos4S+dTrNr1y6sVivXXHPNqFtHDB/nNX36dLLZrNZ8+vDhw9ps11KLmcu9k1LqaRgKhbjmmmvOa3f2XEpHifNmzsPhd7B/YD/BaJC+RB+pvhR+i59cNkdlVSXV7mrtNVFOOXWOOopKkY7BDroT3UTyEVDBZrQxp3zOGUeu6SQdDWUN1Dnq6En1YNQZqbJV0Z3sRifphgo0TGX0pfsoKkX0kp7eWC/B+EHcLjdZa5qOSAc+mw8VlXJzOWa9mXUzGuhN9VJQnBh1RnLOGsLTrqOs+yU26F/ndXUeM70urp1eTrygx+fwUW4upz3cTjFTpJgu8mrHq+w8uJNrqq5hVvUsKioqqLJVcSR+BLfJTVEtEkgF0Et6prums8S7ZMREEYfRQaWlkr50H1X6qqFKY1VhMDc4VAhicqOTdBSUwogK7Zycw2awaTum+Xye1tZWLBYLixYtGnVAG95zsHT1IRQKsX//forFotZzsLKy8rJME3n88ce57777+O1vf8vNN998yT+fIJyNpJ7pdr0gTCDDg9VwR48eJR6Ps2TJklE9/uuvv47VaqWvr49Zs2YxderUCwo2qqrS2dnJyZMnqa6uxu/343Q6L3k4ikaj7Nq1i+rqambPnn3JP1/pnlUwGCQcDmvtZ3w+32XZSSkdzafTaZYuXXpJqj5juRiRXGTo6FNnQ5fWEQkP9VhUFGXEaLrSvbJSyInn4+glPRWWCi38FZUimWJGm9wxXE7O8Wr/q0QyEcK5MH3JPnx2H6lCCqPOiEFnoDPUSTgSpqqyCk+ZR5sBbNabmVc+D6fJSVbOYpAMZOXs0NUDSUEv6TEWsnRv/R+AyqPyLdy4cC7XNcwkK2fxWrykCilUVK1CV1VVjoWOoc/osaQs9KZ7UW0qWMFut1PpqMRpclJjr2GKc8oZm0fH8jH2hvYSyUW0t1WYK1joWYjD6OCNwBsE0gF8Nh8GyUCqmCKWj7HYs5ipzqEejzt37sRms7Fw4cJL+poq9Rws7Q4mEgmcTqe2O3gp/g4/+eSTfPSjH+WXv/wld95555g+tiBcKBEAhQnvbAHw+PHjhEIhli9fftGPraoqL774ItlslqVLl17wvNhSscfwwfehUOickznGQn9/P+3t7cyaNYspU6aM6WOfj1ID22AwyMDAgDa9wefzXZJL9/l8XitWWbJkyagfP1PMkFfyWPXW82porKoq8Xhc2w1NpVLnnMusqiq9fLQGygAAZ49JREFUqV6Oxo+SKqQw6AxU2aqY6ZqJxfDmEf3r/a/zQu8LRHIRQpkQOknHVMdUVletpjvYTVtPG/X+elZPXU2mkCGej6OoCt2Jboz6oZBYlIsUKeI2uVniWYLH6sGkN3Esfoznn/40BjnMK4VlLF++HL1eZoZrBgsrF3Ioegi/za/tvJW+LqFMCJPeRDqbRs2oRGIRwskwdfY6VtWuospfdc7d36ycJZQJkZNz2pGyRT/0nBP5BO2DQ+PoZFXGordQ76xnlnsWxXyRnTt34nA4WLBgwWU/mh3eczAcDmMwGLTAPxaFUc888wwf+tCH+PnPf84999wzRqsWhIsnAqAw4cmyfMa7fj09PfT09LBy5cqLetxisciePXsIh8PU1dUxd+7cC/r4sxV7KIpCJBLRwpGqqlqFbWVl5ah+kLxVpe94OFM4OtPc3ouVyWRobW3VgsFovn55OU9nrHPouFQuYDVYmeqcytSyqSOC0PmsqfR8BwcHTzsaD2aCtAZb0Uk6ykxl5JU80VyUWkcty7zL0Ek6YvkYr/W/Rl7JoyoqgUyAgcwAWTmLW3YjxST8dX7KneV4bW9+n3Nyjme7n0VCotJaiVVvpaAWGMwMMt01nbtn3U00F+W1/tfIvPx/scZe5w/SAiK+FVQ6JN49bxXLfcvZ0bcDt9k9IgAn8gmOJY7hNrlHzP5N5VKcjJxkqjKVfDSPTqcbEY4u5OqBrMpEc1GKShG70T7UCieXY+fOnTidTubPnz/uve9Kv+CUdgdzuZwW+C+m5+DWrVt573vfy09+8hM+8IEPjHsRiiCAuAMoXMFGUwVcChVGoxGfz3dBP8DearJH6Yejx+PRKhKDwaBWcVraKfN6vRe0kzW80nfFihWjvv82ViRJwuVy4XK5mDlz5mn92UrHamcafP9WEokEra2t+Hw+5syZM6ofnKqqDrUhiR+l3FyOw+ggWUiyL7IPvU4/IvC8FcWg4KpyUV1XDTLa7m9rayuSJBG2hSlYCszwzUCn02HSmzDpTATSAQZzg1RaKonmomTkDHX2OgBqHDVkihlaj7VSSBR4/6r3cyx3jFf6XsEet+O2uPFavSjy0JFzla1qxB08VDiRPMFAegBZlSmqRSrLqvCGi8yUJR7tqqDSKXHPfD12o51KayV9yT4qLBWYDWZkZSiYGXVGXCbXiOdrN9txOB1M9U2lxlZDNBolFApx+PBhstnsiN3Qtwr8ekk/Yt3ZbJadO3fidruZN2/ehAhHpQkdlZWVzJ49e1Q9B1944QXe97738cMf/lCEP2FCEQFQuGJdbBXw4OAgbW1t+P1+5s6dy8GDB887SA7v71cq9DjXP+inViSWKmy7u7tpb2/XfnD6fL5z/uAsFArs3r2bYrF4UZW+l9Opc3tLuyjHjh3TKjC9Xu9bHo2Hw2H27NlDQ0MDDQ0No/7BmSgk6E/347F4sBqGdnDKzeUUlSKHoodG3N07m2wxy+HYYfrT/RTloR2sqc6p1PvrqaqqQlEUwpEwzx55llh/jERvgrKyMu01oKgKOXmocElRFSTefE6yIhM4GUBNqiyfs5w+uY+Xel/iaPwosiLjNDnxWD04DA5MehNlxpGtfgw6A4qqkFfyWAwWdOgI5nR4AYeUB9XIojojVqMVCQmr3kp/pp8D0QMYdAa8Fi/zK+eTLqRJF9OoqkqykCSv5LXqXoPOcMaq8VPD0fkWCmUyGXbu3ElFRQVz586dkOFoND0Hd+zYwT333MPDDz/MRz7ykQn5/ITJSwRAYcI72z+aF9MI+uTJkxw4cIDGxkZtSoZer6dQKLzlx54a/i70mOrUCtvSMWJpd7C0U1Ya01Z63ul0mra2Nux2O0uXLr1imjTD0NzempoaampqkGVZOxrfu3fvOY/G+/r6aG9vZ+7cudTU1JzjM5y/nJwjW8xqu0+qqhLOhjmeOE4in6AgF5haNpUZrhnahIzhFFWhfbCdE4kTQzuIhjd3EI16IzX2mqHd30oPM+WZhDNhbNjoCfVwqO8QmaMZzDYzdYU6XLUunEYnRslIODvUd/BQ99AOcXV1NQajgR19O8gWs/gtfkK5EKFMiGQ+yeLKxTQ4G4jn4zhNTox6I4l8gkgugtvkxmqwUm4ux2P1cNIFuT6QkKnzyNw4p4opjil0xbvoSnRRZ6/DaXQSz8fJFrM4DU6qbFW8HnidveG9ZIoZreef3+bHpDv9vuSp4agU+FtbW0ccFZ/6Pc5kMrzxxht4PJ5R7+5eTm/Vc3Dfvn1Eo1Fmz57NZz/7Wf75n/+Zj3/841fM8xMmDxEAhSvWhRwBq6rKwYMH6enpYdmyZVRWvnkEpdfryWazb/nxYz3Zw2q1Ul9fT319vbZTFgwGOXbsGBaLBZ/Ph9Vq5fDhw9TU1FyWSt9LqVQ17PV6RxyNHz58mL1791JRUYHP5yOTydDd3c3ixYvxeDxv/cDnyaQ3YdabyRQzWA1WIrkIR2JHSBfTlJnKMOlNHIoeIi/nWexZfNrXOpqL0p/qx2f1affmKvQVBDPBoVBoKiecC5OTcxh1RpKFJMfSx0hKSXLOHGlzGr/eTzKW5NUTr2Iym8hb8+zN7SUYC6LICtYyKyczJ8kFckTzUfJKHr1OT429hoKlQCgbYrAwyHXV17E7tJuBzACxfEzbsXMYHIQyISyGoeIK9GYGdXoGJB3Ni6pZUDmPcnM5BwcPYtKZGMwNEslGUFFJF9Ns69nGXTPuwmqwciByAIvBgklvospehVVv5WjsKG6z+6z3JY1GI9XV1VRXV49oMF66/lCa3etwONi3bx9er5fGxsYr9nV9pp6DfX19/OY3v+Hhhx+msrKSzs5OnnvuOa6//voJ21RdmJxEABSuWOd7BFwsFtm9ezfpdJrVq1djt9tPe5xzBcnLMdbt1J2yUChEd3c3XV1dGAyGoaPFcJiKiopxvyA/Fob/4BzefLqzs5N8Po/D4SCZTGK1Wk/7fl2sMmMZ1fZqjsaP4ja56Uv1kS4Ozaytc9ThNruxGCz0pfpoKGvQ2qOU5OQcRbV4WtWwzWAjmA7ymvwa8VwcpKHXTE+ihxPJE6io2mxhxaygq9Jxw9IbiEQivNb1GulwGqWoIJtlUvkU6WKaI7Ej6CU9TpOThrKh42+j3ohDHtp1rDBXsK52Hdt6tlFQClRYKoZ67ZndPN/zPGWmMsrN5XSfDHJjoUhAcfHOxtU4THZyco5MMUOqkCKYDlJuKcegM5AtZulN9bIntAeDZGCpdyl6nX5oHUYniUKCveG9hLPhoc9nr6baXn3GdjBweoPx0j263t5e4vE4JpMJg8FAPB4fl56Sl4LVamXJkiX09PTwta99jeXLl/PUU0/xkY98hPe85z1873vfG+8lCoJGBEBhwjvXEbCqqlowO5N0Oq01lV29evUZiy7OFgDfqtjjUtHpdKRSKZLJJEuWLEGn0zEwMEB7ezuyLI84Nh1t4+eJwmq1kkgk0Ov1rFixgmQyqU1usFqt2s7hW124PxdJkmgsb0Qn6TiZPMlAZgCL3kJDWQNe61CVrUVvIayGyRQzuM1uMsXMUE9Agw2z3oxBMpCX8yNCYLKQJJIb2kWrtlejk3SkC2leTr+MJEnMds3GYhy6kzeQHWBfZB8LKhfgdrsZSA9gt9gpc5YRTUaJZCIYZSOqpBJTY1q4c5ldFOUieTlPpaUSi9GC3+pnanwq08qmYTfasRvsdCW6iOaiqKrKS+16PNFBdlpMHKZAeWgnBp0Bl8lFUSnSn+7HbrRj0A29hhRVocJcQSQbwag34rV6tbuSmWKGrkQXXbEusnKW/eH9ZOQMM10zWV21mhpHzYjmzmf62tvtdlRV5fjx40yZMoWysjJCoZB2VFyqsB1tpfx4am9vZ8OGDTzwwAN87WtfQ5Ikbr/9dlRVJZ1Oj/fyBGGEq+OnhzAplX5IyLJ8xgAYDofZtWsXNTU1NDY2njUknikAloJlab7v5ZrsoSgK7e3tDA4Ojph0UVlZSWNjo9Zu5ciRI+zbt09rt+Lz+a7Y46VSgYssy6xcuRKTyYTb7aauro5isahV2La1tWlB4WJ7s5n1ZhZULqChrAG9pCcn56i2V2t/npfzGCQDsiqzN7yXQDqAoiq4TC6mlk3FZ/PRk+yhwlyh3b3LFDOY9CY8Vs+b0yyU/NBoM50Ri9Gi3Sl0m9yEsiEGkgMEDwaxmCxYyixDj6UmqCurQ5VV1IRKPpUnmUxyOHuYSmslOpOOKkcVDa4G7AY7BaWAXqen2laNJElD9wCzQ/cAU8UUfeki1foUxw1GTF4LBgwYJSN9qT6S+STxfByj3oiqquTkHKliilp7LQadAbPBTKKQ0ALgQGaA7ng3OSVHV7yLbDGLytAdyrycZ4FnAQsrF2ph8kySySQ7d+6ktraWGTNmIEkSNTU1Zz0qLgXCiVzwNNzBgwfZsGEDH/vYx7TwV1IKwIIwkYgAKFyxSj/8i8XiaTt7J06coKOjgzlz5rxlo+RTA2Bp16/UIvNyHbnm83l2796NoiisXLnytLFUp7ZbKR2b9vb20tHRgcvl0trLTISZvecjm83S1taG2WxmyZIlp+1oGgwG/H4/fr9fCwrBYJCOjg4KhYLWUsfj8VxQSx2H0cHcirm0DbQRzUVxmpzk5TyhbIhqW7U2q7fcXI5BMhDOhkkUEsyvmI9JZ6I/3U+ykMRmtNHobuRE8sSIe3EGnQGjzkhezo/4vDk5h07R0bG3g2neaVw75Vp+f/j3BFNBBrIDGCUjBbWAw+JgrnMuiVyCVC6FHTumlAl9Tj80cbdch8k1dKcxXUxjN9rJK3lShRTR3NDdwSxGTlrj6HR6nEaFjmgHFr2dEyEzMzxGqu3VhDIhCnIBk95Ejb0Gp8mJQTIwwz2DA5EDQ7uEBjtHYkeGvk5GJ6o0tNOJBL3JXtLFNCeTJ6myVY0I08MlEgl27tzJlClTmDFjxog/O1NVcSgUoq+vj46ODhwOhxb6L8eEnYtx5MgRNmzYwAc+8AG++c1vTsg1CsKpRAAUJryz/WMqSdJp4a00K7avr4/ly5dTUVHxlo+v0+m0x7gc9/3OJJVKsWvXrgtqdmy325k2bRrTpk0748xen8+Hz+e74N57l0symaStrU1rAfJWQXt4UGhsbCSZTBIMBjl+/Dj79+8/52SOM6mx15CX8xxPHCeYCWKUjEx1TqXcXM7e8F6qbdXajpbFYKE31Us4G2aRZxEzCjMoKkVsRhsSErF8jMHcID6rDwCrwYrT5CSai5LIJcgb8uSVPPF0HF1UR0NDA/Ma56GgUGWroiPaQb6YRzEomPQmckqOSn0lM30zySt5bS2mvAlXzsXhjsMUi0Uy9gz9pn6qy6spqkX6Un0U1SLphJ++wRxVDpmMQY9DZ6TMWMb3nj8ASCytqebT162lK95FqpiizFSGhEReyTOrfBZTnVOxGqx0J7pJ5BOY9WacJicuk4t4IY5Op0NVVUx6Exk5g6IqRPPRMwbAeDxOa2srU6dOZdq0aef8ngyvlG9oaNCKo0KhEMePHx/z6Rxjoauriw0bNnDXXXfx8MMPj8sd3W9961ts2rSJjo4OrFYr1157LQ899BCNjY2XfS3ClUMEQOGKNjwAFgoFdu3aRS6XY82aNee9C1ZqJzNe4W9wcJDdu3dTU1PDrFmzLurzWiwWbeB9qRVHKRyVml2XxtJNhDAYjUZpa2vTdoQudE2SJOF0OnE6ncyYMWPEZI5Dhw5pAfhcu0Y6Scd013RqHDWkC2mMOiMOo4OueJfWFiUn53CYHEP37vQWTiRPUFSKWguWWkctPquPme6Z7A3vpTfVi0k3FOAa3Y1DffTkPLIqI+dk5LDM2xveTsP0BrqT3aSLaYx6IzPLZjKQHSBTzGDRWzBKRnJKDpfJxYqqFTiMDnSSDqfRiU7SaXNs+wJ97O3dy/6+/RRNRQpKgXJ7OXsHiuiMYRL6IgUkDiXjvPjyblS5DEmfoH0ggM/qQ0VlX2gfx+PH8dl8LPYspqGsAQCf1YfX4kVWZcqMZTx1/CkUVUFRFVAhXUhj0puw6C2oqnrm2cCxGK2trUybNo2GhoYLfp0ML44qTecYGBjg4MGDI46KvV7vaTvml8PJkye57bbbWL9+PT/4wQ/GrUBr+/bt3HfffaxYsYJisciXvvQlbrrpJtrb28XRs3BWIgAKVwRJkrQj2eFKlcCpVIqdO3dit9tZvXr1BRVHlHYAxyP8lfrdNTY2UldXNyaPObwVx/Dee7t37wbQ7gyO1w5KMBhk3759YzrHeHhLneG96EoBuBQSysvLT/shbdFbtFm1AKFsiOPx41qPvUguQiQTQWEo/MiqjFVvpTfVS3+qn0WeRdQ6ajHrzfSl+kgVUjhNTqqsVWSVLCcSJ+iN9NIf7ufaWdfSUNfA68HXiefjyIpMV7wLl9nFdNd0+tP9pAtpLMahUDWrfBZ19rrTXo+SJKFaVHReHbPLZzO7OJuByABSv0QqnCKaD6IzBZAlBVWCYCZO0diFhBtJNZHN2djVf5y8LoDX5sVv8w/dG0z1UW2v1hpiS5KEQTIwu3w2eyJ7OJk4SaqQoqAUsBvsOA1O7EY7Zr155FQS3gz5M2bM0Hpujsbw6RyqqmoNqEtHxU6nU9sdvBxHxX19fdx2222sW7eOf//3fx/X6vxnnnlmxH8/+uij+Hw+du7cyfXXXz9OqxImOhEAhSuawWBgcHCQrq4upkyZcsG98lRVxWAwUCwW2bVrl7ZrdKkLKlRV5ejRo3R3d7NkyZIRfQnH0qm998bqDt3FOnHiBIcPH2bBggX4fL5L8jlO7UVXCsD79u1DUZRzVlFni1kGs4O4zC4UVcGmt+HQOziePE66mGaxZzHVtjePOcPZMEdiR/DZfJSbyyk3l5+2HikhEe2NsmHhBvzV/qEZvcUMtfZaVFQG84MEUgG8Vi/X1Vw31Hg5nySn5Kh31J/x9RxIB9gX3keqmMIgGSgoBax2KzMbZmJQDbyWfJlQOoLLoKBToFdxowI6YxQlX4Gc9ZBWg/jNlVgMQ+HXrbrpSfdwMnmSOeVzRnw+p8nJO2rfwV8Df+V44jixfAxZlTHphiaSzHbPpsL85nWLwcFBdu3axcyZM8cs5I/4mg47Kp42bdqIiTOlo+JSEcml+EUnEAiwYcMGVq1axc9+9rMJcRQ9XCwWAzivKzDC5CWpZ9pWEYQJJp/Pn7YDqKoqL7zwArlcjvnz51NbW3tBjzm82KPUoywYDJJIJCgvL9fC4FhXISqKwv79+4lGoyxduhSH49zjxy4FVVW1O3TBYJBUKnVJn7Oqqhw5coQTJ06wdOlS3G73mD7++a4hHo8TDAYZGBggnU5rzadLR4iBdIC/Bv6K0+SkJ9lDLB9DURUKcoF4Ps7aurUjxsUVlAKRbIRrq689rW8goBXolAJvOBtmR/8OvBavdr8wmA4OTRPRGbnGew0qKpFchHpnPUs8S04LgEWlyKv9r5LIJ/DZfNpz6031EsvHOJE4QXeim0IuTnFgPzJ69hfnIFEESUYteCjEl/K1271ML28Y8diRbASrwcp1Nded8WsYzoYJpAKEciFQwW6wU+OoocpWpa0zEomwa9cuZs+ePWa72hdi+FHxwMAA+XyeyspKbXdwtEfFoVCIW2+9lfnz5/OrX/1qwrViUhSFO+64g2g0yksvvTTeyxEmsIn1yhWEszj1CFhRFA4cOEA2m6WhoeGiw1/pyHf4bkLpPllptmlZWZl2h2601bVvVel7uZx6h64UgPv7+7XnPHws3WiUvleRSIQVK1aMS+CFkVXUs2bNIp1OEwwGtSPEsrIyDC4DeTWP1WKl0d1IuphGURWS+SSd8U6tLVBJUSmil/RnvP/W3d1NZ2cnS5YsGbkTo44sbPJavUx1TqU31UsoG8JmtDHdNZ1Z7jPfB00UEsTysRFHrpI0VMDRk+zBY/EQyUYIpQfQoSIZjMyuNNE5kGPor5AKqBw5fJisI015eTkulwuMEM/HzzkPudJSSYW5gp5UD8fixwhmgoRzYQYyA8xyzyIdS7N7924aGxsv+O/kWBl+VNzY2KgdFZfCeGnkotfrveACqUgkwh133MGsWbP45S9/OeHCH8B9993Hvn37RPgT3pLYARSuCIVCQfvhm8/n2bVrF4VCAbPZjMfjuaAL5sN3/t6qv18+n9d2BsPh8Kiqa1OpFG1tbTidzvOu9B0Pw59zJBLRGjH7fL4LntggyzK7d+8ml8uxdOnSCdvTrfSc+4J9vNr/KkVDkYaKBtxuNxabhUAmgA4diqRQZa3CoDMgKzJ96T7qnHUs8yzTvi6l4/3SbqfL5Xrz88h5dvQPzfj1WD3a+/el+/Bavcx2z8akN50zhA3mBtnRt4MKS4XWfLmgFGgNtpKVs6z0r+R4/Dh7up4hMLAHu9GBa8o6/thxDFWxgGriG++4E4seQtEQxWSRrlgXSZJggUW+RVzfcD1TnFPO+L3uT/fzWt9rpOU0Zp0ZnaRDVmVcigtOwLy588ZsfvNYG35UHA6HMRqN2s5geXn5Of9OxmIxbr/9dqqqqmhpaRm3X97O5f7772fLli288MILb1lxLQgiAApXhFIALDWTLSsrY+HChVqV26m9xc6m1Nz5Yoo9isWiVl0bCoUwmUxaGHyrCRWRSITdu3dTV1fHzJkzJ0Ql7vkoNWIuPefSnUKfz3fGgorh8vk8bW1t6PV6Fi9efFnuGI6FQDLAjuM76BvsI5lIAtBQ0cDCmoUM6gcJ58KoDP2z6bV6WVC5QAtsqqpy6NAh+vv7Wb58+Wm7nbIqcyBygN2h3RSVIuXmclRU3GY3iz2Lz3iMXPo4CQmdpKOoFPlr4K9Ec1F8Vh+SJBHPx3ml7xWmOqcyp3wOWTnLX/f+nJ3BnSgWBybXTPb1JlFlC29rqGeebwpra9fSm+plb3gv0WwUs2rGXrAjp2UUVeEa/zU01jRSWVk54nu37cQ22kJtGHQGJKShUXc5icRAgqYFTcyfOv8tv8bJQpJINjJUTGK047F4ztlE+lIo3Q8tBcJCoTCiAfXwgJdIJGhqasLlcrFly5YJ94uMqqo88MADbN68meeff55Zs2aN95KEK4AIgMIVoVgs0t/fz+7du5k6daoWovbv34/BYHjLfldjPdlDlmUtGA0MDKDT6bQweGow6u3t5cCBA2Na6TseSnerSvcGFUXRjtI8Hs+I3ZPSCL6ysjIWLFhwxc0vThfTWpPkYqZIMVZkMDRIOpvG6DLirHDi9/ipdr7ZK7B01D04OMiyZctOuy6Qk3Psj+ynN9VLspAklothkAw0uhtprGjUxtENl8gn6E50M5AZQK/TU2OrYYpzCvF8nL3hvcQLcfToSctp+lP9zC6fjdcy9DiJvf/F9uNP0++sIl8+h9ZOPari4D1LazCaMtxQewPVtmpe6H0Bt9lNmakMm2FozV3hLsw5M56sR7sf6vV6sbqtPNb5GNFclGpbNQ6Tg2w6y+Hew/i9ft6/4P3UOs599BtIB9gf3k+ikBj6e4hEta2aBZULtIKUy610J7YUBuPxONlslhdffJFbbrmFf/mXf8FsNvPkk09OyCbrn/zkJ/n1r3/Nli1bRvxb6HK5zqsnpjA5iQAoXBEOHz7MwYMHmT9//ojjpYMHDyLLMvPmzTvrx17qyR5nC0Y+n49oNEpPTw+LFi26ZJW+40FVVWKxmHZUnM1mqays1C7Z79+/n6qqqguuyp7IhrceKRULlaavVFZWcuTIEVKpFMuWLTvjDtGh6CHaI+34rX5MehPhbJiOwQ4AZrtnU2OvYYZrBnbj0J3LZCFJ20AbkWwEp9GJrMqkiinqnfUsqlxEVs4STAfJylkcRgeBdIDeVC9eqxez3kxu76959dhTnHRN5bnANaCaARmjOc0/rF7CFJeH+rJ6DkcPU2sfGdpiuRh6nZ7ra67XmoyfCJzg1eCr7JH3YDQaqbBXoFf0SAkJr89LwVjg/bPfT53j7L/k5OU8r/a/SqqYwmvxIkmSNpd4bvlcZpfPHrtv2CjkcjleffVV/vmf/5kdO3ZgNBr58Ic/zF133cW6desm3PHv2f6O/fznP+cjH/nI5V2McMWYeDdYBeEMrFYrK1asOK16VK/Xk8/nz/xBjNz5u1T9/YZfOp8zZw6xWIxAIMC+ffuQZZnKykoKhQLFYnFCXhq/GJIk4Xa7cbvd2li6gYEBurq6SKfTWK1WrFYr2Wz2qtmBOLX1SCkYBYNBDh06hE6no66ujlwuh9lsHvFaKypFelO9OI1OTHoT8XycY/Fj6NGTV/IUlALHEsfIyBmWe5cjSRIHIgc4Gj9Knb1uaFKHJOFUnPQme6m11+K3+XG43jxi9ll96HV6AqkABbWARc6xPJOjU1aR9BkgD6pEPuckFHVQXVbEKBnRoaOgFLT7hAAZOUOVZaiyt9RjMW6P47P7mBqaSjgZJhqJIisydosdc9GM1+LFZXZxLoO5QWL52IiqYYPOgMPooDfdy3TX9Mt+FHwmZrOZVatWYbVaueaaa/jCF77Ac889x9///d9jNBrp7OycUL/YiH0c4WKM/980QTgP1dXVFIvF095eagR9JuMx2UOSJGw2G7FYDLvdzqxZsxgcHOTYsWPs27dP67t3OXoNXi6lYFQ6Nps9ezY6nU4LRqVZrhN5LN3FsFgsVFVV0dfXR3l5OTU1NYTDYVpbW0f0X6yoqEBl6BeRUrVw6Xi5wlJBOBseGh1ndBJMBzmZPEkoE2JH/w5ShRTJfJJySzkNjgYycoYTyRNIksTCyoX4bD6tibXFYGGJZwmxshg5OYf9xD4qM1naJBsvK+XcOq+Bp/YOospWbGYFh9FBjb2Gwdwgvaleys3lGHVG4vk4OknHFMeb/ftyco5AOkC1o5qCWkAn6QiEA9icNtKFNLHBGJ64hyPqEa2v5Lle3xIjXwN6SY+qqtrdyvGWy+X40Ic+RDQa5dlnn6W8vJy77rqLRx55hN7e3qvmNSxMbiIACle00hi3U42m2GM0SpW+ZWVlzJ8/H71eT0VFhdZqJRgM0tPTw4EDB3C73dq9wYl2qfxCqKpKV1cXXV1dI5pal8bSlfqxdXV1YTabz7twZqLL5XK0trZitVpZuHAher3+tJFl7e3tFItFPB4Pqkll0DCIw+ggVUhh0ptIF9OY9WaseisGnQFVVTkweIC8ksdj8aCX9Jh0Jo7FjnEifgKD3kAyn8RpdNI20IbP6qOhrAFFVTDoDFRYKrRm1Aa7HwPwgdoy5ixdwWN/7UIFJMMgVpsFi76GeCHO7PLZmPVmApkAqUIKnaTDY/GQLWZJ5BM4TU7U//c/k96EvWgnG81S76/HYrEwmBtkuXc5S11LKcaLnDhxgvb2dlwulxaCbTbb0A6myYnNYCOWj2kFL6qqEs/HmeaaNmIXcrwUCgU+8pGP0NPTw3PPPUd5+ZvNvSVJGrf2NoIw1sQdQOGKIMvyGXf6ent7OXHiBKtWrQKGfpiUdv5g9MUeF6JU6Xs+822HHx8ODg7idDq1YHQlze5UVZWDBw8SCARYtmwZTqfzrO9bKpwpBUJJkrSAUFlZeUUVimQyGXbu3Inb7WbevHlnXXtpZu/AwABH+46yP7afjDlDVB8lRQqvzcuc8jnMdM9EVmW6E90oqkKNvYZMMcMbwTdI5BOki2nCmTAus4sp9ilcW3Mtep2etmAbdqOdSutQ6K60VDK/Yj4uswv9/hbMT92PXH8dJ5t+xO0/e5q0EkYyxFlSV4bL5GJedRl7u+HGact51xwfnbFOelO9FNQCqGA1WJntnk29o57d4d3sPbGXXDBHdUM1OWOOYDpImbGMm6ferLW1gaFwXPo+RyIRLBaL9r2OSBEORQ8hI2OUjGTlLOXmcpZ4l1BmKrss37+zKRaL/O3f/i0dHR1s27YNr/f0whxBuFqIHUDhiqbX67Wwd2qxx+UMfz09PXR0dDBnzpzz2iGwWCxMmTKFKVOmaL3JAoEAR48exWq1amHwcsw0vViyLLNv3z6SySQrV658y7t+er1ee16Kopw2lm74iLaJ3DImmUzS2tqKz+ejsbHxnN8fSZIoKyujrKyMGTNmUN5Tzvau7eRjeRK5BHJSxpQ1YVbM6Ew6XCYXmWIGg86AUWccusOqDu1ky8g4jA4kvUROyZHOpYkX4hj0BmrsNciKTCATYH9kPyv9K9GVDb0OpWgXXquXr994C5996g/opCKtnQ5AZVv7IJIxykBc4dqZQ21h7Ea71tYmlotxcPAgLrMLc8JMLBDDM8WD0WpEVVRmuGYwv2L+iPAHQ3fo6urqqKurGxH8d+/ejaqqONwOFIeC2W5mhmsGVfaqc/Y+vBxkWeYf/uEfaG9vZ+vWreMa/l544QUefvhhdu7cSV9fH5s3b6a5uXnc1iNcnUQAFK4IZ/shW5rjezmKPc5EVVU6Ozs5efIkS5cuvajZmyaTiZqaGmpqakb0GnzjjTcwGo34fD78fv+EOjItFArs2rULVVVZsWLFBd9n1Ol0VFRUUFFRQWNjI4lEgmAwqN2VPHVE20QRi8Voa2ujrq7uLXd5T5UtZokpMZbUL2GteS39yX46Bzo5Hj1O7HCMWdZZLKhaQM6QI6FPkFNyOEwOahw1dMW7kHQSc8rnkCwO9dBLFpLa8TGAXqfHZ/UxkB0YmhTiGWoHooufRMkMMrMmybJZIWJZlXQ6R/+gCVQ9atHB7Jqh3UdZlUcEMZfZRU+qh31H91HsL3LXNXeRMWaI5qPYDDb8Nv+IiSRnMjz4D68eHxgYIHk8ianChNlrxuA1jNtVCFmWeeCBB3jjjTfYtm0bVVVV47KOklQqxeLFi/nbv/1b7rrrrnFdi3D1EgFQuKKVdgAvd7EHDP3Q2L9/P/F4nJUrV47J0a3BYKCqqoqqqipkWSYSiRAMBtm1a5d2ZOr3+9+yCfOllM1maW1txWazaXffRmP4LtnMmTPPOKJtrEbxjUbpiH/69OlMnTr1gj8+URg6yq2yDYWLKkcVHpuHWf5Z5It5ltuXkxhM0H2ym45CB0VzkZwph86pw2124zQ6KSgF9JKevJwnL+eRVZkKy5u/dJSKKYpKEWx+lIoZSJEjdHZsZI+jnDm1Ck6TEwWFP+0Z5ETQTY3LzprpbvJy/owj7QZCA/SGe3n7ordjsBtosDRcdKXu8OrxWbNmadXjpRGE41EwpCgKn/nMZ3jhhRd4/vnnJ8Qdv/Xr17N+/frxXoZwlRMBULiildrAHD9+HL/ff9lajpTG0QGsXLnyklT0Dq8kHX5kun//fmRZ1n5QVlZWXraxcolEgra2NjweD3PmzLkkIdRms9HQ0EBDQ4N2lywYDNLZ2YnNZhuX4/GBgQH27t07qhm3Omnol5NUIUU0FyWWj2HUGTHpTZSby6nyVzGlegpz5szhUOAQr3a/yp7QHoqDRepd9dgcNiKFCJFCBLPOTEEtYDVYRzSQThVTWAwW7EY7yUKSwNQ1pJPdHDr6Rzyr/pFkIUlWzuI0Ocmr+5H0OubV2ikzO6mx1xDOhpEVmaycJZKN0NnXyeHQYRbVL+Jo7ihHA0dPm34yGna7HbvdTkNDw4gxbcePH8doNGqv/0v1C4+iKHzhC1/g2WefZdu2bdTX14/55xCEiUoEQOGKcOoP+lKxh9lsZs6cOQQCATo7O7ViCr/ff8l2i5LJJG1tbbhcLq3S91I79cg0Ho8TDAY5fPgwe/fu1e7PeTyeS3Z/rrQDNnXqVKZNm3ZZwtfwu2RnOh4vhWC3233JdkT7+vpob29nwYIF+P3+i34cl8mFVW+ldaAVnaTDZrARz8cZzA2ywr8CgzT0z7FOp2NO9Rxm+GawILSAo5GjFNIFErEEkWQEp9VJnbWOyspKQsUQgUwARVFIFBLIqsziysUMpAfojHeS8c0kfsRCf/QgC2LHqXHWcDR2lBPJExT1AQzObsL5PG7zEqrt1QxkBzgUPUQwHSQ4GKQv1ofD5UAySNgMNpxGJ32pPp4/GMWjb+QDq6swSAaM+tG/5oZfhSiNaRsYGGD//v1aJXVp6sxYvMYVReHLX/4yW7ZsYdu2bUyfPn3UjykIVxIRAIUrzvBij1Jbhrq6OvL5vLZbdOTIEex2uxYGT53JerHC4TB79uw5r0rfS0WSJFwuFy6XS2vCHAwGOX78OPv3778k9+dKja3Hc5zd8OPxUkAIBoPs3bsXVVVHFJGMVSg/ceIEhw8fZvHixXg8nrf+gHOtX2fAYXIMtWyRDOTkHBISdfY6inKReD4+opGyUW9kkWcRXpuX3lQvSrXCDcYbMKaNJCIJIh0RCoYCPcYeIlIEq9lKuaWcY/FjZJUsVbYqaqqWY6mcRV/sKCf2/ZKZa76ISW+ifeAoiWIASWfG5ciwK7gLp9HJ/Mr5nEycJDIYIZPIUFFegd/hJytn6Un20Fg+h2//MUBK6UeVXuKYXgfIzHbN5h1172BK2ZSzfwEugE6nw+PxaDvNpUrq0mvc7XaPaDFzoVRV5Z/+6Z/4zW9+I2bnCpOWaAMjXBFUVSWfz593c+dCoaDtFoVCoTGprD158iQHDx5k7ty5I8bRTSSl+3MDAwPEYjFtVJnP57vo4/Hu7m46OztZuHDhhGyLUSosKI3iy+Vy2m6R1+u96N2iY8eO0dXVxdKlS0+bQHOx63yx90VSxRR6SU9BKWDWmykzldGX6mOZb9mI5svnepx4IU4un+NI/xF29e2CFBgkAxXlFfTp+kiR4rra67DoLWSjxzi0/WtEJIU6/zW0e6ez/ehJYmmY7qrnlnk1xHNxZrpnssa/hk17NtEd7sbpdRLKh7RjarvRQfvRGtpO9mNwtSLp8lzbUI1OpyOZTzKlbAofnfNRppZd+P3IC1FqoVRqMWOz2bTv9fkUSqmqyre//W1+8pOfsG3bNhYsWHBJ1ztakiSJKmDhkhA7gMIVQZKkC5rsYTQaqa6u1iaIhMNhAoEAb7zxBiaT6YKaEY9Fpe/lcur9uVIoOnz4MA6HQ3ve57Mjqqoqhw8fpre3l+XLl+NynXvM13g5U2FBMBiku7ub9vZ2ysvLtaPi86kyLX2/e3t7ueaaa87Z2/BC12nQGdChG1E5q6jK0GtQhXQxjUlnGlFkoaoqoWyIgcwAsVyMwdwgsiojSRLH08eRy2RclS4S6QR9uT4GogOEiiH2Z/bT4GnA5ZpCzbx7iBz4DYeDbzCQ7aGQq4eiG7PkIJUxotPrCaaD7Ovcx/HIcdw+N7VltagJlaycpagU2X70OCdOWNHZupEMUcrMbpCGCk/8Nj99iT5e7nuZKc4p6KRLV6A0vIVS6e/2wMCAVihVCv9n2glWVZXvfe97/OhHP+K5556b8OFPEC4lsQMoXBFeffVV3njjDW677Ta8Xu9F3/cq9SQr7ZKVWlT4/X7cbvdpYbDU6y6RSLB06dIrqknzcKWJHMFgkHA4jNVq1UJRWVnZac9bURT2799PLBa7op93JpPRnnc0GsXpdGrP2263n/Fu6YEDBwiHwyxbtmzMnndRGWpi3pvqZVdoF5WWSix6C6qqEswESRVSVFoqKapFzHozUxxTqHfWY9AZOBI9wsHoQQpKgROJE4SyIeqd9TS6G/nLyb/Qn+pnetl0ys3lZOQMOTlHMBlknmUe+rSeTCaD1W5Fju/AduI5DpgN2IsGDhXmsFuZSRYzOkOCJT47G9wL6S3vJU+eKnsVyUKS17qP0B4KkC9IFNPT0Ns70BkGaXBNYUq5XXtuBbXAdOd07lt837j09CsVSpV2B3O5HBUVFdjtdsxmM/X19TzyyCM89NBD/OlPf2LFihWXfY3nK5lM0tnZCcDSpUv57ne/y7p166ioqBCFKsKYEQFQuCL88Y9/5Ktf/Sq7du3i2muvpbm5mTvuuIOqqqqLvoc3/B5ZMBg8rc1KqdedTqdj8eLFV83sXlmWRxyPGwwGbWfQ7XYjyzK7d++mUCiwdOnSCdWHbzRKVaalEGyxWLS7ki6XC1VVtcbWy5YtG5OedOlimuOJ4/Sn+gGoMFeQVbKEM2EtOGWLWYpqEY/Vg81gYzA7SDAbpN5Rz3TXdA5FD2HVW1FUhQODB3AYHcTyMaqt1RyKHaIv1UeNvYaGsgYkSaI70U2qkKLB2YBOp2MwPUgyncRT9FAXCXMy9jiynMQry0jo6VS87DW4ceum8/UN/8D9Lz7N8XgXUyqHJvMeDSVA1WOUbFxbs4rtPVvRmUOsrpuG7f+9NlL5FIligmu81/CxBR/DZhi/dj0wFORLLWaeeuopvvjFL+L1eolGo/znf/4nH/jAByZMT80zef7551m3bt1pb7/33nt59NFHL/+ChKuSCIDCFUNVVY4fP05LSwubNm3itddeY9WqVTQ1NdHU1ERdXd2owmCpzUogMFRVqaoqTqeTpUuXYjBcnbclTg3BJWazmeXLl181ofdUp+4El64U6HQ6rrnmmjEJf3k5T+tAK4F0AKfJiYREPB+nwlLB9LLpFNWhBuadsU5UVaXCUkEgHeBE8gSxXAwFBY91aCbvCt8KYvmhqRweq4d4Pj7UC1DJE8vFSBVSzHDPGPp+5iIYJSNlxjJScgqr0UqZoYwycxnTHdM5HjjC3s4WdPFOjIU4OZ2OumKepmSaoqRjs93JbqOVmM5IRtKjk414LA6Weaaw0LSAr7fvJG4PMsNfhsdahaqDwewgeSXPB2Z/gFun3ToG36GxUzr2/eY3v8mKFStobW3F7/dz11138fDDD0/oICgIl5IIgMIVSVVVenp62LRpEy0tLbz88sssW7aM5uZmmpqaaGhouOh/2EOhEHv27MHhcJDL5SgUCtqxocfjuWw99y63ZDLJzp07MRgMWnPt4e1lrtbnncvl2LlzJ4VCAUmSRjzvysrKiw7/Pckedg7spMpWpTVYVlSF3lQviyoXMc01jWQhycu9L2vVwe2RdnTosBmHdgIrrZUcjh5muXc5dqOd9kg7dqNdu5enqupQc2idHofBQSgbIpkf6vVnN9m1XUSH0UEin6CgFljmWcZAZoD28AF+tfVVGtJB3lUMsUQ6QaclTlin4zWrhaQkYUMli0RtscjUQoF5+SJ9Bj1HjAZaLRYSvrmAhEEyMNM9k39c/I+UW8rH8LszOqqq8qtf/YrPfvazPPHEE6xbt45MJsPWrVs5cOAAn/vc58Z7iYIwbkQAFK54qqrS39/P448/TktLC9u3b2fBggU0NTXR3NzMrFmzzjsMlip9582bR3V1NaqqkkgkCAQCBINBstmsFg68Xu9VszMYjUbZtWsXtbW1zJw5E0AbzxYIBMhms1RWVmrPeyLP6r0Q+Xye1tZWzGYzixYtQqfTEY/HtXuDmUyGiooK7ReAC9kRPTh4kEPRQ9TYR1aMB9NBquxVLPUuJS/nebnvZVRUcsUcnbHOoV0/OUtezjO9bDq7Q7txGp0s8y3jSOwIfak+8kqeac5p9Kf7SRVTLPMtI5FLcDxxHJWh+cHllnKyxSxWw1B7mGg2ymBukLW1a1nqXco3Wl7n9wfSwNDfDckwiMW+D6sxgNV6knqHilmn4tTpmCoZmFsEYzEFsSh9xRRmnZ7+t3+STDGD2WBmXe06Gssbx/LbMyqqqvL73/+e+++/n5aWFm6++ebxXpIgTCgiAApXFVVVCYfDbNmyhY0bN7J161Zmz57NHXfcwZ133sncuXPPGAaHV7wuXryY8vLTdzFUVSWZTGrHpel0moqKCvx+/xUdikpTLmbOnHnWC+bDn3cymaS8vFy7N3il3hHMZrPs3LkTp9PJggULzlhYVKooHhgYIB6Pa211zqf/3NHYUfaG91LnGNk3sTfVy0z3TOaWzwXgUPQQByIHKCgFepO9lJnLiOfiVNmrmOGawcHBgwzmBpninIKsyAxkBpCQqHHUYNQZh+4QKkUORQ+hqAoVlgoyxQxWoxUdOjqjnRj1RopKUbs7WJOv5d+2T0VW3/wF5vq5ElU1O0GfJpWPY1EsJNNDc4crzBUs9y3HW+FlRc1qXuvdD/ooBaWI1WilzlHHLNesix4Rdyls3ryZj3/84/z2t7/ltttuG+/lCMKEIwKgcNVSVZVoNMoTTzzBpk2bePbZZ6mvr6epqYk777yThQsXotPpSCQSbN26FY/Hw5IlS8678rMUDgKBAMlkUmvAfKE7ReOptON5IVMuMpmMFgZjsdiEmdV7IVKpFK2trVRWVp71l4JTndp/rtRo/Gxza+P5OH8N/BVZeXNebywfQ1ZkrvFfo7WCKYW3Q4OH2B/Zj8PooNpezRTHFPQ6Pb2pXhqcDTiMDmRVxmly4jINteSxGCzIisyByAGe7HoSVHCanUSzUVLFFDaDjZ5UD2XGMiSdhMPooBAr0J9K8OrhBSiZmeglia/f3sh1s/X8suOXQ3cVC3Ht8QPJAHpFj0f14M/7memYSaWnEmu5FZvThs1oG5eq33N58skn+ehHP8qvfvWrce+f9+///u88/PDD9Pf3s3jxYn74wx+ycuXKcV2TIIAIgMIkEo/HefLJJ9m0aRPPPPMMPp+Pd7zjHfzlL39h2rRpbN68+aKDWyaT0Y6J4/E4brdbCwdjUVAw1lRV5ejRo3R3d7N48eKL7m04fFZvJBLB4XBoldRnarMyESQSCVpbW6mpqWHmzJkXtcZSo/GBgQFCoRBGo3FEJXXpMftSfRwcPEiikADAbrAzq3zWGRs+J/NJ9kX2cSJ5Aqveil6nJy8PtWNZXLkYi+H011FWznI4epidwZ3sDO7EpDPRUNaAw+CgM9ZJd7IbVPDYPFSYK9AldOiKOkLGIn/ep6MYX8b/+cBqVk8rJ5KN8FTXUyQLQ7t+g7lBMsUMBaWAhESju5EFFQuokqrQJ/UMDAwAaE2YL+dM6nN55pln+PCHP8zPf/5z3vOe94zrWn7729/y4Q9/mJ/85CesWrWK73//+/z+97/n4MGD+Hy+cV2bIIgAKExKqVSKn/zkJ3z1q18ll8tRXV2tFZCsWrVqVD/IstmstkMWjUa1HTK/33/R0zjGkqIodHR0EAqFWLZs2ZiNyTt1+kqpzcrZeg2Oh2g0SltbGw0NDUybNm1MHlOWZa2Sengo8vl8VFRUUKRINBcFhuYBnynIlSiqwkBmgGAmSEEu4LF68NmGgoKsyFgNVq3Jsqqq7A7t5lj8GH2pPrJyloHMAJlihhp7DQbJwIHBA9gMNma4ZpAOp1Flldq6WgbzUcJxC3/TeBvz/bXAUJjc0bdjKKyqEM1FOZ44TiQXodZeywr/CnJyDlmVh46DLV6t715pAktlZaUWCMdjF3zr1q28973v5T/+4z94//vfP+6vuVWrVrFixQoeeeQRYOjv3pQpU3jggQd48MEHx3VtgiACoDAp/elPf+Kee+7hs5/9LJ/73Of485//TEtLC08++SQWi4U77riD5uZmrr322lEVeuTzeS0MlnbI/H6/1oj4cpNlmT179pDJZMas193ZPs+ZGm6XdsgutpH3aJSqu2fNmsWUKWMzs/ZUpWsHpe95oVDQimc8Hs9Z74kWlSIFpYBJb9IqhgEyxQxHYkcIpAPIqozL7GJa2TR8Vh+xfIwdfTsw680cjh7GqDOiqAo9yR7ySp5aWy2BbIB8IY8xY8SKlZraGpLFJJIk0eBs4O21bx9xfHssdoz9kf0YdEOziveF9+EyDX1Ou3FoRzeRT1DrqGWpd+mI513quzf8vmQpCF+OqwEvvPAC73nPe/jhD3/IvffeO+7hL5/PY7PZ2Lhx44hj6HvvvZdoNMqWLVvGb3GCgAiAwiT1i1/8AoPBwPvf//4Rb8/n8/zlL3+hpaWFJ554AkmS2LBhA3feeSfXX3/9qAo9StM4AoEAkUgEq9WqhcEz3SEba/l8XhuXtWTJkstWtKIoCoODgwQCAQYGBlBVdcQO2eU4NgwEAuzbt0+r7r4cTi0aSqVSWvGM1+vFYrFQVIp0J7o5mTxJTslhM9iY6pxKrb0WWZVpG2ijN9WL2+xGL+mJ5+OY9CaWeZdRVIu82vcqNfYaDkUPEclGqLRWEkwHORY/BhLki3lS8RQyMnWVdVhNVpwGJz6bjyXeJSyoHDkKTVEV+lJ9dCe7OZE4QX+qf2giSD5JRs4gIaGTdDQ4G7il4ZazPvdsNqvtBg+f13updoNfeeUVra/f3//93497+APo7e2ltraWV155hTVr1mhv//znP8/27dt57bXXxnF1giACoCCcVaFQYPv27WzcuJHHH3+cQqHAbbfdRnNzM+vWrRtV9WuxWCQUChEIBAiFQpjNZi0MXoofkJlMhtbWVhwOBwsWLBi3u1qqqhKLxbT7koVCYUSvwUvRVqenp4eDBw+ycOFCvF7vmD/++TpT8UzKniKsD+O2u7HoLaQKKQpqgcWexZh0Jl4PvI7H6sGoezOs96Z6aShrYKpzKq/2v4rVYKUgF+iMdZLIJzgUO0Qin8Bn9qFL68jIGeKmOGXmMsrN5ZQZy1jiXcK62nWYDWd+DauqSm+qlxd6XmAwN4hO0uEwOlBQ6E50U++o557Z92DRv/UOcmleb+lqgE6nG/ELwGh3g19//XWampr45je/yX333Tchwh+IAChMfCIACsJ5kGWZF198kZaWFjZv3kwymWT9+vU0Nzdz4403jupuX+m4tBQGS6PZ/H4/Lpdr1D/Q4vE4bW1t+P1+GhsbJ8wPyFKPxVIoKvXcK+2QjcUdsq6uLo4dO8aSJUvO2NpnvOTzebr7u3m+63nSyTRuqxuXy0V5eTkZXQab0UatvZb9kf3U2GtQVZWcnEOn05EqpDDrzVxXfR37Ivs4EjuC2+QmJ+fYNbCL3eHdVFmrcGQc6NCRsqUIZUM4TA5W+FfgNrkx6Ays8K/Aaz17IC4qRVqOtHAwepAp9inoJT2pYgoJCafJydratdQ6ai/oeZd2g0tHxaVfALxe7zmPyM+mra2NDRs28JWvfIVPf/rTE+a1DeIIWJj4RAAUhAskyzKvvvqqFgZDoRA333wzzc3N3HTTTaMqqlAUZcTdOUmStDB4MXfnwuEwe/bsoaGhYVTTUS6HUludYDBIIpE47bj0QqiqypEjRzh58iTLli2jrKzsEq364oWzYXb078Bj8pBMJBkcHCQWi6HoFIwOI4uqF3FSPonVaCWYCZIqpNChQ0VlkWcRq6tWk5fzHI0fpSfZQ0Ep0J/q50D4AM6ME5PORNKRpDvZjaQOjblrdDfis/qwG+3Mr5zPvIp551zj9p7tHI4eRlZlFFXBbrBTZa8iJ+eYXzmf6WXTL/r5Dz8iHxgY0PpLlopI3uqXqr1793Lrrbfy3//7f+cLX/jChHxtr1q1ipUrV/LDH/4QGPr7XV9fz/333y+KQIRxJwKgIIyCoijs3LmTjRs3snnzZk6ePMm73vUumpqauPXWW0cVPEq7JaVQpKqqVkhxPkdnfX19tLe3M3fuXGpqas75vhNNJpPRqkuHV1KfT0GBqqocPHiQYDA4plXOYy2RT7Cjfwc2gw2rYSjsqKpKT6SHWCyGP+Nnf3Y//fp+3HY3fpeflJwino+z0r+Sd9S9Q2u8nJWzFOQCJ2Mn+dnrP8NtdFNbXcveyF7ShTQADpODhZULSRQSWA1WVletZmHlwnOusT3STme0k0pLJQoKZv3QkXEgHWC5b/lpU05Go/Q9HxgYYHBwUGspdKY7su3t7axfv57777+fr371qxMy/MFQG5h7772X//iP/2DlypV8//vf53e/+x0dHR3n3XdTEC4VEQAFYYwoisKePXu0MHjkyBHe+c53cscdd7Bhw4YR/eEu1PDq0kAggCzL2g/HU/uvqarK8ePHOXr0KIsWLcLj8YzVUxwX+XxeC4PhcPicDZgVRaG9vZ1oNMry5csnRNudsym1cTmeOI7H4sGsN5MuphnMDTK3Yi6zXLPYenQrL3a/SD6Tp1As4LK7qC+vx+lwcm3dtfhtb4aIQqHAq2+8yrbUNgL6AHqdnkQ+QV7Ja61g6p31xPNxEoUE7531XqY4z10NHcvFeCP4Blk5i9vkRlZlBnOD+Gw+lnuXY9JfmlYvw1sKhcNhjEYjhw8fxuv10tDQQFNTE3/3d3/HN7/5zQkb/koeeeQRrRH0kiVL+Ld/+zdWrVo13ssSBBEABeFSUFWVAwcOsHHjRjZt2kR7ezs33HADzc3NbNiwAY/HM6owGI/HtUKKfD6Px+PB7/dTUVHB0aNH6e/vZ+nSpRPy6HM0SsUzpYICk8k0Igzu27dPa3FzJYyoyxazHBg8QCAdIK/ksegt1NpraSxvxKAz8FLvS6SL6aFwmEmTS+RIxpN0Jjqpc9RR762nwddAlb2K/bv3E5ACZMuzHI0f5UTyBAPZASx6C16Ll+mu6Rh1RiK5CDW2Gt43+31nLQIZLpQJcSR+hFguhk7S4bF4mOmeedmmf5T6LH7nO9/h//7f/0s8HmfOnDn8z//5P1m/fj1Op/OyrEMQrjYiAArCJaaqKp2dnVoY3LVrF29729tobm7mjjvuwO/3jyoMJpNJAoEAgUCAdDqNTqdjxowZ1NbWXrHzic9HqXimtDsoyzJGo5E5c+bg9XrHpdfgxVBVlXghTl7OYzVYRwSrUhuYKluV9rbeZC9twTYqpAp0GR2xVAyXzkW9rZ6Cv0CloxKb0UY4G2ZfeB+DuUHqHfXYjDYKSgEVletqrmO2e/Z5r1FRFdLFNDpJh80wPuP+urq6uOmmm1i9ejUzZ85ky5YtHD16lG984xt84QtfGJc1CcKVTARAQbiMVFWlq6uLlpYWNm3axF//+ldWr15NU1MTTU1N1NbWXvRost27d5PP5/F6vYRCIVKpFBUVFfj9/nGbzHA55PN5WltbASgrK2NgYABFUc56RH4lCaQDtAZbMegMuMwu0oU0fw38FYfRwXLfclRZ5UDHAWLEKDeV0xfvo8pSRXl5OW63m5whR0e4g5yaY7Z7NnqdnimOKcyrmDeitcxEd/LkSW6++WZuvvlmfvSjH2nh/tChQxSLRebNO3cxiyAIpxMBUBDGiaqqnDx5kk2bNrFp0yZefvllli9fro2kmzp16nmFwWw2S1tbGxaLhUWLFmlhJ51Oa3cGh1fV+ny+K+J49Hxks1laW1ux2+0sXLgQnU6n9RosFc/k83ltGofX670kvQYvFVVVOZE8wdHYUZLFJIlcgkAmwFLvUkyqiUOHDmG32ymvLideiKOqKk7ZSTwWJxqNIkkSeWseh9PBmvo1uCwuyi3lI6aNTHR9fX3ccsstXH/99fz0pz+9YsO8IEw0IgAKwgSgqir9/f1s3ryZlpYWXnjhBRYuXEhTUxPNzc3MnDnzjGEwmUzS1tZGRUUFc+fOPeuxZ2k+cSAQIBaL4XK5tDA4kQslziWdTtPa2kp5eflZn/uZpnEMD4PjsSuqqAqRbIRYPoaEhMvsosJccc6wn5NzJAtJQpkQHYMdeIweOg934nA4mDp1KrF8DAUFo2QkXUzjtXqRkAjHwnSFuvDkPJSr5Ze86fZYCwQCrF+/nhUrVvDoo4+K8CcIY0gEQEGYYFRVJRQKsWXLFlpaWti6dSuNjY3afOK5c+ciSRLPPfccqVSKefPmMWPGjPM+Os7lclogGhwcxOl0ar0GL8fM1rGQTCbZuXMnVVVVzJ49+7yfe2lXNBgMEo/HcbvdWhC+VHORh5NVmY5IB12JLmRFRkXFpDMxwz2DWa5Zb/k8MsUM249v5/CRw9SW11JfXz80vi3dx9zyuZRbytkf2U88Hx96bMlEnbOOOe45ZFIZrede6XpAKQhPxB3hUCjErbfeyvz58/nVr3414QLrP//zP/PUU0+xa9cuTCYT0Wh0vJckCBdEBEBBmMBK7V+eeOIJWlpa+POf/8zUqVOZOXMmf/7zn/nOd77D3/3d313045+pxcrw+cQTUSwWo62tjfr6eqZNm3bRBTTZbFZ77sODsM/nw263j/Gqh/Sn+3kj8AZus1vr/ZcsJEkX0qysWkmlpfKcH5/JZPjTq39i0DJIhb8CvaRHQcFv87OochFWg5VsMUskF6GoFHEYHbjNbnTS0O6oqqpEchFODJ5gIDxAMV5ESklUuCrOu8/i5RCJRNiwYQPTpk3jd7/73YQsZvra176G2+3m5MmT/O///b9FABSuOCIACsIVJB6P86lPfYpf/OIX6PV66urqtGPiZcuWjarydXjvtVAohNVq1UKB0+mcEP3WwuEwu3fvZubMmdTX14/Z4+bzeW02cyQSuWTPfV94H13xLqrt1SPe3pPsGer955511o9Np9Ps3LlzaLd2qp9wNkxezVNmLMNr9Z5XT76jsaMcHDxIUS0iIaGg4DF6qFKqiIaiRCIRbDbbuH7fo9Eot99+O9XV1WzatGnCFy89+uijfOpTnxIBULjiTKw9dUEQzkpVVf7X//pfbNmyhe3bt7N48WL++Mc/0tLSwoYNGygvL9eOiVeuXHnB96WMRiPV1dVUV1dTLBa1+cRvvPGG1m/P7/dTVlY2LmEwGAyyd+/eSzLZxGQyUVNTQ01NzYheg2+88QZGo1ELRKNp5g1D9/9Ku3HDSZLEuX4XT6VS2pH3rFlDR8Vui/uCPnc8H6cz1onFYKHMNNQfsqgU6Uv3UVVZxbL6ZWd87qVq6osZRXih4vE4d911Fx6Ph40bN0748CcIVzIRAAXhCqLX63nppZeYO3cuAO95z3t4z3veM3Q0+Kc/sWnTJu6++25sNht33HEHTU1NXHvttRd8f8pgMOD3+/H7/Vq/vWAwSGtrK3q9fsR84ssRBnt7ezlw4AALFy7E5/Nd0s9lMBioqqqiqqpKa0IcDAbZvXs3kiRpgeh8xvGdqtJSSVeii4JS0Nqw5OScVgxyJqX7jjU1NWctBjof0VyUTDFDpePNY2aDzoDNYKM/3c901/QRz11RFO257927F1VVtSKSS9FaJ5lMaq/dxx9//LLcyRSEyUwcAQvCVSabzfLcc8+xadMmtmzZgl6vZ8OGDdx55528/e1vH9V9quGhIBgMaoHI7/dTXl5+SXaIuru76ezsZPHixVRWnvuO3KWkKIo2jq/UePpCew0WlAJ7w3s5mTyJQRoK5bIq01DWwLyKeae1Z0kmk7zxxhtMmTKF6dOnjypsdye6aRtoo85RN+Lt4WwYh9HBtdXXnvVjT22tk8vl8Hg8eL1evF7vqO/opdNp7r77blRV5amnnhq3+6cPPvggDz300Dnf58CBA8yZM0f7b3EELFypRAAUhKtYoVBg+/btbNy4kccff5xCocCGDRtobm5m7dq1o6r+HB6IAoEAqqqOCESjDYOqqnLs2DG6u7tZunQpLteZd8jGQ2kcXykQZbPZES1WzhWICkqBQDrAQGYAHTq8Ni8+qw+DbuQubSKRYOfOndTX1zN9+vRRrzmej/Nq/6sYdcbTjoAXVS5iuuv8PoeqqqRSKe25J5NJysvLte/9he7cZbNZ/uZv/oZUKsUzzzwzruMLBwYGCIfD53yf6dOnjziaFgFQuFKJACgIk0SxWOSll17SwmAymeTWW2+lubmZd77znaPqB1jaISrNJy4WiyMC0YUeF6qqyqFDh+jv72f58uUTtiIZzhyIRttiJR6P09raytSpU5k2bdqYrfVo7CgHowcpKm8WgdTYaljoWYhZf3G/DGQyGa2aOhqNatXUXq8Xu91+7v6GuRwf+MAHCIVCPPvss7jd7ot8ZuNHBEDhSiUCoCBMQrIs8+qrr2phMBQKccstt9DU1MTNN988qjYo59odO59JHIqicODAAQYHB1m2bNmEaEtyIUq9BgcGBi6q6XYsFqO1tZVp06bR0NAwpmsrtYEJZ8IUlAJus/u8K4jPR6mautRWyGKxaN93l8s1IgwWCgU+/OEP093dzXPPPUdFRcWYrOFy6e7uJhKJ8MQTT/Dwww/z4osvAjBz5swJ/QuLIJSIACgIk5yiKLzxxhts3LiRzZs309vby7ve9S6amppYv379qI7kTp3EkU6nR8wnPvWoVFEU9u7dSyqVYtmyZVd8IcCpTbcdDocWBs8UEqLRKG1tbcyYMWNM29yMh+HFQwMDA+h0OmRZZnBwkJtvvplPfvKTHDx4kK1bt+L1esd7uRfsIx/5CI899thpb9+2bRtr1669/AsShAskAqBw1fn3f/93Hn74Yfr7+1m8eDE//OEPWbly5Xgv64qgKAq7d++mpaWFTZs2cfToUW688UbuuOMObrvttlFX/ZaOSgOBwIijUp/Ph16vZ9euXRSLRZYuXXrVtQApFAojmm6Xdsd8Ph9lZWVa+Js1axZTpkwZ7+WOqdJ90c2bN/ONb3yDwcFB7HY73/nOd3jve9+L0+kc7yUKwqQjAqBwVfntb3/Lhz/8YX7yk5+watUqvv/97/P73/+egwcPXvL2IVcbVVVpb29n48aNbNq0iQMHDrB27Vqam5vZsGEDlZWVowqDmUxGuzMYi8XQ6/WYTCaWLl16ySZxTBSyLI9oui1JEsVikSlTplzQaLsrjSzL3HfffWzdupV3v/vd/OUvf+HIkSPcdtttbNy48ap93oIwEYkAKFxVVq1axYoVK3jkkUeAoZ2HKVOm8MADD/Dggw+O8+quXKqqcvjwYS0M7t69m+uuu47m5mZuv/12/H7/Rf/wzuVyvPHGG+h0OgwGA7FYjLKyMq3X4GiKU64EAwMD7NmzB5fLRTKZBNB2Bi+m1+BEpSgKn/rUp9i2bRvbtm3TjrgPHTrE7t27ec973jPOKxSEyUUEQOGqkc/nsdlsbNy4kebmZu3t9957L9FolC1btozf4q4ipfYsLS0tbN68mb/+9a+sWbOGpqYm7rjjDmpra887DGYyGXbu3Inb7WbevHnodDry+bx2by4SieBwOLT5xFfbzmAoFGLPnj3MnTuX6upqbfZz6fkXCoURrXUutKH3RKEoCp///Od56qmneP7558e0slkQhIsjAqBw1ejt7aW2tpZXXnmFNWvWaG///Oc/z/bt23nttdfGcXVXJ1VVOXHiBJs2bWLz5s28/PLLXHPNNTQ1NdHU1MTUqVPPGgaTySStra34fD4aGxvP+H6le3PDZ/SWwqDD4biijwwHBgbYu3cv8+bNo6qq6rQ/V1WVRCKh3ZnMZrNUVlZqVbWjbb58uSiKwpe//GU2btzItm3bmDXr7POOBUG4fEQAFK4aIgCOL1VV6evrY/PmzWzatIkXXniBRYsWaWFw+Bizrq4uurq6qKurY8aMGecV5EpzagOBAKFQ6LQiiispDJbGqy1YsAC/339eHzO8mrrUfLn0/EfT0PtSUlWVb3zjG/ziF79g27ZtIyZoTARdXV380z/9E1u3bqW/v5+amho++MEP8j/+x/+46oqQBOFUV+Z5giCcQanhcCAQGPH2QCBwxh0WYWxJkkRNTQ333Xcfn/zkJwmFQjz++OO0tLTwzW9+kzlz5tDU1ERlZSVf/vKX+a//+i9mzpx53o9/6ozecDhMIBCgtbUVg8Gg3Rk8td/cRBMIBNi3b98FzzV2OBw4HA6mT59OJpMhGAzS39/PwYMHtTuTPp9vwvRNVFWVb3/72/z85z9n69atEy78AXR0dKAoCv/xH//BzJkz2bdvHx/72MdIpVJ85zvfGe/lCcIlJXYAhavKqlWrWLlyJT/84Q+BoeOn+vp67r//flEEMk5UVWVwcJAnnniCH/3oR7z++ut4vV7+9m//ljvvvJP58+ePqtBBUZQR/eYkSdKOid1u94Qqoujv76e9vZ2FCxeOWe+7XC6ntZeJRCLY7XYtDL/VJI5LRVVVvve97/G9732PrVu3snjx4su+hov18MMP8+Mf/5ijR4+O91IE4ZISO4DCVeUzn/kM9957L9dccw0rV67k+9//PqlUio9+9KPjvbRJS5IkKioqMJvN7N+/n8ceewy9Xs+mTZt4xzveQXV1NU1NTTQ3N7N06dILDmw6nQ6v14vX60VRFAYHB7UjVlVVJ0xFbV9fHwcOHGDRokV4PJ4xe1yz2UxdXR11dXUUCgWtvUxXVxdms1kLw5frmFxVVR555BG++93v8uyzz15R4Q+GJrFcaVNJBOFiiB1A4arzyCOPaI2glyxZwr/927+xatWq8V7WpJZMJlm6dCmPPPIIN99884i3P/3002zatImnn36aiooK7rjjDpqbm1mxYsUFzxAebnhFbSAQQJblERW1o3nsC9Xb20tHRweLFy+msrLysnzOUydx6PV6LQxfqp1RVVX56U9/yte//nWeeeYZVq9ePeaf41Lq7Oxk+fLlfOc73+FjH/vYeC9HEC4pEQAFQbgs8vn8OS/Wp9Npnn32WVpaWnjyySex2+3cfvvtNDc3s2bNmlG1QCnNJy41ns7n83g8Hvx+/yVvr3Ly5EkOHTrEkiVLxm1nqbQzGggEGBgYQFVVLQxXVFSMSRhWVZVHH32UL37xizz11FO8/e1vH4OVX5wHH3yQhx566Jzvc+DAgRH3Ent6erjhhhtYu3Yt//mf/3mplygI404EQEEQJpxsNstzzz1HS0sLTzzxBAaDgQ0bNnDnnXdy3XXXjaoFSmk+cSkMZjIZKisr8fv9eDyeMW2vcuLECQ4fPszSpUspLy8fs8cdDVVVicVi2vMvFAp4PB58Ph8ej+eiwrCqqvzyl7/kc5/7HH/4wx/GfRbuwMAA4XD4nO8zffp07ReS3t5e1q5dy+rVq3n00Ucn1L1RQbhURAAUBGFCKxQKPP/882zcuJHHH38cWZbZsGEDzc3NrF27dtTtOkrtVQKBAKlUioqKCvx+P16vd1SP3d3dzZEjR1i6dClut3tUa7xUhvcaLIXh0nzm833+qqryu9/9jgceeIBNmzZx0003XYaVj52enh7WrVvH8uXL+eUvf3lZrwYIwngSAVAQhCtGsVjkpZde4ve//z2PP/44qVSK2267jaamJm688UYsFsuoHj+dTmthMJFIXHSvvePHj3P06FGWLVuGy+Ua1Zoup1QqpYXB0vMvHRWf7Wu7adMm/uEf/oHf/va33HbbbZd5xaPT09PD2rVrmTp1qlacVCJaRwlXOxEABUG4IsmyzI4dO7SRdJFIhFtuuYWmpiZuuummUY+Ny2azWhiMxWK4XC4tDJ5rPvGxY8c4fvw4y5Yto6ysbFRrGE+l5x8MBolGo1qvwcrKSpxOJwBPPvkkH/3oR/nVr341YvzileLRRx89a4cA8aNRuNqJACgIl9kLL7zAww8/zM6dO7XJGcN/eKqqyte+9jV+9rOfEY1Gedvb3saPf/xjMULrHBRF4fXXX9fCYG9vLzfddBNNTU2sX79eCywXK5fLaWFocHAQp9OptVcZ3nj56NGjdHd3s3z58lF/zokkn89rvQZ/8Ytf8OyzzzJv3jy2bt3KY489xj333DPeSxQE4QKJACgIl9kf//hHXn75ZZYvX85dd911WgB86KGH+Na3vsVjjz3GtGnT+MpXvsLevXtpb28f9RHnZKAoCrt372bjxo1s2rSJrq4u3vnOd9LU1MRtt9026kkhw8NQOBzWGi/n83kCgcBVF/5OFYlE+Jd/+Rd++tOfYjAYqKmp4a677uLOO+/k2muvndBTWARBeJMIgIIwjiRJGhEAVVWlpqaGz372s3zuc58DhhrT+v1+Hn30Ud773veO42qvPKqqsn//fjZu3MjmzZvp6Ohg7dq1NDc3s2HDBioqKkYVWAqFAgMDAxw7dox0Oo3VaqWqqgqfz4fT6bwqw9ALL7zAe97zHn74wx9yzz338Nxzz7Fp0yaOHDnCCy+8MN7LEwThPIkAKAjj6NQAePToUWbMmEFbWxtLlizR3u+GG25gyZIl/OAHPxifhV4FVFXl0KFDtLS0sGnTJnbv3s3b3/52mpubuf322/H5fBcc2FRV5fDhw1rT8UwmQyAQIBQKYTKZtJFsl2sKx6X2yiuvcNddd2mNkq+G5yQIk5VodiQIE0h/fz8Afr9/xNv9fr/2Z8LFkSSJxsZGvvSlL/H6669z8OBB1q9fz3/9138xe/Zs1q9fz49//GN6enrOqwCgFCj7+/u55pprKCsrw+/3s2jRIm644QZmz55NPp+ntbWVF198kY6ODgYHB6/Y4oK//vWv3H333fzLv/yLCH+CcBUQAVAQhElHkiSmT5/Of//v/51XXnmFI0eOcNddd7Flyxbmzp3LjTfeyA9+8AOOHz9+xsCmqiodHR0Eg0FWrFgxohAE0MauLViwgBtuuIF58+ZpdxNfeOEF2tvbCYfDKIpyuZ7yqLS2tnLnnXfyta99jfvuu29Chr877riD+vp6LBYL1dXVfOhDH6K3t3e8lyUIE5YIgIIwgZR6jwUCgRFvDwQCoi/ZJSJJEvX19XzqU59i+/btdHd388EPfpA///nPLFq0iOuvv55//dd/pbOzE1VVkWWZb3/72wSDQa655ppztoQB0Ol0eDwe5s2bx/XXX8/ChQvR6XTs27ePF154gf379zMwMDBhw+CePXtoamriwQcf5FOf+tSEDH8A69at43e/+x0HDx6kpaWFI0eOcPfdd4/3sgRhwhJ3AAVhHJ2tCORzn/scn/3sZwGIx+P4fD5RBHKZqapKKBRi8+bNtLS0sG3bNhobGykWi4TDYbZv387UqVNH9fjDR7IVi8URI9kmwkSK9vZ21q9fzwMPPMBXvvKVCRv+zuSJJ56gubmZXC43puP9BOFqIQKgIFxmyWSSzs5OAJYuXcp3v/td1q1bR0VFBfX19Tz00EN8+9vfHtEGZs+ePaINzDgqhcGmpiZ2795NsVhkxowZNDU1ceeddzJv3rxRzY9VVZV4PK71Gsxms3g8Hm0+8cXM5x2t0h3Jv/u7v+Ob3/zmFRX+IpEIn/jEJ+jp6eGll14a7+UIwoQkAqAgXGbPP/8869atO+3t9957L48++qjWCPqnP/0p0WiU6667jh/96EfMnj17HFYrwNAIug996EPs2bOH5557DqvVyh/+8Ac2bdrEn/70J2pqamhubqapqYklS5aMOgyW5hMHg0HS6fSI+cSXYzers7OT9evX8/73v5+HHnpoVM/ncvrCF77AI488QjqdZvXq1Tz55JNUVlaO97IEYUISAVAQBOEtpNNpPvvZz/L1r38dn8834s+SySRPP/00LS0tPP3003g8Hu644w6am5tZsWLFqMNTaT5vIBAgmUxSUVGhjaQzmUyjeuwz6erq4pZbbqG5uZnvf//74xr+HnzwQR566KFzvs+BAweYM2cOAKFQiEgkwvHjx/n617+Oy+XiySefvKJ2LwXhchEBUBAEYYyk02n+9Kc/0dLSwlNPPYXD4eD222+nubmZNWvWjPpeX6nPYDAYJB6P43a7tTA4FtcDTpw4wS233MLNN9/Mj370o3Hf+RsYGCAcDp/zfaZPn37GIHzy5EmmTJnCK6+8wpo1ay7VEgXhiiUCoCAIwiWQzWb5y1/+wqZNm9iyZQtGo5Hbb7+dO++8k7e97W2jPsrNZrPaMXE0GqWsrExrPP1Wlcln0tfXx80338wNN9zAT3/60wlRhDIa3d3dTJ06lW3btrF27drxXo4gTDgiAAqCIFxihUKBbdu20dLSwuOPP44sy2zYsIHm5mbWrl076qPcfD6vhcFIJILD4cDv9+Pz+bDb7W/58YFAgPXr17Ny5Up+/vOfX3Hh77XXXuP111/nuuuuo7y8nCNHjvCVr3yFQCDA/v37MZvN471EQZhwRAAUBEG4jIrFIi+++CIbN27k8ccfJ51Oc9ttt3HHHXdw4403jvootzSfOBAIEIlEsNls2jGxw+E47T5cKBTi1ltvZcGCBfzyl78cl4rj0dq7dy//3//3/7F7925SqRTV1dXccsstfPnLX6a2tna8lycIE5IIgIIgCONElmVeeeUVWlpa2Lx5M9FolFtuuYWmpiZuuumm0yaMXKhisUgoFNLmE1ssFnw+H8VikcbGRqLRKLfddhszZszgt7/9reiXJwiTiAiAgiCct29961ts2rSJjo4OrFYr1157LQ899BCNjY3a+2SzWT772c/ym9/8hlwupxUUnDrfWBhJURRef/11Nm7cyObNm+nv7+dd73oXzc3N3HLLLTidzlE9vizLhMNh+vv7ufvuu8nn86iqyuzZs3nuuedEj0lBmGREABQE4bzdcsstvPe972XFihUUi0W+9KUvsW/fPtrb27W7Zp/4xCd46qmnePTRR3G5XNx///3odDpefvnlcV79lUNRFHbt2qWFwa6uLm688Uaampq49dZbcblco2ptEggEeNe73kU6nSaXy2E2m7nzzjv5b//tv7F06dIxfCaCIExUIgAKgnDRBgYG8Pl8bN++neuvv55YLIbX6+XXv/61Noe1o6ODuXPnsmPHDlavXj3OK77yqKrK/v372bhxI5s2beLgwYOsW7eO5uZmbrvtNioqKi4oDCaTSe666y7MZjNPPvkkBoOB7du3s3HjRm644Qbe9773XcJnIwjCRCECoCAIF62zs5NZs2axd+9eFixYwNatW3nnO9/J4OAgbrdbe7+pU6fyqU99ik9/+tPjt9irgKqqHDp0iJaWFlpaWtizZw/XX389TU1N3H777fh8vnOGwXQ6zd13342qqlqfQkEQJqcrY76PIAgTjqIofOpTn+Jtb3sbCxYsAKC/vx+TyTQi/AH4/X76+/vHYZVXF0mSaGxs5Etf+hJvvPEGHR0d3Hzzzfz6179m9uzZrF+/nh//+Mf09vZy6u/22WyW973vfeTzef7whz+I8CcIk5wIgIIgXJT77ruPffv28Zvf/Ga8lzIpSZLEjBkz+PznP8+OHTs4cuQId955J1u2bGHu3Lm8613v4t/+7d/o7u4ml8vxwQ9+kFgsxtNPP01ZWdl4L/+ccrkcS5YsQZIkdu3aNd7LEYSrkgiAgiBcsPvvv58nn3ySbdu2UVdXp729qqqKfD5PNBod8f6BQICqqqrLvMrJQ5Ik6uvr+fSnP8327dvp6uri/e9/P88++ywLFixg+vTpHDlyhGeeeea03dmJ6POf/zw1NTXjvQxBuKqJACgIwnlTVZX777+fzZs3s3XrVqZNmzbiz5cvX47RaOS5557T3nbw4EG6u7vFPNbLRJIkamtruf/++3nuuefo7e2lubmZlpYWKioqxnt5b+mPf/wjzz77LN/5znfGeymCcFUTRSCCIJy3T37yk/z6179my5YtI3r/uVwubf7sJz7xCZ5++mkeffRRysrKeOCBBwB45ZVXxmXNwpUjEAiwfPlyHn/8cTweD9OmTaOtrY0lS5aM99IE4apz5c38EQRh3Pz4xz8GYO3atSPe/vOf/5yPfOQjAHzve99Dp9Px7ne/e0QjaEE4F1VV+chHPsI//MM/cM0119DV1TXeSxKEq5rYARQEQRAumQcffJCHHnronO9z4MABnn32WX73u9+xfft29Ho9XV1dYgdQEC4hEQAFQRCES2ZgYIBwOHzO95k+fTr33HMPf/jDH0b0MZRlGb1ezwc+8AEee+yxS71UQZhURAAUBEEQxl13dzfxeFz7797eXm6++WY2btzIqlWrRlSbC4IweuIOoCAIgjDu6uvrR/x3qVH1jBkzRPgThEtAtIERBEEQBEGYZMQRsCAIgiAIwiQjdgAFQZg0fvzjH7No0SLKysooKytjzZo1/PGPf9T+PJvNct9991FZWYnD4eDd7343gUBgHFcsCIJwaYgdQEEQJo0//OEP6PV6Zs2ahaqqPPbYYzz88MO0tbUxf/58PvGJT/DUU0/x6KOP4nK5uP/++9HpdLz88svjvXRBEIQxJQKgIAiTWkVFBQ8//DB33303Xq+XX//619x9990AdHR0MHfuXHbs2MHq1avHeaWCIAhjRxwBC4IwKcmyzG9+8xtSqRRr1qxh586dFAoFbrzxRu195syZQ319PTt27BjHlQqCIIw90QZGEIRJZe/evaxZs4ZsNovD4WDz5s3MmzePXbt2YTKZcLvdI97f7/fT398/PosVBEG4RMQOoCAIk0pjYyO7du3itdde4xOf+AT33nsv7e3t472sq0ZDQwOSJI34/7e//e3xXpYgCKcQO4CCIEwqJpOJmTNnArB8+XJef/11fvCDH/A3f/M35PN5otHoiF3AQCBAVVXVOK32yvSNb3yDj33sY9p/O53OcVyNIAhnInYABUGY1BRFIZfLsXz5coxGI88995z2ZwcPHqS7u5s1a9aM4wqvPE6nk6qqKu3/drt9vJckCMIpRBWwIAiTxhe/+EXWr19PfX09iUSCX//61zz00EP86U9/4l3vehef+MQnePrpp3n00UcpKyvjgQceAOCVV14Z55VfORoaGshmsxQKBerr63n/+9/Ppz/9aQwGceAkCBOJ+BspCMKkEQwG+fCHP0xfXx8ul4tFixZp4Q/ge9/7Hjqdjne/+93kcjluvvlmfvSjH43zqq8s//iP/8iyZcuoqKjglVde4Ytf/CJ9fX1897vfHe+lCYIwjNgBFARBEM7pwQcf5KGHHjrn+xw4cIA5c+ac9vb/83/+Dx//+MdJJpOYzeZLtURBEC6QCICCIAjCOQ0MDBAOh8/5PtOnT8dkMp329v3797NgwQI6OjpobGy8VEsUBOECiSNgQRAE4Zy8Xi9er/eiPnbXrl3odDp8Pt8Yr0oQhNEQAVAQBEEYEzt27OC1115j3bp1OJ1OduzYwac//Wk++MEPUl5ePt7LEwRhGHEELAiCIIyJ1tZWPvnJT9LR0UEul2PatGl86EMf4jOf+Yy4/ycIE4wIgIIgCIIgCJOMaAQtCIIgCIIwyYgAKAiCIAiCMMmIACgIgiAIgjDJiAAoCIIgCIIwyYgAKAiCIAiCMMmIACgIgiAIgjDJiAAoCIIgCIIwyYgAKAiCIAiCMMmIACgIgiAIgjDJiAAoCIIgCIIwyYgAKAiCIAiCMMmIACgIgiAIgjDJiAAoCIIgCIIwyYgAKAiCIAiCMMmIACgIgiAIgjDJiAAoCIIgCIIwyYgAKAiCIAiCMMmIACgIgiAIgjDJiAAoCIIgCIIwyYgAKAiCIAiCMMmIACgIgiAIgjDJiAAoCIIgCIIwyYgAKAiCIAiCMMmIACgIgiAIgjDJiAAoCIIgCIIwyYgAKAiCIAiCMMmIACgIgiAIgjDJiAAoCIIgCIIwyYgAKAiCIAiCMMmIACgIgiAIgjDJiAAoCIIgCIIwyYgAKAiCIAiCMMmIACgIgiAIgjDJiAAoCIIgCIIwyYgAKAiCIAiCMMmIACgIgiAIgjDJiAAoCIIgCIIwyYgAKAiCIAiCMMmIACgIgiAIgjDJiAAoCIIgCIIwyYgAKAiCIAiCMMmIACgIgiAIgjDJiAAoCIIgCIIwyYgAKAiCIAiCMMmIACgIgiAIgjDJiAAoCIIgCIIwyYgAKAiCIAiCMMmIACgIgiAIgjDJiAAoCIIgCIIwyYgAKAiCIAiCMMmIACgIgiAIgjDJ/P9Nnp4gtAfGtAAAAABJRU5ErkJggg==' width=640.0/>\n",
       "            </div>\n",
       "        "
      ],
      "text/plain": [
       "Canvas(toolbar=Toolbar(toolitems=[('Home', 'Reset original view', 'home', 'home'), ('Back', 'Back to previous …"
      ]
     },
     "metadata": {},
     "output_type": "display_data"
    }
   ],
   "source": [
    "import matplotlib.pyplot as plt\n",
    "%matplotlib widget\n",
    "fig = plt.figure()\n",
    "ax = fig.add_subplot(111, projection='3d')\n",
    "\n",
    "# Plot the ground truth.\n",
    "np_pose_ests = np.array([pose_ests[ii].translation() for ii in range(len(pose_ests))])\n",
    "ax.plot(np_pose_ests[:, 0], np_pose_ests[:, 1], np_pose_ests[:, 2], label='Estimated trajectory')\n",
    "\n",
    "# Scatter the measurements\n",
    "np_measurements = np.array([measurements[ii].translation() for ii in range(len(measurements))])\n",
    "ax.scatter(np_measurements[:, 0], np_measurements[:, 1], np_measurements[:, 2], label='Measurements', c=\"C2\", alpha=0.25)\n",
    "\n",
    "# Plot the ground truth.\n",
    "poses = np.array([scenario.pose(ii * dt).translation() for ii in range(n_steps)])\n",
    "ax.plot(poses[:, 0], poses[:, 1], poses[:, 2], label='Ground truth trajectory')\n",
    "\n"
   ]
  },
  {
   "cell_type": "code",
   "execution_count": 9,
   "metadata": {},
   "outputs": [
    {
     "name": "stdout",
     "output_type": "stream",
     "text": [
      "CPU times: user 144 µs, sys: 42 µs, total: 186 µs\n",
      "Wall time: 185 µs\n"
     ]
    }
   ],
   "source": [
    "from typing import List, Optional\n",
    "\n",
    "class DynamicsFactor(gtsam.CustomFactor):\n",
    "    def __init__(self, noise_model: gtsam.noiseModel, pose1: int, ang_vel1: int, vel1: int, pose2: int, dt: float):\n",
    "        super().__init__(noise_model, [pose1, ang_vel1, vel1, pose2], self.error_func)\n",
    "        self.dt = dt\n",
    "\n",
    "    def error_func(self, v: gtsam.Values, H: Optional[List[np.ndarray]] = None) -> np.ndarray:\n",
    "        pose1 = v.atPose3(self.keys()[0])\n",
    "        ang_vel1 = v.atVector(self.keys()[1])\n",
    "        vel1 = v.atVector(self.keys()[2])\n",
    "        pose2 = v.atPose3(self.keys()[3])\n",
    "\n",
    "        if H:\n",
    "            perturbation_jac = np.zeros((6, 6), dtype=np.float64, order='F')\n",
    "\n",
    "            # Case 1: JUST LOG OF pose1.\n",
    "            # error = pose1.Logmap(pose1, H[0])\n",
    "\n",
    "            # Case 2: Log of pose1.inverse.\n",
    "            # pinv = pose1.inverse(H[0])\n",
    "            # H1 = np.zeros((6,6), order=\"F\")\n",
    "            # error = pinv.Logmap(pinv, H1)\n",
    "\n",
    "            # H[0] = H1 @ H[0] # Chain rule: dlog * dinv\n",
    "\n",
    "            # Case 3: Log of pose1.between(pose2).\n",
    "            # pinv = pose1.inverse(H[0])\n",
    "                 # rel_pose = pose1.compose(pose2, H0, H1)\n",
    "            # error = rel_pose.Logmap(rel_pose, H2)\n",
    "            # error = pose1.Logmap(pose1, H[0])\n",
    "\n",
    "            # print(H0, H1, H2)\n",
    "\n",
    "\n",
    "            # H[0] = H2 @ H0\n",
    "            # H[-1] = H2 @ H1\n",
    "            \n",
    "            dpred_dx0 = np.zeros((6,6), order=\"F\")\n",
    "            dpred_dtwist = np.zeros((6,6), order=\"F\")\n",
    "            drel_dpred = np.zeros((6,6), order=\"F\")\n",
    "            drel_dpose2 = np.zeros((6,6), order=\"F\")\n",
    "\n",
    "            pose_increment = pose1.Expmap(np.concatenate([dt*ang_vel1, dt*vel1]), perturbation_jac)\n",
    "            pred_pose = pose1.compose(pose_increment, dpred_dx0, dpred_dtwist)\n",
    "\n",
    "       \n",
    "\n",
    "            rel_pose = pred_pose.between(pose2, drel_dpred, drel_dpose2)\n",
    "            error = rel_pose.Logmap(rel_pose)\n",
    "            dlog = rel_pose.LogmapDerivative(rel_pose)\n",
    "\n",
    "            H[0] = dlog @ drel_dpred @ dpred_dx0\n",
    "            \n",
    "            derr_dtwist = dt * dlog @ drel_dpred @ dpred_dtwist @  perturbation_jac\n",
    "            H[1] = derr_dtwist[:, :3]\n",
    "            H[2] = derr_dtwist[:, 3:]\n",
    "\n",
    "            H[3] = dlog @ drel_dpose2\n",
    "\n",
    "            # error = pinv.Logmap(pinv, H[-1])\n",
    "\n",
    "            # H[-1] = H[-1] @ H[0]\n",
    "\n",
    "            # H[-1] = pose2.LogmapDerivative(rel_pose)\n",
    "            # H[-1] = pose1.LogmapDerivative(pose1)\n",
    "            return error\n",
    "\n",
    "\n",
    "        \n",
    "\n",
    "        # return error\n",
    "initial_estimate = gtsam.Values()\n",
    "rand_pose1 = gtsam.Pose3().expmap(np.linalg.cholesky(prior_cov) @ np.random.randn(6))\n",
    "rand_pose2 = gtsam.Pose3().expmap(np.linalg.cholesky(prior_cov) @ np.random.randn(6))\n",
    "rand_vel = np.random.randn(3)\n",
    "rand_ang_vel = np.random.randn(3)\n",
    "\n",
    "initial_estimate.insert(X(0), rand_pose1)\n",
    "initial_estimate.insert(V(0), rand_vel)\n",
    "initial_estimate.insert(W(0), rand_ang_vel)\n",
    "initial_estimate.insert(X(1), rand_pose2)\n",
    "\n",
    "# initial_estimate.insert(X(0), init_pose)\n",
    "# initial_estimate.insert(X(1), init_pose.expmap(np.concatenate([dt*ang_vel, dt*vel])))\n",
    "# initial_estimate.insert(V(0), vel)\n",
    "# initial_estimate.insert(W(0), ang_vel)\n",
    "# initial_estimate.insert(X(1), init_pose)\n",
    "\n",
    "jac_list = [np.zeros((6,6), order=\"F\"), np.zeros((6,3), order=\"F\"), np.zeros((6,3), order=\"F\"), np.zeros((6,6), order=\"F\")]\n",
    "dyn_factor = DynamicsFactor(gtsam.noiseModel.Diagonal.Sigmas(np.array([1e-1, 1e-1, 1e-1, 1e-1, 1e-1, 1e-1])), X(0), W(0), V(0), X(1), 1e-1)\n",
    "%time gtsam_error = dyn_factor.error_func(initial_estimate, jac_list)"
   ]
  },
  {
   "cell_type": "code",
   "execution_count": 4,
   "metadata": {},
   "outputs": [
    {
     "ename": "NameError",
     "evalue": "name 'X' is not defined",
     "output_type": "error",
     "traceback": [
      "\u001b[0;31m---------------------------------------------------------------------------\u001b[0m",
      "\u001b[0;31mNameError\u001b[0m                                 Traceback (most recent call last)",
      "Cell \u001b[0;32mIn[4], line 4\u001b[0m\n\u001b[1;32m      1\u001b[0m \u001b[38;5;28;01mimport\u001b[39;00m \u001b[38;5;21;01mpypose\u001b[39;00m \u001b[38;5;28;01mas\u001b[39;00m \u001b[38;5;21;01mpp\u001b[39;00m\n\u001b[1;32m      2\u001b[0m \u001b[38;5;28;01mimport\u001b[39;00m \u001b[38;5;21;01mtorch\u001b[39;00m\n\u001b[0;32m----> 4\u001b[0m X0 \u001b[38;5;241m=\u001b[39m initial_estimate\u001b[38;5;241m.\u001b[39matPose3(\u001b[43mX\u001b[49m(\u001b[38;5;241m0\u001b[39m))\n\u001b[1;32m      5\u001b[0m X1 \u001b[38;5;241m=\u001b[39m initial_estimate\u001b[38;5;241m.\u001b[39matPose3(X(\u001b[38;5;241m1\u001b[39m))\n\u001b[1;32m      6\u001b[0m W0 \u001b[38;5;241m=\u001b[39m initial_estimate\u001b[38;5;241m.\u001b[39matVector(W(\u001b[38;5;241m0\u001b[39m))\n",
      "\u001b[0;31mNameError\u001b[0m: name 'X' is not defined"
     ]
    }
   ],
   "source": [
    "import pypose as pp\n",
    "import torch\n",
    "\n",
    "X0 = initial_estimate.atPose3(X(0))\n",
    "X1 = initial_estimate.atPose3(X(1))\n",
    "W0 = initial_estimate.atVector(W(0))\n",
    "V0 = initial_estimate.atVector(V(0))\n",
    "\n",
    "x0 = pp.mat2SE3(X0.matrix().astype(np.float64))\n",
    "x1 = pp.mat2SE3(X1.matrix().astype(np.float64))\n",
    "w0 = torch.tensor(W0.astype(np.float64))\n",
    "v0 = torch.tensor(V0.astype(np.float64))\n",
    "# err = pp.mat2SE3(gtsam_error.matrix().astype(np.float64))\n",
    "err = torch.tensor(gtsam_error.astype(np.float64))\n",
    "\n",
    "# x0 = pp.randn_SE3()\n",
    "# x1 = pp.randn_SE3()\n",
    "# w0 = torch.randn(3)\n",
    "# v0 = torch.randn(3)\n",
    "\n",
    "def flip(x):\n",
    "    return torch.cat([x[3:], x[:3]])\n",
    "\n",
    "def error(x0, w0, v0, x1, dx0, dw0, dv0, dx1):\n",
    "    # return x0.Log()\n",
    "    # return x0.Inv().Log()\n",
    "    # return (x0 @ x1).Log()\n",
    "    x0_perturbed = x0 @ pp.se3(flip(dx0)).Exp()\n",
    "    v0_perturbed = v0 + dv0\n",
    "    w0_perturbed = w0 + dw0\n",
    "    x1_perturbed = x1 @ pp.se3(flip(dx1)).Exp()\n",
    "\n",
    "    pred_pose = x0_perturbed @ pp.se3(dt * torch.cat([v0_perturbed, w0_perturbed])).Exp()\n",
    "    rel_pose = pred_pose.Inv() @ x1_perturbed\n",
    "    return flip(rel_pose.Log())\n",
    "    # return (x0.Inv() @ x1).Log()\n",
    "    # with pp.retain_ltype():\n",
    "    #     pred_pose = x0 @ pp.se3(dt * torch.cat([v0, w0])).Exp()\n",
    "\n",
    "    #     err = (pred_pose.Inv() @ x1).Log()\n",
    "\n",
    "    #     return err\n",
    "\n",
    "dx0 = torch.zeros(6, dtype=torch.float64)\n",
    "dw0 = torch.zeros(3, dtype=torch.float64)\n",
    "dv0 = torch.zeros(3, dtype=torch.float64)\n",
    "dx1 = torch.zeros(6, dtype=torch.float64)\n",
    "\n",
    "e = error(x0, w0, v0, x1, dx0, dw0, dv0, dx1)\n",
    "e, err\n",
    "\n",
    "# def to_gtsam(jac: torch.Tensor) -> torch.tensor:\n",
    "#     flipped_inds = torch.cat((torch.arange(3,6), torch.arange(3)))\n",
    "#     return jac[flipped_inds, :][:, flipped_inds]\n",
    "\n",
    "# index = -1\n",
    "# vars = [x0, w0, v0, x1]\n",
    "\n",
    "# def adj_mat(x: pp.SE3_type) -> torch.Tensor:\n",
    "#     return torch.cat([torch.cat([x.rotation().matrix(), pp.vec2skew(x.translation()) @ x.rotation().matrix()], dim=-1), torch.cat([torch.zeros_like(x.rotation().matrix()), x.rotation().matrix()], dim=-1)], dim=-2)"
   ]
  },
  {
   "cell_type": "markdown",
   "metadata": {},
   "source": [
    "## Camera scratch"
   ]
  },
  {
   "cell_type": "code",
   "execution_count": 30,
   "metadata": {},
   "outputs": [
    {
     "name": "stdout",
     "output_type": "stream",
     "text": [
      "Images shape: (482, 24, 256, 256, 3)\n"
     ]
    }
   ],
   "source": [
    "from perseus.smoother.factors import KeypointProjectionFactor\n",
    "import torch\n",
    "\n",
    "from perseus.detector.data import KeypointDataset, KeypointDatasetConfig\n",
    "from perseus.detector.models import KeypointCNN\n",
    "import pypose as pp\n",
    "\n",
    "# Load model.\n",
    "model = KeypointCNN()\n",
    "model.load_state_dict(torch.load(\"outputs/models/02-04-24_ep70.pth\"))\n",
    "model.eval()\n",
    "\n",
    "# Load data.\n",
    "dataset_cfg = KeypointDatasetConfig(dataset_path=\"data/2024-01-12_17-21-39/mjc_data.hdf5\")\n",
    "dataset = KeypointDataset(dataset_cfg, train=False)\n",
    "                                           "
   ]
  },
  {
   "cell_type": "code",
   "execution_count": 107,
   "metadata": {},
   "outputs": [
    {
     "data": {
      "text/plain": [
       "array([-7.60833625, -0.65291348])"
      ]
     },
     "execution_count": 107,
     "metadata": {},
     "output_type": "execute_result"
    }
   ],
   "source": [
    "# Pull random trajectory and image from the dataset.\n",
    "data = dataset[0]\n",
    "\n",
    "# Extract parameters from intrinsics.\n",
    "intrinsics = data[\"camera_intrinsics\"]\n",
    "fx = intrinsics[0, 0]\n",
    "fy = intrinsics[1, 1]\n",
    "cx = intrinsics[0, 2]\n",
    "cy = intrinsics[1, 2]\n",
    "s = 0.0\n",
    "\n",
    "# Create a camera calibration.\n",
    "calibration = gtsam.Cal3_S2(fx, fy, s, cx, cy)\n",
    "\n",
    "# Load ground-truth keypoints.\n",
    "object_scale = data[\"object_scale\"]\n",
    "keypoints_object_frame = torch.tensor(json.load(open(\"data/2024-01-12_17-21-39/mjc_keypoints.json\"))).float() * object_scale\n",
    "\n",
    "# Run inference to get predicted keypoints.\n",
    "pred_keypoints = model(data[\"image\"].unsqueeze(0)).squeeze(0).reshape(-1, 2)\n",
    "pred_keypoints = kornia.geometry.denormalize_pixel_coordinates(pred_keypoints, model.H, model.W)\n",
    "gt_keypoints = data[\"pixel_coordinates\"].clone()\n",
    "\n",
    "# Create noise model for the keypoint projection factor.\n",
    "noise_model = gtsam.noiseModel.Isotropic.Sigma(2, 5.0)\n",
    "\n",
    "# Create initial estimate.\n",
    "initial_estimate = gtsam.Values()\n",
    "object_pose = data[\"object_pose\"].double()\n",
    "camera_pose = data[\"camera_pose\"].double()\n",
    "# Convert to GTSAM pose.\n",
    "PP_TO_GTSAM = pp.SE3(torch.cat((torch.zeros(3,), pp.euler2SO3(np.array([np.pi, 0, 0])).tensor())))\n",
    "camera_pose = camera_pose @ PP_TO_GTSAM.Inv()\n",
    "\n",
    "# camera_pose=pp.identity_SE3(dtype=torch.float64)\n",
    "\n",
    "# Create a keypoint projection factor.\n",
    "keypoint_factor = KeypointProjectionFactor(X(0), noise_model, calibration, pred_keypoints.detach().numpy()[0], keypoints_object_frame.numpy()[0], gtsam.Pose3(camera_pose.matrix()))\n",
    "\n",
    "# object_pose = PP_TO_GTSAM @ camera_pose.Inv() @ object_pose \n",
    "object_pose = object_pose\n",
    "\n",
    "initial_estimate.insert(X(0), gtsam.Pose3(object_pose.matrix()))\n",
    "\n",
    "# Compute error.\n",
    "keypoint_factor.error_func(initial_estimate, camera_intrinsics=calibration, keypoint_measurement=pred_keypoints.detach().numpy()[0], point_body_frame=keypoints_object_frame.numpy()[0], camera_pose=gtsam.Pose3(camera_pose.matrix()))"
   ]
  },
  {
   "cell_type": "code",
   "execution_count": 28,
   "metadata": {},
   "outputs": [
    {
     "ename": "ValueError",
     "evalue": "Should have thrown an exception",
     "output_type": "error",
     "traceback": [
      "\u001b[0;31m---------------------------------------------------------------------------\u001b[0m",
      "\u001b[0;31mValueError\u001b[0m                                Traceback (most recent call last)",
      "Cell \u001b[0;32mIn[28], line 5\u001b[0m\n\u001b[1;32m      2\u001b[0m initial_estimate\u001b[38;5;241m.\u001b[39minsert(X(\u001b[38;5;241m0\u001b[39m), gtsam\u001b[38;5;241m.\u001b[39mPose3(gtsam\u001b[38;5;241m.\u001b[39mRot3(), gtsam\u001b[38;5;241m.\u001b[39mPoint3(\u001b[38;5;241m0\u001b[39m, \u001b[38;5;241m0\u001b[39m, \u001b[38;5;241m-\u001b[39m\u001b[38;5;241m1\u001b[39m)))\n\u001b[1;32m      3\u001b[0m \u001b[38;5;28;01mtry\u001b[39;00m: \n\u001b[1;32m      4\u001b[0m \u001b[38;5;66;03m#     keypoint_factor.error_func(initial_estimate, camera_intrinsics=calibration, keypoint_measurement=pred_keypoints.detach().numpy()[0], point_body_frame=keypoints_object_frame.numpy()[0])\u001b[39;00m\n\u001b[0;32m----> 5\u001b[0m     \u001b[38;5;28;01mraise\u001b[39;00m \u001b[38;5;167;01mValueError\u001b[39;00m(\u001b[38;5;124m\"\u001b[39m\u001b[38;5;124mShould have thrown an exception\u001b[39m\u001b[38;5;124m\"\u001b[39m)\n\u001b[1;32m      6\u001b[0m \u001b[38;5;28;01mexcept\u001b[39;00m \u001b[38;5;167;01mRuntimeError\u001b[39;00m \u001b[38;5;28;01mas\u001b[39;00m e:\n\u001b[1;32m      7\u001b[0m     \u001b[38;5;28;01mif\u001b[39;00m e\u001b[38;5;241m.\u001b[39margs[\u001b[38;5;241m0\u001b[39m] \u001b[38;5;241m==\u001b[39m \u001b[38;5;124m\"\u001b[39m\u001b[38;5;124mCheiralityException\u001b[39m\u001b[38;5;124m\"\u001b[39m:\n\u001b[1;32m      8\u001b[0m         \u001b[38;5;66;03m# reset filter\u001b[39;00m\n",
      "\u001b[0;31mValueError\u001b[0m: Should have thrown an exception"
     ]
    }
   ],
   "source": [
    "initial_estimate = gtsam.Values()\n",
    "initial_estimate.insert(X(0), gtsam.Pose3(gtsam.Rot3(), gtsam.Point3(0, 0, -1)))\n",
    "try: \n",
    "    keypoint_factor.error_func(initial_estimate, camera_intrinsics=calibration, keypoint_measurement=pred_keypoints.detach().numpy()[0], point_body_frame=keypoints_object_frame.numpy()[0])\n",
    "except RuntimeError as e:\n",
    "    if e.args[0] == \"CheiralityException\":\n",
    "        # reset filter\n",
    "        pass\n",
    "    else:\n",
    "        raise e"
   ]
  },
  {
   "cell_type": "code",
   "execution_count": 113,
   "metadata": {},
   "outputs": [
    {
     "data": {
      "text/plain": [
       "(tensor([[-42.7826,  39.4049,   3.3777, -16.0444, -19.5357,  24.6853],\n",
       "         [ 17.6243,  28.1592, -45.7835, -22.3565,  24.9663,   6.7494]],\n",
       "        dtype=torch.float64),\n",
       " array([[-42.78260053,  39.40490701,   3.37769351, -16.04441125,\n",
       "         -19.535661  ,  24.68526753],\n",
       "        [ 17.62432175,  28.15921783, -45.78353958, -22.35647202,\n",
       "          24.96628552,   6.74944356]]))"
      ]
     },
     "execution_count": 113,
     "metadata": {},
     "output_type": "execute_result"
    }
   ],
   "source": [
    "# Check Jacobians against pypose.\n",
    "def flip(x):\n",
    "    return torch.cat([x[3:], x[:3]])\n",
    "\n",
    "camera_pose = data[\"camera_pose\"].double()\n",
    "object_pose = data[\"object_pose\"].double()\n",
    "camera_pose = camera_pose @ PP_TO_GTSAM.Inv()\n",
    "\n",
    "def pypose_error(x: pp.SE3_type,  dx: torch.Tensor):\n",
    "    x_perturbed = x @ pp.se3(flip(dx)).Exp()\n",
    "    x_to_camera = camera_pose.Inv() @ x_perturbed\n",
    "    keypoint_camera_frame = x_to_camera.Act(keypoints_object_frame[0].double())\n",
    "    keypoint_pixel = pp.point2pixel(keypoint_camera_frame, data[\"camera_intrinsics\"].double())\n",
    "\n",
    "    # Compute error.\n",
    "    return keypoint_pixel - pred_keypoints[0]\n",
    "\n",
    "pp_error = pypose_error(object_pose, torch.zeros(6, dtype=torch.float64))\n",
    "gtsam_error = KeypointProjectionFactor.error_func(keypoint_factor, initial_estimate, camera_intrinsics=calibration, point_body_frame=keypoints_object_frame.numpy()[0], keypoint_measurement=pred_keypoints.detach().numpy()[0], camera_pose=gtsam.Pose3(camera_pose.matrix()))\n",
    "\n",
    "pp_error, gtsam_error\n",
    "\n",
    "# Now, compute the Jacobians.\n",
    "pp_jacobian = pp.func.jacrev(pypose_error, 1)(object_pose, torch.zeros(6, dtype=torch.float64))\n",
    "\n",
    "# Create a Jacobian container.\n",
    "jac_list = [np.zeros((2, 6), order=\"F\"), np.zeros((2, 6), order=\"F\")]\n",
    "gtsam_error = KeypointProjectionFactor.error_func(keypoint_factor, initial_estimate, jac_list, camera_intrinsics=calibration, point_body_frame=keypoints_object_frame.numpy()[0], keypoint_measurement=pred_keypoints.detach().numpy()[0], camera_pose=gtsam.Pose3(camera_pose.matrix()))\n",
    "\n",
    "pp_jacobian, jac_list[0] \n",
    "# keypoint_camera_frame = (camera_pose.Inv() @ object_pose).Act(keypoints_object_frame[0].double())\n",
    "# pred_keypoints[0], pp.point2pixel(keypoint_camera_frame, data[\"camera_intrinsics\"].double())\n",
    "\n",
    "# gtsam_error, pp_error\n",
    "\n",
    "# # First check things aren't insane.\n",
    "# # camera_pose.Inv() @ object_pose\n",
    "# gtsam_pose = gtsam.Pose3((PP_TO_GTSAM @ camera_pose.Inv() @ object_pose).matrix())\n",
    "# gtsam_keypoint_loc = gtsam_pose.transformFrom(keypoints_object_frame[0].double())\n",
    "# gtsam_pixel = gtsam.PinholeCameraCal3_S2(gtsam.Pose3(), calibration).project(gtsam_keypoint_loc)\n",
    "\n",
    "# # Check vs pypose act.\n",
    "# pp_pose = PP_TO_GTSAM @ camera_pose.Inv() @ object_pose\n",
    "# pp_keypoint_loc = pp_pose.Act(keypoints_object_frame[0].double())\n",
    "# pp_pixel = pp.point2pixel(pp_keypoint_loc, torch.diag(torch.tensor([1., 1., 1])).double() @ data[\"camera_intrinsics\"].double())\n",
    "\n",
    "# gtsam_pixel, pp_pixel\n",
    "# pp_error, gtsam_error\n",
    "\n",
    "# # Check pypose projection.\n",
    "# # data[\"camera_intrinsics\"]\n",
    "# pp.point2pixel(torch.tensor([1, 1, -6]).double(), data[\"camera_intrinsics\"].double()),"
   ]
  },
  {
   "cell_type": "code",
   "execution_count": 116,
   "metadata": {},
   "outputs": [
    {
     "data": {
      "text/plain": [
       "([1.762946082168403,\n",
       "  7.22678038750896,\n",
       "  5.9624225082604045,\n",
       "  12.225691220708349,\n",
       "  21.59268053817314,\n",
       "  17.45496672217302,\n",
       "  21.752959727104454,\n",
       "  0.19666158517759125],)"
      ]
     },
     "execution_count": 116,
     "metadata": {},
     "output_type": "execute_result"
    }
   ],
   "source": [
    "# Setup tracking example from sim datset.\n",
    "traj_index = 0\n",
    "traj = dataset.get_trajectory(traj_index)\n",
    "\n",
    "# Create a camera calibration.\n",
    "intrinsics = traj[\"camera_intrinsics\"][0]\n",
    "fx = intrinsics[0, 0]\n",
    "fy = intrinsics[1, 1]\n",
    "cx = intrinsics[0, 2]\n",
    "cy = intrinsics[1, 2]\n",
    "s = 0.0\n",
    "\n",
    "# Define kubric frame rate and related dt.\n",
    "kubric_fps = 12\n",
    "dt = 1.0 / kubric_fps\n",
    "\n",
    "# Create a camera calibration.\n",
    "calibration = gtsam.Cal3_S2(fx, fy, s, cx, cy)\n",
    "\n",
    "# Load ground-truth keypoints.\n",
    "object_scale = traj[\"object_scales\"][0]\n",
    "keypoints_object_frame = torch.tensor(json.load(open(\"data/2024-01-12_17-21-39/mjc_keypoints.json\"))).float() * object_scale\n",
    "\n",
    "# Compute ground-truth initial pose.\n",
    "object_pose = traj[\"object_poses\"][0].double()\n",
    "camera_pose = traj[\"camera_poses\"][0].double()\n",
    "PP_TO_GTSAM = pp.SE3(torch.cat((torch.zeros(3,), pp.euler2SO3(np.array([np.pi, 0, 0])).tensor())))\n",
    "camera_pose = camera_pose @ PP_TO_GTSAM.Inv()\n",
    "gt_pose = object_pose\n",
    "# gt_pose = PP_TO_GTSAM @ camera_pose.Inv() @ object_pose\n",
    "\n",
    "# Run inference to get predicted keypoints.\n",
    "pred_keypoints = model(traj[\"images\"]).reshape(-1, model.n_keypoints, 2)\n",
    "pred_keypoints = kornia.geometry.denormalize_pixel_coordinates(pred_keypoints, model.H, model.W)\n",
    "\n",
    "# Create noise model for the keypoint projection factor.\n",
    "keypoint_noise_model = gtsam.noiseModel.Diagonal.Sigmas(np.array([1e0, 1e0]))\n",
    "\n",
    "# Setup factor graph and prior.\n",
    "graph = gtsam.NonlinearFactorGraph()\n",
    "initial_estimate = gtsam.Values()\n",
    "\n",
    "# Create a prior on the initial position\n",
    "prior_cov = gtsam.noiseModel.Diagonal.Sigmas(np.array([1e0, 1e0, 1e0, 1e0, 1e0, 1e0])) \n",
    "# prior_mean = gtsam.Pose3(gt_pose.matrix())\n",
    "prior_mean = gtsam.Pose3(gt_pose.matrix()).expmap(prior_cov.sigmas() * np.random.randn(6))\n",
    "\n",
    "# Create a prior on the initial position\n",
    "prior_pose_factor = gtsam.PriorFactorPose3(X(0), prior_mean, prior_cov)\n",
    "initial_estimate.insert(X(0), prior_mean)\n",
    "graph.push_back(prior_pose_factor)\n",
    "\n",
    "# Create a prior on the initial velocity\n",
    "prior_velocity = gtsam.noiseModel.Diagonal.Sigmas(np.array([1e-1, 1e-1, 1e-1]))\n",
    "initial_estimate.insert(V(0), np.array([0, 0, 0]))\n",
    "graph.push_back(gtsam.PriorFactorVector(V(0), initial_estimate.atVector(V(0)), prior_velocity))\n",
    "\n",
    "# Create a prior on the initial angular velocity\n",
    "prior_angular_velocity = gtsam.noiseModel.Diagonal.Sigmas(np.array([1e-1, 1e-1, 1e-1]))\n",
    "initial_estimate.insert(W(0), np.array([0, 0, 0]))\n",
    "graph.push_back(gtsam.PriorFactorVector(W(0), initial_estimate.atVector(W(0)), prior_angular_velocity))\n",
    "\n",
    "# Define process noise.\n",
    "process_noise_pose = gtsam.noiseModel.Diagonal.Sigmas(np.array([1e-3, 1e-3, 1e-3, 1e-3, 1e-3, 1e-3]))\n",
    "process_noise_vel = gtsam.noiseModel.Diagonal.Sigmas(np.array([1e-1, 1e-1, 1e-1]))\n",
    "process_noise_ang_vel = gtsam.noiseModel.Diagonal.Sigmas(np.array([1e-1, 1e-1, 1e-1]))\n",
    "\n",
    "keypoint_factor_list = []\n",
    "\n",
    "# Add a factor for each keypoint.\n",
    "for kk in range(model.n_keypoints):\n",
    "    # Create a keypoint projection factor.\n",
    "    keypoint_factor = KeypointProjectionFactor(X(0), keypoint_noise_model, calibration, pred_keypoints[0, kk].detach().numpy(), keypoints_object_frame[kk].numpy())\n",
    "\n",
    "    keypoint_factor_list.append(keypoint_factor)\n",
    "\n",
    "    # Add factor to graph.\n",
    "    graph.push_back(keypoint_factor)\n",
    "\n",
    "# Create a smoother object.\n",
    "isam_params = gtsam.ISAM2Params()\n",
    "isam_params.setRelinearizeThreshold(0.1)\n",
    "# opt_params = gtsam.GaussNewtonParams()\n",
    "# opt_params.setVerbosity('SUMMARY')\n",
    "# isam_params.setOptimizationParams(opt_params)\n",
    "isam = gtsam.ISAM2(isam_params)\n",
    "\n",
    "# Solve the graph to start the pipeline.\n",
    "isam.update(graph, initial_estimate)\n",
    "result = isam.calculateEstimate()\n",
    "initial_estimate.clear()\n",
    "\n",
    "\n",
    "initial_estimate.clear()\n",
    "\n",
    "# Store the cube poses.\n",
    "cube_poses = []\n",
    "start_iter = 1\n",
    "\n",
    "# Loop through the trajectory, add factors, and incrementally perform inference.\n",
    "for tt in range(traj[\"images\"].shape[0]):\n",
    "    # Loop through keypoints + add factors for each one.\n",
    "    keypoint_factor_list = []\n",
    "    for kk in range(model.n_keypoints):\n",
    "        # Create a keypoint projection factor.\n",
    "        keypoint_factor = KeypointProjectionFactor(X(tt), noise_model, calibration, pred_keypoints[tt, kk].detach().numpy(), keypoints_object_frame[kk].numpy(), gtsam.Pose3(camera_pose.matrix()))\n",
    "        keypoint_factor_list.append(keypoint_factor)\n",
    "\n",
    "        # Add factor to graph.\n",
    "        graph.push_back(keypoint_factor)\n",
    "\n",
    "    # Add dynamics factors.\n",
    "    dynamics_factor = PoseDynamicsFactor(X(tt), V(tt), W(tt), X(tt+1), process_noise_pose, dt)\n",
    "    graph.push_back(dynamics_factor)\n",
    "\n",
    "    # Create a constant velocity factor and add it to the graph.\n",
    "    velocity_factor = ConstantVelocityFactor(V(tt), V(tt+1), process_noise_vel)\n",
    "    graph.push_back(velocity_factor)\n",
    "\n",
    "    # Create a constant angular velocity factor and add it to the graph.\n",
    "    angular_velocity_factor = ConstantVelocityFactor(W(tt), W(tt+1), process_noise_ang_vel)\n",
    "    graph.push_back(angular_velocity_factor)\n",
    "\n",
    "    # Store initial guesses for the next iteration.\n",
    "    if tt > start_iter:\n",
    "        initial_estimate.insert(X(tt+1), result.atPose3(X(tt)))\n",
    "        initial_estimate.insert(V(tt+1), result.atVector(V(tt)))\n",
    "        initial_estimate.insert(W(tt+1), result.atVector(W(tt)))\n",
    "\n",
    "    else:\n",
    "        initial_estimate.insert(X(tt+1), prior_mean)\n",
    "        initial_estimate.insert(V(tt+1), np.array([0, 0, 0]))\n",
    "        initial_estimate.insert(W(tt+1), np.array([0, 0, 0]))\n",
    "    \n",
    "    # Update the ISAM.\n",
    "    if tt >= start_iter:\n",
    "        isam.update(graph, initial_estimate)\n",
    "        result = isam.calculateEstimate()\n",
    "        initial_estimate.clear()\n",
    "\n",
    "    # Store the result.\n",
    "    cube_poses.append(result.atPose3(X(tt)))\n",
    "\n",
    "# Store last pose.\n",
    "cube_poses.append(result.atPose3(X(traj[\"images\"].shape[0])))\n",
    "[kk.error(result) for kk in keypoint_factor_list], \n",
    "# result.atPose3(X(0)), prior_mean, PP_TO_GTSAM @ camera_pose.Inv() @ object_pose"
   ]
  },
  {
   "cell_type": "code",
   "execution_count": 118,
   "metadata": {},
   "outputs": [],
   "source": [
    "# Compute GT poses.\n",
    "gt_poses = traj[\"object_poses\"].double()\n",
    "# for tt in range(traj[\"images\"].shape[0]):\n",
    "#     object_pose = traj[\"object_poses\"][tt].double()\n",
    "#     camera_pose = traj[\"camera_poses\"][tt].double()\n",
    "#     gt_poses.append(PP_TO_GTSAM @ camera_pose.Inv() @ object_pose)"
   ]
  },
  {
   "cell_type": "code",
   "execution_count": 161,
   "metadata": {},
   "outputs": [
    {
     "data": {
      "text/plain": [
       "array([1000., 1000., 1000., 1000., 1000., 1000.])"
      ]
     },
     "execution_count": 161,
     "metadata": {},
     "output_type": "execute_result"
    }
   ],
   "source": []
  },
  {
   "cell_type": "code",
   "execution_count": 119,
   "metadata": {},
   "outputs": [
    {
     "data": {
      "text/plain": [
       "<mpl_toolkits.mplot3d.art3d.Path3DCollection at 0x7f5ee40aff40>"
      ]
     },
     "execution_count": 119,
     "metadata": {},
     "output_type": "execute_result"
    },
    {
     "data": {
      "image/png": "[encoded data removed]",
      "text/plain": [
       "<Figure size 640x480 with 1 Axes>"
      ]
     },
     "metadata": {},
     "output_type": "display_data"
    }
   ],
   "source": [
    "# Plot cube poses.  \n",
    "from matplotlib import pyplot as plt\n",
    "fig = plt.figure()\n",
    "ax = fig.add_subplot(111, projection='3d')\n",
    "\n",
    "smoothed_poses = np.stack([result.atPose3(X(ii)).translation() for ii in range(traj[\"images\"].shape[0])])\n",
    "\n",
    "# Plot the poses.\n",
    "# np_cube_poses = np.array([smoothed_poses[ii].translation() for ii in range(len(smoothed_poses))])\n",
    "ax.plot(smoothed_poses[:, 0], smoothed_poses[:, 1], smoothed_poses[:, 2], label='Estimated trajectory')\n",
    "ax.plot(np.array([gt_pose.translation()[0] for gt_pose in gt_poses]), np.array([gt_pose.translation()[1] for gt_pose in gt_poses]), np.array([gt_pose.translation()[2] for gt_pose in gt_poses]), label='Ground truth trajectory')\n",
    "ax.scatter(prior_mean.translation()[0], prior_mean.translation()[1], prior_mean.translation()[2], label='Prior', c=\"C3\")"
   ]
  },
  {
   "cell_type": "markdown",
   "metadata": {},
   "source": [
    "# Fixed-lag Smoother"
   ]
  },
  {
   "cell_type": "code",
   "execution_count": 178,
   "metadata": {},
   "outputs": [
    {
     "name": "stdout",
     "output_type": "stream",
     "text": [
      "299\n",
      "Mean smoother step time: 0.007189636645109757\n",
      "Mean result time: 8.593434872834578e-06\n",
      "Mean loop time: 0.01899578260338825 (52.64326408018754 FPS)\n",
      "Mean final keypoint errors: 0.05359117873708754\n",
      "Std final keypoint errors: 0.03281670114872134\n",
      "Mean CNN time: 0.009764992672464123\n"
     ]
    }
   ],
   "source": [
    "# Pick a trajectory from the dataset.\n",
    "traj_index = np.random.randint(0, dataset.num_trajectories)\n",
    "print(traj_index)\n",
    "traj = dataset.get_trajectory(traj_index)\n",
    "\n",
    "# Define kubric frame rate and related dt.\n",
    "kubric_fps = 12\n",
    "dt = 1.0 / kubric_fps\n",
    "\n",
    "\n",
    "n_steps = traj[\"images\"].shape[0]\n",
    "lag = 5 * dt\n",
    "\n",
    "# Create a fixed-lag smoother.\n",
    "smoother = gtsam_unstable.BatchFixedLagSmoother(lag)\n",
    "new_factors = gtsam.NonlinearFactorGraph()\n",
    "new_values = gtsam.Values()\n",
    "new_timestamps = gtsam_unstable.FixedLagSmootherKeyTimestampMap()\n",
    "\n",
    "# Setup tracking example from sim datset.\n",
    "traj_index = 0\n",
    "traj = dataset.get_trajectory(traj_index)\n",
    "\n",
    "# Create a camera calibration.\n",
    "intrinsics = traj[\"camera_intrinsics\"][0]\n",
    "fx = intrinsics[0, 0]\n",
    "fy = intrinsics[1, 1]\n",
    "cx = intrinsics[0, 2]\n",
    "cy = intrinsics[1, 2]\n",
    "s = 0.0\n",
    "\n",
    "# Create a camera calibration.\n",
    "calibration = gtsam.Cal3_S2(fx, fy, s, cx, cy)\n",
    "\n",
    "# Load ground-truth keypoints.\n",
    "object_scale = traj[\"object_scales\"][0]\n",
    "keypoints_object_frame = torch.tensor(json.load(open(\"data/2024-01-12_17-21-39/mjc_keypoints.json\"))).float() * object_scale\n",
    "\n",
    "# Compute ground-truth initial pose.\n",
    "object_pose = traj[\"object_poses\"][0].double()\n",
    "camera_pose = traj[\"camera_poses\"][0].double()\n",
    "PP_TO_GTSAM = pp.SE3(torch.cat((torch.zeros(3,), pp.euler2SO3(np.array([np.pi, 0, 0])).tensor())))\n",
    "camera_pose = camera_pose @ PP_TO_GTSAM.Inv()\n",
    "# gt_pose = PP_TO_GTSAM @ camera_pose.Inv() @ object_pose\n",
    "gt_pose = object_pose\n",
    "\n",
    "# Run inference to get predicted keypoints.\n",
    "pred_keypoints = model(traj[\"images\"]).reshape(-1, model.n_keypoints, 2)\n",
    "pred_keypoints = kornia.geometry.denormalize_pixel_coordinates(pred_keypoints, model.H, model.W)\n",
    "cnn_times = []\n",
    "\n",
    "# Create noise model for the keypoint projection factor.\n",
    "keypoint_noise_model = gtsam.noiseModel.Diagonal.Sigmas(5 * np.array([1e0, 1e0]))\n",
    "\n",
    "\n",
    "# Create a prior on the initial position\n",
    "prior_pose_cov = gtsam.noiseModel.Diagonal.Sigmas(2.5 * np.array([1e0, 1e0, 1e0, 1e0, 1e0, 1e0])) \n",
    "# prior_pose_cov = gtsam.noiseModel.Diagonal.Sigmas(np.array([1e-3]*6))\n",
    "\n",
    "prior_pose_mean = gtsam.Pose3(gt_pose.matrix()).expmap(prior_pose_cov.sigmas() * np.random.randn(6))\n",
    "\n",
    "# Create a prior on the initial position\n",
    "prior_pose_factor = gtsam.PriorFactorPose3(X(0), prior_pose_mean, prior_pose_cov)\n",
    "new_factors.push_back(prior_pose_factor)\n",
    "\n",
    "# Create a prior on the initial velocity\n",
    "prior_vel_cov = gtsam.noiseModel.Diagonal.Sigmas(np.array([1e-1, 1e-1, 1e-1]))\n",
    "prior_vel_mean = np.zeros(3)\n",
    "new_factors.push_back(gtsam.PriorFactorVector(V(0), prior_vel_mean, prior_vel_cov))\n",
    "\n",
    "# Create a prior on the initial angular velocity\n",
    "prior_ang_vel_cov = gtsam.noiseModel.Diagonal.Sigmas(np.array([1e-1, 1e-1, 1e-1]))\n",
    "prior_ang_vel_mean = np.zeros(3)\n",
    "new_factors.push_back(gtsam.PriorFactorVector(W(0), prior_ang_vel_mean, prior_ang_vel_cov))\n",
    "\n",
    "# Define process noise.\n",
    "process_noise_pose = gtsam.noiseModel.Diagonal.Sigmas(np.array([1e-3, 1e-3, 1e-3, 1e-3, 1e-3, 1e-3]))\n",
    "process_noise_vel = gtsam.noiseModel.Diagonal.Sigmas(np.array([1e-1, 1e-1, 1e-1]))\n",
    "process_noise_ang_vel = gtsam.noiseModel.Diagonal.Sigmas(np.array([1e-1, 1e-1, 1e-1]))\n",
    "\n",
    "# Setup initial values and timestamps.\n",
    "new_values.insert(X(0), prior_pose_mean)\n",
    "new_values.insert(V(0), prior_vel_mean)\n",
    "new_values.insert(W(0), prior_ang_vel_mean)\n",
    "new_timestamps.insert((X(0), 0.0))\n",
    "new_timestamps.insert((V(0), 0.0))\n",
    "new_timestamps.insert((W(0), 0.0))\n",
    "\n",
    "# Loop through keypoints + add factors for each one.\n",
    "keypoint_factor_list = []\n",
    "for kk in range(model.n_keypoints):\n",
    "    # Create a keypoint projection factor.\n",
    "    keypoint_factor = KeypointProjectionFactor(X(0), keypoint_noise_model, calibration, pred_keypoints[0, kk].detach().numpy(), keypoints_object_frame[kk].numpy(), gtsam.Pose3(camera_pose.matrix()))\n",
    "    keypoint_factor_list.append(keypoint_factor)\n",
    "\n",
    "    # Add factor to graph.\n",
    "    new_factors.push_back(keypoint_factor)\n",
    "\n",
    "# Solve the graph to start the pipeline.\n",
    "smoother.update(new_factors, new_values, new_timestamps)\n",
    "new_timestamps.clear()\n",
    "new_factors.resize(0)\n",
    "new_values.clear()\n",
    "\n",
    "# Store the cube poses.\n",
    "result = smoother.calculateEstimate()\n",
    "cube_poses = [result.atPose3(X(0))]\n",
    "\n",
    "smoother_step_times = []\n",
    "result_times = []\n",
    "loop_times = []\n",
    "\n",
    "keypoint_factor_list = []\n",
    "\n",
    "# Loop through the trajectory, add factors, and incrementally perform inference.\n",
    "for tt in range(1, traj[\"images\"].shape[0]):\n",
    "    loop_start = time.time()\n",
    "\n",
    "    cnn_start = time.time()\n",
    "    model(traj[\"images\"][tt].unsqueeze(0)).squeeze(0).reshape(-1, 2)\n",
    "    cnn_times.append(time.time() - cnn_start)\n",
    "\n",
    "    # Compute current time + add new timestamp.\n",
    "    curr_time = tt * dt\n",
    "    new_timestamps.insert((X(tt), curr_time))\n",
    "    new_timestamps.insert((V(tt), curr_time))\n",
    "    new_timestamps.insert((W(tt), curr_time))\n",
    "\n",
    "    # Loop through keypoints + add factors for each one.\n",
    "    keypoint_factor_list = []\n",
    "    for kk in range(model.n_keypoints):\n",
    "        # Create a keypoint projection factor.\n",
    "        keypoint_factor = KeypointProjectionFactor(X(tt), keypoint_noise_model, calibration, pred_keypoints[tt, kk].detach().numpy(), keypoints_object_frame[kk].numpy(), gtsam.Pose3(camera_pose.matrix()))\n",
    "        keypoint_factor_list.append(keypoint_factor)\n",
    "\n",
    "        # Add factor to graph.\n",
    "        new_factors.push_back(keypoint_factor)\n",
    "\n",
    "    # Add dynamics factors.\n",
    "    dynamics_factor = PoseDynamicsFactor(X(tt-1), V(tt-1), W(tt-1), X(tt), process_noise_pose, dt)\n",
    "    new_factors.push_back(dynamics_factor)\n",
    "\n",
    "    # Create a constant velocity factor and add it to the graph.\n",
    "    velocity_factor = ConstantVelocityFactor(V(tt-1), V(tt), process_noise_vel)\n",
    "    new_factors.push_back(velocity_factor)\n",
    "\n",
    "    # Create a constant angular velocity factor and add it to the graph.\n",
    "    angular_velocity_factor = ConstantVelocityFactor(W(tt-1), W(tt), process_noise_ang_vel)\n",
    "    new_factors.push_back(angular_velocity_factor)\n",
    "\n",
    "    # Store initial guesses for the next iteration.\n",
    "    new_values.insert(X(tt), result.atPose3(X(tt-1)))\n",
    "    new_values.insert(V(tt), result.atVector(V(tt-1)))\n",
    "    new_values.insert(W(tt), result.atVector(W(tt-1)))\n",
    "\n",
    "    # Compute the new estimate.\n",
    "    start_smoother = time.time()\n",
    "    smoother.update(new_factors, new_values, new_timestamps)\n",
    "    smoother_step_times.append(time.time() - start_smoother)\n",
    "    \n",
    "    new_timestamps.clear()\n",
    "    new_factors.resize(0)\n",
    "    new_values.clear()\n",
    "    \n",
    "    # Store the result.\n",
    "    start_result = time.time()\n",
    "    result = smoother.calculateEstimate()\n",
    "    result_times.append(time.time() - start_result)\n",
    "    cube_poses.append(result.atPose3(X(tt)))\n",
    "\n",
    "    loop_times.append(time.time() - loop_start)\n",
    "\n",
    "# Store last pose.\n",
    "# cube_poses.append(smoother.calculateEstimate().atPose3(X(n_steps)))\n",
    "result = smoother.calculateEstimate()\n",
    "final_keypoint_errors = [kk.error(result) for kk in keypoint_factor_list]\n",
    "\n",
    "# Print some stuff.\n",
    "print(f\"Mean smoother step time: {np.mean(np.array(smoother_step_times))}\")\n",
    "print(f\"Mean result time: {np.mean(np.array(result_times))}\")\n",
    "print(f\"Mean loop time: {np.mean(np.array(loop_times))} ({1/np.mean(np.array(loop_times))} FPS)\")\n",
    "\n",
    "print(f\"Mean final keypoint errors: {np.array(final_keypoint_errors).mean(axis=0)}\")\n",
    "print(f\"Std final keypoint errors: {np.array(final_keypoint_errors).std(axis=0)}\")\n",
    "\n",
    "print(f\"Mean CNN time: {np.array(cnn_times).mean()}\")\n",
    "# result.atPose3(X(0)), prior_mean, PP_TO_GTSAM @ camera_pose.Inv() @ object_pose"
   ]
  },
  {
   "cell_type": "code",
   "execution_count": null,
   "metadata": {},
   "outputs": [],
   "source": []
  },
  {
   "cell_type": "code",
   "execution_count": 179,
   "metadata": {},
   "outputs": [
    {
     "data": {
      "application/vnd.plotly.v1+json": {
       "config": {
        "plotlyServerURL": "https://plot.ly"
       },
       "data": [
        {
         "mode": "lines",
         "name": "Estimated trajectory",
         "type": "scatter3d",
         "x": [
          -2.270349362590172,
          -2.252903566919716,
          -2.2377772252855204,
          -2.20616551419738,
          -2.1505531333362993,
          -2.0954148021288677,
          -2.054180721406698,
          -2.0192831777264435,
          -1.9921551796144115,
          -1.9789516436581027,
          -1.9744983407510384,
          -1.9691129123661542,
          -1.9625831488869374,
          -1.959555779412655,
          -1.9638896568477653,
          -1.968434694329917,
          -1.9716380318267184,
          -1.9761675283756721,
          -1.9820153231591437,
          -1.985419110482698,
          -1.9873626870567582,
          -1.989080586469355,
          -1.9907700549790093,
          -1.9920404163199326
         ],
         "y": [
          -0.7582712935466173,
          -0.7820770291893514,
          -0.7951693498347494,
          -0.8284029838597653,
          -0.9037119281150258,
          -0.9650463231876497,
          -0.9923629437763969,
          -1.0090986309306846,
          -1.0194448562838394,
          -1.024591150131848,
          -1.0250153625819731,
          -1.0340112798553835,
          -1.0506034181384671,
          -1.066863813751761,
          -1.0742904021907835,
          -1.0766167712666532,
          -1.0752766636710969,
          -1.0711764384880424,
          -1.0658982991581842,
          -1.0601947105165055,
          -1.0550586981855659,
          -1.0519973726713099,
          -1.047631257348907,
          -1.0466271980671764
         ],
         "z": [
          1.301540454803606,
          1.2866523270715238,
          1.266199424031182,
          1.2440251099159543,
          1.2007169950535683,
          1.1286501255056463,
          1.0937682931427002,
          1.0736223927479585,
          1.0676205019264629,
          1.0720058483051498,
          1.0816114366529535,
          1.0996351537554097,
          1.1253229624677734,
          1.1481548797259182,
          1.1593825305860395,
          1.1610442172552065,
          1.1598761516953384,
          1.1568811144759799,
          1.1516801651681154,
          1.1461914901003865,
          1.1434226637580656,
          1.142394587621127,
          1.1389360026090312,
          1.1359411551813485
         ]
        },
        {
         "mode": "markers",
         "name": "Camera pose",
         "type": "scatter3d",
         "x": [
          -0.9736650586128235
         ],
         "y": [
          -6.762944221496582
         ],
         "z": [
          4.658043384552002
         ]
        },
        {
         "name": "Camera view dir",
         "showscale": false,
         "type": "cone",
         "u": [
          -0.5887163939383556
         ],
         "v": [
          -4.089143495267625
         ],
         "w": [
          2.8164371343272565
         ],
         "x": [
          -0.9736650586128235
         ],
         "y": [
          -6.762944221496582
         ],
         "z": [
          4.658043384552002
         ]
        },
        {
         "mode": "markers",
         "name": "Initial estimate",
         "type": "scatter3d",
         "x": [
          -2.270349362590172
         ],
         "y": [
          -0.7582712935466173
         ],
         "z": [
          1.301540454803606
         ]
        },
        {
         "mode": "lines",
         "name": "Ground truth trajectory",
         "type": "scatter3d",
         "x": [
          -2.3416695594787598,
          -2.305604934692383,
          -2.262822151184082,
          -2.2180285453796387,
          -2.170457601547241,
          -2.1230108737945557,
          -2.0966970920562744,
          -2.0707921981811523,
          -2.0498032569885254,
          -2.0405945777893066,
          -2.03926944732666,
          -2.0393104553222656,
          -2.0393269062042236,
          -2.0393269062042236,
          -2.039372205734253,
          -2.039384126663208,
          -2.0393848419189453,
          -2.0394067764282227,
          -2.039433717727661,
          -2.039438486099243,
          -2.039456367492676,
          -2.0394861698150635,
          -2.0394911766052246,
          -2.039506196975708
         ],
         "y": [
          -0.748794674873352,
          -0.7740864753723145,
          -0.7909990549087524,
          -0.8005048036575317,
          -0.8052498698234558,
          -0.8030723333358765,
          -0.7784186005592346,
          -0.7565345168113708,
          -0.7450799942016602,
          -0.7394077777862549,
          -0.7386041879653931,
          -0.7386494874954224,
          -0.7386698126792908,
          -0.7386717796325684,
          -0.7387110590934753,
          -0.7387315034866333,
          -0.7387337684631348,
          -0.7387756705284119,
          -0.7387990951538086,
          -0.7388023734092712,
          -0.7388415932655334,
          -0.7388668656349182,
          -0.7388702630996704,
          -0.7389075756072998
         ],
         "z": [
          1.323272943496704,
          1.2743110656738281,
          1.236088752746582,
          1.1758273839950562,
          1.0816752910614014,
          0.9752853512763977,
          0.9967741966247559,
          0.9783812165260315,
          0.9680225253105164,
          0.9684382677078247,
          0.9684550762176514,
          0.9684309363365173,
          0.9684543609619141,
          0.9684575200080872,
          0.9684277772903442,
          0.9684532880783081,
          0.9684573411941528,
          0.9684135317802429,
          0.968450665473938,
          0.9684572815895081,
          0.9684095978736877,
          0.9684499502182007,
          0.9684569835662842,
          0.9684056639671326
         ]
        },
        {
         "mode": "markers",
         "name": "Prior",
         "type": "scatter3d",
         "x": [
          -2.464786817115006
         ],
         "y": [
          -2.551348667002017
         ],
         "z": [
          2.015886122332137
         ]
        }
       ],
       "layout": {
        "scene": {
         "aspectmode": "data"
        },
        "template": {
         "data": {
          "bar": [
           {
            "error_x": {
             "color": "#2a3f5f"
            },
            "error_y": {
             "color": "#2a3f5f"
            },
            "marker": {
             "line": {
              "color": "#E5ECF6",
              "width": 0.5
             },
             "pattern": {
              "fillmode": "overlay",
              "size": 10,
              "solidity": 0.2
             }
            },
            "type": "bar"
           }
          ],
          "barpolar": [
           {
            "marker": {
             "line": {
              "color": "#E5ECF6",
              "width": 0.5
             },
             "pattern": {
              "fillmode": "overlay",
              "size": 10,
              "solidity": 0.2
             }
            },
            "type": "barpolar"
           }
          ],
          "carpet": [
           {
            "aaxis": {
             "endlinecolor": "#2a3f5f",
             "gridcolor": "white",
             "linecolor": "white",
             "minorgridcolor": "white",
             "startlinecolor": "#2a3f5f"
            },
            "baxis": {
             "endlinecolor": "#2a3f5f",
             "gridcolor": "white",
             "linecolor": "white",
             "minorgridcolor": "white",
             "startlinecolor": "#2a3f5f"
            },
            "type": "carpet"
           }
          ],
          "choropleth": [
           {
            "colorbar": {
             "outlinewidth": 0,
             "ticks": ""
            },
            "type": "choropleth"
           }
          ],
          "contour": [
           {
            "colorbar": {
             "outlinewidth": 0,
             "ticks": ""
            },
            "colorscale": [
             [
              0,
              "#0d0887"
             ],
             [
              0.1111111111111111,
              "#46039f"
             ],
             [
              0.2222222222222222,
              "#7201a8"
             ],
             [
              0.3333333333333333,
              "#9c179e"
             ],
             [
              0.4444444444444444,
              "#bd3786"
             ],
             [
              0.5555555555555556,
              "#d8576b"
             ],
             [
              0.6666666666666666,
              "#ed7953"
             ],
             [
              0.7777777777777778,
              "#fb9f3a"
             ],
             [
              0.8888888888888888,
              "#fdca26"
             ],
             [
              1,
              "#f0f921"
             ]
            ],
            "type": "contour"
           }
          ],
          "contourcarpet": [
           {
            "colorbar": {
             "outlinewidth": 0,
             "ticks": ""
            },
            "type": "contourcarpet"
           }
          ],
          "heatmap": [
           {
            "colorbar": {
             "outlinewidth": 0,
             "ticks": ""
            },
            "colorscale": [
             [
              0,
              "#0d0887"
             ],
             [
              0.1111111111111111,
              "#46039f"
             ],
             [
              0.2222222222222222,
              "#7201a8"
             ],
             [
              0.3333333333333333,
              "#9c179e"
             ],
             [
              0.4444444444444444,
              "#bd3786"
             ],
             [
              0.5555555555555556,
              "#d8576b"
             ],
             [
              0.6666666666666666,
              "#ed7953"
             ],
             [
              0.7777777777777778,
              "#fb9f3a"
             ],
             [
              0.8888888888888888,
              "#fdca26"
             ],
             [
              1,
              "#f0f921"
             ]
            ],
            "type": "heatmap"
           }
          ],
          "heatmapgl": [
           {
            "colorbar": {
             "outlinewidth": 0,
             "ticks": ""
            },
            "colorscale": [
             [
              0,
              "#0d0887"
             ],
             [
              0.1111111111111111,
              "#46039f"
             ],
             [
              0.2222222222222222,
              "#7201a8"
             ],
             [
              0.3333333333333333,
              "#9c179e"
             ],
             [
              0.4444444444444444,
              "#bd3786"
             ],
             [
              0.5555555555555556,
              "#d8576b"
             ],
             [
              0.6666666666666666,
              "#ed7953"
             ],
             [
              0.7777777777777778,
              "#fb9f3a"
             ],
             [
              0.8888888888888888,
              "#fdca26"
             ],
             [
              1,
              "#f0f921"
             ]
            ],
            "type": "heatmapgl"
           }
          ],
          "histogram": [
           {
            "marker": {
             "pattern": {
              "fillmode": "overlay",
              "size": 10,
              "solidity": 0.2
             }
            },
            "type": "histogram"
           }
          ],
          "histogram2d": [
           {
            "colorbar": {
             "outlinewidth": 0,
             "ticks": ""
            },
            "colorscale": [
             [
              0,
              "#0d0887"
             ],
             [
              0.1111111111111111,
              "#46039f"
             ],
             [
              0.2222222222222222,
              "#7201a8"
             ],
             [
              0.3333333333333333,
              "#9c179e"
             ],
             [
              0.4444444444444444,
              "#bd3786"
             ],
             [
              0.5555555555555556,
              "#d8576b"
             ],
             [
              0.6666666666666666,
              "#ed7953"
             ],
             [
              0.7777777777777778,
              "#fb9f3a"
             ],
             [
              0.8888888888888888,
              "#fdca26"
             ],
             [
              1,
              "#f0f921"
             ]
            ],
            "type": "histogram2d"
           }
          ],
          "histogram2dcontour": [
           {
            "colorbar": {
             "outlinewidth": 0,
             "ticks": ""
            },
            "colorscale": [
             [
              0,
              "#0d0887"
             ],
             [
              0.1111111111111111,
              "#46039f"
             ],
             [
              0.2222222222222222,
              "#7201a8"
             ],
             [
              0.3333333333333333,
              "#9c179e"
             ],
             [
              0.4444444444444444,
              "#bd3786"
             ],
             [
              0.5555555555555556,
              "#d8576b"
             ],
             [
              0.6666666666666666,
              "#ed7953"
             ],
             [
              0.7777777777777778,
              "#fb9f3a"
             ],
             [
              0.8888888888888888,
              "#fdca26"
             ],
             [
              1,
              "#f0f921"
             ]
            ],
            "type": "histogram2dcontour"
           }
          ],
          "mesh3d": [
           {
            "colorbar": {
             "outlinewidth": 0,
             "ticks": ""
            },
            "type": "mesh3d"
           }
          ],
          "parcoords": [
           {
            "line": {
             "colorbar": {
              "outlinewidth": 0,
              "ticks": ""
             }
            },
            "type": "parcoords"
           }
          ],
          "pie": [
           {
            "automargin": true,
            "type": "pie"
           }
          ],
          "scatter": [
           {
            "fillpattern": {
             "fillmode": "overlay",
             "size": 10,
             "solidity": 0.2
            },
            "type": "scatter"
           }
          ],
          "scatter3d": [
           {
            "line": {
             "colorbar": {
              "outlinewidth": 0,
              "ticks": ""
             }
            },
            "marker": {
             "colorbar": {
              "outlinewidth": 0,
              "ticks": ""
             }
            },
            "type": "scatter3d"
           }
          ],
          "scattercarpet": [
           {
            "marker": {
             "colorbar": {
              "outlinewidth": 0,
              "ticks": ""
             }
            },
            "type": "scattercarpet"
           }
          ],
          "scattergeo": [
           {
            "marker": {
             "colorbar": {
              "outlinewidth": 0,
              "ticks": ""
             }
            },
            "type": "scattergeo"
           }
          ],
          "scattergl": [
           {
            "marker": {
             "colorbar": {
              "outlinewidth": 0,
              "ticks": ""
             }
            },
            "type": "scattergl"
           }
          ],
          "scattermapbox": [
           {
            "marker": {
             "colorbar": {
              "outlinewidth": 0,
              "ticks": ""
             }
            },
            "type": "scattermapbox"
           }
          ],
          "scatterpolar": [
           {
            "marker": {
             "colorbar": {
              "outlinewidth": 0,
              "ticks": ""
             }
            },
            "type": "scatterpolar"
           }
          ],
          "scatterpolargl": [
           {
            "marker": {
             "colorbar": {
              "outlinewidth": 0,
              "ticks": ""
             }
            },
            "type": "scatterpolargl"
           }
          ],
          "scatterternary": [
           {
            "marker": {
             "colorbar": {
              "outlinewidth": 0,
              "ticks": ""
             }
            },
            "type": "scatterternary"
           }
          ],
          "surface": [
           {
            "colorbar": {
             "outlinewidth": 0,
             "ticks": ""
            },
            "colorscale": [
             [
              0,
              "#0d0887"
             ],
             [
              0.1111111111111111,
              "#46039f"
             ],
             [
              0.2222222222222222,
              "#7201a8"
             ],
             [
              0.3333333333333333,
              "#9c179e"
             ],
             [
              0.4444444444444444,
              "#bd3786"
             ],
             [
              0.5555555555555556,
              "#d8576b"
             ],
             [
              0.6666666666666666,
              "#ed7953"
             ],
             [
              0.7777777777777778,
              "#fb9f3a"
             ],
             [
              0.8888888888888888,
              "#fdca26"
             ],
             [
              1,
              "#f0f921"
             ]
            ],
            "type": "surface"
           }
          ],
          "table": [
           {
            "cells": {
             "fill": {
              "color": "#EBF0F8"
             },
             "line": {
              "color": "white"
             }
            },
            "header": {
             "fill": {
              "color": "#C8D4E3"
             },
             "line": {
              "color": "white"
             }
            },
            "type": "table"
           }
          ]
         },
         "layout": {
          "annotationdefaults": {
           "arrowcolor": "#2a3f5f",
           "arrowhead": 0,
           "arrowwidth": 1
          },
          "autotypenumbers": "strict",
          "coloraxis": {
           "colorbar": {
            "outlinewidth": 0,
            "ticks": ""
           }
          },
          "colorscale": {
           "diverging": [
            [
             0,
             "#8e0152"
            ],
            [
             0.1,
             "#c51b7d"
            ],
            [
             0.2,
             "#de77ae"
            ],
            [
             0.3,
             "#f1b6da"
            ],
            [
             0.4,
             "#fde0ef"
            ],
            [
             0.5,
             "#f7f7f7"
            ],
            [
             0.6,
             "#e6f5d0"
            ],
            [
             0.7,
             "#b8e186"
            ],
            [
             0.8,
             "#7fbc41"
            ],
            [
             0.9,
             "#4d9221"
            ],
            [
             1,
             "#276419"
            ]
           ],
           "sequential": [
            [
             0,
             "#0d0887"
            ],
            [
             0.1111111111111111,
             "#46039f"
            ],
            [
             0.2222222222222222,
             "#7201a8"
            ],
            [
             0.3333333333333333,
             "#9c179e"
            ],
            [
             0.4444444444444444,
             "#bd3786"
            ],
            [
             0.5555555555555556,
             "#d8576b"
            ],
            [
             0.6666666666666666,
             "#ed7953"
            ],
            [
             0.7777777777777778,
             "#fb9f3a"
            ],
            [
             0.8888888888888888,
             "#fdca26"
            ],
            [
             1,
             "#f0f921"
            ]
           ],
           "sequentialminus": [
            [
             0,
             "#0d0887"
            ],
            [
             0.1111111111111111,
             "#46039f"
            ],
            [
             0.2222222222222222,
             "#7201a8"
            ],
            [
             0.3333333333333333,
             "#9c179e"
            ],
            [
             0.4444444444444444,
             "#bd3786"
            ],
            [
             0.5555555555555556,
             "#d8576b"
            ],
            [
             0.6666666666666666,
             "#ed7953"
            ],
            [
             0.7777777777777778,
             "#fb9f3a"
            ],
            [
             0.8888888888888888,
             "#fdca26"
            ],
            [
             1,
             "#f0f921"
            ]
           ]
          },
          "colorway": [
           "#636efa",
           "#EF553B",
           "#00cc96",
           "#ab63fa",
           "#FFA15A",
           "#19d3f3",
           "#FF6692",
           "#B6E880",
           "#FF97FF",
           "#FECB52"
          ],
          "font": {
           "color": "#2a3f5f"
          },
          "geo": {
           "bgcolor": "white",
           "lakecolor": "white",
           "landcolor": "#E5ECF6",
           "showlakes": true,
           "showland": true,
           "subunitcolor": "white"
          },
          "hoverlabel": {
           "align": "left"
          },
          "hovermode": "closest",
          "mapbox": {
           "style": "light"
          },
          "paper_bgcolor": "white",
          "plot_bgcolor": "#E5ECF6",
          "polar": {
           "angularaxis": {
            "gridcolor": "white",
            "linecolor": "white",
            "ticks": ""
           },
           "bgcolor": "#E5ECF6",
           "radialaxis": {
            "gridcolor": "white",
            "linecolor": "white",
            "ticks": ""
           }
          },
          "scene": {
           "xaxis": {
            "backgroundcolor": "#E5ECF6",
            "gridcolor": "white",
            "gridwidth": 2,
            "linecolor": "white",
            "showbackground": true,
            "ticks": "",
            "zerolinecolor": "white"
           },
           "yaxis": {
            "backgroundcolor": "#E5ECF6",
            "gridcolor": "white",
            "gridwidth": 2,
            "linecolor": "white",
            "showbackground": true,
            "ticks": "",
            "zerolinecolor": "white"
           },
           "zaxis": {
            "backgroundcolor": "#E5ECF6",
            "gridcolor": "white",
            "gridwidth": 2,
            "linecolor": "white",
            "showbackground": true,
            "ticks": "",
            "zerolinecolor": "white"
           }
          },
          "shapedefaults": {
           "line": {
            "color": "#2a3f5f"
           }
          },
          "ternary": {
           "aaxis": {
            "gridcolor": "white",
            "linecolor": "white",
            "ticks": ""
           },
           "baxis": {
            "gridcolor": "white",
            "linecolor": "white",
            "ticks": ""
           },
           "bgcolor": "#E5ECF6",
           "caxis": {
            "gridcolor": "white",
            "linecolor": "white",
            "ticks": ""
           }
          },
          "title": {
           "x": 0.05
          },
          "xaxis": {
           "automargin": true,
           "gridcolor": "white",
           "linecolor": "white",
           "ticks": "",
           "title": {
            "standoff": 15
           },
           "zerolinecolor": "white",
           "zerolinewidth": 2
          },
          "yaxis": {
           "automargin": true,
           "gridcolor": "white",
           "linecolor": "white",
           "ticks": "",
           "title": {
            "standoff": 15
           },
           "zerolinecolor": "white",
           "zerolinewidth": 2
          }
         }
        }
       }
      },
      "text/html": [
       "<div>                            <div id=\"e363fbd3-034e-4507-822e-05dcc8fc30ff\" class=\"plotly-graph-div\" style=\"height:525px; width:100%;\"></div>            <script type=\"text/javascript\">                require([\"plotly\"], function(Plotly) {                    window.PLOTLYENV=window.PLOTLYENV || {};                                    if (document.getElementById(\"e363fbd3-034e-4507-822e-05dcc8fc30ff\")) {                    Plotly.newPlot(                        \"e363fbd3-034e-4507-822e-05dcc8fc30ff\",                        [{\"mode\":\"lines\",\"name\":\"Estimated trajectory\",\"x\":[-2.270349362590172,-2.252903566919716,-2.2377772252855204,-2.20616551419738,-2.1505531333362993,-2.0954148021288677,-2.054180721406698,-2.0192831777264435,-1.9921551796144115,-1.9789516436581027,-1.9744983407510384,-1.9691129123661542,-1.9625831488869374,-1.959555779412655,-1.9638896568477653,-1.968434694329917,-1.9716380318267184,-1.9761675283756721,-1.9820153231591437,-1.985419110482698,-1.9873626870567582,-1.989080586469355,-1.9907700549790093,-1.9920404163199326],\"y\":[-0.7582712935466173,-0.7820770291893514,-0.7951693498347494,-0.8284029838597653,-0.9037119281150258,-0.9650463231876497,-0.9923629437763969,-1.0090986309306846,-1.0194448562838394,-1.024591150131848,-1.0250153625819731,-1.0340112798553835,-1.0506034181384671,-1.066863813751761,-1.0742904021907835,-1.0766167712666532,-1.0752766636710969,-1.0711764384880424,-1.0658982991581842,-1.0601947105165055,-1.0550586981855659,-1.0519973726713099,-1.047631257348907,-1.0466271980671764],\"z\":[1.301540454803606,1.2866523270715238,1.266199424031182,1.2440251099159543,1.2007169950535683,1.1286501255056463,1.0937682931427002,1.0736223927479585,1.0676205019264629,1.0720058483051498,1.0816114366529535,1.0996351537554097,1.1253229624677734,1.1481548797259182,1.1593825305860395,1.1610442172552065,1.1598761516953384,1.1568811144759799,1.1516801651681154,1.1461914901003865,1.1434226637580656,1.142394587621127,1.1389360026090312,1.1359411551813485],\"type\":\"scatter3d\"},{\"mode\":\"markers\",\"name\":\"Camera pose\",\"x\":[-0.9736650586128235],\"y\":[-6.762944221496582],\"z\":[4.658043384552002],\"type\":\"scatter3d\"},{\"name\":\"Camera view dir\",\"showscale\":false,\"u\":[-0.5887163939383556],\"v\":[-4.089143495267625],\"w\":[2.8164371343272565],\"x\":[-0.9736650586128235],\"y\":[-6.762944221496582],\"z\":[4.658043384552002],\"type\":\"cone\"},{\"mode\":\"markers\",\"name\":\"Initial estimate\",\"x\":[-2.270349362590172],\"y\":[-0.7582712935466173],\"z\":[1.301540454803606],\"type\":\"scatter3d\"},{\"mode\":\"lines\",\"name\":\"Ground truth trajectory\",\"x\":[-2.3416695594787598,-2.305604934692383,-2.262822151184082,-2.2180285453796387,-2.170457601547241,-2.1230108737945557,-2.0966970920562744,-2.0707921981811523,-2.0498032569885254,-2.0405945777893066,-2.03926944732666,-2.0393104553222656,-2.0393269062042236,-2.0393269062042236,-2.039372205734253,-2.039384126663208,-2.0393848419189453,-2.0394067764282227,-2.039433717727661,-2.039438486099243,-2.039456367492676,-2.0394861698150635,-2.0394911766052246,-2.039506196975708],\"y\":[-0.748794674873352,-0.7740864753723145,-0.7909990549087524,-0.8005048036575317,-0.8052498698234558,-0.8030723333358765,-0.7784186005592346,-0.7565345168113708,-0.7450799942016602,-0.7394077777862549,-0.7386041879653931,-0.7386494874954224,-0.7386698126792908,-0.7386717796325684,-0.7387110590934753,-0.7387315034866333,-0.7387337684631348,-0.7387756705284119,-0.7387990951538086,-0.7388023734092712,-0.7388415932655334,-0.7388668656349182,-0.7388702630996704,-0.7389075756072998],\"z\":[1.323272943496704,1.2743110656738281,1.236088752746582,1.1758273839950562,1.0816752910614014,0.9752853512763977,0.9967741966247559,0.9783812165260315,0.9680225253105164,0.9684382677078247,0.9684550762176514,0.9684309363365173,0.9684543609619141,0.9684575200080872,0.9684277772903442,0.9684532880783081,0.9684573411941528,0.9684135317802429,0.968450665473938,0.9684572815895081,0.9684095978736877,0.9684499502182007,0.9684569835662842,0.9684056639671326],\"type\":\"scatter3d\"},{\"mode\":\"markers\",\"name\":\"Prior\",\"x\":[-2.464786817115006],\"y\":[-2.551348667002017],\"z\":[2.015886122332137],\"type\":\"scatter3d\"}],                        {\"template\":{\"data\":{\"histogram2dcontour\":[{\"type\":\"histogram2dcontour\",\"colorbar\":{\"outlinewidth\":0,\"ticks\":\"\"},\"colorscale\":[[0.0,\"#0d0887\"],[0.1111111111111111,\"#46039f\"],[0.2222222222222222,\"#7201a8\"],[0.3333333333333333,\"#9c179e\"],[0.4444444444444444,\"#bd3786\"],[0.5555555555555556,\"#d8576b\"],[0.6666666666666666,\"#ed7953\"],[0.7777777777777778,\"#fb9f3a\"],[0.8888888888888888,\"#fdca26\"],[1.0,\"#f0f921\"]]}],\"choropleth\":[{\"type\":\"choropleth\",\"colorbar\":{\"outlinewidth\":0,\"ticks\":\"\"}}],\"histogram2d\":[{\"type\":\"histogram2d\",\"colorbar\":{\"outlinewidth\":0,\"ticks\":\"\"},\"colorscale\":[[0.0,\"#0d0887\"],[0.1111111111111111,\"#46039f\"],[0.2222222222222222,\"#7201a8\"],[0.3333333333333333,\"#9c179e\"],[0.4444444444444444,\"#bd3786\"],[0.5555555555555556,\"#d8576b\"],[0.6666666666666666,\"#ed7953\"],[0.7777777777777778,\"#fb9f3a\"],[0.8888888888888888,\"#fdca26\"],[1.0,\"#f0f921\"]]}],\"heatmap\":[{\"type\":\"heatmap\",\"colorbar\":{\"outlinewidth\":0,\"ticks\":\"\"},\"colorscale\":[[0.0,\"#0d0887\"],[0.1111111111111111,\"#46039f\"],[0.2222222222222222,\"#7201a8\"],[0.3333333333333333,\"#9c179e\"],[0.4444444444444444,\"#bd3786\"],[0.5555555555555556,\"#d8576b\"],[0.6666666666666666,\"#ed7953\"],[0.7777777777777778,\"#fb9f3a\"],[0.8888888888888888,\"#fdca26\"],[1.0,\"#f0f921\"]]}],\"heatmapgl\":[{\"type\":\"heatmapgl\",\"colorbar\":{\"outlinewidth\":0,\"ticks\":\"\"},\"colorscale\":[[0.0,\"#0d0887\"],[0.1111111111111111,\"#46039f\"],[0.2222222222222222,\"#7201a8\"],[0.3333333333333333,\"#9c179e\"],[0.4444444444444444,\"#bd3786\"],[0.5555555555555556,\"#d8576b\"],[0.6666666666666666,\"#ed7953\"],[0.7777777777777778,\"#fb9f3a\"],[0.8888888888888888,\"#fdca26\"],[1.0,\"#f0f921\"]]}],\"contourcarpet\":[{\"type\":\"contourcarpet\",\"colorbar\":{\"outlinewidth\":0,\"ticks\":\"\"}}],\"contour\":[{\"type\":\"contour\",\"colorbar\":{\"outlinewidth\":0,\"ticks\":\"\"},\"colorscale\":[[0.0,\"#0d0887\"],[0.1111111111111111,\"#46039f\"],[0.2222222222222222,\"#7201a8\"],[0.3333333333333333,\"#9c179e\"],[0.4444444444444444,\"#bd3786\"],[0.5555555555555556,\"#d8576b\"],[0.6666666666666666,\"#ed7953\"],[0.7777777777777778,\"#fb9f3a\"],[0.8888888888888888,\"#fdca26\"],[1.0,\"#f0f921\"]]}],\"surface\":[{\"type\":\"surface\",\"colorbar\":{\"outlinewidth\":0,\"ticks\":\"\"},\"colorscale\":[[0.0,\"#0d0887\"],[0.1111111111111111,\"#46039f\"],[0.2222222222222222,\"#7201a8\"],[0.3333333333333333,\"#9c179e\"],[0.4444444444444444,\"#bd3786\"],[0.5555555555555556,\"#d8576b\"],[0.6666666666666666,\"#ed7953\"],[0.7777777777777778,\"#fb9f3a\"],[0.8888888888888888,\"#fdca26\"],[1.0,\"#f0f921\"]]}],\"mesh3d\":[{\"type\":\"mesh3d\",\"colorbar\":{\"outlinewidth\":0,\"ticks\":\"\"}}],\"scatter\":[{\"fillpattern\":{\"fillmode\":\"overlay\",\"size\":10,\"solidity\":0.2},\"type\":\"scatter\"}],\"parcoords\":[{\"type\":\"parcoords\",\"line\":{\"colorbar\":{\"outlinewidth\":0,\"ticks\":\"\"}}}],\"scatterpolargl\":[{\"type\":\"scatterpolargl\",\"marker\":{\"colorbar\":{\"outlinewidth\":0,\"ticks\":\"\"}}}],\"bar\":[{\"error_x\":{\"color\":\"#2a3f5f\"},\"error_y\":{\"color\":\"#2a3f5f\"},\"marker\":{\"line\":{\"color\":\"#E5ECF6\",\"width\":0.5},\"pattern\":{\"fillmode\":\"overlay\",\"size\":10,\"solidity\":0.2}},\"type\":\"bar\"}],\"scattergeo\":[{\"type\":\"scattergeo\",\"marker\":{\"colorbar\":{\"outlinewidth\":0,\"ticks\":\"\"}}}],\"scatterpolar\":[{\"type\":\"scatterpolar\",\"marker\":{\"colorbar\":{\"outlinewidth\":0,\"ticks\":\"\"}}}],\"histogram\":[{\"marker\":{\"pattern\":{\"fillmode\":\"overlay\",\"size\":10,\"solidity\":0.2}},\"type\":\"histogram\"}],\"scattergl\":[{\"type\":\"scattergl\",\"marker\":{\"colorbar\":{\"outlinewidth\":0,\"ticks\":\"\"}}}],\"scatter3d\":[{\"type\":\"scatter3d\",\"line\":{\"colorbar\":{\"outlinewidth\":0,\"ticks\":\"\"}},\"marker\":{\"colorbar\":{\"outlinewidth\":0,\"ticks\":\"\"}}}],\"scattermapbox\":[{\"type\":\"scattermapbox\",\"marker\":{\"colorbar\":{\"outlinewidth\":0,\"ticks\":\"\"}}}],\"scatterternary\":[{\"type\":\"scatterternary\",\"marker\":{\"colorbar\":{\"outlinewidth\":0,\"ticks\":\"\"}}}],\"scattercarpet\":[{\"type\":\"scattercarpet\",\"marker\":{\"colorbar\":{\"outlinewidth\":0,\"ticks\":\"\"}}}],\"carpet\":[{\"aaxis\":{\"endlinecolor\":\"#2a3f5f\",\"gridcolor\":\"white\",\"linecolor\":\"white\",\"minorgridcolor\":\"white\",\"startlinecolor\":\"#2a3f5f\"},\"baxis\":{\"endlinecolor\":\"#2a3f5f\",\"gridcolor\":\"white\",\"linecolor\":\"white\",\"minorgridcolor\":\"white\",\"startlinecolor\":\"#2a3f5f\"},\"type\":\"carpet\"}],\"table\":[{\"cells\":{\"fill\":{\"color\":\"#EBF0F8\"},\"line\":{\"color\":\"white\"}},\"header\":{\"fill\":{\"color\":\"#C8D4E3\"},\"line\":{\"color\":\"white\"}},\"type\":\"table\"}],\"barpolar\":[{\"marker\":{\"line\":{\"color\":\"#E5ECF6\",\"width\":0.5},\"pattern\":{\"fillmode\":\"overlay\",\"size\":10,\"solidity\":0.2}},\"type\":\"barpolar\"}],\"pie\":[{\"automargin\":true,\"type\":\"pie\"}]},\"layout\":{\"autotypenumbers\":\"strict\",\"colorway\":[\"#636efa\",\"#EF553B\",\"#00cc96\",\"#ab63fa\",\"#FFA15A\",\"#19d3f3\",\"#FF6692\",\"#B6E880\",\"#FF97FF\",\"#FECB52\"],\"font\":{\"color\":\"#2a3f5f\"},\"hovermode\":\"closest\",\"hoverlabel\":{\"align\":\"left\"},\"paper_bgcolor\":\"white\",\"plot_bgcolor\":\"#E5ECF6\",\"polar\":{\"bgcolor\":\"#E5ECF6\",\"angularaxis\":{\"gridcolor\":\"white\",\"linecolor\":\"white\",\"ticks\":\"\"},\"radialaxis\":{\"gridcolor\":\"white\",\"linecolor\":\"white\",\"ticks\":\"\"}},\"ternary\":{\"bgcolor\":\"#E5ECF6\",\"aaxis\":{\"gridcolor\":\"white\",\"linecolor\":\"white\",\"ticks\":\"\"},\"baxis\":{\"gridcolor\":\"white\",\"linecolor\":\"white\",\"ticks\":\"\"},\"caxis\":{\"gridcolor\":\"white\",\"linecolor\":\"white\",\"ticks\":\"\"}},\"coloraxis\":{\"colorbar\":{\"outlinewidth\":0,\"ticks\":\"\"}},\"colorscale\":{\"sequential\":[[0.0,\"#0d0887\"],[0.1111111111111111,\"#46039f\"],[0.2222222222222222,\"#7201a8\"],[0.3333333333333333,\"#9c179e\"],[0.4444444444444444,\"#bd3786\"],[0.5555555555555556,\"#d8576b\"],[0.6666666666666666,\"#ed7953\"],[0.7777777777777778,\"#fb9f3a\"],[0.8888888888888888,\"#fdca26\"],[1.0,\"#f0f921\"]],\"sequentialminus\":[[0.0,\"#0d0887\"],[0.1111111111111111,\"#46039f\"],[0.2222222222222222,\"#7201a8\"],[0.3333333333333333,\"#9c179e\"],[0.4444444444444444,\"#bd3786\"],[0.5555555555555556,\"#d8576b\"],[0.6666666666666666,\"#ed7953\"],[0.7777777777777778,\"#fb9f3a\"],[0.8888888888888888,\"#fdca26\"],[1.0,\"#f0f921\"]],\"diverging\":[[0,\"#8e0152\"],[0.1,\"#c51b7d\"],[0.2,\"#de77ae\"],[0.3,\"#f1b6da\"],[0.4,\"#fde0ef\"],[0.5,\"#f7f7f7\"],[0.6,\"#e6f5d0\"],[0.7,\"#b8e186\"],[0.8,\"#7fbc41\"],[0.9,\"#4d9221\"],[1,\"#276419\"]]},\"xaxis\":{\"gridcolor\":\"white\",\"linecolor\":\"white\",\"ticks\":\"\",\"title\":{\"standoff\":15},\"zerolinecolor\":\"white\",\"automargin\":true,\"zerolinewidth\":2},\"yaxis\":{\"gridcolor\":\"white\",\"linecolor\":\"white\",\"ticks\":\"\",\"title\":{\"standoff\":15},\"zerolinecolor\":\"white\",\"automargin\":true,\"zerolinewidth\":2},\"scene\":{\"xaxis\":{\"backgroundcolor\":\"#E5ECF6\",\"gridcolor\":\"white\",\"linecolor\":\"white\",\"showbackground\":true,\"ticks\":\"\",\"zerolinecolor\":\"white\",\"gridwidth\":2},\"yaxis\":{\"backgroundcolor\":\"#E5ECF6\",\"gridcolor\":\"white\",\"linecolor\":\"white\",\"showbackground\":true,\"ticks\":\"\",\"zerolinecolor\":\"white\",\"gridwidth\":2},\"zaxis\":{\"backgroundcolor\":\"#E5ECF6\",\"gridcolor\":\"white\",\"linecolor\":\"white\",\"showbackground\":true,\"ticks\":\"\",\"zerolinecolor\":\"white\",\"gridwidth\":2}},\"shapedefaults\":{\"line\":{\"color\":\"#2a3f5f\"}},\"annotationdefaults\":{\"arrowcolor\":\"#2a3f5f\",\"arrowhead\":0,\"arrowwidth\":1},\"geo\":{\"bgcolor\":\"white\",\"landcolor\":\"#E5ECF6\",\"subunitcolor\":\"white\",\"showland\":true,\"showlakes\":true,\"lakecolor\":\"white\"},\"title\":{\"x\":0.05},\"mapbox\":{\"style\":\"light\"}}},\"scene\":{\"aspectmode\":\"data\"}},                        {\"responsive\": true}                    ).then(function(){\n",
       "                            \n",
       "var gd = document.getElementById('e363fbd3-034e-4507-822e-05dcc8fc30ff');\n",
       "var x = new MutationObserver(function (mutations, observer) {{\n",
       "        var display = window.getComputedStyle(gd).display;\n",
       "        if (!display || display === 'none') {{\n",
       "            console.log([gd, 'removed!']);\n",
       "            Plotly.purge(gd);\n",
       "            observer.disconnect();\n",
       "        }}\n",
       "}});\n",
       "\n",
       "// Listen for the removal of the full notebook cells\n",
       "var notebookContainer = gd.closest('#notebook-container');\n",
       "if (notebookContainer) {{\n",
       "    x.observe(notebookContainer, {childList: true});\n",
       "}}\n",
       "\n",
       "// Listen for the clearing of the current output cell\n",
       "var outputEl = gd.closest('.output');\n",
       "if (outputEl) {{\n",
       "    x.observe(outputEl, {childList: true});\n",
       "}}\n",
       "\n",
       "                        })                };                });            </script>        </div>"
      ]
     },
     "metadata": {},
     "output_type": "display_data"
    }
   ],
   "source": [
    "# Plot smoothed poses vs GT using plotly.\n",
    "import plotly.graph_objects as go\n",
    "\n",
    "cube_poses_np = np.array([cube_poses[ii].translation() for ii in range(len(cube_poses))])\n",
    "\n",
    "fig = go.Figure(data=[go.Scatter3d(x=cube_poses_np[:, 0], y=cube_poses_np[:, 1], z=cube_poses_np[:, 2], mode='lines', name='Estimated trajectory')])\n",
    "\n",
    "# Scatter the camera pose with an arrow pointing along the view dir.\n",
    "fig.add_trace(go.Scatter3d(x=[camera_pose.translation()[0]], y=[camera_pose.translation()[1]], z=[camera_pose.translation()[2]], mode='markers', name='Camera pose'))\n",
    "view_dir = 5 * camera_pose.rotation().matrix() @ np.array([0, 0, 1])\n",
    "\n",
    "fig.add_trace(go.Cone(x=[camera_pose.translation()[0]], y=[camera_pose.translation()[1]], z=[camera_pose.translation()[2]], u=[-view_dir[0]], v=[-view_dir[1]], w=[-view_dir[2]], showscale=False, name='Camera view dir'))\n",
    "\n",
    "# Scatter a point at the first state estimate.\n",
    "fig.add_trace(go.Scatter3d(x=[cube_poses_np[0, 0]], y=[cube_poses_np[0, 1]], z=[cube_poses_np[0, 2]], mode='markers', name='Initial estimate'))\n",
    "\n",
    "# gt_poses = []\n",
    "# for tt in range(traj[\"images\"].shape[0]):\n",
    "#     object_pose = traj[\"object_poses\"][tt].double()\n",
    "#     camera_pose = traj[\"camera_poses\"][tt].double()\n",
    "#     gt_poses.append(PP_TO_GTSAM @ camera_pose.Inv() @ object_pose)\n",
    "# gt_poses_np = np.array([gt_pose.translation() for gt_pose in gt_poses])\n",
    "gt_poses = traj[\"object_poses\"].double()\n",
    "gt_poses_np = np.array([gt_pose.translation() for gt_pose in gt_poses])\n",
    "\n",
    "fig.add_trace(go.Scatter3d(x=gt_poses_np[:, 0], y=gt_poses_np[:, 1], z=gt_poses_np[:, 2], mode='lines', name='Ground truth trajectory'))\n",
    "\n",
    "# Plot the prior.\n",
    "fig.add_trace(go.Scatter3d(x=[prior_pose_mean.translation()[0]], y=[prior_pose_mean.translation()[1]], z=[prior_pose_mean.translation()[2]], mode='markers', name='Prior'))\n",
    "\n",
    "# Set aspect ratio to be true.\n",
    "fig.update_layout(scene=dict(aspectmode='data'))\n",
    "\n",
    "fig.show()"
   ]
  },
  {
   "cell_type": "code",
   "execution_count": 153,
   "metadata": {},
   "outputs": [
    {
     "name": "stdout",
     "output_type": "stream",
     "text": [
      "Final relative pose: SE3Type LieTensor:\n",
      "LieTensor([ 0.0488,  0.0486,  7.9988, -0.8788,  0.0679, -0.0435, -0.4703],\n",
      "          dtype=torch.float64)\n",
      "Prior relative pose: SE3Type LieTensor:\n",
      "LieTensor([-1.5710e-04, -2.3348e-03,  1.7312e-03, -1.1107e-03, -3.6512e-04,\n",
      "            3.6877e-04,  1.0000e+00], dtype=torch.float64)\n"
     ]
    }
   ],
   "source": [
    "def pose_diff(gt_pose:pp.SE3_type, est_pose: gtsam.Pose3) -> np.ndarray:\n",
    "    est_pose = pp.mat2SE3(est_pose.matrix())\n",
    "    return est_pose @ gt_pose.Inv()\n",
    "\n",
    "print(f\"Final relative pose: {pose_diff(gt_poses[-1], result.atPose3(X(n_steps-1)))}\")\n",
    "\n",
    "print(f\"Prior relative pose: {pose_diff(gt_poses[0], prior_pose_mean)}\")"
   ]
  },
  {
   "cell_type": "code",
   "execution_count": 3,
   "metadata": {},
   "outputs": [
    {
     "data": {
      "text/plain": [
       "['Dim',\n",
       " 'Level',\n",
       " 'Project',\n",
       " '__class__',\n",
       " '__delattr__',\n",
       " '__dir__',\n",
       " '__doc__',\n",
       " '__eq__',\n",
       " '__format__',\n",
       " '__ge__',\n",
       " '__getattribute__',\n",
       " '__getstate__',\n",
       " '__gt__',\n",
       " '__hash__',\n",
       " '__init__',\n",
       " '__init_subclass__',\n",
       " '__le__',\n",
       " '__lt__',\n",
       " '__module__',\n",
       " '__ne__',\n",
       " '__new__',\n",
       " '__reduce__',\n",
       " '__reduce_ex__',\n",
       " '__repr__',\n",
       " '__setattr__',\n",
       " '__setstate__',\n",
       " '__sizeof__',\n",
       " '__str__',\n",
       " '__subclasshook__',\n",
       " 'backproject',\n",
       " 'deserialize',\n",
       " 'dim',\n",
       " 'equals',\n",
       " 'localCoordinates',\n",
       " 'pose',\n",
       " 'print',\n",
       " 'project',\n",
       " 'range',\n",
       " 'retract',\n",
       " 'serialize']"
      ]
     },
     "execution_count": 3,
     "metadata": {},
     "output_type": "execute_result"
    }
   ],
   "source": []
  }
 ],
 "metadata": {
  "kernelspec": {
   "display_name": "perseus",
   "language": "python",
   "name": "python3"
  },
  "language_info": {
   "codemirror_mode": {
    "name": "ipython",
    "version": 3
   },
   "file_extension": ".py",
   "mimetype": "text/x-python",
   "name": "python",
   "nbconvert_exporter": "python",
   "pygments_lexer": "ipython3",
   "version": "3.10.13"
  }
 },
 "nbformat": 4,
 "nbformat_minor": 2
}
