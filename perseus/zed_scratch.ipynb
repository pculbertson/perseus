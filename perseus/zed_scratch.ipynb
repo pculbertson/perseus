{
 "cells": [
  {
   "cell_type": "code",
   "execution_count": 1,
   "metadata": {},
   "outputs": [
    {
     "name": "stdout",
     "output_type": "stream",
     "text": [
      "[ZED 2i (0) /dev/video1 SN33143189 AVAILABLE, ZED 2i (1) /dev/video2 SN32144978 AVAILABLE]\n"
     ]
    },
    {
     "name": "stderr",
     "output_type": "stream",
     "text": [
      "libGL error: No matching fbConfigs or visuals found\n",
      "libGL error: failed to load driver: swrast\n"
     ]
    }
   ],
   "source": [
    "import pyzed.sl as sl\n",
    "camera = sl.Camera(2)\n",
    "print(sl.Camera.get_device_list())\n",
    "import pyqtgraph as pg\n",
    "from PyQt5.QtWidgets import QApplication\n",
    "import sys\n",
    "\n",
    "# Set configuration parameters\n",
    "init_params = sl.InitParameters()\n",
    "init_params.camera_resolution = sl.RESOLUTION.VGA  # Use HD1080 video mode\n",
    "init_params.camera_fps = 30  # Set fps at 30\n",
    "\n",
    "init_params.set_from_serial_number(33143189)\n",
    "\n",
    "camera.open(init_params)\n",
    "\n",
    "# Capture 50 frames and stop\n",
    "i = 0\n",
    "image = sl.Mat()\n",
    "runtime_parameters = sl.RuntimeParameters()\n",
    "\n",
    "# Grab init image and plot.\n",
    "camera.grab(runtime_parameters)\n",
    "camera.retrieve_image(image, sl.VIEW.LEFT)\n",
    "\n",
    "# Create a PyQtGraph application\n",
    "app = QApplication([])\n",
    "\n",
    "# Create a PyQtGraph window\n",
    "win = pg.GraphicsLayoutWidget(show=True)\n",
    "win.setWindowTitle('Real-Time Image Update')\n",
    "\n",
    "# Create an ImageView widget to display the image\n",
    "view = win.addViewBox()\n",
    "img_item = pg.ImageItem()\n",
    "view.addItem(img_item)\n",
    "img_item.setImage(image.get_data())\n",
    "\n",
    "if sys.flags.interactive != 1 or not hasattr(pg.QtCore, 'PYQT_VERSION'):\n",
    "    QApplication.instance().exec_()\n",
    "\n",
    "last_time = None\n",
    "while i < 50:\n",
    "    # Grab an image, a RuntimeParameters object must be given to grab()\n",
    "    if camera.grab(runtime_parameters) == sl.ERROR_CODE.SUCCESS:\n",
    "        # A new image is available if grab() returns ERROR_CODE.SUCCESS\n",
    "        camera.retrieve_image(image, sl.VIEW.LEFT) # Get the left image\n",
    "        img_item.setImage(image.get_data())\n",
    "        timestamp = camera.get_timestamp(sl.TIME_REFERENCE.IMAGE)  # Get the image timestamp\n",
    "        if last_time:\n",
    "            elapsed = timestamp.get_milliseconds() - last_time.get_milliseconds()\n",
    "            print(\"Image resolution: {0} x {1} || Elapsed (ms): {2}\\n\".format(image.get_width(), image.get_height(), elapsed))\n",
    "        else:\n",
    "            print(\"Image resolution: {0} x {1} || Image timestamp: {2}\\n\".format(image.get_width(), image.get_height(), timestamp.get_milliseconds()))\n",
    "        i = i + 1\n",
    "        last_time = timestamp\n",
    "\n",
    "camera.close()\n"
   ]
  },
  {
   "cell_type": "code",
   "execution_count": 5,
   "metadata": {},
   "outputs": [
    {
     "data": {
      "text/plain": [
       "array([[[ 70,  65,  64, 255],\n",
       "        [ 68,  62,  61, 255],\n",
       "        [ 68,  62,  61, 255],\n",
       "        ...,\n",
       "        [ 54,  52,  51, 255],\n",
       "        [ 54,  52,  51, 255],\n",
       "        [ 54,  52,  51, 255]],\n",
       "\n",
       "       [[ 68,  64,  63, 255],\n",
       "        [ 68,  65,  64, 255],\n",
       "        [ 68,  65,  64, 255],\n",
       "        ...,\n",
       "        [ 54,  52,  51, 255],\n",
       "        [ 54,  52,  51, 255],\n",
       "        [ 54,  52,  51, 255]],\n",
       "\n",
       "       [[ 68,  65,  64, 255],\n",
       "        [ 68,  65,  64, 255],\n",
       "        [ 68,  64,  63, 255],\n",
       "        ...,\n",
       "        [ 54,  52,  51, 255],\n",
       "        [ 54,  52,  51, 255],\n",
       "        [ 54,  52,  51, 255]],\n",
       "\n",
       "       ...,\n",
       "\n",
       "       [[ 73,  77,  75, 255],\n",
       "        [ 77,  78,  79, 255],\n",
       "        [ 73,  75,  75, 255],\n",
       "        ...,\n",
       "        [ 59,  60,  58, 255],\n",
       "        [ 59,  60,  58, 255],\n",
       "        [ 59,  60,  58, 255]],\n",
       "\n",
       "       [[ 74,  75,  76, 255],\n",
       "        [ 74,  76,  76, 255],\n",
       "        [ 75,  77,  77, 255],\n",
       "        ...,\n",
       "        [ 59,  60,  58, 255],\n",
       "        [ 59,  60,  58, 255],\n",
       "        [ 59,  60,  58, 255]],\n",
       "\n",
       "       [[ 74,  78,  76, 255],\n",
       "        [ 75,  76,  77, 255],\n",
       "        [ 72,  74,  74, 255],\n",
       "        ...,\n",
       "        [ 59,  60,  58, 255],\n",
       "        [ 59,  60,  58, 255],\n",
       "        [ 59,  60,  58, 255]]], dtype=uint8)"
      ]
     },
     "execution_count": 5,
     "metadata": {},
     "output_type": "execute_result"
    }
   ],
   "source": [
    "image.get_data()"
   ]
  }
 ],
 "metadata": {
  "kernelspec": {
   "display_name": "perseus",
   "language": "python",
   "name": "python3"
  },
  "language_info": {
   "codemirror_mode": {
    "name": "ipython",
    "version": 3
   },
   "file_extension": ".py",
   "mimetype": "text/x-python",
   "name": "python",
   "nbconvert_exporter": "python",
   "pygments_lexer": "ipython3",
   "version": "3.10.13"
  }
 },
 "nbformat": 4,
 "nbformat_minor": 2
}
